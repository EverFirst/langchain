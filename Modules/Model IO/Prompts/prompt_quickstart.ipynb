{
  "cells": [
    {
      "cell_type": "markdown",
      "metadata": {
        "id": "259M-8OXmQD7"
      },
      "source": [
        "# Quick Start"
      ]
    },
    {
      "cell_type": "markdown",
      "metadata": {},
      "source": [
        "#### 필수 라이브러리 설치 및 openai api key 등록"
      ]
    },
    {
      "cell_type": "code",
      "execution_count": 27,
      "metadata": {
        "id": "4Vahr4cWmPN6"
      },
      "outputs": [],
      "source": [
        "!pip install --upgrade --quiet langchain langchain-openai"
      ]
    },
    {
      "cell_type": "code",
      "execution_count": 28,
      "metadata": {
        "id": "86kvSCFwnI2s"
      },
      "outputs": [],
      "source": [
        "import os\n",
        "os.environ[\"OPENAI_API_KEY\"]      = \"sk-*****************************************************\""
      ]
    },
    {
      "cell_type": "markdown",
      "metadata": {
        "id": "9uQysbgx8G1t"
      },
      "source": [
        "## PromptTemplate"
      ]
    },
    {
      "cell_type": "code",
      "execution_count": 29,
      "metadata": {
        "colab": {
          "base_uri": "https://localhost:8080/",
          "height": 35
        },
        "id": "G0qTpQ-JB3GQ",
        "outputId": "82bf8152-a3ee-483d-967f-46239bea14a9"
      },
      "outputs": [
        {
          "data": {
            "application/vnd.google.colaboratory.intrinsic+json": {
              "type": "string"
            },
            "text/plain": [
              "'Tell me a funny joke about chickens.'"
            ]
          },
          "execution_count": 29,
          "metadata": {},
          "output_type": "execute_result"
        }
      ],
      "source": [
        "from langchain.prompts import PromptTemplate\n",
        "\n",
        "#템플릿 생성 및 테스트\n",
        "prompt_template = PromptTemplate.from_template(\n",
        "    \"Tell me a {adjective} joke about {content}.\"\n",
        ")\n",
        "prompt_template.format(adjective=\"funny\", content=\"chickens\")"
      ]
    },
    {
      "cell_type": "code",
      "execution_count": 30,
      "metadata": {
        "colab": {
          "base_uri": "https://localhost:8080/",
          "height": 35
        },
        "id": "s9fWmFaU8WUE",
        "outputId": "4e40a5cb-9d03-4d48-ec47-f01f0d4255c3"
      },
      "outputs": [
        {
          "data": {
            "application/vnd.google.colaboratory.intrinsic+json": {
              "type": "string"
            },
            "text/plain": [
              "'Tell me a joke'"
            ]
          },
          "execution_count": 30,
          "metadata": {},
          "output_type": "execute_result"
        }
      ],
      "source": [
        "from langchain.prompts import PromptTemplate\n",
        "\n",
        "#템플릿 생성 \n",
        "prompt_template = PromptTemplate.from_template(\"Tell me a joke\")\n",
        "prompt_template.format()"
      ]
    },
    {
      "cell_type": "markdown",
      "metadata": {
        "id": "sbNupZyy8YxE"
      },
      "source": [
        "## ChatPromptTemplate"
      ]
    },
    {
      "cell_type": "code",
      "execution_count": 31,
      "metadata": {
        "id": "nVuDC5YvINYJ"
      },
      "outputs": [],
      "source": [
        "from langchain_core.prompts import ChatPromptTemplate\n",
        "\n",
        "#채팅 탬플릿 샘플\n",
        "chat_template = ChatPromptTemplate.from_messages(\n",
        "    [\n",
        "        (\"system\", \"You are a helpful AI bot. Your name is {name}.\"),\n",
        "        (\"human\", \"Hello, how are you doing?\"),\n",
        "        (\"ai\", \"I'm doing well, thanks!\"),\n",
        "        (\"human\", \"{user_input}\"),\n",
        "    ]\n",
        ")\n",
        "#\n",
        "messages = chat_template.format_messages(name=\"Bob\", user_input=\"What is your name?\")"
      ]
    },
    {
      "cell_type": "code",
      "execution_count": 32,
      "metadata": {
        "colab": {
          "base_uri": "https://localhost:8080/"
        },
        "id": "eUH0CknII4c5",
        "outputId": "6d9638d1-8ab4-4faa-f97e-9fdeeed8dd8c"
      },
      "outputs": [
        {
          "name": "stdout",
          "output_type": "stream",
          "text": [
            "[SystemMessage(content=\"You are a helpful assistant that re-writes the user's text to sound more upbeat.\"), HumanMessage(content=\"I don't like eating tasty things\")]\n"
          ]
        }
      ],
      "source": [
        "from langchain.prompts import HumanMessagePromptTemplate\n",
        "from langchain_core.messages import SystemMessage\n",
        "from langchain_openai import ChatOpenAI\n",
        "\n",
        "#채팅 탬플릿 샘플 2\n",
        "chat_template = ChatPromptTemplate.from_messages(\n",
        "    [\n",
        "        SystemMessage(\n",
        "            content=(\n",
        "                \"You are a helpful assistant that re-writes the user's text to \"\n",
        "                \"sound more upbeat.\"\n",
        "            )\n",
        "        ),\n",
        "        HumanMessagePromptTemplate.from_template(\"{text}\"),\n",
        "    ]\n",
        ")\n",
        "messages = chat_template.format_messages(text=\"I don't like eating tasty things\")\n",
        "print(messages)"
      ]
    },
    {
      "cell_type": "markdown",
      "metadata": {
        "id": "gHB0fOTr83Hc"
      },
      "source": [
        "## LCEL"
      ]
    },
    {
      "cell_type": "code",
      "execution_count": 33,
      "metadata": {
        "colab": {
          "base_uri": "https://localhost:8080/"
        },
        "id": "WMf9fOdO8-Oj",
        "outputId": "fa77f111-f458-40be-cd0d-63615d93e7fd"
      },
      "outputs": [
        {
          "data": {
            "text/plain": [
              "StringPromptValue(text='Tell me a joke')"
            ]
          },
          "execution_count": 33,
          "metadata": {},
          "output_type": "execute_result"
        }
      ],
      "source": [
        "#template 적용\n",
        "prompt_val = prompt_template.invoke({\"adjective\": \"funny\", \"content\": \"chickens\"})\n",
        "prompt_val"
      ]
    },
    {
      "cell_type": "code",
      "execution_count": 34,
      "metadata": {
        "colab": {
          "base_uri": "https://localhost:8080/",
          "height": 35
        },
        "id": "OJ3kpawz9GMb",
        "outputId": "e2c8992e-40d9-451b-e335-2befddbf480a"
      },
      "outputs": [
        {
          "data": {
            "application/vnd.google.colaboratory.intrinsic+json": {
              "type": "string"
            },
            "text/plain": [
              "'Tell me a joke'"
            ]
          },
          "execution_count": 34,
          "metadata": {},
          "output_type": "execute_result"
        }
      ],
      "source": [
        "#prompt 텍스트 추출\n",
        "prompt_val.to_string()"
      ]
    },
    {
      "cell_type": "code",
      "execution_count": 35,
      "metadata": {
        "colab": {
          "base_uri": "https://localhost:8080/"
        },
        "id": "F7_SD1jm9JUq",
        "outputId": "db098660-fe51-4345-99c8-a0874befec68"
      },
      "outputs": [
        {
          "data": {
            "text/plain": [
              "[HumanMessage(content='Tell me a joke')]"
            ]
          },
          "execution_count": 35,
          "metadata": {},
          "output_type": "execute_result"
        }
      ],
      "source": [
        "#프롬프트 메세지 형태로 추출\n",
        "prompt_val.to_messages()"
      ]
    },
    {
      "cell_type": "code",
      "execution_count": 36,
      "metadata": {
        "id": "h9Gy4fKi9Uoz"
      },
      "outputs": [],
      "source": [
        "#프롬프트 대화 형태로 추출 \n",
        "chat_val = chat_template.invoke({\"text\": \"i dont like eating tasty things.\"})"
      ]
    },
    {
      "cell_type": "code",
      "execution_count": 37,
      "metadata": {
        "colab": {
          "base_uri": "https://localhost:8080/"
        },
        "id": "6m5YxqFA9YEL",
        "outputId": "37b5410f-dcd5-4f0f-8e97-bc2a65075b79"
      },
      "outputs": [
        {
          "data": {
            "text/plain": [
              "[SystemMessage(content=\"You are a helpful assistant that re-writes the user's text to sound more upbeat.\"),\n",
              " HumanMessage(content='i dont like eating tasty things.')]"
            ]
          },
          "execution_count": 37,
          "metadata": {},
          "output_type": "execute_result"
        }
      ],
      "source": [
        "chat_val.to_messages()"
      ]
    },
    {
      "cell_type": "code",
      "execution_count": 38,
      "metadata": {
        "colab": {
          "base_uri": "https://localhost:8080/",
          "height": 35
        },
        "id": "M6sdTpiP9a4T",
        "outputId": "a08461c9-89cb-4473-a384-d99ecbf8deb1"
      },
      "outputs": [
        {
          "data": {
            "application/vnd.google.colaboratory.intrinsic+json": {
              "type": "string"
            },
            "text/plain": [
              "\"System: You are a helpful assistant that re-writes the user's text to sound more upbeat.\\nHuman: i dont like eating tasty things.\""
            ]
          },
          "execution_count": 38,
          "metadata": {},
          "output_type": "execute_result"
        }
      ],
      "source": [
        "#텍스트로 채팅 추출\n",
        "chat_val.to_string()"
      ]
    },
    {
      "cell_type": "markdown",
      "metadata": {
        "id": "eCbk6ebHVYzC"
      },
      "source": [
        "### RunnableThrough"
      ]
    },
    {
      "cell_type": "code",
      "execution_count": 39,
      "metadata": {
        "colab": {
          "base_uri": "https://localhost:8080/"
        },
        "id": "TiyBOp6BVbaa",
        "outputId": "9a14e1d3-6f7b-4e50-f379-4992f82ffd44"
      },
      "outputs": [
        {
          "data": {
            "text/plain": [
              "StringPromptValue(text='Tell me a joke')"
            ]
          },
          "execution_count": 39,
          "metadata": {},
          "output_type": "execute_result"
        }
      ],
      "source": [
        "from langchain_core.runnables import RunnablePassthrough\n",
        "\n",
        "#key를 미리 정의하여 value만으로 동작하도록 함\n",
        "runnable_template = {\"n\": RunnablePassthrough()} | prompt_template\n",
        "runnable_template.invoke(5)"
      ]
    },
    {
      "cell_type": "markdown",
      "metadata": {
        "id": "1pHZ4WRA-WKS"
      },
      "source": [
        "## String Prompt Composition"
      ]
    },
    {
      "cell_type": "code",
      "execution_count": 40,
      "metadata": {
        "id": "ga_hYREV-ZWa"
      },
      "outputs": [],
      "source": [
        "from langchain.prompts import PromptTemplate\n",
        "\n",
        "#다중 변수 프롬프트\n",
        "prompt = (\n",
        "    PromptTemplate.from_template(\"Tell me a joke about {topic}\")\n",
        "    + \", make it funny\"\n",
        "    + \"\\n\\nand in {language}\"\n",
        ")"
      ]
    },
    {
      "cell_type": "code",
      "execution_count": 41,
      "metadata": {
        "colab": {
          "base_uri": "https://localhost:8080/"
        },
        "id": "yUHAu-g0-fGq",
        "outputId": "0c070a28-94dd-46dd-95f5-06eed771956f"
      },
      "outputs": [
        {
          "data": {
            "text/plain": [
              "PromptTemplate(input_variables=['language', 'topic'], template='Tell me a joke about {topic}, make it funny\\n\\nand in {language}')"
            ]
          },
          "execution_count": 41,
          "metadata": {},
          "output_type": "execute_result"
        }
      ],
      "source": [
        "prompt"
      ]
    },
    {
      "cell_type": "code",
      "execution_count": 42,
      "metadata": {
        "colab": {
          "base_uri": "https://localhost:8080/",
          "height": 35
        },
        "id": "6EJGoskL-lKK",
        "outputId": "d23768aa-fb34-4b00-d1e7-c41a2cfc5a22"
      },
      "outputs": [
        {
          "data": {
            "application/vnd.google.colaboratory.intrinsic+json": {
              "type": "string"
            },
            "text/plain": [
              "'Tell me a joke about sports, make it funny\\n\\nand in korean'"
            ]
          },
          "execution_count": 42,
          "metadata": {},
          "output_type": "execute_result"
        }
      ],
      "source": [
        "#프롬프트 포맷 확인\n",
        "prompt.format(topic=\"sports\", language=\"korean\")"
      ]
    },
    {
      "cell_type": "code",
      "execution_count": 43,
      "metadata": {
        "colab": {
          "base_uri": "https://localhost:8080/",
          "height": 35
        },
        "id": "QO0XwIU5-rJC",
        "outputId": "eed4f4c8-7c0e-462b-c3b4-938cc0f01f73"
      },
      "outputs": [
        {
          "data": {
            "application/vnd.google.colaboratory.intrinsic+json": {
              "type": "string"
            },
            "text/plain": [
              "'왜 농구 선수는 항상 춥죠? \\n\\n공이 계속 튀니까!'"
            ]
          },
          "execution_count": 43,
          "metadata": {},
          "output_type": "execute_result"
        }
      ],
      "source": [
        "from langchain.chains import LLMChain\n",
        "from langchain_openai import ChatOpenAI\n",
        "\n",
        "model = ChatOpenAI()\n",
        "\n",
        "chain = LLMChain(llm=model, prompt=prompt)\n",
        "\n",
        "#프롬프트 실행\n",
        "chain.run(topic=\"sports\", language=\"korean\")"
      ]
    },
    {
      "cell_type": "markdown",
      "metadata": {
        "id": "qNUlXvps-2Fp"
      },
      "source": [
        "## Chat prompt composition"
      ]
    },
    {
      "cell_type": "code",
      "execution_count": 44,
      "metadata": {
        "colab": {
          "base_uri": "https://localhost:8080/"
        },
        "id": "BcyfR0V6-3YJ",
        "outputId": "aabde1c5-36e7-445f-fe1f-897f1b217cd7"
      },
      "outputs": [
        {
          "data": {
            "text/plain": [
              "[SystemMessage(content='You are a nice pirate'),\n",
              " HumanMessage(content='hi'),\n",
              " AIMessage(content='what?'),\n",
              " HumanMessage(content='i said hi')]"
            ]
          },
          "execution_count": 44,
          "metadata": {},
          "output_type": "execute_result"
        }
      ],
      "source": [
        "from langchain_core.messages import AIMessage, HumanMessage, SystemMessage\n",
        "\n",
        "#명령 프롬프트\n",
        "prompt = SystemMessage(content=\"You are a nice pirate\")\n",
        "\n",
        "#HumanMessage : 사용자 질의\n",
        "#AIMessage : 답변\n",
        "new_prompt = (\n",
        "    prompt + HumanMessage(content=\"hi\") + AIMessage(content=\"what?\") + \"{input}\"\n",
        ")\n",
        "\n",
        "#input : User Message = HumanMessage\n",
        "new_prompt.format_messages(input=\"i said hi\")"
      ]
    },
    {
      "cell_type": "code",
      "execution_count": 45,
      "metadata": {
        "colab": {
          "base_uri": "https://localhost:8080/",
          "height": 35
        },
        "id": "9Js9Yo1j_Sd7",
        "outputId": "9c2525e8-323d-41ad-f21f-86d2e7dafe9f"
      },
      "outputs": [
        {
          "data": {
            "application/vnd.google.colaboratory.intrinsic+json": {
              "type": "string"
            },
            "text/plain": [
              "'Ah, my apologies. Hello there! How can I assist you today?'"
            ]
          },
          "execution_count": 45,
          "metadata": {},
          "output_type": "execute_result"
        }
      ],
      "source": [
        "from langchain.chains import LLMChain\n",
        "from langchain_openai import ChatOpenAI\n",
        "\n",
        "model = ChatOpenAI()\n",
        "\n",
        "chain = LLMChain(llm=model, prompt=new_prompt)\n",
        "\n",
        "chain.run(\"i said hi\")"
      ]
    },
    {
      "cell_type": "markdown",
      "metadata": {
        "id": "IzOcHHJ-_znR"
      },
      "source": [
        "## partial_variables"
      ]
    },
    {
      "cell_type": "code",
      "execution_count": 46,
      "metadata": {
        "colab": {
          "base_uri": "https://localhost:8080/",
          "height": 35
        },
        "id": "0n9Oqbpu_3kH",
        "outputId": "980dae6e-0dfc-42dc-d7f2-57a87f1ade89"
      },
      "outputs": [
        {
          "data": {
            "application/vnd.google.colaboratory.intrinsic+json": {
              "type": "string"
            },
            "text/plain": [
              "'March 18'"
            ]
          },
          "execution_count": 46,
          "metadata": {},
          "output_type": "execute_result"
        }
      ],
      "source": [
        "from datetime import datetime\n",
        "\n",
        "#날짜 가져오는 함수 생성\n",
        "\n",
        "def get_today():\n",
        "    now = datetime.now()\n",
        "    return now.strftime(\"%B %d\")\n",
        "\n",
        "get_today()"
      ]
    },
    {
      "cell_type": "code",
      "execution_count": 47,
      "metadata": {
        "colab": {
          "base_uri": "https://localhost:8080/",
          "height": 35
        },
        "id": "sK_Ps0XB_772",
        "outputId": "72dfde6f-5019-474a-d9d3-47f0b0009ced"
      },
      "outputs": [
        {
          "data": {
            "application/vnd.google.colaboratory.intrinsic+json": {
              "type": "string"
            },
            "text/plain": [
              "'오늘의 날짜는 March 18 입니다. 오늘이 생일인 유명인 5명을 나열해 주세요.'"
            ]
          },
          "execution_count": 47,
          "metadata": {},
          "output_type": "execute_result"
        }
      ],
      "source": [
        "#함수 값을 전달\n",
        "prompt_template = PromptTemplate(\n",
        "    template=\"오늘의 날짜는 {today} 입니다. 오늘이 생일인 유명인 {n}명을 나열해 주세요.\",\n",
        "    input_variables=[\"n\"],\n",
        "    partial_variables={\"today\": get_today},  # partial_variables에 함수를 전달\n",
        ")\n",
        "\n",
        "prompt_template.format(n=5)"
      ]
    },
    {
      "cell_type": "code",
      "execution_count": 49,
      "metadata": {
        "colab": {
          "base_uri": "https://localhost:8080/",
          "height": 54
        },
        "id": "Y8M3QQ7zWCPx",
        "outputId": "a7da001b-760e-4dad-f971-2e323721a690"
      },
      "outputs": [
        {
          "data": {
            "application/vnd.google.colaboratory.intrinsic+json": {
              "type": "string"
            },
            "text/plain": [
              "\"1. 아놀드 슈워제네거 (Arnold Schwarzenegger) - 오스트리아 출신의 배우 및 정치인\\n2. 아담 리바인 (Adam Levine) - 미국의 음악가 및 가수, 마룬 5의 보컬\\n3. 루시 헤일 (Lucy Hale) - 미국의 배우 및 가수, '플리티드'의 주연으로 유명\\n4. 퀸 라티파 (Queen Latifah) - 미국의 배우 및 래퍼\\n5. 더블에스301 (SS301) - 대한민국의 보이 그룹, SS501의 유닛 그룹\""
            ]
          },
          "execution_count": 49,
          "metadata": {},
          "output_type": "execute_result"
        }
      ],
      "source": [
        "from langchain.chains import LLMChain\n",
        "from langchain_openai import ChatOpenAI\n",
        "\n",
        "model = ChatOpenAI()\n",
        "\n",
        "chain = LLMChain(llm=model, prompt=prompt_template)\n",
        "\n",
        "#테스트\n",
        "chain.run(n=5)"
      ]
    }
  ],
  "metadata": {
    "colab": {
      "provenance": []
    },
    "kernelspec": {
      "display_name": "Python 3",
      "name": "python3"
    },
    "language_info": {
      "name": "python"
    }
  },
  "nbformat": 4,
  "nbformat_minor": 0
}
