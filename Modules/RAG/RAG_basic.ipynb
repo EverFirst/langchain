{
  "cells": [
    {
      "cell_type": "markdown",
      "id": "9fa23b62",
      "metadata": {
        "id": "9fa23b62"
      },
      "source": [
        "# RAG\n"
      ]
    },
    {
      "cell_type": "code",
      "execution_count": 142,
      "id": "354b1e04",
      "metadata": {
        "id": "354b1e04"
      },
      "outputs": [],
      "source": [
        "!pip install -qU langchain langchain-openai langchain_community langchain_experimental langchain-text-splitters tiktoken pypdf faiss-cpu wikipedia langchainhub"
      ]
    },
    {
      "cell_type": "code",
      "source": [
        "import os\n",
        "\n",
        "os.environ[\"OPENAI_API_KEY\"] = 'sk-*****************************************************'"
      ],
      "metadata": {
        "id": "8U_lhAypNH9G"
      },
      "id": "8U_lhAypNH9G",
      "execution_count": 139,
      "outputs": []
    },
    {
      "cell_type": "markdown",
      "source": [
        "## RAG QA Bot Example"
      ],
      "metadata": {
        "id": "JIPfhgtnt_aa"
      },
      "id": "JIPfhgtnt_aa"
    },
    {
      "cell_type": "code",
      "source": [
        "import bs4\n",
        "from langchain import hub\n",
        "from langchain.text_splitter import RecursiveCharacterTextSplitter\n",
        "from langchain_community.document_loaders import WebBaseLoader\n",
        "from langchain_community.vectorstores import FAISS\n",
        "from langchain_core.output_parsers import StrOutputParser\n",
        "from langchain_core.runnables import RunnablePassthrough\n",
        "from langchain_openai import ChatOpenAI, OpenAIEmbeddings"
      ],
      "metadata": {
        "id": "nYEaeFAxkS-0"
      },
      "id": "nYEaeFAxkS-0",
      "execution_count": 133,
      "outputs": []
    },
    {
      "cell_type": "markdown",
      "source": [
        "**WebBaseLoader + bs4**"
      ],
      "metadata": {
        "id": "bbGrdoj9knqe"
      },
      "id": "bbGrdoj9knqe"
    },
    {
      "cell_type": "code",
      "source": [
        "loader = WebBaseLoader(\n",
        "    web_paths=(\"https://n.news.naver.com/article/437/0000378416\",),\n",
        "    bs_kwargs=dict(\n",
        "        parse_only=bs4.SoupStrainer(\n",
        "            \"div\",\n",
        "            attrs={\"class\": [\"newsct_article _article_body\",\n",
        "                             \"media_end_head_title\"]},\n",
        "        )\n",
        "    ),\n",
        ")"
      ],
      "metadata": {
        "id": "5aVGdjPykqB7"
      },
      "id": "5aVGdjPykqB7",
      "execution_count": 134,
      "outputs": []
    },
    {
      "cell_type": "code",
      "source": [
        "docs = loader.load()\n",
        "print(f\"len of docs: {len(docs)}\")\n",
        "docs"
      ],
      "metadata": {
        "colab": {
          "base_uri": "https://localhost:8080/"
        },
        "id": "npnJdbAZkvb0",
        "outputId": "1db09682-efe7-4aef-cc3e-05f88def17ee"
      },
      "id": "npnJdbAZkvb0",
      "execution_count": 135,
      "outputs": [
        {
          "output_type": "stream",
          "name": "stdout",
          "text": [
            "len of docs: 1\n"
          ]
        },
        {
          "output_type": "execute_result",
          "data": {
            "text/plain": [
              "[Document(page_content=\"\\n출산 직원에게 '1억원' 쏜다…회사의 파격적 저출생 정책\\n\\n\\n[앵커]올해 아이 낳을 계획이 있는 가족이라면 솔깃할 소식입니다. 정부가 저출생 대책으로 매달 주는 부모 급여, 0세 아이는 100만원으로 올렸습니다. 여기에 첫만남이용권, 아동수당까지 더하면 아이 돌까지 1년 동안 1520만원을 받습니다. 지자체도 경쟁하듯 지원에 나섰습니다. 인천시는 새로 태어난 아기, 18살될 때까지 1억원을 주겠다. 광주시도 17살될 때까지 7400만원 주겠다고 했습니다. 선거 때면 나타나서 아이 낳으면 현금 주겠다고 밝힌 사람이 있었죠. 과거에는 표만 노린 '황당 공약'이라는 비판이 따라다녔습니다. 그런데 지금은 출산율이 이보다 더 나쁠 수 없다보니, 이런 현금성 지원을 진지하게 정책화 하는 상황까지 온 겁니다. 게다가 기업들도 뛰어들고 있습니다. 이번에는 출산한 직원에게 단번에 1억원을 주겠다는 회사까지 나타났습니다.이상화 기자가 취재했습니다.[기자]한 그룹사가 오늘 파격적인 저출생 정책을 내놨습니다.2021년 이후 태어난 직원 자녀에 1억원씩, 총 70억원을 지원하고 앞으로도 이 정책을 이어가기로 했습니다.해당 기간에 연년생과 쌍둥이 자녀가 있으면 총 2억원을 받게 됩니다.[오현석/부영그룹 직원 : 아이 키우는 데 금전적으로 많이 힘든 세상이잖아요. 교육이나 생활하는 데 큰 도움이 될 거라 생각합니다.]만약 셋째까지 낳는 경우엔 국민주택을 제공하겠다는 뜻도 밝혔습니다.[이중근/부영그룹 회장 : 3년 이내에 세 아이를 갖는 분이 나올 것이고 따라서 주택을 제공할 수 있는 계기가 될 것으로 생각하고.][조용현/부영그룹 직원 : 와이프가 셋째도 갖고 싶어 했는데 경제적 부담 때문에 부정적이었거든요. (이제) 긍정적으로 생각할 수 있을 것 같습니다.]오늘 행사에서는, 회사가 제공하는 출산장려금은 받는 직원들의 세금 부담을 고려해 정부가 면세해달라는 제안도 나왔습니다.이같은 출산장려책은 점점 확산하는 분위기입니다.법정기간보다 육아휴직을 길게 주거나, 남성 직원의 육아휴직을 의무화한 곳도 있습니다.사내 어린이집을 밤 10시까지 운영하고 셋째를 낳으면 무조건 승진시켜 주기도 합니다.한 회사는 지난해 네쌍둥이를 낳은 직원에 의료비를 지원해 관심을 모았습니다.정부 대신 회사가 나서는 출산장려책이 사회적 분위기를 바꿀 거라는 기대가 커지는 가운데, 여력이 부족한 중소지원이 필요하다는 목소리도 나옵니다.[영상디자인 곽세미]\\n\\t\\t\\n\", metadata={'source': 'https://n.news.naver.com/article/437/0000378416'})]"
            ]
          },
          "metadata": {},
          "execution_count": 135
        }
      ]
    },
    {
      "cell_type": "markdown",
      "source": [
        "**PDF**"
      ],
      "metadata": {
        "id": "4xUMUl4RnvPw"
      },
      "id": "4xUMUl4RnvPw"
    },
    {
      "cell_type": "markdown",
      "source": [
        "**CSV**"
      ],
      "metadata": {
        "id": "gnM0li5enzhM"
      },
      "id": "gnM0li5enzhM"
    },
    {
      "cell_type": "markdown",
      "source": [
        "**Text**"
      ],
      "metadata": {
        "id": "L0-TPHvzn1Tf"
      },
      "id": "L0-TPHvzn1Tf"
    },
    {
      "cell_type": "markdown",
      "source": [
        "**Text splliting**"
      ],
      "metadata": {
        "id": "CfOG8rZ2k9SD"
      },
      "id": "CfOG8rZ2k9SD"
    },
    {
      "cell_type": "code",
      "source": [
        "text_splitter = RecursiveCharacterTextSplitter(chunk_size=1000, chunk_overlap=100)\n",
        "\n",
        "splits = text_splitter.split_documents(docs)\n",
        "len(splits)"
      ],
      "metadata": {
        "colab": {
          "base_uri": "https://localhost:8080/"
        },
        "id": "DpnMHKaflAJK",
        "outputId": "310e459b-afe3-441a-a35f-be0250556274"
      },
      "id": "DpnMHKaflAJK",
      "execution_count": 136,
      "outputs": [
        {
          "output_type": "execute_result",
          "data": {
            "text/plain": [
              "3"
            ]
          },
          "metadata": {},
          "execution_count": 136
        }
      ]
    },
    {
      "cell_type": "markdown",
      "source": [
        "**vectorization**"
      ],
      "metadata": {
        "id": "oDSZFXQflIr6"
      },
      "id": "oDSZFXQflIr6"
    },
    {
      "cell_type": "code",
      "source": [
        "# 벡터스토어를 생성합니다.\n",
        "vectorstore = FAISS.from_documents(documents=splits, embedding=OpenAIEmbeddings())\n",
        "\n",
        "# 뉴스에 포함되어 있는 정보를 검색하고 생성합니다.\n",
        "retriever = vectorstore.as_retriever()"
      ],
      "metadata": {
        "id": "bel6YjkNlJiz"
      },
      "id": "bel6YjkNlJiz",
      "execution_count": 140,
      "outputs": []
    },
    {
      "cell_type": "markdown",
      "source": [
        "**Prompt**"
      ],
      "metadata": {
        "id": "ZUHsPjRNln8x"
      },
      "id": "ZUHsPjRNln8x"
    },
    {
      "cell_type": "code",
      "source": [
        "prompt = hub.pull(\"rlm/rag-prompt\")\n",
        "prompt"
      ],
      "metadata": {
        "colab": {
          "base_uri": "https://localhost:8080/"
        },
        "id": "2W_UEEm5lp2G",
        "outputId": "6a21dc5b-6012-4e7f-f233-da3789a65784"
      },
      "id": "2W_UEEm5lp2G",
      "execution_count": 143,
      "outputs": [
        {
          "output_type": "execute_result",
          "data": {
            "text/plain": [
              "ChatPromptTemplate(input_variables=['context', 'question'], metadata={'lc_hub_owner': 'rlm', 'lc_hub_repo': 'rag-prompt', 'lc_hub_commit_hash': '50442af133e61576e74536c6556cefe1fac147cad032f4377b60c436e6cdcb6e'}, messages=[HumanMessagePromptTemplate(prompt=PromptTemplate(input_variables=['context', 'question'], template=\"You are an assistant for question-answering tasks. Use the following pieces of retrieved context to answer the question. If you don't know the answer, just say that you don't know. Use three sentences maximum and keep the answer concise.\\nQuestion: {question} \\nContext: {context} \\nAnswer:\"))])"
            ]
          },
          "metadata": {},
          "execution_count": 143
        }
      ]
    },
    {
      "cell_type": "markdown",
      "source": [
        "**create Chain**"
      ],
      "metadata": {
        "id": "UHjy9hOImImD"
      },
      "id": "UHjy9hOImImD"
    },
    {
      "cell_type": "code",
      "source": [
        "from langchain.callbacks.base import BaseCallbackHandler\n",
        "\n",
        "\n",
        "class StreamCallback(BaseCallbackHandler):\n",
        "    def on_llm_new_token(self, token: str, **kwargs):\n",
        "        print(token, end=\"\", flush=True)\n",
        "\n",
        "\n",
        "llm = ChatOpenAI(\n",
        "    model_name=\"gpt-4-turbo-preview\",\n",
        "    temperature=0,\n",
        "    streaming=True,\n",
        "    callbacks=[StreamCallback()],\n",
        ")\n",
        "\n",
        "\n",
        "def format_docs(docs):\n",
        "    # 검색한 문서 결과를 하나의 문단으로 합쳐줍니다.\n",
        "    return \"\\n\\n\".join(doc.page_content for doc in docs)\n",
        "\n",
        "\n",
        "# 체인을 생성합니다.\n",
        "rag_chain = (\n",
        "    {\"context\": retriever | format_docs, \"question\": RunnablePassthrough()}\n",
        "    | prompt\n",
        "    | llm\n",
        "    | StrOutputParser()\n",
        ")"
      ],
      "metadata": {
        "id": "E1vceREKmGeq"
      },
      "id": "E1vceREKmGeq",
      "execution_count": 144,
      "outputs": []
    },
    {
      "cell_type": "markdown",
      "source": [
        "**Execution**"
      ],
      "metadata": {
        "id": "oFa4-szkmSb5"
      },
      "id": "oFa4-szkmSb5"
    },
    {
      "cell_type": "code",
      "source": [
        "rag_chain.invoke(\"부영그룹의 출산 장려 정책에 대해 설명해주세요.\")"
      ],
      "metadata": {
        "colab": {
          "base_uri": "https://localhost:8080/",
          "height": 92
        },
        "id": "OH_onFhmmUah",
        "outputId": "85d787f9-bac4-4ba8-b02f-7d8bb7813a0e"
      },
      "id": "OH_onFhmmUah",
      "execution_count": 145,
      "outputs": [
        {
          "output_type": "stream",
          "name": "stdout",
          "text": [
            "부영그룹은 출산 장려 정책으로 2021년 이후 태어난 직원 자녀에게 1억원씩 지원하며, 연년생이나 쌍둥이 자녀가 있을 경우 총 2억원을 지급합니다. 또한, 셋째 자녀를 낳는 경우 국민주택을 제공하겠다는 계획도 밝혔습니다. 이러한 정책은 직원들에게 금전적인 지원과 함께 경제적 부담을 줄여주어 출산을 장려하기 위한 것입니다."
          ]
        },
        {
          "output_type": "execute_result",
          "data": {
            "text/plain": [
              "'부영그룹은 출산 장려 정책으로 2021년 이후 태어난 직원 자녀에게 1억원씩 지원하며, 연년생이나 쌍둥이 자녀가 있을 경우 총 2억원을 지급합니다. 또한, 셋째 자녀를 낳는 경우 국민주택을 제공하겠다는 계획도 밝혔습니다. 이러한 정책은 직원들에게 금전적인 지원과 함께 경제적 부담을 줄여주어 출산을 장려하기 위한 것입니다.'"
            ],
            "application/vnd.google.colaboratory.intrinsic+json": {
              "type": "string"
            }
          },
          "metadata": {},
          "execution_count": 145
        }
      ]
    },
    {
      "cell_type": "code",
      "source": [
        "rag_chain.invoke(\"부영그룹은 출산 직원에게 얼마의 지원을 제공하나요?\")"
      ],
      "metadata": {
        "colab": {
          "base_uri": "https://localhost:8080/",
          "height": 92
        },
        "id": "wprZY-o1mbj5",
        "outputId": "e53ad18c-ae7a-4f97-aac4-ca24c3d8cb13"
      },
      "id": "wprZY-o1mbj5",
      "execution_count": 146,
      "outputs": [
        {
          "output_type": "stream",
          "name": "stdout",
          "text": [
            "부영그룹은 출산 직원에게 1억원을 지원합니다. 2021년 이후 태어난 직원 자녀에게 이 지원금을 제공하며, 연년생이나 쌍둥이 자녀가 있으면 총 2억원을 받게 됩니다. 셋째 아이를 낳는 경우에는 국민주택을 제공하겠다는 계획도 있습니다."
          ]
        },
        {
          "output_type": "execute_result",
          "data": {
            "text/plain": [
              "'부영그룹은 출산 직원에게 1억원을 지원합니다. 2021년 이후 태어난 직원 자녀에게 이 지원금을 제공하며, 연년생이나 쌍둥이 자녀가 있으면 총 2억원을 받게 됩니다. 셋째 아이를 낳는 경우에는 국민주택을 제공하겠다는 계획도 있습니다.'"
            ],
            "application/vnd.google.colaboratory.intrinsic+json": {
              "type": "string"
            }
          },
          "metadata": {},
          "execution_count": 146
        }
      ]
    },
    {
      "cell_type": "code",
      "source": [
        "print(rag_chain.invoke(\"정부의 저출생 대책을 bullet points 형식으로 작성해 주세요.\"))"
      ],
      "metadata": {
        "colab": {
          "base_uri": "https://localhost:8080/"
        },
        "id": "E-Ragnk2mkiK",
        "outputId": "230d17f7-d948-47ac-8fad-230b9e358104"
      },
      "id": "E-Ragnk2mkiK",
      "execution_count": 147,
      "outputs": [
        {
          "output_type": "stream",
          "name": "stdout",
          "text": [
            "- 매달 부모 급여 지급: 0세 아이는 100만원으로 인상\n",
            "- 첫만남이용권 및 아동수당 포함하여 아이 돌까지 1년 동안 총 1520만원 지원\n",
            "- 지자체별 추가 지원: 예를 들어, 인천시는 새로 태어난 아기에게 18살 될 때까지 1억원 지급, 광주시는 17살 될 때까지 7400만원 지급- 매달 부모 급여 지급: 0세 아이는 100만원으로 인상\n",
            "- 첫만남이용권 및 아동수당 포함하여 아이 돌까지 1년 동안 총 1520만원 지원\n",
            "- 지자체별 추가 지원: 예를 들어, 인천시는 새로 태어난 아기에게 18살 될 때까지 1억원 지급, 광주시는 17살 될 때까지 7400만원 지급\n"
          ]
        }
      ]
    }
  ],
  "metadata": {
    "colab": {
      "provenance": []
    },
    "language_info": {
      "name": "python"
    },
    "kernelspec": {
      "name": "python3",
      "display_name": "Python 3"
    }
  },
  "nbformat": 4,
  "nbformat_minor": 5
}