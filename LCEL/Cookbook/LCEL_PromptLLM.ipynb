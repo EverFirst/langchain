{
  "cells": [
    {
      "cell_type": "markdown",
      "metadata": {
        "id": "259M-8OXmQD7"
      },
      "source": [
        "# Prompt + LLM"
      ]
    },
    {
      "cell_type": "markdown",
      "metadata": {},
      "source": [
        "#### 1. 필수 라이브러리 설치"
      ]
    },
    {
      "cell_type": "code",
      "execution_count": 8,
      "metadata": {
        "colab": {
          "base_uri": "https://localhost:8080/"
        },
        "id": "4Vahr4cWmPN6",
        "outputId": "dea713bf-71bb-4c32-8680-db63f66c62bc"
      },
      "outputs": [
        {
          "name": "stdout",
          "output_type": "stream",
          "text": [
            "\u001b[?25l     \u001b[90m━━━━━━━━━━━━━━━━━━━━━━━━━━━━━━━━━━━━━━━━\u001b[0m \u001b[32m0.0/809.1 kB\u001b[0m \u001b[31m?\u001b[0m eta \u001b[36m-:--:--\u001b[0m\r\u001b[2K     \u001b[91m━━━━━━━━━\u001b[0m\u001b[91m╸\u001b[0m\u001b[90m━━━━━━━━━━━━━━━━━━━━━━━━━━━━━━\u001b[0m \u001b[32m194.6/809.1 kB\u001b[0m \u001b[31m5.7 MB/s\u001b[0m eta \u001b[36m0:00:01\u001b[0m\r\u001b[2K     \u001b[90m━━━━━━━━━━━━━━━━━━━━━━━━━━━━━━━━━━━━━━━━\u001b[0m \u001b[32m809.1/809.1 kB\u001b[0m \u001b[31m11.8 MB/s\u001b[0m eta \u001b[36m0:00:00\u001b[0m\n",
            "\u001b[?25h"
          ]
        }
      ],
      "source": [
        "!pip install --upgrade --quiet langchain langchain-core langchain-community langchain-openai"
      ]
    },
    {
      "cell_type": "markdown",
      "metadata": {},
      "source": [
        "#### 2. OpenAI API Key 설정"
      ]
    },
    {
      "cell_type": "code",
      "execution_count": 2,
      "metadata": {
        "id": "86kvSCFwnI2s"
      },
      "outputs": [],
      "source": [
        "import os\n",
        "os.environ[\"OPENAI_API_KEY\"]      = \"sk-**********************************************\""
      ]
    },
    {
      "cell_type": "markdown",
      "metadata": {
        "id": "NM4kBxpX-0u4"
      },
      "source": [
        "## PromptTemplate + LLM"
      ]
    },
    {
      "cell_type": "markdown",
      "metadata": {},
      "source": [
        "Prompt Template과 LLM 결합"
      ]
    },
    {
      "cell_type": "code",
      "execution_count": 3,
      "metadata": {
        "colab": {
          "base_uri": "https://localhost:8080/"
        },
        "id": "oR_NcQh3-2EA",
        "outputId": "3d3034c9-fc89-4471-968c-b933a12cacfb"
      },
      "outputs": [
        {
          "data": {
            "text/plain": [
              "AIMessage(content=\"Why don't bears wear shoes?\\n\\nBecause they have bear feet!\", response_metadata={'finish_reason': 'stop', 'logprobs': None})"
            ]
          },
          "execution_count": 3,
          "metadata": {},
          "output_type": "execute_result"
        }
      ],
      "source": [
        "from langchain_core.prompts import ChatPromptTemplate\n",
        "from langchain_openai import ChatOpenAI\n",
        "\n",
        "#Prompt 생성\n",
        "prompt = ChatPromptTemplate.from_template(\"tell me a joke about {foo}\")\n",
        "\n",
        "#model 생성\n",
        "model = ChatOpenAI()\n",
        "\n",
        "#LCEL 구조로 Chain 생성\n",
        "chain = prompt | model\n",
        "\n",
        "#Prompt Input 변수 값을 부여하여 실행\n",
        "chain.invoke({\"foo\": \"bears\"})"
      ]
    },
    {
      "cell_type": "markdown",
      "metadata": {
        "id": "eWJpFDrr_BNd"
      },
      "source": [
        "### Attaching Stop Sequences"
      ]
    },
    {
      "cell_type": "markdown",
      "metadata": {},
      "source": [
        "Output 값에 특정 변수가 포함되면 정지되도록 설정"
      ]
    },
    {
      "cell_type": "code",
      "execution_count": 4,
      "metadata": {
        "colab": {
          "base_uri": "https://localhost:8080/"
        },
        "id": "ocWJD5AB_Cuu",
        "outputId": "f1c610c6-2f3c-4f86-d87e-c2e1ffbdde47"
      },
      "outputs": [
        {
          "data": {
            "text/plain": [
              "AIMessage(content='Why did the bear dissolve in water?', response_metadata={'finish_reason': 'stop', 'logprobs': None})"
            ]
          },
          "execution_count": 4,
          "metadata": {},
          "output_type": "execute_result"
        }
      ],
      "source": [
        "# Model이 Output을 생성할 때, \\n 기호가 포함되면 실행을 중지함.\n",
        "chain = prompt | model.bind(stop=[\"\\n\"])\n",
        "\n",
        "chain.invoke({\"foo\": \"bears\"})"
      ]
    },
    {
      "cell_type": "markdown",
      "metadata": {
        "id": "5u6xcYgL_Lpg"
      },
      "source": [
        "### Attaching Function Call information"
      ]
    },
    {
      "cell_type": "markdown",
      "metadata": {},
      "source": [
        "모델이 특정 함수를 실행하도록 설정\n",
        "- function_call : 함수 내에서 사용할 특정 함수 이름으로 선택\n",
        "- functions : 사용할 함수 리스트 지정"
      ]
    },
    {
      "cell_type": "code",
      "execution_count": 5,
      "metadata": {
        "colab": {
          "base_uri": "https://localhost:8080/"
        },
        "id": "FLYkuZPe_NF4",
        "outputId": "129d3ff0-9f90-4e78-e11e-a3783f65ead9"
      },
      "outputs": [
        {
          "data": {
            "text/plain": [
              "AIMessage(content='', additional_kwargs={'function_call': {'arguments': '{\"setup\":\"Why don\\'t bears like fast food?\",\"punchline\":\"Because they can\\'t catch it!\"}', 'name': 'joke'}}, response_metadata={'finish_reason': 'stop', 'logprobs': None})"
            ]
          },
          "execution_count": 5,
          "metadata": {},
          "output_type": "execute_result"
        }
      ],
      "source": [
        "#joke라는 이름이 포함된 함수를 json Type으로 함수 목록에 저장 \n",
        "# properties 에서 답변의 구조를 설정\n",
        "functions = [\n",
        "    {\n",
        "        \"name\": \"joke\",\n",
        "        \"description\": \"A joke\",\n",
        "        \"parameters\": {\n",
        "            \"type\": \"object\",\n",
        "            \"properties\": {\n",
        "                \"setup\": {\"type\": \"string\", \"description\": \"The setup for the joke\"},\n",
        "                \"punchline\": {\n",
        "                    \"type\": \"string\",\n",
        "                    \"description\": \"The punchline for the joke\",\n",
        "                },\n",
        "            },\n",
        "            \"required\": [\"setup\", \"punchline\"],\n",
        "        },\n",
        "    }\n",
        "]\n",
        "\n",
        "#특정 함수를 모델에 적용함\n",
        "chain = prompt | model.bind(function_call={\"name\": \"joke\"}, functions=functions)\n",
        "\n",
        "chain.invoke({\"foo\": \"bears\"})"
      ]
    },
    {
      "cell_type": "markdown",
      "metadata": {
        "id": "G4PX9tQw_0dV"
      },
      "source": [
        "## PromptTemplate + LLM + OutputParser"
      ]
    },
    {
      "cell_type": "markdown",
      "metadata": {},
      "source": [
        "OutputParser : 지정한 템플릿에 따라 Output 결과를 반환 "
      ]
    },
    {
      "cell_type": "code",
      "execution_count": null,
      "metadata": {
        "colab": {
          "base_uri": "https://localhost:8080/",
          "height": 35
        },
        "id": "3BBUTRY2_6tL",
        "outputId": "12fb7444-cc23-4a84-ba9e-9fb7fda66e50"
      },
      "outputs": [
        {
          "data": {
            "application/vnd.google.colaboratory.intrinsic+json": {
              "type": "string"
            },
            "text/plain": [
              "\"Why did the bear break up with his girlfriend? \\n\\nBecause he couldn't bear the relationship any longer!\""
            ]
          },
          "execution_count": 6,
          "metadata": {},
          "output_type": "execute_result"
        }
      ],
      "source": [
        "from langchain_core.output_parsers import StrOutputParser\n",
        "\n",
        "#StrOutputParser : String Type으로 결과값 반환\n",
        "chain = prompt | model | StrOutputParser()\n",
        "\n",
        "chain.invoke({\"foo\": \"bears\"})"
      ]
    },
    {
      "cell_type": "markdown",
      "metadata": {
        "id": "qjEco0dwADrp"
      },
      "source": [
        "### Functions Output Parser"
      ]
    },
    {
      "cell_type": "markdown",
      "metadata": {},
      "source": [
        "함수에 지정된 결과값 형태를 OutputParser의 데이터 타입으로 반환 "
      ]
    },
    {
      "cell_type": "code",
      "execution_count": 9,
      "metadata": {
        "colab": {
          "base_uri": "https://localhost:8080/"
        },
        "id": "ohe3bepAAJ5D",
        "outputId": "8983a5c2-508c-4d03-c4e7-ba2d4a81ba11"
      },
      "outputs": [
        {
          "data": {
            "text/plain": [
              "{'setup': \"Why don't bears like fast food?\",\n",
              " 'punchline': \"Because they can't catch it!\"}"
            ]
          },
          "execution_count": 9,
          "metadata": {},
          "output_type": "execute_result"
        }
      ],
      "source": [
        "from langchain.output_parsers.openai_functions import JsonOutputFunctionsParser\n",
        "\n",
        "#joke 함수의 output properties 항목에 따라서 함수를 실행\n",
        "#Json 데이터 타입으로 joke 함수의 결과값을 맵핑하여 반환\n",
        "chain = (\n",
        "    prompt\n",
        "    | model.bind(function_call={\"name\": \"joke\"}, functions=functions)\n",
        "    | JsonOutputFunctionsParser()\n",
        ")\n",
        "\n",
        "chain.invoke({\"foo\": \"bears\"})"
      ]
    },
    {
      "cell_type": "code",
      "execution_count": 10,
      "metadata": {
        "colab": {
          "base_uri": "https://localhost:8080/",
          "height": 35
        },
        "id": "hDWItyhbAbOu",
        "outputId": "94d46a5d-5598-478c-ef1e-0ac0cc869f25"
      },
      "outputs": [
        {
          "data": {
            "application/vnd.google.colaboratory.intrinsic+json": {
              "type": "string"
            },
            "text/plain": [
              "\"Why don't bears like fast food?\""
            ]
          },
          "execution_count": 10,
          "metadata": {},
          "output_type": "execute_result"
        }
      ],
      "source": [
        "from langchain.output_parsers.openai_functions import JsonKeyOutputFunctionsParser\n",
        "\n",
        "#joke 함수의 output properties 항목에 따라서 함수를 실행 \n",
        "#Json 형태의 결과값에서 setup 이라는 key값의 데이터만을 결과로 반환\n",
        "chain = (\n",
        "    prompt\n",
        "    | model.bind(function_call={\"name\": \"joke\"}, functions=functions)\n",
        "    | JsonKeyOutputFunctionsParser(key_name=\"setup\")\n",
        ")\n",
        "\n",
        "chain.invoke({\"foo\": \"bears\"})"
      ]
    },
    {
      "cell_type": "markdown",
      "metadata": {
        "id": "dxHGvxsNAiMp"
      },
      "source": [
        "## Simplifying input"
      ]
    },
    {
      "cell_type": "markdown",
      "metadata": {},
      "source": [
        "Input 값을 {input_variable_name : input_value} 가 아닌, input_value만 입력하여 출력할 수 있도록 설정"
      ]
    },
    {
      "cell_type": "code",
      "execution_count": 11,
      "metadata": {
        "colab": {
          "base_uri": "https://localhost:8080/",
          "height": 35
        },
        "id": "DKrbCV7TAj0i",
        "outputId": "0bd526fa-9e87-4d67-9e3c-7209ad645347"
      },
      "outputs": [
        {
          "data": {
            "application/vnd.google.colaboratory.intrinsic+json": {
              "type": "string"
            },
            "text/plain": [
              "\"Why don't bears wear shoes?\""
            ]
          },
          "execution_count": 11,
          "metadata": {},
          "output_type": "execute_result"
        }
      ],
      "source": [
        "from langchain_core.runnables import RunnableParallel, RunnablePassthrough\n",
        "\n",
        "#\"foo\"라는 입력변수명을 RunnableParallel에 입력값으로 사용할 수 있도록 하는 모듈을 불러옴\n",
        "map_ = RunnableParallel(foo=RunnablePassthrough())\n",
        "\n",
        "#Parallel을 포함하여 LCEL 구조로 구현\n",
        "chain = (\n",
        "    map_\n",
        "    | prompt\n",
        "    | model.bind(function_call={\"name\": \"joke\"}, functions=functions)\n",
        "    | JsonKeyOutputFunctionsParser(key_name=\"setup\")\n",
        ")\n",
        "\n",
        "chain.invoke(\"bears\")"
      ]
    },
    {
      "cell_type": "code",
      "execution_count": 12,
      "metadata": {
        "colab": {
          "base_uri": "https://localhost:8080/",
          "height": 35
        },
        "id": "SsPEZV14A00e",
        "outputId": "8d2904e2-5233-4d7b-dca2-42c79e1e11be"
      },
      "outputs": [
        {
          "data": {
            "application/vnd.google.colaboratory.intrinsic+json": {
              "type": "string"
            },
            "text/plain": [
              "\"Why don't bears like fast food?\""
            ]
          },
          "execution_count": 12,
          "metadata": {},
          "output_type": "execute_result"
        }
      ],
      "source": [
        "#\"foo\" 변수 값을 Pass하여 받도록 지정\n",
        "chain = (\n",
        "    {\"foo\": RunnablePassthrough()}\n",
        "    | prompt\n",
        "    | model.bind(function_call={\"name\": \"joke\"}, functions=functions)\n",
        "    | JsonKeyOutputFunctionsParser(key_name=\"setup\")\n",
        ")\n",
        "\n",
        "chain.invoke(\"bears\")"
      ]
    }
  ],
  "metadata": {
    "colab": {
      "provenance": []
    },
    "kernelspec": {
      "display_name": "Python 3",
      "name": "python3"
    },
    "language_info": {
      "name": "python"
    }
  },
  "nbformat": 4,
  "nbformat_minor": 0
}
