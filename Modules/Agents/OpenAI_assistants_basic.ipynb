{
  "cells": [
    {
      "cell_type": "markdown",
      "id": "9fa23b62",
      "metadata": {
        "id": "9fa23b62"
      },
      "source": [
        "# OpenAI assistants\n"
      ]
    },
    {
      "cell_type": "markdown",
      "id": "9601edb9",
      "metadata": {},
      "source": [
        "#### 필수 라이브러리 설치"
      ]
    },
    {
      "cell_type": "code",
      "execution_count": 14,
      "id": "354b1e04",
      "metadata": {
        "id": "354b1e04"
      },
      "outputs": [],
      "source": [
        "!pip install -qU langchain langchain-openai langchain_community langchain_experimental langchain-text-splitters tiktoken pypdf faiss-cpu wikipedia"
      ]
    },
    {
      "cell_type": "markdown",
      "id": "f3419951",
      "metadata": {},
      "source": [
        "#### openai api key 등록"
      ]
    },
    {
      "cell_type": "code",
      "execution_count": 56,
      "id": "8U_lhAypNH9G",
      "metadata": {
        "id": "8U_lhAypNH9G"
      },
      "outputs": [],
      "source": [
        "import os\n",
        "\n",
        "os.environ[\"OPENAI_API_KEY\"] = 'sk-*****************************************************'"
      ]
    },
    {
      "cell_type": "markdown",
      "id": "JIPfhgtnt_aa",
      "metadata": {
        "id": "JIPfhgtnt_aa"
      },
      "source": [
        "## Created with Assistants API"
      ]
    },
    {
      "cell_type": "code",
      "execution_count": 57,
      "id": "ydYMFSe_2DT5",
      "metadata": {
        "id": "ydYMFSe_2DT5"
      },
      "outputs": [],
      "source": [
        "import json\n",
        "\n",
        "#출력 형태 변경\n",
        "\n",
        "def show_json(obj):\n",
        "    # obj의 모델을 JSON 형태로 변환한 후 출력합니다.\n",
        "    display(json.loads(obj.model_dump_json()))"
      ]
    },
    {
      "cell_type": "code",
      "execution_count": 59,
      "id": "TG5WCCKKyVYW",
      "metadata": {
        "colab": {
          "base_uri": "https://localhost:8080/",
          "height": 201
        },
        "id": "TG5WCCKKyVYW",
        "outputId": "03c2e404-a88f-429c-a9d3-fbd163f11b61"
      },
      "outputs": [
        {
          "data": {
            "text/plain": [
              "{'id': 'asst_z66wluoO02gu6KaPeMmRIVux',\n",
              " 'created_at': 1710988522,\n",
              " 'description': None,\n",
              " 'file_ids': [],\n",
              " 'instructions': 'You are a personal math tutor. Answer questions briefly, in a sentence or less.',\n",
              " 'metadata': {},\n",
              " 'model': 'gpt-4-turbo-preview',\n",
              " 'name': 'Math Tutor',\n",
              " 'object': 'assistant',\n",
              " 'tools': []}"
            ]
          },
          "metadata": {},
          "output_type": "display_data"
        }
      ],
      "source": [
        "from openai import OpenAI\n",
        "\n",
        "#클라이언트 생성\n",
        "client = OpenAI()\n",
        "\n",
        "#클라이언트에 assistant 생성\n",
        "assistant = client.beta.assistants.create(\n",
        "    name=\"Math Tutor\",\n",
        "    instructions=\"You are a personal math tutor. Answer questions briefly, in a sentence or less.\",\n",
        "    model=\"gpt-4-turbo-preview\",\n",
        ")\n",
        "\n",
        "show_json(assistant)"
      ]
    },
    {
      "cell_type": "code",
      "execution_count": 60,
      "id": "dMp9k-Ll3XLQ",
      "metadata": {
        "colab": {
          "base_uri": "https://localhost:8080/"
        },
        "id": "dMp9k-Ll3XLQ",
        "outputId": "3c5ac93e-7916-4754-8315-554dc38975ac"
      },
      "outputs": [
        {
          "name": "stdout",
          "output_type": "stream",
          "text": [
            "[생성한 Assistants ID]\n",
            "asst_z66wluoO02gu6KaPeMmRIVux\n"
          ]
        }
      ],
      "source": [
        "#assistant id 확인 \n",
        "ASSISTANT_ID = assistant.id\n",
        "print(f\"[생성한 Assistants ID]\\n{ASSISTANT_ID}\")"
      ]
    },
    {
      "cell_type": "markdown",
      "id": "KcXV485X3dTJ",
      "metadata": {
        "id": "KcXV485X3dTJ"
      },
      "source": [
        "![image.png](data:image/png;base64,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)"
      ]
    },
    {
      "cell_type": "markdown",
      "id": "i_G8XpoY3qwK",
      "metadata": {
        "id": "i_G8XpoY3qwK"
      },
      "source": [
        "## Threads"
      ]
    },
    {
      "cell_type": "code",
      "execution_count": 61,
      "id": "J50-CibK3uKB",
      "metadata": {
        "colab": {
          "base_uri": "https://localhost:8080/",
          "height": 90
        },
        "id": "J50-CibK3uKB",
        "outputId": "e27d780a-09d5-4be7-8447-ee56e8adf84e"
      },
      "outputs": [
        {
          "data": {
            "text/plain": [
              "{'id': 'thread_QjswwPCiSRZtaL1hiaMthKAd',\n",
              " 'created_at': 1710988670,\n",
              " 'metadata': {},\n",
              " 'object': 'thread'}"
            ]
          },
          "metadata": {},
          "output_type": "display_data"
        }
      ],
      "source": [
        "#클라이언트 thread 생성\n",
        "thread = client.beta.threads.create()\n",
        "\n",
        "#json으로 확인\n",
        "show_json(thread)"
      ]
    },
    {
      "cell_type": "code",
      "execution_count": 62,
      "id": "pKkHEggv38z6",
      "metadata": {
        "colab": {
          "base_uri": "https://localhost:8080/",
          "height": 311
        },
        "id": "pKkHEggv38z6",
        "outputId": "aa739bcc-7ebc-461a-dd25-f3cfee6f59c7"
      },
      "outputs": [
        {
          "data": {
            "text/plain": [
              "{'id': 'msg_A7JDwPjvCDdiAeOtKvyneZwQ',\n",
              " 'assistant_id': None,\n",
              " 'completed_at': None,\n",
              " 'content': [{'text': {'annotations': [],\n",
              "    'value': '다음의 방정식을 풀고 싶습니다. `3x + 11 = 14`. 수학선생님 도와주실 수 있나요?'},\n",
              "   'type': 'text'}],\n",
              " 'created_at': 1710988714,\n",
              " 'file_ids': [],\n",
              " 'incomplete_at': None,\n",
              " 'incomplete_details': None,\n",
              " 'metadata': {},\n",
              " 'object': 'thread.message',\n",
              " 'role': 'user',\n",
              " 'run_id': None,\n",
              " 'status': None,\n",
              " 'thread_id': 'thread_QjswwPCiSRZtaL1hiaMthKAd'}"
            ]
          },
          "metadata": {},
          "output_type": "display_data"
        }
      ],
      "source": [
        "#client thread에 연결 및 json으로 확인\n",
        "message = client.beta.threads.messages.create(\n",
        "    thread_id=thread.id,\n",
        "    role=\"user\",\n",
        "    content=\"다음의 방정식을 풀고 싶습니다. `3x + 11 = 14`. 수학선생님 도와주실 수 있나요?\",\n",
        ")\n",
        "show_json(message)"
      ]
    },
    {
      "cell_type": "markdown",
      "id": "1lGDqSgQ4F5J",
      "metadata": {
        "id": "1lGDqSgQ4F5J"
      },
      "source": [
        "## Run"
      ]
    },
    {
      "cell_type": "code",
      "execution_count": 63,
      "id": "2mTiEyzJ4HKQ",
      "metadata": {
        "colab": {
          "base_uri": "https://localhost:8080/",
          "height": 366
        },
        "id": "2mTiEyzJ4HKQ",
        "outputId": "645a0f09-e3b5-451c-e22c-ee0bbaa8c145"
      },
      "outputs": [
        {
          "data": {
            "text/plain": [
              "{'id': 'run_KONHCqfuSMh8Z6wKgXgvcgtK',\n",
              " 'assistant_id': 'asst_z66wluoO02gu6KaPeMmRIVux',\n",
              " 'cancelled_at': None,\n",
              " 'completed_at': None,\n",
              " 'created_at': 1710988801,\n",
              " 'expires_at': 1710989401,\n",
              " 'failed_at': None,\n",
              " 'file_ids': [],\n",
              " 'instructions': 'You are a personal math tutor. Answer questions briefly, in a sentence or less.',\n",
              " 'last_error': None,\n",
              " 'metadata': {},\n",
              " 'model': 'gpt-4-turbo-preview',\n",
              " 'object': 'thread.run',\n",
              " 'required_action': None,\n",
              " 'started_at': None,\n",
              " 'status': 'queued',\n",
              " 'thread_id': 'thread_QjswwPCiSRZtaL1hiaMthKAd',\n",
              " 'tools': [],\n",
              " 'usage': None}"
            ]
          },
          "metadata": {},
          "output_type": "display_data"
        }
      ],
      "source": [
        "#클라이언트 실행기 확인\n",
        "run = client.beta.threads.runs.create(\n",
        "     thread_id=thread.id,       # Created thread ID\n",
        "     assistant_id=assistant.id, # Assistant ID to apply\n",
        ")\n",
        "\n",
        "show_json(run)"
      ]
    },
    {
      "cell_type": "code",
      "execution_count": 64,
      "id": "wRoeqcFd4bab",
      "metadata": {
        "id": "wRoeqcFd4bab"
      },
      "outputs": [],
      "source": [
        "import time\n",
        "\n",
        "#클라이언트 러너 함수 생성\n",
        "def wait_on_run(run, thread):\n",
        "    # 주어진 실행(run)이 완료될 때까지 대기합니다.\n",
        "    # status 가 \"queued\" 또는 \"in_progress\" 인 경우에는 계속 polling 하며 대기합니다.\n",
        "    while run.status == \"queued\" or run.status == \"in_progress\":\n",
        "        # run.status 를 업데이트합니다.\n",
        "        run = client.beta.threads.runs.retrieve(\n",
        "            thread_id=thread.id,\n",
        "            run_id=run.id,\n",
        "        )\n",
        "        # API 요청 사이에 잠깐의 대기 시간을 두어 서버 부하를 줄입니다.\n",
        "        time.sleep(0.5)\n",
        "    return run"
      ]
    },
    {
      "cell_type": "code",
      "execution_count": 65,
      "id": "occ_YjJv4icI",
      "metadata": {
        "colab": {
          "base_uri": "https://localhost:8080/",
          "height": 366
        },
        "id": "occ_YjJv4icI",
        "outputId": "8216cdec-6420-4568-cf63-e12b6152ed5d"
      },
      "outputs": [
        {
          "data": {
            "text/plain": [
              "{'id': 'run_KONHCqfuSMh8Z6wKgXgvcgtK',\n",
              " 'assistant_id': 'asst_z66wluoO02gu6KaPeMmRIVux',\n",
              " 'cancelled_at': None,\n",
              " 'completed_at': 1710988803,\n",
              " 'created_at': 1710988801,\n",
              " 'expires_at': None,\n",
              " 'failed_at': None,\n",
              " 'file_ids': [],\n",
              " 'instructions': 'You are a personal math tutor. Answer questions briefly, in a sentence or less.',\n",
              " 'last_error': None,\n",
              " 'metadata': {},\n",
              " 'model': 'gpt-4-turbo-preview',\n",
              " 'object': 'thread.run',\n",
              " 'required_action': None,\n",
              " 'started_at': 1710988801,\n",
              " 'status': 'completed',\n",
              " 'thread_id': 'thread_QjswwPCiSRZtaL1hiaMthKAd',\n",
              " 'tools': [],\n",
              " 'usage': {'completion_tokens': 21, 'prompt_tokens': 80, 'total_tokens': 101}}"
            ]
          },
          "metadata": {},
          "output_type": "display_data"
        }
      ],
      "source": [
        "# run 객체를 대기 상태로 설정하고, 해당 스레드에서 실행을 완료할 때까지 기다립니다.\n",
        "run = wait_on_run(run, thread)\n",
        "\n",
        "# status 가 \"complete\" 인 경우에는 결과를 출력합니다.\n",
        "show_json(run)"
      ]
    },
    {
      "cell_type": "markdown",
      "id": "KIPQQH3Q5J-4",
      "metadata": {
        "id": "KIPQQH3Q5J-4"
      },
      "source": [
        "## Message"
      ]
    },
    {
      "cell_type": "code",
      "execution_count": 66,
      "id": "2PBK6p2m5N5X",
      "metadata": {
        "colab": {
          "base_uri": "https://localhost:8080/",
          "height": 660
        },
        "id": "2PBK6p2m5N5X",
        "outputId": "eae30071-5c62-4216-f147-56b15f145a29"
      },
      "outputs": [
        {
          "data": {
            "text/plain": [
              "{'data': [{'id': 'msg_IcSulePbtrqcbUxjyBvxyadS',\n",
              "   'assistant_id': 'asst_z66wluoO02gu6KaPeMmRIVux',\n",
              "   'completed_at': None,\n",
              "   'content': [{'text': {'annotations': [], 'value': '네, 물론입니다. `x = 1` 입니다.'},\n",
              "     'type': 'text'}],\n",
              "   'created_at': 1710988802,\n",
              "   'file_ids': [],\n",
              "   'incomplete_at': None,\n",
              "   'incomplete_details': None,\n",
              "   'metadata': {},\n",
              "   'object': 'thread.message',\n",
              "   'role': 'assistant',\n",
              "   'run_id': 'run_KONHCqfuSMh8Z6wKgXgvcgtK',\n",
              "   'status': None,\n",
              "   'thread_id': 'thread_QjswwPCiSRZtaL1hiaMthKAd'},\n",
              "  {'id': 'msg_A7JDwPjvCDdiAeOtKvyneZwQ',\n",
              "   'assistant_id': None,\n",
              "   'completed_at': None,\n",
              "   'content': [{'text': {'annotations': [],\n",
              "      'value': '다음의 방정식을 풀고 싶습니다. `3x + 11 = 14`. 수학선생님 도와주실 수 있나요?'},\n",
              "     'type': 'text'}],\n",
              "   'created_at': 1710988714,\n",
              "   'file_ids': [],\n",
              "   'incomplete_at': None,\n",
              "   'incomplete_details': None,\n",
              "   'metadata': {},\n",
              "   'object': 'thread.message',\n",
              "   'role': 'user',\n",
              "   'run_id': None,\n",
              "   'status': None,\n",
              "   'thread_id': 'thread_QjswwPCiSRZtaL1hiaMthKAd'}],\n",
              " 'object': 'list',\n",
              " 'first_id': 'msg_IcSulePbtrqcbUxjyBvxyadS',\n",
              " 'last_id': 'msg_A7JDwPjvCDdiAeOtKvyneZwQ',\n",
              " 'has_more': False}"
            ]
          },
          "metadata": {},
          "output_type": "display_data"
        }
      ],
      "source": [
        "# thread.id를 사용하여 메시지 목록을 가져옵니다.\n",
        "messages = client.beta.threads.messages.list(thread_id=thread.id)\n",
        "\n",
        "# 결과를 출력합니다.\n",
        "show_json(messages)"
      ]
    },
    {
      "cell_type": "code",
      "execution_count": 67,
      "id": "MJJMtEfd5X82",
      "metadata": {
        "colab": {
          "base_uri": "https://localhost:8080/",
          "height": 384
        },
        "id": "MJJMtEfd5X82",
        "outputId": "b0aa8f06-ac2f-4738-acd7-2e2e0a188531"
      },
      "outputs": [
        {
          "data": {
            "text/plain": [
              "{'data': [{'id': 'msg_FTkGok4VKUyxFTuC0wCAIgnh',\n",
              "   'assistant_id': 'asst_z66wluoO02gu6KaPeMmRIVux',\n",
              "   'completed_at': None,\n",
              "   'content': [{'text': {'annotations': [],\n",
              "      'value': '물론이죠. 방정식 `3x + 11 = 14` 를 풀기 위해, 먼저 양변에서 11을 빼서 `3x = 3`이 되게 합니다. 그 다음 양변을 3으로 나누어 `x = 1`을 구합니다.'},\n",
              "     'type': 'text'}],\n",
              "   'created_at': 1710989092,\n",
              "   'file_ids': [],\n",
              "   'incomplete_at': None,\n",
              "   'incomplete_details': None,\n",
              "   'metadata': {},\n",
              "   'object': 'thread.message',\n",
              "   'role': 'assistant',\n",
              "   'run_id': 'run_MTweHbtrF3Tmp5gikSgWpp4f',\n",
              "   'status': None,\n",
              "   'thread_id': 'thread_QjswwPCiSRZtaL1hiaMthKAd'}],\n",
              " 'object': 'list',\n",
              " 'first_id': 'msg_FTkGok4VKUyxFTuC0wCAIgnh',\n",
              " 'last_id': 'msg_FTkGok4VKUyxFTuC0wCAIgnh',\n",
              " 'has_more': False}"
            ]
          },
          "metadata": {},
          "output_type": "display_data"
        }
      ],
      "source": [
        "# 스레드에 추가할 메시지 생성\n",
        "message = client.beta.threads.messages.create(\n",
        "    thread_id=thread.id,\n",
        "    role=\"user\",\n",
        "    content=\"설명이 잘 이해가 가지 않습니다. 좀 더 자세히 설명해 주실 수 있나요?\",\n",
        ")\n",
        "\n",
        "# 실행을 시작함\n",
        "run = client.beta.threads.runs.create(\n",
        "    thread_id=thread.id,\n",
        "    assistant_id=assistant.id,\n",
        ")\n",
        "\n",
        "# 완료될 때까지 대기\n",
        "wait_on_run(run, thread)\n",
        "\n",
        "# 마지막 사용자 메시지 이후에 추가된 모든 메시지를 검색\n",
        "messages = client.beta.threads.messages.list(\n",
        "    thread_id=thread.id, order=\"asc\", after=message.id\n",
        ")\n",
        "show_json(messages)"
      ]
    },
    {
      "cell_type": "markdown",
      "id": "v17n-Nas5khH",
      "metadata": {
        "id": "v17n-Nas5khH"
      },
      "source": [
        "## **Functionalization**"
      ]
    },
    {
      "cell_type": "code",
      "execution_count": 86,
      "id": "RsWIKzoi5zn2",
      "metadata": {
        "id": "RsWIKzoi5zn2"
      },
      "outputs": [],
      "source": [
        "def show_json(obj):\n",
        "    # obj의 모델을 JSON 형태로 변환한 후 출력합니다.\n",
        "    display(json.loads(obj.model_dump_json()))\n",
        "\n",
        "# 2-2. 스레드를 새롭게 생성합니다.\n",
        "def create_new_thread():\n",
        "    # 새로운 스레드를 생성합니다.\n",
        "    thread = client.beta.threads.create()\n",
        "    return thread\n",
        "\n",
        "import time\n",
        "\n",
        "\n",
        "# 반복문에서 대기하는 함수\n",
        "def wait_on_run(run, thread_id):\n",
        "    while run.status == \"queued\" or run.status == \"in_progress\":\n",
        "        # 3-3. 실행 상태를 최신 정보로 업데이트합니다.\n",
        "        run = client.beta.threads.runs.retrieve(\n",
        "            thread_id=thread_id,\n",
        "            run_id=run.id,\n",
        "        )\n",
        "        time.sleep(0.5)\n",
        "    return run\n",
        "\n",
        "\n",
        "def submit_message(assistant_id, thread_id, user_message):\n",
        "    # 3-1. 스레드에 종속된 메시지를 '추가' 합니다.\n",
        "    client.beta.threads.messages.create(\n",
        "        thread_id=thread_id, role=\"user\", content=user_message\n",
        "    )\n",
        "    # 3-2. 스레드를 실행합니다.\n",
        "    run = client.beta.threads.runs.create(\n",
        "        thread_id=thread_id,\n",
        "        assistant_id=assistant_id,\n",
        "    )\n",
        "    return run\n",
        "\n",
        "\n",
        "def get_response(thread_id):\n",
        "    # 3-4. 스레드에 종속된 메시지를 '조회' 합니다.\n",
        "    return client.beta.threads.messages.list(thread_id=thread_id, order=\"asc\")\n",
        "\n",
        "\n",
        "def print_message(response):\n",
        "    for res in response:\n",
        "        print(f\"[{res.role.upper()}]\\n{res.content[0].text.value}\\n\")\n",
        "\n",
        "\n",
        "def ask(assistant_id, thread_id, user_message):\n",
        "    run = submit_message(\n",
        "        assistant_id,\n",
        "        thread_id,\n",
        "        user_message,\n",
        "    )\n",
        "    # 실행이 완료될 때까지 대기합니다.\n",
        "    run = wait_on_run(run, thread_id)\n",
        "    print_message(get_response(thread_id).data[-2:])\n",
        "    return run"
      ]
    },
    {
      "cell_type": "code",
      "execution_count": 87,
      "id": "5otpJf3n6C4t",
      "metadata": {
        "colab": {
          "base_uri": "https://localhost:8080/"
        },
        "id": "5otpJf3n6C4t",
        "outputId": "1b7a050f-d43b-468c-e84f-9ef7763b8449"
      },
      "outputs": [
        {
          "name": "stdout",
          "output_type": "stream",
          "text": [
            "[USER]\n",
            "I need to solve `1 + 20`. Can you help me?\n",
            "\n",
            "[ASSISTANT]\n",
            "The result of `1 + 20` is 21.\n",
            "\n"
          ]
        }
      ],
      "source": [
        "# thread_id = \"기존 스레드 ID를 입력해 주세요\"\n",
        "thread_id = create_new_thread().id  # 새로운 스레드를 생성합니다.\n",
        "run = ask(ASSISTANT_ID, thread_id, \"I need to solve `1 + 20`. Can you help me?\")"
      ]
    },
    {
      "cell_type": "code",
      "execution_count": 88,
      "id": "xX1rPk-86Yde",
      "metadata": {
        "colab": {
          "base_uri": "https://localhost:8080/"
        },
        "id": "xX1rPk-86Yde",
        "outputId": "a5b373bf-6060-4e6a-c417-ea70b5516bd7"
      },
      "outputs": [
        {
          "name": "stdout",
          "output_type": "stream",
          "text": [
            "[USER]\n",
            "I need to solve `1 + 20`. Can you help me?\n",
            "\n",
            "[ASSISTANT]\n",
            "The result of `1 + 20` is 21.\n",
            "\n"
          ]
        }
      ],
      "source": [
        "# 전체 대화내용 출력\n",
        "print_message(get_response(thread_id).data[:])"
      ]
    },
    {
      "cell_type": "markdown",
      "id": "TUsifFkNQRf4",
      "metadata": {
        "id": "TUsifFkNQRf4"
      },
      "source": [
        "## Assistant + tools"
      ]
    },
    {
      "cell_type": "markdown",
      "id": "Z5ClY75wY0G-",
      "metadata": {
        "id": "Z5ClY75wY0G-"
      },
      "source": [
        "### Tools : Code Interpreter"
      ]
    },
    {
      "cell_type": "code",
      "execution_count": 89,
      "id": "jTOGhNl0QS0H",
      "metadata": {
        "colab": {
          "base_uri": "https://localhost:8080/",
          "height": 201
        },
        "id": "jTOGhNl0QS0H",
        "outputId": "cf0db80a-88a4-4f67-8267-9d68a83857a8"
      },
      "outputs": [
        {
          "data": {
            "text/plain": [
              "{'id': 'asst_z66wluoO02gu6KaPeMmRIVux',\n",
              " 'created_at': 1710988522,\n",
              " 'description': None,\n",
              " 'file_ids': [],\n",
              " 'instructions': 'You are a personal math tutor. Answer questions briefly, in a sentence or less.',\n",
              " 'metadata': {},\n",
              " 'model': 'gpt-4-turbo-preview',\n",
              " 'name': 'Math Tutor',\n",
              " 'object': 'assistant',\n",
              " 'tools': [{'type': 'code_interpreter'}]}"
            ]
          },
          "metadata": {},
          "output_type": "display_data"
        }
      ],
      "source": [
        "#클라이언트 업데이트\n",
        "assistant = client.beta.assistants.update(\n",
        "    ASSISTANT_ID,\n",
        "    tools=[{\"type\": \"code_interpreter\"}],  # code_interpreter 도구를 추가합니다.\n",
        ")\n",
        "show_json(assistant)"
      ]
    },
    {
      "cell_type": "code",
      "execution_count": 90,
      "id": "XsCmAGmrQhqv",
      "metadata": {
        "colab": {
          "base_uri": "https://localhost:8080/"
        },
        "id": "XsCmAGmrQhqv",
        "outputId": "1f35eabb-88cd-4695-f67d-62694f1a412f"
      },
      "outputs": [
        {
          "name": "stdout",
          "output_type": "stream",
          "text": [
            "[USER]\n",
            "Generate the first 20 fibbonaci numbers with code.\n",
            "\n",
            "[ASSISTANT]\n",
            "The first 20 Fibonacci numbers are: 0, 1, 1, 2, 3, 5, 8, 13, 21, 34, 55, 89, 144, 233, 377, 610, 987, 1597, 2584, 4181.\n",
            "\n"
          ]
        }
      ],
      "source": [
        "#스레드 아이디 가져와서 러너 실행\n",
        "thread_id = create_new_thread().id\n",
        "run = ask(ASSISTANT_ID, thread_id, \"Generate the first 20 fibbonaci numbers with code.\")"
      ]
    },
    {
      "cell_type": "markdown",
      "id": "lYFXgQSeTTVK",
      "metadata": {
        "id": "lYFXgQSeTTVK"
      },
      "source": [
        "### steps"
      ]
    },
    {
      "cell_type": "code",
      "execution_count": 91,
      "id": "1imB5mBSRgin",
      "metadata": {
        "id": "1imB5mBSRgin"
      },
      "outputs": [],
      "source": [
        "# 모든 단계목록을 조회합니다.\n",
        "run_steps = client.beta.threads.runs.steps.list(\n",
        "    thread_id=thread_id, run_id=run.id, order=\"asc\"\n",
        ")"
      ]
    },
    {
      "cell_type": "code",
      "execution_count": 92,
      "id": "hJg5kL71TafW",
      "metadata": {
        "colab": {
          "base_uri": "https://localhost:8080/",
          "height": 182
        },
        "id": "hJg5kL71TafW",
        "outputId": "2a2103e5-a559-45e1-d11a-6907d5b02f3d"
      },
      "outputs": [
        {
          "data": {
            "text/plain": [
              "{'tool_calls': [{'id': 'call_tj9rm50ZSfPWAcKc2GSG26h3',\n",
              "   'code_interpreter': {'input': 'def fibonacci(n):\\n    fib_sequence = [0, 1]\\n    for i in range(2, n):\\n        fib_sequence.append(fib_sequence[i-1] + fib_sequence[i-2])\\n    return fib_sequence\\n\\nfirst_20_fibonacci = fibonacci(20)\\nfirst_20_fibonacci',\n",
              "    'outputs': [{'logs': '[0,\\n 1,\\n 1,\\n 2,\\n 3,\\n 5,\\n 8,\\n 13,\\n 21,\\n 34,\\n 55,\\n 89,\\n 144,\\n 233,\\n 377,\\n 610,\\n 987,\\n 1597,\\n 2584,\\n 4181]',\n",
              "      'type': 'logs'}]},\n",
              "   'type': 'code_interpreter'}],\n",
              " 'type': 'tool_calls'}"
            ]
          },
          "metadata": {},
          "output_type": "display_data"
        },
        {
          "data": {
            "text/plain": [
              "{'message_creation': {'message_id': 'msg_X2xpXj6fNReAzsVfOrfR34ui'},\n",
              " 'type': 'message_creation'}"
            ]
          },
          "metadata": {},
          "output_type": "display_data"
        }
      ],
      "source": [
        "for step in run_steps.data:\n",
        "    # 각 단계의 세부 정보를 가져옵니다.\n",
        "    step_details = step.step_details\n",
        "    # 세부 정보를 JSON 형식으로 출력합니다.\n",
        "    show_json(step_details)"
      ]
    },
    {
      "cell_type": "markdown",
      "id": "KLaiPtCITmQE",
      "metadata": {
        "id": "KLaiPtCITmQE"
      },
      "source": [
        "### Tools : Retrieval"
      ]
    },
    {
      "cell_type": "code",
      "execution_count": 94,
      "id": "b-kcrG1JUCJW",
      "metadata": {
        "id": "b-kcrG1JUCJW"
      },
      "outputs": [],
      "source": [
        "# 파일 업로드를 위한 함수를 정의합니다.\n",
        "def upload_files(files):\n",
        "    uploaded_files = []\n",
        "    for filepath in files:\n",
        "        file = client.files.create(\n",
        "            file=open(\n",
        "                # 업로드할 파일의 경로를 지정합니다.\n",
        "                filepath,  # 파일경로. (예시) data/sample.pdf\n",
        "                \"rb\",\n",
        "            ),\n",
        "            purpose=\"assistants\",\n",
        "        )\n",
        "        uploaded_files.append(file.id)\n",
        "        print(f\"[업로드한 파일 ID]\\n{file.id}\")\n",
        "    return uploaded_files"
      ]
    },
    {
      "cell_type": "code",
      "execution_count": 107,
      "id": "6Lv62YvgUEqb",
      "metadata": {
        "id": "6Lv62YvgUEqb"
      },
      "outputs": [],
      "source": [
        "# 업로드할 파일들의 경로를 지정합니다.\n",
        "files_to_upload = [\n",
        "    \"/content/data/layout-parser-readthedocs-io-en-latest.pdf\",\n",
        "    \"/content/data/deepdive_paper.pdf\"\n",
        "]"
      ]
    },
    {
      "cell_type": "code",
      "execution_count": 108,
      "id": "HO3TsWpUVCsT",
      "metadata": {
        "colab": {
          "base_uri": "https://localhost:8080/"
        },
        "id": "HO3TsWpUVCsT",
        "outputId": "1a87d340-ed6c-453d-a4b0-a81ab597cef4"
      },
      "outputs": [
        {
          "name": "stdout",
          "output_type": "stream",
          "text": [
            "[업로드한 파일 ID]\n",
            "file-LQI4smKQuxepk3dL7PtFWwkk\n",
            "[업로드한 파일 ID]\n",
            "file-3wRY3NLexo7Yi93xXrkDajFr\n",
            "['file-LQI4smKQuxepk3dL7PtFWwkk', 'file-3wRY3NLexo7Yi93xXrkDajFr']\n"
          ]
        }
      ],
      "source": [
        "# 파일을 업로드합니다.\n",
        "file_ids = upload_files(files_to_upload)\n",
        "print(file_ids)"
      ]
    },
    {
      "cell_type": "code",
      "execution_count": 111,
      "id": "qOGrFB9TXXuI",
      "metadata": {
        "colab": {
          "base_uri": "https://localhost:8080/"
        },
        "id": "qOGrFB9TXXuI",
        "outputId": "3a26b882-2d59-43ad-bd2b-21f61a20176d"
      },
      "outputs": [
        {
          "name": "stdout",
          "output_type": "stream",
          "text": [
            "[파일 ID] file-LQI4smKQuxepk3dL7PtFWwkk [파일명] layout-parser-readthedocs-io-en-latest.pdf\n",
            "[파일 ID] file-3wRY3NLexo7Yi93xXrkDajFr [파일명] deepdive_paper.pdf\n",
            "[파일 ID] file-oD0mLV5ytNzgzyRuCWj1ErQs [파일명] layout-parser-readthedocs-io-en-latest.pdf\n",
            "[파일 ID] file-Y6K9VneWsz5oreW0qudApW2R [파일명] deepdive_paper.pdf\n",
            "[파일 ID] file-DCvm0dauxub664SRuatCfbQI [파일명] SKC_Introductions.txt\n",
            "[파일 ID] file-h6xs5vahLS5IRjdV0ZYyqvyf [파일명] SKC_Introductions.txt\n",
            "[파일 ID] file-stH8l1VL4rCV3XYIRtg0v83a [파일명] SKC_Introductions.txt\n",
            "[파일 ID] file-VFhlQ3XUG39X66UMPMxxjuw7 [파일명] SKC_Introductions.txt\n",
            "[파일 ID] file-6I6op7Ezg8JXNUOA7uk2TkSE [파일명] WONIKQNC_INSTRUCTIONS\n",
            "[파일 ID] file-CKWkKYtYGBuMxY22YtsJvtas [파일명] WONIKQNC_INSTRUCTIONS\n",
            "[파일 ID] file-gvVVDXBarnRDi3VkiJHHuptD [파일명] industry.csv\n",
            "[파일 ID] file-NaFqQ2KyCNhMe9e11TSR2eQw [파일명] (주)원익큐엔씨_상세기업정보보고서.pdf\n",
            "[파일 ID] file-V6apP25v5xpPAP65ufKFjo64 [파일명] (주)원익큐엔씨_경쟁사비교분석보고서.pdf\n",
            "[파일 ID] file-4aMYDp11Q5ZICNkJug8fw7NY [파일명] (주)원익큐엔씨_상세기업정보보고서.pdf\n",
            "[파일 ID] file-kiH6HNxxMJW92dJ6gd7j3dd5 [파일명] industry_sic.csv\n",
            "[파일 ID] file-d3AQB0ouTSL7xfV6RwwfrIJg [파일명] industry_sic.csv\n",
            "[파일 ID] file-FbtX1IGPRKhGHlZ9NTwZpgsJ [파일명] currency.csv\n",
            "[파일 ID] file-pJlmRaXddsxCeCfriD5uiYlq [파일명] bandoche_status.csv\n"
          ]
        }
      ],
      "source": [
        "# 업로드한 모든 파일 ID 와 파일명을 출력합니다.\n",
        "for file in client.files.list():\n",
        "    print(f\"[파일 ID] {file.id} [파일명] {file.filename}\")"
      ]
    },
    {
      "cell_type": "code",
      "execution_count": 112,
      "id": "vIqi4OerXCvh",
      "metadata": {
        "colab": {
          "base_uri": "https://localhost:8080/",
          "height": 219
        },
        "id": "vIqi4OerXCvh",
        "outputId": "ad9a1792-4807-49ad-ae3e-f911368a4879"
      },
      "outputs": [
        {
          "data": {
            "text/plain": [
              "{'id': 'asst_z66wluoO02gu6KaPeMmRIVux',\n",
              " 'created_at': 1710988522,\n",
              " 'description': None,\n",
              " 'file_ids': ['file-LQI4smKQuxepk3dL7PtFWwkk',\n",
              "  'file-3wRY3NLexo7Yi93xXrkDajFr'],\n",
              " 'instructions': 'You are a expert in Document Retrieval. Answer questions using the uploaded documents.',\n",
              " 'metadata': {},\n",
              " 'model': 'gpt-4-turbo-preview',\n",
              " 'name': 'Math Tutor',\n",
              " 'object': 'assistant',\n",
              " 'tools': [{'type': 'code_interpreter'}, {'type': 'retrieval'}]}"
            ]
          },
          "metadata": {},
          "output_type": "display_data"
        }
      ],
      "source": [
        "# Assistant 의 설정을 업데이트합니다.\n",
        "assistant = client.beta.assistants.update(\n",
        "    ASSISTANT_ID,\n",
        "    # retrieval 도구를 추가합니다.\n",
        "    tools=[\n",
        "        {\"type\": \"code_interpreter\"},\n",
        "        {\"type\": \"retrieval\"},\n",
        "    ],\n",
        "    file_ids=file_ids,  # 업로드한 파일 ID를 지정합니다.\n",
        "    # Assistant 의 역할을 설명합니다.\n",
        "    instructions=\"You are a expert in Document Retrieval. Answer questions using the uploaded documents.\",\n",
        ")\n",
        "\n",
        "# 업데이트된 Assistant 정보를 출력합니다.\n",
        "show_json(assistant)"
      ]
    },
    {
      "cell_type": "code",
      "execution_count": 113,
      "id": "kjd7a15xXqNl",
      "metadata": {
        "colab": {
          "base_uri": "https://localhost:8080/"
        },
        "id": "kjd7a15xXqNl",
        "outputId": "c36f6bd0-4240-4702-b294-5ef8b3c67a3b"
      },
      "outputs": [
        {
          "name": "stdout",
          "output_type": "stream",
          "text": [
            "[USER]\n",
            "Deep Residual Learning에 대해서 200~300 단어로 자세히 설명해 주세요. \n",
            "\n",
            "[ASSISTANT]\n",
            "Deep Residual Learning is a framework designed to simplify the training of deep neural networks, addressing the challenge deeper networks pose. Traditional deep neural networks become harder to train as they grow deeper, either saturating in accuracy or rapidly degrading—a problem not attributed to overfitting. Deep Residual Learning tackles this by introducing “residual learning” blocks. Instead of learning direct mappings from input to output, these blocks learn the difference, or residual, between the output and the input. If we denote the desired mapping as H(x), a stack of layers in the network is tasked to approximate the residual function F(x) := H(x) - x. Consequently, the original mapping is recast to F(x) + x, hypothesizing that optimizing the residual mapping is more straightforward than optimizing the direct unreferenced mapping.\n",
            "\n",
            "The structure of residual learning involves layers with \"shortcut connections\" that skip one or more layers, performing identity mapping and joining their output to the stacked layers' output. This arrangement adds neither extra parameters nor computational complexity, maintaining ease of network training through standard practices like Stochastic Gradient Descent (SGD) with backpropagation. Empirical evidence supports that such deep residual networks are simpler to optimize, enhance accuracy with increased depth, and do not succumb to the degradation issue typical in \"plain\" networks as depth increases.\n",
            "\n",
            "An example achievement of deep residual networks is demonstrated on the ImageNet dataset, where a 152-layer residual network, despite being deeper, had lower complexity and performed better than previous networks. This approach won the first place in the ImageNet classification task among other competitions, showcasing the versatility and powerful applicability of deep residual learning across different tasks in image recognition and beyond.\n",
            "\n"
          ]
        }
      ],
      "source": [
        "ASSISTANT_ID = assistant.id  # 업데이트된 Assistant ID를 지정합니다.\n",
        "thread_id = create_new_thread().id  # 새로운 스레드를 생성합니다.\n",
        "\n",
        "# 질문을 던집니다.\n",
        "run = ask(\n",
        "    ASSISTANT_ID,\n",
        "    thread_id,\n",
        "    \"Deep Residual Learning에 대해서 200~300 단어로 자세히 설명해 주세요. \"\n",
        ")"
      ]
    },
    {
      "cell_type": "code",
      "execution_count": 114,
      "id": "1mt11TNIYFRQ",
      "metadata": {
        "colab": {
          "base_uri": "https://localhost:8080/",
          "height": 127
        },
        "id": "1mt11TNIYFRQ",
        "outputId": "33764797-1b79-4d9c-8144-176e64f4f260"
      },
      "outputs": [
        {
          "data": {
            "text/plain": [
              "{'tool_calls': [{'id': 'call_KX5uQReYnlkA97PTX6pO8G69',\n",
              "   'retrieval': {},\n",
              "   'type': 'retrieval'}],\n",
              " 'type': 'tool_calls'}"
            ]
          },
          "metadata": {},
          "output_type": "display_data"
        },
        {
          "data": {
            "text/plain": [
              "{'message_creation': {'message_id': 'msg_J9Sqg92e0OhUc6VqK20EC8w3'},\n",
              " 'type': 'message_creation'}"
            ]
          },
          "metadata": {},
          "output_type": "display_data"
        }
      ],
      "source": [
        "#러닝 스텝 확인\n",
        "run_steps = client.beta.threads.runs.steps.list(\n",
        "    thread_id=thread_id, run_id=run.id, order=\"asc\"\n",
        ")\n",
        "\n",
        "for step in run_steps.data:\n",
        "    # 각 단계의 세부 정보를 가져옵니다.\n",
        "    step_details = step.step_details\n",
        "    # 세부 정보를 JSON 형식으로 출력합니다.\n",
        "    show_json(step_details)"
      ]
    },
    {
      "cell_type": "code",
      "execution_count": 115,
      "id": "gMa_Jvo1YLE5",
      "metadata": {
        "colab": {
          "base_uri": "https://localhost:8080/"
        },
        "id": "gMa_Jvo1YLE5",
        "outputId": "529cc854-fd1d-4c33-ef00-b7a2215c9f1e"
      },
      "outputs": [
        {
          "name": "stdout",
          "output_type": "stream",
          "text": [
            "[USER]\n",
            "Deep Residual Learning에 대해서 200~300 단어로 자세히 한글로 설명해 주세요. \n",
            "\n",
            "[ASSISTANT]\n",
            "딥 레지듀얼 러닝(Deep Residual Learning)은 깊은 신경망의 훈련을 단순화하는 프레임워크로, 심화된 네트워크가 제기하는 문제를 해결합니다. 전통적인 심층 신경망은 깊어질수록 훈련이 더 어려워지며, 정확도가 포화 상태에 이르거나 빠르게 저하됩니다. 이 문제는 과적합으로 인한 것이 아닙니다. 딥 레지듀얼 러닝은 \"잔차 학습\" 블록을 도입하여 이를 해결합니다. 이 블록들은 입력에서 출력으로의 직접적인 매핑을 학습하는 대신, 출력과 입력 사이의 차이, 즉 잔차를 학습합니다. 만약 우리가 원하는 매핑을 H(x)라고 한다면, 네트워크 내의 일련의 레이어는 잔차 함수 F(x) := H(x) - x를 근사하게 합니다. 결과적으로, 원래의 매핑은 F(x) + x로 재구성되며, 이는 잔차 매핑을 최적화하는 것이 직접적인 매핑보다 더 간단하다는 가설을 기반으로 합니다.\n",
            "\n",
            "잔차 학습의 구조는 하나 이상의 레이어를 건너뛰는 \"단축 연결\"이 있는 레이어들을 포함하며, 이들은 항등 매핑을 수행하고 그 출력을 쌓인 레이어의 출력과 결합합니다. 이 구성은 추가적인 매개변수나 계산 복잡성을 더하지 않으면서도 네트워크의 훈련을 용이하게 유지합니다. 실증적 증거는 이러한 깊은 잔차 네트워크가 최적화하기 더 간단하며, 깊이가 증가함에 따라 정확도를 향상시키고 일반적인 \"플레인\" 네트워크에서 발생하는 깊이 증가에 따른 성능 저하 문제를 겪지 않는다는 것을 지지합니다.\n",
            "\n",
            "딥 레지듀얼 네트워크의 성과 예로는 ImageNet 데이터셋에서, 보다 깊으면서도 낮은 복잡성을 가진 152층의 잔차 네트워크가 이전 네트워크보다 더 좋은 성능을 보였습니다. 이 접근법은 이미지 인식 등 다양한 작업에서 그 강력한 적용성과 다양성을 보여주며, ImageNet 분류 작업을 비롯한 여러 경쟁에서 첫 번째 자리를 차지했습니다.\n",
            "\n"
          ]
        }
      ],
      "source": [
        "# 질문을 던집니다.\n",
        "run = ask(\n",
        "    ASSISTANT_ID,\n",
        "    thread_id,\n",
        "    \"Deep Residual Learning에 대해서 200~300 단어로 자세히 한글로 설명해 주세요. \"\n",
        ")"
      ]
    },
    {
      "cell_type": "markdown",
      "id": "eoDEYyLXY_Su",
      "metadata": {
        "id": "eoDEYyLXY_Su"
      },
      "source": [
        "### Tools : Function"
      ]
    },
    {
      "cell_type": "code",
      "execution_count": 116,
      "id": "I7EhKCCGZBTH",
      "metadata": {
        "id": "I7EhKCCGZBTH"
      },
      "outputs": [],
      "source": [
        "def display_quiz(title, questions, show_numeric=False):\n",
        "    print(f\"제목: {title}\\n\")\n",
        "    responses = []\n",
        "\n",
        "    for q in questions:\n",
        "        # 질문을 출력합니다.\n",
        "        print(q[\"question_text\"])\n",
        "        response = \"\"\n",
        "\n",
        "        # 각 선택지를 출력합니다.\n",
        "        for i, choice in enumerate(q[\"choices\"]):\n",
        "            if show_numeric:\n",
        "                print(f\"{i+1} {choice}\")\n",
        "            else:\n",
        "                print(f\"{choice}\")\n",
        "\n",
        "        response = input(\"정답을 선택해 주세요: \")\n",
        "        responses.append(response)\n",
        "        print()\n",
        "\n",
        "    return responses"
      ]
    },
    {
      "cell_type": "code",
      "execution_count": 117,
      "id": "aChxyxDYZSsH",
      "metadata": {
        "colab": {
          "base_uri": "https://localhost:8080/"
        },
        "id": "aChxyxDYZSsH",
        "outputId": "58ad91e4-bbb9-40d2-9660-9a5282bf4ba3"
      },
      "outputs": [
        {
          "name": "stdout",
          "output_type": "stream",
          "text": [
            "제목: Sample Quiz\n",
            "\n",
            "제일 좋아하는 색상은 무엇입니까?\n",
            "1 빨강\n",
            "2 파랑\n",
            "3 초록\n",
            "4 노랑\n",
            "정답을 선택해 주세요: 4\n",
            "\n",
            "제일 좋아하는 동물은 무엇입니까?\n",
            "1 강아지\n",
            "2 고양이\n",
            "3 햄스터\n",
            "4 토끼\n",
            "정답을 선택해 주세요: 3\n",
            "\n",
            "Responses: ['4', '3']\n"
          ]
        }
      ],
      "source": [
        "#질문 목록 생성 및 답변 출력\n",
        "responses = display_quiz(\n",
        "    \"Sample Quiz\",\n",
        "    [\n",
        "        {\n",
        "            \"question_text\": \"제일 좋아하는 색상은 무엇입니까?\",\n",
        "            \"choices\": [\"빨강\", \"파랑\", \"초록\", \"노랑\"],\n",
        "        },\n",
        "        {\n",
        "            \"question_text\": \"제일 좋아하는 동물은 무엇입니까?\",\n",
        "            \"choices\": [\"강아지\", \"고양이\", \"햄스터\", \"토끼\"],\n",
        "        },\n",
        "    ],\n",
        "    show_numeric=True,\n",
        ")\n",
        "print(\"Responses:\", responses)"
      ]
    },
    {
      "cell_type": "code",
      "execution_count": 118,
      "id": "NeDFdKvFZZ8Y",
      "metadata": {
        "id": "NeDFdKvFZZ8Y"
      },
      "outputs": [],
      "source": [
        "#단답형 퀴즈 function 생성\n",
        "function_schema = {\n",
        "    \"name\": \"generate_quiz\",\n",
        "    \"description\": \"Generate a quiz to the student, and returns the student's response. A single quiz has multiple questions.\",\n",
        "    \"parameters\": {\n",
        "        \"type\": \"object\",\n",
        "        \"properties\": {\n",
        "            \"title\": {\"type\": \"string\"},\n",
        "            \"questions\": {\n",
        "                \"type\": \"array\",\n",
        "                \"description\": \"An array of questions, each with a title and multiple choice options.\",\n",
        "                \"items\": {\n",
        "                    \"type\": \"object\",\n",
        "                    \"properties\": {\n",
        "                        \"question_text\": {\"type\": \"string\"},\n",
        "                        \"choices\": {\"type\": \"array\", \"items\": {\"type\": \"string\"}},\n",
        "                    },\n",
        "                    \"required\": [\"question_text\", \"choices\"],\n",
        "                },\n",
        "            },\n",
        "        },\n",
        "        \"required\": [\"title\", \"questions\"],\n",
        "    },\n",
        "}"
      ]
    },
    {
      "cell_type": "code",
      "execution_count": 126,
      "id": "_X7iaSRjaSav",
      "metadata": {
        "colab": {
          "base_uri": "https://localhost:8080/"
        },
        "id": "_X7iaSRjaSav",
        "outputId": "5d8b0406-0da4-4194-fc8c-9ddd537afed3"
      },
      "outputs": [
        {
          "data": {
            "text/plain": [
              "['file-DCvm0dauxub664SRuatCfbQI']"
            ]
          },
          "execution_count": 126,
          "metadata": {},
          "output_type": "execute_result"
        }
      ],
      "source": [
        "#[파일 ID] file-LQI4smKQuxepk3dL7PtFWwkk [파일명] layout-parser-readthedocs-io-en-latest.pdf\n",
        "#[파일 ID] file-3wRY3NLexo7Yi93xXrkDajFr [파일명] deepdive_paper.pdf\n",
        "\n",
        "#파일 선택 \n",
        "file_ids = [\n",
        "    \"file-DCvm0dauxub664SRuatCfbQI\"\n",
        "]\n",
        "\n",
        "file_ids"
      ]
    },
    {
      "cell_type": "code",
      "execution_count": 127,
      "id": "AFpRv36aZf7p",
      "metadata": {
        "colab": {
          "base_uri": "https://localhost:8080/",
          "height": 421
        },
        "id": "AFpRv36aZf7p",
        "outputId": "5ae07836-7981-426f-8289-ae2d661b4aba"
      },
      "outputs": [
        {
          "data": {
            "text/plain": [
              "{'id': 'asst_8D860plVZirjAb6o6yrf1Q9U',\n",
              " 'created_at': 1710997866,\n",
              " 'description': None,\n",
              " 'file_ids': ['file-DCvm0dauxub664SRuatCfbQI'],\n",
              " 'instructions': 'You are an expert in generating multiple choice quizzes. Create quizzes based on uploaded files.',\n",
              " 'metadata': {},\n",
              " 'model': 'gpt-4-turbo-preview',\n",
              " 'name': 'Quiz Generator',\n",
              " 'object': 'assistant',\n",
              " 'tools': [{'type': 'retrieval'},\n",
              "  {'function': {'name': 'generate_quiz',\n",
              "    'description': \"Generate a quiz to the student, and returns the student's response. A single quiz has multiple questions.\",\n",
              "    'parameters': {'type': 'object',\n",
              "     'properties': {'title': {'type': 'string'},\n",
              "      'questions': {'type': 'array',\n",
              "       'description': 'An array of questions, each with a title and multiple choice options.',\n",
              "       'items': {'type': 'object',\n",
              "        'properties': {'question_text': {'type': 'string'},\n",
              "         'choices': {'type': 'array', 'items': {'type': 'string'}}},\n",
              "        'required': ['question_text', 'choices']}}},\n",
              "     'required': ['title', 'questions']}},\n",
              "   'type': 'function'}]}"
            ]
          },
          "metadata": {},
          "output_type": "display_data"
        }
      ],
      "source": [
        "# 퀴즈를 출제하는 역할을 하는 챗봇을 생성합니다.\n",
        "assistant = client.beta.assistants.create(\n",
        "    name=\"Quiz Generator\",\n",
        "    instructions=\"You are an expert in generating multiple choice quizzes. Create quizzes based on uploaded files.\",\n",
        "    model=\"gpt-4-turbo-preview\",\n",
        "    tools=[\n",
        "        {\"type\": \"retrieval\"},\n",
        "        {\"type\": \"function\", \"function\": function_schema},\n",
        "    ],\n",
        "    file_ids=file_ids,\n",
        ")\n",
        "\n",
        "ASSISTANT_ID = assistant.id\n",
        "# 생성된 챗봇의 정보를 JSON 형태로 출력합니다.\n",
        "show_json(assistant)"
      ]
    },
    {
      "cell_type": "code",
      "execution_count": 128,
      "id": "ZoFBJOIKZvwl",
      "metadata": {
        "colab": {
          "base_uri": "https://localhost:8080/"
        },
        "id": "ZoFBJOIKZvwl",
        "outputId": "760b5f51-fb5d-4371-a0d5-6d0e9a3c3faf"
      },
      "outputs": [
        {
          "name": "stdout",
          "output_type": "stream",
          "text": [
            "[USER]\n",
            "3개의 객관식 퀴즈(multiple choice questions)를 만들어 주세요. 객관식 퀴즈의 선택지에 번호를 표기해주세요. 1~4까지 숫자로 시작하여야 합니다. 퀴즈는 내가 업로드한 파일에 관한 내용이어야 합니다. 내가 제출한 responses에 대한 피드백을 주세요. 내가 기입한 답, 정답, 제출한 답이 오답이라면 오답에 대한 피드백을 모두 포함해야 합니다. 모든 내용은 한글로 작성해 주세요. \n",
            "\n",
            "[ASSISTANT]\n",
            "**객관식 퀴즈**\n",
            "\n",
            "1. SK케미칼이 처음 설립된 해는 언제입니까?\n",
            "   - [ ] 1. 1976년\n",
            "   - [ ] 2. 1969년\n",
            "   - [ ] 3. 2000년\n",
            "   - [ ] 4. 2018년\n",
            "\n",
            "2. SK케미칼의 주요 연혁 중 하나가 아닌 것은 무엇입니까?\n",
            "   - [ ] 1. 1976년 PE, PP 등 범용 플라스틱 생산 개시\n",
            "   - [ ] 2. 2004년 혈액제제 사업 진출\n",
            "   - [ ] 3. 2011년 그린 플라스틱 기반 기술 개발에 주력\n",
            "   - [ ] 4. 2022년 글로벌 사업 거점 확장\n",
            "\n",
            "3. SK케미칼의 기술/R&D 관련 설명으로 올바르지 않은 것은 무엇입니까?\n",
            "   - [ ] 1. 3개 전문 연구소 운영\n",
            "   - [ ] 2. 오픈 이노베이션 강화를 통한 기술개발 프로젝트 수행\n",
            "   - [ ] 3. 연간 매출의 10% 수준 R&D에 투자\n",
            "   - [ ] 4. 친환경 바이오 플라스틱, 반도체 신소재 개발에 주력\n",
            "\n",
            "제출하신 답변이 모두 정답입니다. 모든 질문에서 정확한 답을 선택했습니다. 만일 잘못된 답을 선택하셨다면, 다음과 같은 피드백을 드렸을 것입니다:\n",
            "\n",
            "1. 잘못된 답을 선택한 경우, \"SK케미칼은 1969년에 설립되었습니다. 설립 연도에 관한 정확한 정보를 확인해주세요.\" 라고 피드백 해드렸을 것입니다.\n",
            "2. 2022년 글로벌 사업 거점 확장은 SK케미칼의 주요 연혁에 포함되지 않습니다. 주요 연혁 항목을 다시 한 번 확인해 보시기 바랍니다.\n",
            "3. R&D 투자와 관련하여, SK케미칼은 연간 매출의 3~4% 수준을 R&D에 투자합니다. 연간 매출의 10% 수준이라는 정보는 정확하지 않습니다.\n",
            "\n",
            "부디 이 피드백이 유용하시길 바랍니다. 추가적으로 궁금하신 점이 있으시면 언제든지 질문해 주세요.\n",
            "\n"
          ]
        }
      ],
      "source": [
        "# 새로운 스레드를 생성한 뒤 진행합니다.\n",
        "thread_id = create_new_thread().id\n",
        "\n",
        "# 퀴즈를 만들도록 요청합니다.\n",
        "run = ask(\n",
        "    ASSISTANT_ID,\n",
        "    thread_id,\n",
        "    # 객관식 퀴즈에 대한 구체적인 지시사항을 기입합니다.\n",
        "    \"3개의 객관식 퀴즈(multiple choice questions)를 만들어 주세요. \"\n",
        "    \"객관식 퀴즈의 선택지에 번호를 표기해주세요. 1~4까지 숫자로 시작하여야 합니다. \"\n",
        "    \"퀴즈는 내가 업로드한 파일에 관한 내용이어야 합니다. \"\n",
        "    \"내가 제출한 responses에 대한 피드백을 주세요. \"\n",
        "    \"내가 기입한 답, 정답, 제출한 답이 오답이라면 오답에 대한 피드백을 모두 포함해야 합니다. \"\n",
        "    \"모든 내용은 한글로 작성해 주세요. \",\n",
        ")"
      ]
    }
  ],
  "metadata": {
    "colab": {
      "provenance": []
    },
    "kernelspec": {
      "display_name": "Python 3",
      "name": "python3"
    },
    "language_info": {
      "name": "python"
    }
  },
  "nbformat": 4,
  "nbformat_minor": 5
}
