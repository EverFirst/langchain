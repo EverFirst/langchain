{
  "nbformat": 4,
  "nbformat_minor": 0,
  "metadata": {
    "colab": {
      "provenance": [],
      "collapsed_sections": [
        "_HBhuL23S_YR",
        "digNJMyRtM3k",
        "AK752NU_tHjb",
        "FoTL9eBctWva",
        "zQP9iztA8ApB"
      ],
      "gpuType": "T4",
      "toc_visible": true
    },
    "kernelspec": {
      "name": "python3",
      "display_name": "Python 3"
    },
    "language_info": {
      "name": "python"
    },
    "accelerator": "GPU",
    "widgets": {
      "application/vnd.jupyter.widget-state+json": {
        "da8fdba272bc4769b5434567551cf4f4": {
          "model_module": "@jupyter-widgets/controls",
          "model_name": "HBoxModel",
          "model_module_version": "1.5.0",
          "state": {
            "_dom_classes": [],
            "_model_module": "@jupyter-widgets/controls",
            "_model_module_version": "1.5.0",
            "_model_name": "HBoxModel",
            "_view_count": null,
            "_view_module": "@jupyter-widgets/controls",
            "_view_module_version": "1.5.0",
            "_view_name": "HBoxView",
            "box_style": "",
            "children": [
              "IPY_MODEL_49003ab2ca1a44b1be5fd2d8e7462487",
              "IPY_MODEL_1f2f55423da54c95b9373269dc15f183",
              "IPY_MODEL_349a6c2a9a1c484988179add8fff1be9"
            ],
            "layout": "IPY_MODEL_f1362690a2614f1b81001c8253ddda27"
          }
        },
        "49003ab2ca1a44b1be5fd2d8e7462487": {
          "model_module": "@jupyter-widgets/controls",
          "model_name": "HTMLModel",
          "model_module_version": "1.5.0",
          "state": {
            "_dom_classes": [],
            "_model_module": "@jupyter-widgets/controls",
            "_model_module_version": "1.5.0",
            "_model_name": "HTMLModel",
            "_view_count": null,
            "_view_module": "@jupyter-widgets/controls",
            "_view_module_version": "1.5.0",
            "_view_name": "HTMLView",
            "description": "",
            "description_tooltip": null,
            "layout": "IPY_MODEL_ee0fc52c250044ed93e89193fe729091",
            "placeholder": "​",
            "style": "IPY_MODEL_f3818960189742c79b7a664c3f8ca7f0",
            "value": "modules.json: 100%"
          }
        },
        "1f2f55423da54c95b9373269dc15f183": {
          "model_module": "@jupyter-widgets/controls",
          "model_name": "FloatProgressModel",
          "model_module_version": "1.5.0",
          "state": {
            "_dom_classes": [],
            "_model_module": "@jupyter-widgets/controls",
            "_model_module_version": "1.5.0",
            "_model_name": "FloatProgressModel",
            "_view_count": null,
            "_view_module": "@jupyter-widgets/controls",
            "_view_module_version": "1.5.0",
            "_view_name": "ProgressView",
            "bar_style": "success",
            "description": "",
            "description_tooltip": null,
            "layout": "IPY_MODEL_4fe81f8d5d8f4b099a2dfb5cef74e218",
            "max": 229,
            "min": 0,
            "orientation": "horizontal",
            "style": "IPY_MODEL_0ea61517959744adb98e9fcb5f07ebab",
            "value": 229
          }
        },
        "349a6c2a9a1c484988179add8fff1be9": {
          "model_module": "@jupyter-widgets/controls",
          "model_name": "HTMLModel",
          "model_module_version": "1.5.0",
          "state": {
            "_dom_classes": [],
            "_model_module": "@jupyter-widgets/controls",
            "_model_module_version": "1.5.0",
            "_model_name": "HTMLModel",
            "_view_count": null,
            "_view_module": "@jupyter-widgets/controls",
            "_view_module_version": "1.5.0",
            "_view_name": "HTMLView",
            "description": "",
            "description_tooltip": null,
            "layout": "IPY_MODEL_fc34f373bea84af781615926262ba421",
            "placeholder": "​",
            "style": "IPY_MODEL_535a4e041ea94c12b5a6b735c3e57477",
            "value": " 229/229 [00:00&lt;00:00, 5.44kB/s]"
          }
        },
        "f1362690a2614f1b81001c8253ddda27": {
          "model_module": "@jupyter-widgets/base",
          "model_name": "LayoutModel",
          "model_module_version": "1.2.0",
          "state": {
            "_model_module": "@jupyter-widgets/base",
            "_model_module_version": "1.2.0",
            "_model_name": "LayoutModel",
            "_view_count": null,
            "_view_module": "@jupyter-widgets/base",
            "_view_module_version": "1.2.0",
            "_view_name": "LayoutView",
            "align_content": null,
            "align_items": null,
            "align_self": null,
            "border": null,
            "bottom": null,
            "display": null,
            "flex": null,
            "flex_flow": null,
            "grid_area": null,
            "grid_auto_columns": null,
            "grid_auto_flow": null,
            "grid_auto_rows": null,
            "grid_column": null,
            "grid_gap": null,
            "grid_row": null,
            "grid_template_areas": null,
            "grid_template_columns": null,
            "grid_template_rows": null,
            "height": null,
            "justify_content": null,
            "justify_items": null,
            "left": null,
            "margin": null,
            "max_height": null,
            "max_width": null,
            "min_height": null,
            "min_width": null,
            "object_fit": null,
            "object_position": null,
            "order": null,
            "overflow": null,
            "overflow_x": null,
            "overflow_y": null,
            "padding": null,
            "right": null,
            "top": null,
            "visibility": null,
            "width": null
          }
        },
        "ee0fc52c250044ed93e89193fe729091": {
          "model_module": "@jupyter-widgets/base",
          "model_name": "LayoutModel",
          "model_module_version": "1.2.0",
          "state": {
            "_model_module": "@jupyter-widgets/base",
            "_model_module_version": "1.2.0",
            "_model_name": "LayoutModel",
            "_view_count": null,
            "_view_module": "@jupyter-widgets/base",
            "_view_module_version": "1.2.0",
            "_view_name": "LayoutView",
            "align_content": null,
            "align_items": null,
            "align_self": null,
            "border": null,
            "bottom": null,
            "display": null,
            "flex": null,
            "flex_flow": null,
            "grid_area": null,
            "grid_auto_columns": null,
            "grid_auto_flow": null,
            "grid_auto_rows": null,
            "grid_column": null,
            "grid_gap": null,
            "grid_row": null,
            "grid_template_areas": null,
            "grid_template_columns": null,
            "grid_template_rows": null,
            "height": null,
            "justify_content": null,
            "justify_items": null,
            "left": null,
            "margin": null,
            "max_height": null,
            "max_width": null,
            "min_height": null,
            "min_width": null,
            "object_fit": null,
            "object_position": null,
            "order": null,
            "overflow": null,
            "overflow_x": null,
            "overflow_y": null,
            "padding": null,
            "right": null,
            "top": null,
            "visibility": null,
            "width": null
          }
        },
        "f3818960189742c79b7a664c3f8ca7f0": {
          "model_module": "@jupyter-widgets/controls",
          "model_name": "DescriptionStyleModel",
          "model_module_version": "1.5.0",
          "state": {
            "_model_module": "@jupyter-widgets/controls",
            "_model_module_version": "1.5.0",
            "_model_name": "DescriptionStyleModel",
            "_view_count": null,
            "_view_module": "@jupyter-widgets/base",
            "_view_module_version": "1.2.0",
            "_view_name": "StyleView",
            "description_width": ""
          }
        },
        "4fe81f8d5d8f4b099a2dfb5cef74e218": {
          "model_module": "@jupyter-widgets/base",
          "model_name": "LayoutModel",
          "model_module_version": "1.2.0",
          "state": {
            "_model_module": "@jupyter-widgets/base",
            "_model_module_version": "1.2.0",
            "_model_name": "LayoutModel",
            "_view_count": null,
            "_view_module": "@jupyter-widgets/base",
            "_view_module_version": "1.2.0",
            "_view_name": "LayoutView",
            "align_content": null,
            "align_items": null,
            "align_self": null,
            "border": null,
            "bottom": null,
            "display": null,
            "flex": null,
            "flex_flow": null,
            "grid_area": null,
            "grid_auto_columns": null,
            "grid_auto_flow": null,
            "grid_auto_rows": null,
            "grid_column": null,
            "grid_gap": null,
            "grid_row": null,
            "grid_template_areas": null,
            "grid_template_columns": null,
            "grid_template_rows": null,
            "height": null,
            "justify_content": null,
            "justify_items": null,
            "left": null,
            "margin": null,
            "max_height": null,
            "max_width": null,
            "min_height": null,
            "min_width": null,
            "object_fit": null,
            "object_position": null,
            "order": null,
            "overflow": null,
            "overflow_x": null,
            "overflow_y": null,
            "padding": null,
            "right": null,
            "top": null,
            "visibility": null,
            "width": null
          }
        },
        "0ea61517959744adb98e9fcb5f07ebab": {
          "model_module": "@jupyter-widgets/controls",
          "model_name": "ProgressStyleModel",
          "model_module_version": "1.5.0",
          "state": {
            "_model_module": "@jupyter-widgets/controls",
            "_model_module_version": "1.5.0",
            "_model_name": "ProgressStyleModel",
            "_view_count": null,
            "_view_module": "@jupyter-widgets/base",
            "_view_module_version": "1.2.0",
            "_view_name": "StyleView",
            "bar_color": null,
            "description_width": ""
          }
        },
        "fc34f373bea84af781615926262ba421": {
          "model_module": "@jupyter-widgets/base",
          "model_name": "LayoutModel",
          "model_module_version": "1.2.0",
          "state": {
            "_model_module": "@jupyter-widgets/base",
            "_model_module_version": "1.2.0",
            "_model_name": "LayoutModel",
            "_view_count": null,
            "_view_module": "@jupyter-widgets/base",
            "_view_module_version": "1.2.0",
            "_view_name": "LayoutView",
            "align_content": null,
            "align_items": null,
            "align_self": null,
            "border": null,
            "bottom": null,
            "display": null,
            "flex": null,
            "flex_flow": null,
            "grid_area": null,
            "grid_auto_columns": null,
            "grid_auto_flow": null,
            "grid_auto_rows": null,
            "grid_column": null,
            "grid_gap": null,
            "grid_row": null,
            "grid_template_areas": null,
            "grid_template_columns": null,
            "grid_template_rows": null,
            "height": null,
            "justify_content": null,
            "justify_items": null,
            "left": null,
            "margin": null,
            "max_height": null,
            "max_width": null,
            "min_height": null,
            "min_width": null,
            "object_fit": null,
            "object_position": null,
            "order": null,
            "overflow": null,
            "overflow_x": null,
            "overflow_y": null,
            "padding": null,
            "right": null,
            "top": null,
            "visibility": null,
            "width": null
          }
        },
        "535a4e041ea94c12b5a6b735c3e57477": {
          "model_module": "@jupyter-widgets/controls",
          "model_name": "DescriptionStyleModel",
          "model_module_version": "1.5.0",
          "state": {
            "_model_module": "@jupyter-widgets/controls",
            "_model_module_version": "1.5.0",
            "_model_name": "DescriptionStyleModel",
            "_view_count": null,
            "_view_module": "@jupyter-widgets/base",
            "_view_module_version": "1.2.0",
            "_view_name": "StyleView",
            "description_width": ""
          }
        },
        "163e7289a2a6474f9657669c035c8d0e": {
          "model_module": "@jupyter-widgets/controls",
          "model_name": "HBoxModel",
          "model_module_version": "1.5.0",
          "state": {
            "_dom_classes": [],
            "_model_module": "@jupyter-widgets/controls",
            "_model_module_version": "1.5.0",
            "_model_name": "HBoxModel",
            "_view_count": null,
            "_view_module": "@jupyter-widgets/controls",
            "_view_module_version": "1.5.0",
            "_view_name": "HBoxView",
            "box_style": "",
            "children": [
              "IPY_MODEL_0ca7f7f9b3fc486ba36ba334dea0b0ab",
              "IPY_MODEL_e9c85251a61e4a1d84d755298be9032c",
              "IPY_MODEL_5145a8d80594401f9984c7e1fe9e6d1f"
            ],
            "layout": "IPY_MODEL_4aa89251ca024423a122ba621f7fa353"
          }
        },
        "0ca7f7f9b3fc486ba36ba334dea0b0ab": {
          "model_module": "@jupyter-widgets/controls",
          "model_name": "HTMLModel",
          "model_module_version": "1.5.0",
          "state": {
            "_dom_classes": [],
            "_model_module": "@jupyter-widgets/controls",
            "_model_module_version": "1.5.0",
            "_model_name": "HTMLModel",
            "_view_count": null,
            "_view_module": "@jupyter-widgets/controls",
            "_view_module_version": "1.5.0",
            "_view_name": "HTMLView",
            "description": "",
            "description_tooltip": null,
            "layout": "IPY_MODEL_0deec253663d47d7b4ba118303d79af3",
            "placeholder": "​",
            "style": "IPY_MODEL_c2984090d7df44b6abd0adc17d932da1",
            "value": "config_sentence_transformers.json: 100%"
          }
        },
        "e9c85251a61e4a1d84d755298be9032c": {
          "model_module": "@jupyter-widgets/controls",
          "model_name": "FloatProgressModel",
          "model_module_version": "1.5.0",
          "state": {
            "_dom_classes": [],
            "_model_module": "@jupyter-widgets/controls",
            "_model_module_version": "1.5.0",
            "_model_name": "FloatProgressModel",
            "_view_count": null,
            "_view_module": "@jupyter-widgets/controls",
            "_view_module_version": "1.5.0",
            "_view_name": "ProgressView",
            "bar_style": "success",
            "description": "",
            "description_tooltip": null,
            "layout": "IPY_MODEL_97330e3214c34fd5a19f3556aa0fa47e",
            "max": 123,
            "min": 0,
            "orientation": "horizontal",
            "style": "IPY_MODEL_7a3bb533be3a4307b1f6ad3cb0d34452",
            "value": 123
          }
        },
        "5145a8d80594401f9984c7e1fe9e6d1f": {
          "model_module": "@jupyter-widgets/controls",
          "model_name": "HTMLModel",
          "model_module_version": "1.5.0",
          "state": {
            "_dom_classes": [],
            "_model_module": "@jupyter-widgets/controls",
            "_model_module_version": "1.5.0",
            "_model_name": "HTMLModel",
            "_view_count": null,
            "_view_module": "@jupyter-widgets/controls",
            "_view_module_version": "1.5.0",
            "_view_name": "HTMLView",
            "description": "",
            "description_tooltip": null,
            "layout": "IPY_MODEL_cda26f958db14cf6940be03fe83e9909",
            "placeholder": "​",
            "style": "IPY_MODEL_ddfed887cc544499aef51f33f25799bc",
            "value": " 123/123 [00:00&lt;00:00, 6.93kB/s]"
          }
        },
        "4aa89251ca024423a122ba621f7fa353": {
          "model_module": "@jupyter-widgets/base",
          "model_name": "LayoutModel",
          "model_module_version": "1.2.0",
          "state": {
            "_model_module": "@jupyter-widgets/base",
            "_model_module_version": "1.2.0",
            "_model_name": "LayoutModel",
            "_view_count": null,
            "_view_module": "@jupyter-widgets/base",
            "_view_module_version": "1.2.0",
            "_view_name": "LayoutView",
            "align_content": null,
            "align_items": null,
            "align_self": null,
            "border": null,
            "bottom": null,
            "display": null,
            "flex": null,
            "flex_flow": null,
            "grid_area": null,
            "grid_auto_columns": null,
            "grid_auto_flow": null,
            "grid_auto_rows": null,
            "grid_column": null,
            "grid_gap": null,
            "grid_row": null,
            "grid_template_areas": null,
            "grid_template_columns": null,
            "grid_template_rows": null,
            "height": null,
            "justify_content": null,
            "justify_items": null,
            "left": null,
            "margin": null,
            "max_height": null,
            "max_width": null,
            "min_height": null,
            "min_width": null,
            "object_fit": null,
            "object_position": null,
            "order": null,
            "overflow": null,
            "overflow_x": null,
            "overflow_y": null,
            "padding": null,
            "right": null,
            "top": null,
            "visibility": null,
            "width": null
          }
        },
        "0deec253663d47d7b4ba118303d79af3": {
          "model_module": "@jupyter-widgets/base",
          "model_name": "LayoutModel",
          "model_module_version": "1.2.0",
          "state": {
            "_model_module": "@jupyter-widgets/base",
            "_model_module_version": "1.2.0",
            "_model_name": "LayoutModel",
            "_view_count": null,
            "_view_module": "@jupyter-widgets/base",
            "_view_module_version": "1.2.0",
            "_view_name": "LayoutView",
            "align_content": null,
            "align_items": null,
            "align_self": null,
            "border": null,
            "bottom": null,
            "display": null,
            "flex": null,
            "flex_flow": null,
            "grid_area": null,
            "grid_auto_columns": null,
            "grid_auto_flow": null,
            "grid_auto_rows": null,
            "grid_column": null,
            "grid_gap": null,
            "grid_row": null,
            "grid_template_areas": null,
            "grid_template_columns": null,
            "grid_template_rows": null,
            "height": null,
            "justify_content": null,
            "justify_items": null,
            "left": null,
            "margin": null,
            "max_height": null,
            "max_width": null,
            "min_height": null,
            "min_width": null,
            "object_fit": null,
            "object_position": null,
            "order": null,
            "overflow": null,
            "overflow_x": null,
            "overflow_y": null,
            "padding": null,
            "right": null,
            "top": null,
            "visibility": null,
            "width": null
          }
        },
        "c2984090d7df44b6abd0adc17d932da1": {
          "model_module": "@jupyter-widgets/controls",
          "model_name": "DescriptionStyleModel",
          "model_module_version": "1.5.0",
          "state": {
            "_model_module": "@jupyter-widgets/controls",
            "_model_module_version": "1.5.0",
            "_model_name": "DescriptionStyleModel",
            "_view_count": null,
            "_view_module": "@jupyter-widgets/base",
            "_view_module_version": "1.2.0",
            "_view_name": "StyleView",
            "description_width": ""
          }
        },
        "97330e3214c34fd5a19f3556aa0fa47e": {
          "model_module": "@jupyter-widgets/base",
          "model_name": "LayoutModel",
          "model_module_version": "1.2.0",
          "state": {
            "_model_module": "@jupyter-widgets/base",
            "_model_module_version": "1.2.0",
            "_model_name": "LayoutModel",
            "_view_count": null,
            "_view_module": "@jupyter-widgets/base",
            "_view_module_version": "1.2.0",
            "_view_name": "LayoutView",
            "align_content": null,
            "align_items": null,
            "align_self": null,
            "border": null,
            "bottom": null,
            "display": null,
            "flex": null,
            "flex_flow": null,
            "grid_area": null,
            "grid_auto_columns": null,
            "grid_auto_flow": null,
            "grid_auto_rows": null,
            "grid_column": null,
            "grid_gap": null,
            "grid_row": null,
            "grid_template_areas": null,
            "grid_template_columns": null,
            "grid_template_rows": null,
            "height": null,
            "justify_content": null,
            "justify_items": null,
            "left": null,
            "margin": null,
            "max_height": null,
            "max_width": null,
            "min_height": null,
            "min_width": null,
            "object_fit": null,
            "object_position": null,
            "order": null,
            "overflow": null,
            "overflow_x": null,
            "overflow_y": null,
            "padding": null,
            "right": null,
            "top": null,
            "visibility": null,
            "width": null
          }
        },
        "7a3bb533be3a4307b1f6ad3cb0d34452": {
          "model_module": "@jupyter-widgets/controls",
          "model_name": "ProgressStyleModel",
          "model_module_version": "1.5.0",
          "state": {
            "_model_module": "@jupyter-widgets/controls",
            "_model_module_version": "1.5.0",
            "_model_name": "ProgressStyleModel",
            "_view_count": null,
            "_view_module": "@jupyter-widgets/base",
            "_view_module_version": "1.2.0",
            "_view_name": "StyleView",
            "bar_color": null,
            "description_width": ""
          }
        },
        "cda26f958db14cf6940be03fe83e9909": {
          "model_module": "@jupyter-widgets/base",
          "model_name": "LayoutModel",
          "model_module_version": "1.2.0",
          "state": {
            "_model_module": "@jupyter-widgets/base",
            "_model_module_version": "1.2.0",
            "_model_name": "LayoutModel",
            "_view_count": null,
            "_view_module": "@jupyter-widgets/base",
            "_view_module_version": "1.2.0",
            "_view_name": "LayoutView",
            "align_content": null,
            "align_items": null,
            "align_self": null,
            "border": null,
            "bottom": null,
            "display": null,
            "flex": null,
            "flex_flow": null,
            "grid_area": null,
            "grid_auto_columns": null,
            "grid_auto_flow": null,
            "grid_auto_rows": null,
            "grid_column": null,
            "grid_gap": null,
            "grid_row": null,
            "grid_template_areas": null,
            "grid_template_columns": null,
            "grid_template_rows": null,
            "height": null,
            "justify_content": null,
            "justify_items": null,
            "left": null,
            "margin": null,
            "max_height": null,
            "max_width": null,
            "min_height": null,
            "min_width": null,
            "object_fit": null,
            "object_position": null,
            "order": null,
            "overflow": null,
            "overflow_x": null,
            "overflow_y": null,
            "padding": null,
            "right": null,
            "top": null,
            "visibility": null,
            "width": null
          }
        },
        "ddfed887cc544499aef51f33f25799bc": {
          "model_module": "@jupyter-widgets/controls",
          "model_name": "DescriptionStyleModel",
          "model_module_version": "1.5.0",
          "state": {
            "_model_module": "@jupyter-widgets/controls",
            "_model_module_version": "1.5.0",
            "_model_name": "DescriptionStyleModel",
            "_view_count": null,
            "_view_module": "@jupyter-widgets/base",
            "_view_module_version": "1.2.0",
            "_view_name": "StyleView",
            "description_width": ""
          }
        },
        "2b1a688804f248079a3c8cb2ff220b93": {
          "model_module": "@jupyter-widgets/controls",
          "model_name": "HBoxModel",
          "model_module_version": "1.5.0",
          "state": {
            "_dom_classes": [],
            "_model_module": "@jupyter-widgets/controls",
            "_model_module_version": "1.5.0",
            "_model_name": "HBoxModel",
            "_view_count": null,
            "_view_module": "@jupyter-widgets/controls",
            "_view_module_version": "1.5.0",
            "_view_name": "HBoxView",
            "box_style": "",
            "children": [
              "IPY_MODEL_9c1688b35c63401290d79c629e7c6d3d",
              "IPY_MODEL_0efb039ce16c4b429d9073b3ee9ea7b4",
              "IPY_MODEL_b3e828bb7a9849d5bce89bf3b5557df0"
            ],
            "layout": "IPY_MODEL_4027f96fb1e04f63aa61e25734422f99"
          }
        },
        "9c1688b35c63401290d79c629e7c6d3d": {
          "model_module": "@jupyter-widgets/controls",
          "model_name": "HTMLModel",
          "model_module_version": "1.5.0",
          "state": {
            "_dom_classes": [],
            "_model_module": "@jupyter-widgets/controls",
            "_model_module_version": "1.5.0",
            "_model_name": "HTMLModel",
            "_view_count": null,
            "_view_module": "@jupyter-widgets/controls",
            "_view_module_version": "1.5.0",
            "_view_name": "HTMLView",
            "description": "",
            "description_tooltip": null,
            "layout": "IPY_MODEL_bf8f95a0b17842ca8d0d95e695a46eb7",
            "placeholder": "​",
            "style": "IPY_MODEL_2431cfaae5af427e9fa8a3f49d739d51",
            "value": "README.md: 100%"
          }
        },
        "0efb039ce16c4b429d9073b3ee9ea7b4": {
          "model_module": "@jupyter-widgets/controls",
          "model_name": "FloatProgressModel",
          "model_module_version": "1.5.0",
          "state": {
            "_dom_classes": [],
            "_model_module": "@jupyter-widgets/controls",
            "_model_module_version": "1.5.0",
            "_model_name": "FloatProgressModel",
            "_view_count": null,
            "_view_module": "@jupyter-widgets/controls",
            "_view_module_version": "1.5.0",
            "_view_name": "ProgressView",
            "bar_style": "success",
            "description": "",
            "description_tooltip": null,
            "layout": "IPY_MODEL_d5bd1147eac14a43af157eba9cf69d91",
            "max": 4457,
            "min": 0,
            "orientation": "horizontal",
            "style": "IPY_MODEL_3f07feb4160847d7ae581de04da3c51b",
            "value": 4457
          }
        },
        "b3e828bb7a9849d5bce89bf3b5557df0": {
          "model_module": "@jupyter-widgets/controls",
          "model_name": "HTMLModel",
          "model_module_version": "1.5.0",
          "state": {
            "_dom_classes": [],
            "_model_module": "@jupyter-widgets/controls",
            "_model_module_version": "1.5.0",
            "_model_name": "HTMLModel",
            "_view_count": null,
            "_view_module": "@jupyter-widgets/controls",
            "_view_module_version": "1.5.0",
            "_view_name": "HTMLView",
            "description": "",
            "description_tooltip": null,
            "layout": "IPY_MODEL_2e55e65f757140309f60923fd429992f",
            "placeholder": "​",
            "style": "IPY_MODEL_4383b6f3015b45dba36db528e4a3e221",
            "value": " 4.46k/4.46k [00:00&lt;00:00, 177kB/s]"
          }
        },
        "4027f96fb1e04f63aa61e25734422f99": {
          "model_module": "@jupyter-widgets/base",
          "model_name": "LayoutModel",
          "model_module_version": "1.2.0",
          "state": {
            "_model_module": "@jupyter-widgets/base",
            "_model_module_version": "1.2.0",
            "_model_name": "LayoutModel",
            "_view_count": null,
            "_view_module": "@jupyter-widgets/base",
            "_view_module_version": "1.2.0",
            "_view_name": "LayoutView",
            "align_content": null,
            "align_items": null,
            "align_self": null,
            "border": null,
            "bottom": null,
            "display": null,
            "flex": null,
            "flex_flow": null,
            "grid_area": null,
            "grid_auto_columns": null,
            "grid_auto_flow": null,
            "grid_auto_rows": null,
            "grid_column": null,
            "grid_gap": null,
            "grid_row": null,
            "grid_template_areas": null,
            "grid_template_columns": null,
            "grid_template_rows": null,
            "height": null,
            "justify_content": null,
            "justify_items": null,
            "left": null,
            "margin": null,
            "max_height": null,
            "max_width": null,
            "min_height": null,
            "min_width": null,
            "object_fit": null,
            "object_position": null,
            "order": null,
            "overflow": null,
            "overflow_x": null,
            "overflow_y": null,
            "padding": null,
            "right": null,
            "top": null,
            "visibility": null,
            "width": null
          }
        },
        "bf8f95a0b17842ca8d0d95e695a46eb7": {
          "model_module": "@jupyter-widgets/base",
          "model_name": "LayoutModel",
          "model_module_version": "1.2.0",
          "state": {
            "_model_module": "@jupyter-widgets/base",
            "_model_module_version": "1.2.0",
            "_model_name": "LayoutModel",
            "_view_count": null,
            "_view_module": "@jupyter-widgets/base",
            "_view_module_version": "1.2.0",
            "_view_name": "LayoutView",
            "align_content": null,
            "align_items": null,
            "align_self": null,
            "border": null,
            "bottom": null,
            "display": null,
            "flex": null,
            "flex_flow": null,
            "grid_area": null,
            "grid_auto_columns": null,
            "grid_auto_flow": null,
            "grid_auto_rows": null,
            "grid_column": null,
            "grid_gap": null,
            "grid_row": null,
            "grid_template_areas": null,
            "grid_template_columns": null,
            "grid_template_rows": null,
            "height": null,
            "justify_content": null,
            "justify_items": null,
            "left": null,
            "margin": null,
            "max_height": null,
            "max_width": null,
            "min_height": null,
            "min_width": null,
            "object_fit": null,
            "object_position": null,
            "order": null,
            "overflow": null,
            "overflow_x": null,
            "overflow_y": null,
            "padding": null,
            "right": null,
            "top": null,
            "visibility": null,
            "width": null
          }
        },
        "2431cfaae5af427e9fa8a3f49d739d51": {
          "model_module": "@jupyter-widgets/controls",
          "model_name": "DescriptionStyleModel",
          "model_module_version": "1.5.0",
          "state": {
            "_model_module": "@jupyter-widgets/controls",
            "_model_module_version": "1.5.0",
            "_model_name": "DescriptionStyleModel",
            "_view_count": null,
            "_view_module": "@jupyter-widgets/base",
            "_view_module_version": "1.2.0",
            "_view_name": "StyleView",
            "description_width": ""
          }
        },
        "d5bd1147eac14a43af157eba9cf69d91": {
          "model_module": "@jupyter-widgets/base",
          "model_name": "LayoutModel",
          "model_module_version": "1.2.0",
          "state": {
            "_model_module": "@jupyter-widgets/base",
            "_model_module_version": "1.2.0",
            "_model_name": "LayoutModel",
            "_view_count": null,
            "_view_module": "@jupyter-widgets/base",
            "_view_module_version": "1.2.0",
            "_view_name": "LayoutView",
            "align_content": null,
            "align_items": null,
            "align_self": null,
            "border": null,
            "bottom": null,
            "display": null,
            "flex": null,
            "flex_flow": null,
            "grid_area": null,
            "grid_auto_columns": null,
            "grid_auto_flow": null,
            "grid_auto_rows": null,
            "grid_column": null,
            "grid_gap": null,
            "grid_row": null,
            "grid_template_areas": null,
            "grid_template_columns": null,
            "grid_template_rows": null,
            "height": null,
            "justify_content": null,
            "justify_items": null,
            "left": null,
            "margin": null,
            "max_height": null,
            "max_width": null,
            "min_height": null,
            "min_width": null,
            "object_fit": null,
            "object_position": null,
            "order": null,
            "overflow": null,
            "overflow_x": null,
            "overflow_y": null,
            "padding": null,
            "right": null,
            "top": null,
            "visibility": null,
            "width": null
          }
        },
        "3f07feb4160847d7ae581de04da3c51b": {
          "model_module": "@jupyter-widgets/controls",
          "model_name": "ProgressStyleModel",
          "model_module_version": "1.5.0",
          "state": {
            "_model_module": "@jupyter-widgets/controls",
            "_model_module_version": "1.5.0",
            "_model_name": "ProgressStyleModel",
            "_view_count": null,
            "_view_module": "@jupyter-widgets/base",
            "_view_module_version": "1.2.0",
            "_view_name": "StyleView",
            "bar_color": null,
            "description_width": ""
          }
        },
        "2e55e65f757140309f60923fd429992f": {
          "model_module": "@jupyter-widgets/base",
          "model_name": "LayoutModel",
          "model_module_version": "1.2.0",
          "state": {
            "_model_module": "@jupyter-widgets/base",
            "_model_module_version": "1.2.0",
            "_model_name": "LayoutModel",
            "_view_count": null,
            "_view_module": "@jupyter-widgets/base",
            "_view_module_version": "1.2.0",
            "_view_name": "LayoutView",
            "align_content": null,
            "align_items": null,
            "align_self": null,
            "border": null,
            "bottom": null,
            "display": null,
            "flex": null,
            "flex_flow": null,
            "grid_area": null,
            "grid_auto_columns": null,
            "grid_auto_flow": null,
            "grid_auto_rows": null,
            "grid_column": null,
            "grid_gap": null,
            "grid_row": null,
            "grid_template_areas": null,
            "grid_template_columns": null,
            "grid_template_rows": null,
            "height": null,
            "justify_content": null,
            "justify_items": null,
            "left": null,
            "margin": null,
            "max_height": null,
            "max_width": null,
            "min_height": null,
            "min_width": null,
            "object_fit": null,
            "object_position": null,
            "order": null,
            "overflow": null,
            "overflow_x": null,
            "overflow_y": null,
            "padding": null,
            "right": null,
            "top": null,
            "visibility": null,
            "width": null
          }
        },
        "4383b6f3015b45dba36db528e4a3e221": {
          "model_module": "@jupyter-widgets/controls",
          "model_name": "DescriptionStyleModel",
          "model_module_version": "1.5.0",
          "state": {
            "_model_module": "@jupyter-widgets/controls",
            "_model_module_version": "1.5.0",
            "_model_name": "DescriptionStyleModel",
            "_view_count": null,
            "_view_module": "@jupyter-widgets/base",
            "_view_module_version": "1.2.0",
            "_view_name": "StyleView",
            "description_width": ""
          }
        },
        "427644b8c3c74c9987e3619fd70e4ac1": {
          "model_module": "@jupyter-widgets/controls",
          "model_name": "HBoxModel",
          "model_module_version": "1.5.0",
          "state": {
            "_dom_classes": [],
            "_model_module": "@jupyter-widgets/controls",
            "_model_module_version": "1.5.0",
            "_model_name": "HBoxModel",
            "_view_count": null,
            "_view_module": "@jupyter-widgets/controls",
            "_view_module_version": "1.5.0",
            "_view_name": "HBoxView",
            "box_style": "",
            "children": [
              "IPY_MODEL_295e35cf196f41aab63b251aaaaf2e0c",
              "IPY_MODEL_697a5c1f812f4c138f313482d44afc1e",
              "IPY_MODEL_b6f75e56a90649cfa8f48e865dfb8545"
            ],
            "layout": "IPY_MODEL_2c21174484634c0a846064d160d93a76"
          }
        },
        "295e35cf196f41aab63b251aaaaf2e0c": {
          "model_module": "@jupyter-widgets/controls",
          "model_name": "HTMLModel",
          "model_module_version": "1.5.0",
          "state": {
            "_dom_classes": [],
            "_model_module": "@jupyter-widgets/controls",
            "_model_module_version": "1.5.0",
            "_model_name": "HTMLModel",
            "_view_count": null,
            "_view_module": "@jupyter-widgets/controls",
            "_view_module_version": "1.5.0",
            "_view_name": "HTMLView",
            "description": "",
            "description_tooltip": null,
            "layout": "IPY_MODEL_5d51fc500a6845729d7edfee62570c0c",
            "placeholder": "​",
            "style": "IPY_MODEL_a09de69bcf0f4937b22d33f5c304ebd2",
            "value": "sentence_bert_config.json: 100%"
          }
        },
        "697a5c1f812f4c138f313482d44afc1e": {
          "model_module": "@jupyter-widgets/controls",
          "model_name": "FloatProgressModel",
          "model_module_version": "1.5.0",
          "state": {
            "_dom_classes": [],
            "_model_module": "@jupyter-widgets/controls",
            "_model_module_version": "1.5.0",
            "_model_name": "FloatProgressModel",
            "_view_count": null,
            "_view_module": "@jupyter-widgets/controls",
            "_view_module_version": "1.5.0",
            "_view_name": "ProgressView",
            "bar_style": "success",
            "description": "",
            "description_tooltip": null,
            "layout": "IPY_MODEL_3ad216e4e3ce410eaa89b30e263dcba3",
            "max": 53,
            "min": 0,
            "orientation": "horizontal",
            "style": "IPY_MODEL_f1922cacfe954b399ccaf3abf44b71e5",
            "value": 53
          }
        },
        "b6f75e56a90649cfa8f48e865dfb8545": {
          "model_module": "@jupyter-widgets/controls",
          "model_name": "HTMLModel",
          "model_module_version": "1.5.0",
          "state": {
            "_dom_classes": [],
            "_model_module": "@jupyter-widgets/controls",
            "_model_module_version": "1.5.0",
            "_model_name": "HTMLModel",
            "_view_count": null,
            "_view_module": "@jupyter-widgets/controls",
            "_view_module_version": "1.5.0",
            "_view_name": "HTMLView",
            "description": "",
            "description_tooltip": null,
            "layout": "IPY_MODEL_2616a1ef2663447ebb5065759d09c268",
            "placeholder": "​",
            "style": "IPY_MODEL_58239cf2f98644d0b1ab3e81a2449731",
            "value": " 53.0/53.0 [00:00&lt;00:00, 3.09kB/s]"
          }
        },
        "2c21174484634c0a846064d160d93a76": {
          "model_module": "@jupyter-widgets/base",
          "model_name": "LayoutModel",
          "model_module_version": "1.2.0",
          "state": {
            "_model_module": "@jupyter-widgets/base",
            "_model_module_version": "1.2.0",
            "_model_name": "LayoutModel",
            "_view_count": null,
            "_view_module": "@jupyter-widgets/base",
            "_view_module_version": "1.2.0",
            "_view_name": "LayoutView",
            "align_content": null,
            "align_items": null,
            "align_self": null,
            "border": null,
            "bottom": null,
            "display": null,
            "flex": null,
            "flex_flow": null,
            "grid_area": null,
            "grid_auto_columns": null,
            "grid_auto_flow": null,
            "grid_auto_rows": null,
            "grid_column": null,
            "grid_gap": null,
            "grid_row": null,
            "grid_template_areas": null,
            "grid_template_columns": null,
            "grid_template_rows": null,
            "height": null,
            "justify_content": null,
            "justify_items": null,
            "left": null,
            "margin": null,
            "max_height": null,
            "max_width": null,
            "min_height": null,
            "min_width": null,
            "object_fit": null,
            "object_position": null,
            "order": null,
            "overflow": null,
            "overflow_x": null,
            "overflow_y": null,
            "padding": null,
            "right": null,
            "top": null,
            "visibility": null,
            "width": null
          }
        },
        "5d51fc500a6845729d7edfee62570c0c": {
          "model_module": "@jupyter-widgets/base",
          "model_name": "LayoutModel",
          "model_module_version": "1.2.0",
          "state": {
            "_model_module": "@jupyter-widgets/base",
            "_model_module_version": "1.2.0",
            "_model_name": "LayoutModel",
            "_view_count": null,
            "_view_module": "@jupyter-widgets/base",
            "_view_module_version": "1.2.0",
            "_view_name": "LayoutView",
            "align_content": null,
            "align_items": null,
            "align_self": null,
            "border": null,
            "bottom": null,
            "display": null,
            "flex": null,
            "flex_flow": null,
            "grid_area": null,
            "grid_auto_columns": null,
            "grid_auto_flow": null,
            "grid_auto_rows": null,
            "grid_column": null,
            "grid_gap": null,
            "grid_row": null,
            "grid_template_areas": null,
            "grid_template_columns": null,
            "grid_template_rows": null,
            "height": null,
            "justify_content": null,
            "justify_items": null,
            "left": null,
            "margin": null,
            "max_height": null,
            "max_width": null,
            "min_height": null,
            "min_width": null,
            "object_fit": null,
            "object_position": null,
            "order": null,
            "overflow": null,
            "overflow_x": null,
            "overflow_y": null,
            "padding": null,
            "right": null,
            "top": null,
            "visibility": null,
            "width": null
          }
        },
        "a09de69bcf0f4937b22d33f5c304ebd2": {
          "model_module": "@jupyter-widgets/controls",
          "model_name": "DescriptionStyleModel",
          "model_module_version": "1.5.0",
          "state": {
            "_model_module": "@jupyter-widgets/controls",
            "_model_module_version": "1.5.0",
            "_model_name": "DescriptionStyleModel",
            "_view_count": null,
            "_view_module": "@jupyter-widgets/base",
            "_view_module_version": "1.2.0",
            "_view_name": "StyleView",
            "description_width": ""
          }
        },
        "3ad216e4e3ce410eaa89b30e263dcba3": {
          "model_module": "@jupyter-widgets/base",
          "model_name": "LayoutModel",
          "model_module_version": "1.2.0",
          "state": {
            "_model_module": "@jupyter-widgets/base",
            "_model_module_version": "1.2.0",
            "_model_name": "LayoutModel",
            "_view_count": null,
            "_view_module": "@jupyter-widgets/base",
            "_view_module_version": "1.2.0",
            "_view_name": "LayoutView",
            "align_content": null,
            "align_items": null,
            "align_self": null,
            "border": null,
            "bottom": null,
            "display": null,
            "flex": null,
            "flex_flow": null,
            "grid_area": null,
            "grid_auto_columns": null,
            "grid_auto_flow": null,
            "grid_auto_rows": null,
            "grid_column": null,
            "grid_gap": null,
            "grid_row": null,
            "grid_template_areas": null,
            "grid_template_columns": null,
            "grid_template_rows": null,
            "height": null,
            "justify_content": null,
            "justify_items": null,
            "left": null,
            "margin": null,
            "max_height": null,
            "max_width": null,
            "min_height": null,
            "min_width": null,
            "object_fit": null,
            "object_position": null,
            "order": null,
            "overflow": null,
            "overflow_x": null,
            "overflow_y": null,
            "padding": null,
            "right": null,
            "top": null,
            "visibility": null,
            "width": null
          }
        },
        "f1922cacfe954b399ccaf3abf44b71e5": {
          "model_module": "@jupyter-widgets/controls",
          "model_name": "ProgressStyleModel",
          "model_module_version": "1.5.0",
          "state": {
            "_model_module": "@jupyter-widgets/controls",
            "_model_module_version": "1.5.0",
            "_model_name": "ProgressStyleModel",
            "_view_count": null,
            "_view_module": "@jupyter-widgets/base",
            "_view_module_version": "1.2.0",
            "_view_name": "StyleView",
            "bar_color": null,
            "description_width": ""
          }
        },
        "2616a1ef2663447ebb5065759d09c268": {
          "model_module": "@jupyter-widgets/base",
          "model_name": "LayoutModel",
          "model_module_version": "1.2.0",
          "state": {
            "_model_module": "@jupyter-widgets/base",
            "_model_module_version": "1.2.0",
            "_model_name": "LayoutModel",
            "_view_count": null,
            "_view_module": "@jupyter-widgets/base",
            "_view_module_version": "1.2.0",
            "_view_name": "LayoutView",
            "align_content": null,
            "align_items": null,
            "align_self": null,
            "border": null,
            "bottom": null,
            "display": null,
            "flex": null,
            "flex_flow": null,
            "grid_area": null,
            "grid_auto_columns": null,
            "grid_auto_flow": null,
            "grid_auto_rows": null,
            "grid_column": null,
            "grid_gap": null,
            "grid_row": null,
            "grid_template_areas": null,
            "grid_template_columns": null,
            "grid_template_rows": null,
            "height": null,
            "justify_content": null,
            "justify_items": null,
            "left": null,
            "margin": null,
            "max_height": null,
            "max_width": null,
            "min_height": null,
            "min_width": null,
            "object_fit": null,
            "object_position": null,
            "order": null,
            "overflow": null,
            "overflow_x": null,
            "overflow_y": null,
            "padding": null,
            "right": null,
            "top": null,
            "visibility": null,
            "width": null
          }
        },
        "58239cf2f98644d0b1ab3e81a2449731": {
          "model_module": "@jupyter-widgets/controls",
          "model_name": "DescriptionStyleModel",
          "model_module_version": "1.5.0",
          "state": {
            "_model_module": "@jupyter-widgets/controls",
            "_model_module_version": "1.5.0",
            "_model_name": "DescriptionStyleModel",
            "_view_count": null,
            "_view_module": "@jupyter-widgets/base",
            "_view_module_version": "1.2.0",
            "_view_name": "StyleView",
            "description_width": ""
          }
        },
        "df094541177b496e962d06cf49a7b173": {
          "model_module": "@jupyter-widgets/controls",
          "model_name": "HBoxModel",
          "model_module_version": "1.5.0",
          "state": {
            "_dom_classes": [],
            "_model_module": "@jupyter-widgets/controls",
            "_model_module_version": "1.5.0",
            "_model_name": "HBoxModel",
            "_view_count": null,
            "_view_module": "@jupyter-widgets/controls",
            "_view_module_version": "1.5.0",
            "_view_name": "HBoxView",
            "box_style": "",
            "children": [
              "IPY_MODEL_4e110242eb1f4b5f9d4acd5443773221",
              "IPY_MODEL_a0d737282de94e2a8080bdd7bf30eb1d",
              "IPY_MODEL_747c1172a1e84f6a82905e931fdaf9dc"
            ],
            "layout": "IPY_MODEL_a9e3f2fc3e5642b3ac69405e84328ea3"
          }
        },
        "4e110242eb1f4b5f9d4acd5443773221": {
          "model_module": "@jupyter-widgets/controls",
          "model_name": "HTMLModel",
          "model_module_version": "1.5.0",
          "state": {
            "_dom_classes": [],
            "_model_module": "@jupyter-widgets/controls",
            "_model_module_version": "1.5.0",
            "_model_name": "HTMLModel",
            "_view_count": null,
            "_view_module": "@jupyter-widgets/controls",
            "_view_module_version": "1.5.0",
            "_view_name": "HTMLView",
            "description": "",
            "description_tooltip": null,
            "layout": "IPY_MODEL_9cbc9da570fd4e4596470ada9943f135",
            "placeholder": "​",
            "style": "IPY_MODEL_ab48e97f498d4b1087be6129aa4a8423",
            "value": "config.json: 100%"
          }
        },
        "a0d737282de94e2a8080bdd7bf30eb1d": {
          "model_module": "@jupyter-widgets/controls",
          "model_name": "FloatProgressModel",
          "model_module_version": "1.5.0",
          "state": {
            "_dom_classes": [],
            "_model_module": "@jupyter-widgets/controls",
            "_model_module_version": "1.5.0",
            "_model_name": "FloatProgressModel",
            "_view_count": null,
            "_view_module": "@jupyter-widgets/controls",
            "_view_module_version": "1.5.0",
            "_view_name": "ProgressView",
            "bar_style": "success",
            "description": "",
            "description_tooltip": null,
            "layout": "IPY_MODEL_ad17665a27a14516961ef09559f4e4f8",
            "max": 620,
            "min": 0,
            "orientation": "horizontal",
            "style": "IPY_MODEL_a50f691b9bf34d6b9f74414c8b3847e3",
            "value": 620
          }
        },
        "747c1172a1e84f6a82905e931fdaf9dc": {
          "model_module": "@jupyter-widgets/controls",
          "model_name": "HTMLModel",
          "model_module_version": "1.5.0",
          "state": {
            "_dom_classes": [],
            "_model_module": "@jupyter-widgets/controls",
            "_model_module_version": "1.5.0",
            "_model_name": "HTMLModel",
            "_view_count": null,
            "_view_module": "@jupyter-widgets/controls",
            "_view_module_version": "1.5.0",
            "_view_name": "HTMLView",
            "description": "",
            "description_tooltip": null,
            "layout": "IPY_MODEL_c34f4f8145ba4d469c4266fdc3d67f0d",
            "placeholder": "​",
            "style": "IPY_MODEL_605ea98a90bc4afc851dc2ed92d351f2",
            "value": " 620/620 [00:00&lt;00:00, 32.2kB/s]"
          }
        },
        "a9e3f2fc3e5642b3ac69405e84328ea3": {
          "model_module": "@jupyter-widgets/base",
          "model_name": "LayoutModel",
          "model_module_version": "1.2.0",
          "state": {
            "_model_module": "@jupyter-widgets/base",
            "_model_module_version": "1.2.0",
            "_model_name": "LayoutModel",
            "_view_count": null,
            "_view_module": "@jupyter-widgets/base",
            "_view_module_version": "1.2.0",
            "_view_name": "LayoutView",
            "align_content": null,
            "align_items": null,
            "align_self": null,
            "border": null,
            "bottom": null,
            "display": null,
            "flex": null,
            "flex_flow": null,
            "grid_area": null,
            "grid_auto_columns": null,
            "grid_auto_flow": null,
            "grid_auto_rows": null,
            "grid_column": null,
            "grid_gap": null,
            "grid_row": null,
            "grid_template_areas": null,
            "grid_template_columns": null,
            "grid_template_rows": null,
            "height": null,
            "justify_content": null,
            "justify_items": null,
            "left": null,
            "margin": null,
            "max_height": null,
            "max_width": null,
            "min_height": null,
            "min_width": null,
            "object_fit": null,
            "object_position": null,
            "order": null,
            "overflow": null,
            "overflow_x": null,
            "overflow_y": null,
            "padding": null,
            "right": null,
            "top": null,
            "visibility": null,
            "width": null
          }
        },
        "9cbc9da570fd4e4596470ada9943f135": {
          "model_module": "@jupyter-widgets/base",
          "model_name": "LayoutModel",
          "model_module_version": "1.2.0",
          "state": {
            "_model_module": "@jupyter-widgets/base",
            "_model_module_version": "1.2.0",
            "_model_name": "LayoutModel",
            "_view_count": null,
            "_view_module": "@jupyter-widgets/base",
            "_view_module_version": "1.2.0",
            "_view_name": "LayoutView",
            "align_content": null,
            "align_items": null,
            "align_self": null,
            "border": null,
            "bottom": null,
            "display": null,
            "flex": null,
            "flex_flow": null,
            "grid_area": null,
            "grid_auto_columns": null,
            "grid_auto_flow": null,
            "grid_auto_rows": null,
            "grid_column": null,
            "grid_gap": null,
            "grid_row": null,
            "grid_template_areas": null,
            "grid_template_columns": null,
            "grid_template_rows": null,
            "height": null,
            "justify_content": null,
            "justify_items": null,
            "left": null,
            "margin": null,
            "max_height": null,
            "max_width": null,
            "min_height": null,
            "min_width": null,
            "object_fit": null,
            "object_position": null,
            "order": null,
            "overflow": null,
            "overflow_x": null,
            "overflow_y": null,
            "padding": null,
            "right": null,
            "top": null,
            "visibility": null,
            "width": null
          }
        },
        "ab48e97f498d4b1087be6129aa4a8423": {
          "model_module": "@jupyter-widgets/controls",
          "model_name": "DescriptionStyleModel",
          "model_module_version": "1.5.0",
          "state": {
            "_model_module": "@jupyter-widgets/controls",
            "_model_module_version": "1.5.0",
            "_model_name": "DescriptionStyleModel",
            "_view_count": null,
            "_view_module": "@jupyter-widgets/base",
            "_view_module_version": "1.2.0",
            "_view_name": "StyleView",
            "description_width": ""
          }
        },
        "ad17665a27a14516961ef09559f4e4f8": {
          "model_module": "@jupyter-widgets/base",
          "model_name": "LayoutModel",
          "model_module_version": "1.2.0",
          "state": {
            "_model_module": "@jupyter-widgets/base",
            "_model_module_version": "1.2.0",
            "_model_name": "LayoutModel",
            "_view_count": null,
            "_view_module": "@jupyter-widgets/base",
            "_view_module_version": "1.2.0",
            "_view_name": "LayoutView",
            "align_content": null,
            "align_items": null,
            "align_self": null,
            "border": null,
            "bottom": null,
            "display": null,
            "flex": null,
            "flex_flow": null,
            "grid_area": null,
            "grid_auto_columns": null,
            "grid_auto_flow": null,
            "grid_auto_rows": null,
            "grid_column": null,
            "grid_gap": null,
            "grid_row": null,
            "grid_template_areas": null,
            "grid_template_columns": null,
            "grid_template_rows": null,
            "height": null,
            "justify_content": null,
            "justify_items": null,
            "left": null,
            "margin": null,
            "max_height": null,
            "max_width": null,
            "min_height": null,
            "min_width": null,
            "object_fit": null,
            "object_position": null,
            "order": null,
            "overflow": null,
            "overflow_x": null,
            "overflow_y": null,
            "padding": null,
            "right": null,
            "top": null,
            "visibility": null,
            "width": null
          }
        },
        "a50f691b9bf34d6b9f74414c8b3847e3": {
          "model_module": "@jupyter-widgets/controls",
          "model_name": "ProgressStyleModel",
          "model_module_version": "1.5.0",
          "state": {
            "_model_module": "@jupyter-widgets/controls",
            "_model_module_version": "1.5.0",
            "_model_name": "ProgressStyleModel",
            "_view_count": null,
            "_view_module": "@jupyter-widgets/base",
            "_view_module_version": "1.2.0",
            "_view_name": "StyleView",
            "bar_color": null,
            "description_width": ""
          }
        },
        "c34f4f8145ba4d469c4266fdc3d67f0d": {
          "model_module": "@jupyter-widgets/base",
          "model_name": "LayoutModel",
          "model_module_version": "1.2.0",
          "state": {
            "_model_module": "@jupyter-widgets/base",
            "_model_module_version": "1.2.0",
            "_model_name": "LayoutModel",
            "_view_count": null,
            "_view_module": "@jupyter-widgets/base",
            "_view_module_version": "1.2.0",
            "_view_name": "LayoutView",
            "align_content": null,
            "align_items": null,
            "align_self": null,
            "border": null,
            "bottom": null,
            "display": null,
            "flex": null,
            "flex_flow": null,
            "grid_area": null,
            "grid_auto_columns": null,
            "grid_auto_flow": null,
            "grid_auto_rows": null,
            "grid_column": null,
            "grid_gap": null,
            "grid_row": null,
            "grid_template_areas": null,
            "grid_template_columns": null,
            "grid_template_rows": null,
            "height": null,
            "justify_content": null,
            "justify_items": null,
            "left": null,
            "margin": null,
            "max_height": null,
            "max_width": null,
            "min_height": null,
            "min_width": null,
            "object_fit": null,
            "object_position": null,
            "order": null,
            "overflow": null,
            "overflow_x": null,
            "overflow_y": null,
            "padding": null,
            "right": null,
            "top": null,
            "visibility": null,
            "width": null
          }
        },
        "605ea98a90bc4afc851dc2ed92d351f2": {
          "model_module": "@jupyter-widgets/controls",
          "model_name": "DescriptionStyleModel",
          "model_module_version": "1.5.0",
          "state": {
            "_model_module": "@jupyter-widgets/controls",
            "_model_module_version": "1.5.0",
            "_model_name": "DescriptionStyleModel",
            "_view_count": null,
            "_view_module": "@jupyter-widgets/base",
            "_view_module_version": "1.2.0",
            "_view_name": "StyleView",
            "description_width": ""
          }
        },
        "32eef39673454492868bc7f9511d4cd5": {
          "model_module": "@jupyter-widgets/controls",
          "model_name": "HBoxModel",
          "model_module_version": "1.5.0",
          "state": {
            "_dom_classes": [],
            "_model_module": "@jupyter-widgets/controls",
            "_model_module_version": "1.5.0",
            "_model_name": "HBoxModel",
            "_view_count": null,
            "_view_module": "@jupyter-widgets/controls",
            "_view_module_version": "1.5.0",
            "_view_name": "HBoxView",
            "box_style": "",
            "children": [
              "IPY_MODEL_a304f757907e462cba958cec1a5d9c17",
              "IPY_MODEL_acf8ab53d529426299f45bfe76ab7b1a",
              "IPY_MODEL_e7524b34bec848fca251d23d2223ca33"
            ],
            "layout": "IPY_MODEL_4a09752afd6840e3bec2586cbce7ec41"
          }
        },
        "a304f757907e462cba958cec1a5d9c17": {
          "model_module": "@jupyter-widgets/controls",
          "model_name": "HTMLModel",
          "model_module_version": "1.5.0",
          "state": {
            "_dom_classes": [],
            "_model_module": "@jupyter-widgets/controls",
            "_model_module_version": "1.5.0",
            "_model_name": "HTMLModel",
            "_view_count": null,
            "_view_module": "@jupyter-widgets/controls",
            "_view_module_version": "1.5.0",
            "_view_name": "HTMLView",
            "description": "",
            "description_tooltip": null,
            "layout": "IPY_MODEL_9da2a622ff92481cac786e07bb0e8951",
            "placeholder": "​",
            "style": "IPY_MODEL_32b99ac84b4b497f9e60de533b70d49d",
            "value": "pytorch_model.bin: 100%"
          }
        },
        "acf8ab53d529426299f45bfe76ab7b1a": {
          "model_module": "@jupyter-widgets/controls",
          "model_name": "FloatProgressModel",
          "model_module_version": "1.5.0",
          "state": {
            "_dom_classes": [],
            "_model_module": "@jupyter-widgets/controls",
            "_model_module_version": "1.5.0",
            "_model_name": "FloatProgressModel",
            "_view_count": null,
            "_view_module": "@jupyter-widgets/controls",
            "_view_module_version": "1.5.0",
            "_view_name": "ProgressView",
            "bar_style": "success",
            "description": "",
            "description_tooltip": null,
            "layout": "IPY_MODEL_fe1395d03159478784cdea82deb2e4d6",
            "max": 442555895,
            "min": 0,
            "orientation": "horizontal",
            "style": "IPY_MODEL_41230570caf74b49853565e099aef4b4",
            "value": 442555895
          }
        },
        "e7524b34bec848fca251d23d2223ca33": {
          "model_module": "@jupyter-widgets/controls",
          "model_name": "HTMLModel",
          "model_module_version": "1.5.0",
          "state": {
            "_dom_classes": [],
            "_model_module": "@jupyter-widgets/controls",
            "_model_module_version": "1.5.0",
            "_model_name": "HTMLModel",
            "_view_count": null,
            "_view_module": "@jupyter-widgets/controls",
            "_view_module_version": "1.5.0",
            "_view_name": "HTMLView",
            "description": "",
            "description_tooltip": null,
            "layout": "IPY_MODEL_6c80366ec7bc43ef8ceb730204f2d06f",
            "placeholder": "​",
            "style": "IPY_MODEL_e82d730ff9084bce91cf62c3553b6f2e",
            "value": " 443M/443M [00:06&lt;00:00, 49.0MB/s]"
          }
        },
        "4a09752afd6840e3bec2586cbce7ec41": {
          "model_module": "@jupyter-widgets/base",
          "model_name": "LayoutModel",
          "model_module_version": "1.2.0",
          "state": {
            "_model_module": "@jupyter-widgets/base",
            "_model_module_version": "1.2.0",
            "_model_name": "LayoutModel",
            "_view_count": null,
            "_view_module": "@jupyter-widgets/base",
            "_view_module_version": "1.2.0",
            "_view_name": "LayoutView",
            "align_content": null,
            "align_items": null,
            "align_self": null,
            "border": null,
            "bottom": null,
            "display": null,
            "flex": null,
            "flex_flow": null,
            "grid_area": null,
            "grid_auto_columns": null,
            "grid_auto_flow": null,
            "grid_auto_rows": null,
            "grid_column": null,
            "grid_gap": null,
            "grid_row": null,
            "grid_template_areas": null,
            "grid_template_columns": null,
            "grid_template_rows": null,
            "height": null,
            "justify_content": null,
            "justify_items": null,
            "left": null,
            "margin": null,
            "max_height": null,
            "max_width": null,
            "min_height": null,
            "min_width": null,
            "object_fit": null,
            "object_position": null,
            "order": null,
            "overflow": null,
            "overflow_x": null,
            "overflow_y": null,
            "padding": null,
            "right": null,
            "top": null,
            "visibility": null,
            "width": null
          }
        },
        "9da2a622ff92481cac786e07bb0e8951": {
          "model_module": "@jupyter-widgets/base",
          "model_name": "LayoutModel",
          "model_module_version": "1.2.0",
          "state": {
            "_model_module": "@jupyter-widgets/base",
            "_model_module_version": "1.2.0",
            "_model_name": "LayoutModel",
            "_view_count": null,
            "_view_module": "@jupyter-widgets/base",
            "_view_module_version": "1.2.0",
            "_view_name": "LayoutView",
            "align_content": null,
            "align_items": null,
            "align_self": null,
            "border": null,
            "bottom": null,
            "display": null,
            "flex": null,
            "flex_flow": null,
            "grid_area": null,
            "grid_auto_columns": null,
            "grid_auto_flow": null,
            "grid_auto_rows": null,
            "grid_column": null,
            "grid_gap": null,
            "grid_row": null,
            "grid_template_areas": null,
            "grid_template_columns": null,
            "grid_template_rows": null,
            "height": null,
            "justify_content": null,
            "justify_items": null,
            "left": null,
            "margin": null,
            "max_height": null,
            "max_width": null,
            "min_height": null,
            "min_width": null,
            "object_fit": null,
            "object_position": null,
            "order": null,
            "overflow": null,
            "overflow_x": null,
            "overflow_y": null,
            "padding": null,
            "right": null,
            "top": null,
            "visibility": null,
            "width": null
          }
        },
        "32b99ac84b4b497f9e60de533b70d49d": {
          "model_module": "@jupyter-widgets/controls",
          "model_name": "DescriptionStyleModel",
          "model_module_version": "1.5.0",
          "state": {
            "_model_module": "@jupyter-widgets/controls",
            "_model_module_version": "1.5.0",
            "_model_name": "DescriptionStyleModel",
            "_view_count": null,
            "_view_module": "@jupyter-widgets/base",
            "_view_module_version": "1.2.0",
            "_view_name": "StyleView",
            "description_width": ""
          }
        },
        "fe1395d03159478784cdea82deb2e4d6": {
          "model_module": "@jupyter-widgets/base",
          "model_name": "LayoutModel",
          "model_module_version": "1.2.0",
          "state": {
            "_model_module": "@jupyter-widgets/base",
            "_model_module_version": "1.2.0",
            "_model_name": "LayoutModel",
            "_view_count": null,
            "_view_module": "@jupyter-widgets/base",
            "_view_module_version": "1.2.0",
            "_view_name": "LayoutView",
            "align_content": null,
            "align_items": null,
            "align_self": null,
            "border": null,
            "bottom": null,
            "display": null,
            "flex": null,
            "flex_flow": null,
            "grid_area": null,
            "grid_auto_columns": null,
            "grid_auto_flow": null,
            "grid_auto_rows": null,
            "grid_column": null,
            "grid_gap": null,
            "grid_row": null,
            "grid_template_areas": null,
            "grid_template_columns": null,
            "grid_template_rows": null,
            "height": null,
            "justify_content": null,
            "justify_items": null,
            "left": null,
            "margin": null,
            "max_height": null,
            "max_width": null,
            "min_height": null,
            "min_width": null,
            "object_fit": null,
            "object_position": null,
            "order": null,
            "overflow": null,
            "overflow_x": null,
            "overflow_y": null,
            "padding": null,
            "right": null,
            "top": null,
            "visibility": null,
            "width": null
          }
        },
        "41230570caf74b49853565e099aef4b4": {
          "model_module": "@jupyter-widgets/controls",
          "model_name": "ProgressStyleModel",
          "model_module_version": "1.5.0",
          "state": {
            "_model_module": "@jupyter-widgets/controls",
            "_model_module_version": "1.5.0",
            "_model_name": "ProgressStyleModel",
            "_view_count": null,
            "_view_module": "@jupyter-widgets/base",
            "_view_module_version": "1.2.0",
            "_view_name": "StyleView",
            "bar_color": null,
            "description_width": ""
          }
        },
        "6c80366ec7bc43ef8ceb730204f2d06f": {
          "model_module": "@jupyter-widgets/base",
          "model_name": "LayoutModel",
          "model_module_version": "1.2.0",
          "state": {
            "_model_module": "@jupyter-widgets/base",
            "_model_module_version": "1.2.0",
            "_model_name": "LayoutModel",
            "_view_count": null,
            "_view_module": "@jupyter-widgets/base",
            "_view_module_version": "1.2.0",
            "_view_name": "LayoutView",
            "align_content": null,
            "align_items": null,
            "align_self": null,
            "border": null,
            "bottom": null,
            "display": null,
            "flex": null,
            "flex_flow": null,
            "grid_area": null,
            "grid_auto_columns": null,
            "grid_auto_flow": null,
            "grid_auto_rows": null,
            "grid_column": null,
            "grid_gap": null,
            "grid_row": null,
            "grid_template_areas": null,
            "grid_template_columns": null,
            "grid_template_rows": null,
            "height": null,
            "justify_content": null,
            "justify_items": null,
            "left": null,
            "margin": null,
            "max_height": null,
            "max_width": null,
            "min_height": null,
            "min_width": null,
            "object_fit": null,
            "object_position": null,
            "order": null,
            "overflow": null,
            "overflow_x": null,
            "overflow_y": null,
            "padding": null,
            "right": null,
            "top": null,
            "visibility": null,
            "width": null
          }
        },
        "e82d730ff9084bce91cf62c3553b6f2e": {
          "model_module": "@jupyter-widgets/controls",
          "model_name": "DescriptionStyleModel",
          "model_module_version": "1.5.0",
          "state": {
            "_model_module": "@jupyter-widgets/controls",
            "_model_module_version": "1.5.0",
            "_model_name": "DescriptionStyleModel",
            "_view_count": null,
            "_view_module": "@jupyter-widgets/base",
            "_view_module_version": "1.2.0",
            "_view_name": "StyleView",
            "description_width": ""
          }
        },
        "2aa4ec16f7314e11bb148c62b351e5e9": {
          "model_module": "@jupyter-widgets/controls",
          "model_name": "HBoxModel",
          "model_module_version": "1.5.0",
          "state": {
            "_dom_classes": [],
            "_model_module": "@jupyter-widgets/controls",
            "_model_module_version": "1.5.0",
            "_model_name": "HBoxModel",
            "_view_count": null,
            "_view_module": "@jupyter-widgets/controls",
            "_view_module_version": "1.5.0",
            "_view_name": "HBoxView",
            "box_style": "",
            "children": [
              "IPY_MODEL_00ba851ce24347ff8569f6903ab90d62",
              "IPY_MODEL_e16a3cc618494591b1059860819d4f8b",
              "IPY_MODEL_f5071596e365473bbba03e46d518e199"
            ],
            "layout": "IPY_MODEL_3592cd6fe3c141fb93df84b600d8243b"
          }
        },
        "00ba851ce24347ff8569f6903ab90d62": {
          "model_module": "@jupyter-widgets/controls",
          "model_name": "HTMLModel",
          "model_module_version": "1.5.0",
          "state": {
            "_dom_classes": [],
            "_model_module": "@jupyter-widgets/controls",
            "_model_module_version": "1.5.0",
            "_model_name": "HTMLModel",
            "_view_count": null,
            "_view_module": "@jupyter-widgets/controls",
            "_view_module_version": "1.5.0",
            "_view_name": "HTMLView",
            "description": "",
            "description_tooltip": null,
            "layout": "IPY_MODEL_2e0adbefdacb469eaafa1cd74aca5029",
            "placeholder": "​",
            "style": "IPY_MODEL_b7bb4007771c48278a893a351505025e",
            "value": "tokenizer_config.json: 100%"
          }
        },
        "e16a3cc618494591b1059860819d4f8b": {
          "model_module": "@jupyter-widgets/controls",
          "model_name": "FloatProgressModel",
          "model_module_version": "1.5.0",
          "state": {
            "_dom_classes": [],
            "_model_module": "@jupyter-widgets/controls",
            "_model_module_version": "1.5.0",
            "_model_name": "FloatProgressModel",
            "_view_count": null,
            "_view_module": "@jupyter-widgets/controls",
            "_view_module_version": "1.5.0",
            "_view_name": "ProgressView",
            "bar_style": "success",
            "description": "",
            "description_tooltip": null,
            "layout": "IPY_MODEL_96f0674486e24d068f6c08bc78079692",
            "max": 538,
            "min": 0,
            "orientation": "horizontal",
            "style": "IPY_MODEL_69c46b6e45624e16acd9243c138df238",
            "value": 538
          }
        },
        "f5071596e365473bbba03e46d518e199": {
          "model_module": "@jupyter-widgets/controls",
          "model_name": "HTMLModel",
          "model_module_version": "1.5.0",
          "state": {
            "_dom_classes": [],
            "_model_module": "@jupyter-widgets/controls",
            "_model_module_version": "1.5.0",
            "_model_name": "HTMLModel",
            "_view_count": null,
            "_view_module": "@jupyter-widgets/controls",
            "_view_module_version": "1.5.0",
            "_view_name": "HTMLView",
            "description": "",
            "description_tooltip": null,
            "layout": "IPY_MODEL_5873fb9d6d2e48b08786ff6c1dbd1fc9",
            "placeholder": "​",
            "style": "IPY_MODEL_c910082d05f9419eb618fbab1df18f15",
            "value": " 538/538 [00:00&lt;00:00, 20.2kB/s]"
          }
        },
        "3592cd6fe3c141fb93df84b600d8243b": {
          "model_module": "@jupyter-widgets/base",
          "model_name": "LayoutModel",
          "model_module_version": "1.2.0",
          "state": {
            "_model_module": "@jupyter-widgets/base",
            "_model_module_version": "1.2.0",
            "_model_name": "LayoutModel",
            "_view_count": null,
            "_view_module": "@jupyter-widgets/base",
            "_view_module_version": "1.2.0",
            "_view_name": "LayoutView",
            "align_content": null,
            "align_items": null,
            "align_self": null,
            "border": null,
            "bottom": null,
            "display": null,
            "flex": null,
            "flex_flow": null,
            "grid_area": null,
            "grid_auto_columns": null,
            "grid_auto_flow": null,
            "grid_auto_rows": null,
            "grid_column": null,
            "grid_gap": null,
            "grid_row": null,
            "grid_template_areas": null,
            "grid_template_columns": null,
            "grid_template_rows": null,
            "height": null,
            "justify_content": null,
            "justify_items": null,
            "left": null,
            "margin": null,
            "max_height": null,
            "max_width": null,
            "min_height": null,
            "min_width": null,
            "object_fit": null,
            "object_position": null,
            "order": null,
            "overflow": null,
            "overflow_x": null,
            "overflow_y": null,
            "padding": null,
            "right": null,
            "top": null,
            "visibility": null,
            "width": null
          }
        },
        "2e0adbefdacb469eaafa1cd74aca5029": {
          "model_module": "@jupyter-widgets/base",
          "model_name": "LayoutModel",
          "model_module_version": "1.2.0",
          "state": {
            "_model_module": "@jupyter-widgets/base",
            "_model_module_version": "1.2.0",
            "_model_name": "LayoutModel",
            "_view_count": null,
            "_view_module": "@jupyter-widgets/base",
            "_view_module_version": "1.2.0",
            "_view_name": "LayoutView",
            "align_content": null,
            "align_items": null,
            "align_self": null,
            "border": null,
            "bottom": null,
            "display": null,
            "flex": null,
            "flex_flow": null,
            "grid_area": null,
            "grid_auto_columns": null,
            "grid_auto_flow": null,
            "grid_auto_rows": null,
            "grid_column": null,
            "grid_gap": null,
            "grid_row": null,
            "grid_template_areas": null,
            "grid_template_columns": null,
            "grid_template_rows": null,
            "height": null,
            "justify_content": null,
            "justify_items": null,
            "left": null,
            "margin": null,
            "max_height": null,
            "max_width": null,
            "min_height": null,
            "min_width": null,
            "object_fit": null,
            "object_position": null,
            "order": null,
            "overflow": null,
            "overflow_x": null,
            "overflow_y": null,
            "padding": null,
            "right": null,
            "top": null,
            "visibility": null,
            "width": null
          }
        },
        "b7bb4007771c48278a893a351505025e": {
          "model_module": "@jupyter-widgets/controls",
          "model_name": "DescriptionStyleModel",
          "model_module_version": "1.5.0",
          "state": {
            "_model_module": "@jupyter-widgets/controls",
            "_model_module_version": "1.5.0",
            "_model_name": "DescriptionStyleModel",
            "_view_count": null,
            "_view_module": "@jupyter-widgets/base",
            "_view_module_version": "1.2.0",
            "_view_name": "StyleView",
            "description_width": ""
          }
        },
        "96f0674486e24d068f6c08bc78079692": {
          "model_module": "@jupyter-widgets/base",
          "model_name": "LayoutModel",
          "model_module_version": "1.2.0",
          "state": {
            "_model_module": "@jupyter-widgets/base",
            "_model_module_version": "1.2.0",
            "_model_name": "LayoutModel",
            "_view_count": null,
            "_view_module": "@jupyter-widgets/base",
            "_view_module_version": "1.2.0",
            "_view_name": "LayoutView",
            "align_content": null,
            "align_items": null,
            "align_self": null,
            "border": null,
            "bottom": null,
            "display": null,
            "flex": null,
            "flex_flow": null,
            "grid_area": null,
            "grid_auto_columns": null,
            "grid_auto_flow": null,
            "grid_auto_rows": null,
            "grid_column": null,
            "grid_gap": null,
            "grid_row": null,
            "grid_template_areas": null,
            "grid_template_columns": null,
            "grid_template_rows": null,
            "height": null,
            "justify_content": null,
            "justify_items": null,
            "left": null,
            "margin": null,
            "max_height": null,
            "max_width": null,
            "min_height": null,
            "min_width": null,
            "object_fit": null,
            "object_position": null,
            "order": null,
            "overflow": null,
            "overflow_x": null,
            "overflow_y": null,
            "padding": null,
            "right": null,
            "top": null,
            "visibility": null,
            "width": null
          }
        },
        "69c46b6e45624e16acd9243c138df238": {
          "model_module": "@jupyter-widgets/controls",
          "model_name": "ProgressStyleModel",
          "model_module_version": "1.5.0",
          "state": {
            "_model_module": "@jupyter-widgets/controls",
            "_model_module_version": "1.5.0",
            "_model_name": "ProgressStyleModel",
            "_view_count": null,
            "_view_module": "@jupyter-widgets/base",
            "_view_module_version": "1.2.0",
            "_view_name": "StyleView",
            "bar_color": null,
            "description_width": ""
          }
        },
        "5873fb9d6d2e48b08786ff6c1dbd1fc9": {
          "model_module": "@jupyter-widgets/base",
          "model_name": "LayoutModel",
          "model_module_version": "1.2.0",
          "state": {
            "_model_module": "@jupyter-widgets/base",
            "_model_module_version": "1.2.0",
            "_model_name": "LayoutModel",
            "_view_count": null,
            "_view_module": "@jupyter-widgets/base",
            "_view_module_version": "1.2.0",
            "_view_name": "LayoutView",
            "align_content": null,
            "align_items": null,
            "align_self": null,
            "border": null,
            "bottom": null,
            "display": null,
            "flex": null,
            "flex_flow": null,
            "grid_area": null,
            "grid_auto_columns": null,
            "grid_auto_flow": null,
            "grid_auto_rows": null,
            "grid_column": null,
            "grid_gap": null,
            "grid_row": null,
            "grid_template_areas": null,
            "grid_template_columns": null,
            "grid_template_rows": null,
            "height": null,
            "justify_content": null,
            "justify_items": null,
            "left": null,
            "margin": null,
            "max_height": null,
            "max_width": null,
            "min_height": null,
            "min_width": null,
            "object_fit": null,
            "object_position": null,
            "order": null,
            "overflow": null,
            "overflow_x": null,
            "overflow_y": null,
            "padding": null,
            "right": null,
            "top": null,
            "visibility": null,
            "width": null
          }
        },
        "c910082d05f9419eb618fbab1df18f15": {
          "model_module": "@jupyter-widgets/controls",
          "model_name": "DescriptionStyleModel",
          "model_module_version": "1.5.0",
          "state": {
            "_model_module": "@jupyter-widgets/controls",
            "_model_module_version": "1.5.0",
            "_model_name": "DescriptionStyleModel",
            "_view_count": null,
            "_view_module": "@jupyter-widgets/base",
            "_view_module_version": "1.2.0",
            "_view_name": "StyleView",
            "description_width": ""
          }
        },
        "4e5e7bb12530486b914e4f881e7c11fa": {
          "model_module": "@jupyter-widgets/controls",
          "model_name": "HBoxModel",
          "model_module_version": "1.5.0",
          "state": {
            "_dom_classes": [],
            "_model_module": "@jupyter-widgets/controls",
            "_model_module_version": "1.5.0",
            "_model_name": "HBoxModel",
            "_view_count": null,
            "_view_module": "@jupyter-widgets/controls",
            "_view_module_version": "1.5.0",
            "_view_name": "HBoxView",
            "box_style": "",
            "children": [
              "IPY_MODEL_e88785e249e3415cbff478af7a8da070",
              "IPY_MODEL_6aedebf0e7274c92b76440544ae589d6",
              "IPY_MODEL_62d7fd9b755f4192a423aafce7799599"
            ],
            "layout": "IPY_MODEL_f71ce2d8dd8946809df61cf5e4054508"
          }
        },
        "e88785e249e3415cbff478af7a8da070": {
          "model_module": "@jupyter-widgets/controls",
          "model_name": "HTMLModel",
          "model_module_version": "1.5.0",
          "state": {
            "_dom_classes": [],
            "_model_module": "@jupyter-widgets/controls",
            "_model_module_version": "1.5.0",
            "_model_name": "HTMLModel",
            "_view_count": null,
            "_view_module": "@jupyter-widgets/controls",
            "_view_module_version": "1.5.0",
            "_view_name": "HTMLView",
            "description": "",
            "description_tooltip": null,
            "layout": "IPY_MODEL_d7f0bb6a8db94c2789c26d33f18095da",
            "placeholder": "​",
            "style": "IPY_MODEL_64d96981942d4990a0c1a338f1c84e05",
            "value": "vocab.txt: 100%"
          }
        },
        "6aedebf0e7274c92b76440544ae589d6": {
          "model_module": "@jupyter-widgets/controls",
          "model_name": "FloatProgressModel",
          "model_module_version": "1.5.0",
          "state": {
            "_dom_classes": [],
            "_model_module": "@jupyter-widgets/controls",
            "_model_module_version": "1.5.0",
            "_model_name": "FloatProgressModel",
            "_view_count": null,
            "_view_module": "@jupyter-widgets/controls",
            "_view_module_version": "1.5.0",
            "_view_name": "ProgressView",
            "bar_style": "success",
            "description": "",
            "description_tooltip": null,
            "layout": "IPY_MODEL_f80548f7721a4565a47aae7ab5732ad8",
            "max": 248477,
            "min": 0,
            "orientation": "horizontal",
            "style": "IPY_MODEL_408bcb4a09264fd7999b77d18a2c0197",
            "value": 248477
          }
        },
        "62d7fd9b755f4192a423aafce7799599": {
          "model_module": "@jupyter-widgets/controls",
          "model_name": "HTMLModel",
          "model_module_version": "1.5.0",
          "state": {
            "_dom_classes": [],
            "_model_module": "@jupyter-widgets/controls",
            "_model_module_version": "1.5.0",
            "_model_name": "HTMLModel",
            "_view_count": null,
            "_view_module": "@jupyter-widgets/controls",
            "_view_module_version": "1.5.0",
            "_view_name": "HTMLView",
            "description": "",
            "description_tooltip": null,
            "layout": "IPY_MODEL_5b42f6a3b6d14dc49c038248221d2b9a",
            "placeholder": "​",
            "style": "IPY_MODEL_f15296918b744660a4bcfa446864bad9",
            "value": " 248k/248k [00:00&lt;00:00, 2.73MB/s]"
          }
        },
        "f71ce2d8dd8946809df61cf5e4054508": {
          "model_module": "@jupyter-widgets/base",
          "model_name": "LayoutModel",
          "model_module_version": "1.2.0",
          "state": {
            "_model_module": "@jupyter-widgets/base",
            "_model_module_version": "1.2.0",
            "_model_name": "LayoutModel",
            "_view_count": null,
            "_view_module": "@jupyter-widgets/base",
            "_view_module_version": "1.2.0",
            "_view_name": "LayoutView",
            "align_content": null,
            "align_items": null,
            "align_self": null,
            "border": null,
            "bottom": null,
            "display": null,
            "flex": null,
            "flex_flow": null,
            "grid_area": null,
            "grid_auto_columns": null,
            "grid_auto_flow": null,
            "grid_auto_rows": null,
            "grid_column": null,
            "grid_gap": null,
            "grid_row": null,
            "grid_template_areas": null,
            "grid_template_columns": null,
            "grid_template_rows": null,
            "height": null,
            "justify_content": null,
            "justify_items": null,
            "left": null,
            "margin": null,
            "max_height": null,
            "max_width": null,
            "min_height": null,
            "min_width": null,
            "object_fit": null,
            "object_position": null,
            "order": null,
            "overflow": null,
            "overflow_x": null,
            "overflow_y": null,
            "padding": null,
            "right": null,
            "top": null,
            "visibility": null,
            "width": null
          }
        },
        "d7f0bb6a8db94c2789c26d33f18095da": {
          "model_module": "@jupyter-widgets/base",
          "model_name": "LayoutModel",
          "model_module_version": "1.2.0",
          "state": {
            "_model_module": "@jupyter-widgets/base",
            "_model_module_version": "1.2.0",
            "_model_name": "LayoutModel",
            "_view_count": null,
            "_view_module": "@jupyter-widgets/base",
            "_view_module_version": "1.2.0",
            "_view_name": "LayoutView",
            "align_content": null,
            "align_items": null,
            "align_self": null,
            "border": null,
            "bottom": null,
            "display": null,
            "flex": null,
            "flex_flow": null,
            "grid_area": null,
            "grid_auto_columns": null,
            "grid_auto_flow": null,
            "grid_auto_rows": null,
            "grid_column": null,
            "grid_gap": null,
            "grid_row": null,
            "grid_template_areas": null,
            "grid_template_columns": null,
            "grid_template_rows": null,
            "height": null,
            "justify_content": null,
            "justify_items": null,
            "left": null,
            "margin": null,
            "max_height": null,
            "max_width": null,
            "min_height": null,
            "min_width": null,
            "object_fit": null,
            "object_position": null,
            "order": null,
            "overflow": null,
            "overflow_x": null,
            "overflow_y": null,
            "padding": null,
            "right": null,
            "top": null,
            "visibility": null,
            "width": null
          }
        },
        "64d96981942d4990a0c1a338f1c84e05": {
          "model_module": "@jupyter-widgets/controls",
          "model_name": "DescriptionStyleModel",
          "model_module_version": "1.5.0",
          "state": {
            "_model_module": "@jupyter-widgets/controls",
            "_model_module_version": "1.5.0",
            "_model_name": "DescriptionStyleModel",
            "_view_count": null,
            "_view_module": "@jupyter-widgets/base",
            "_view_module_version": "1.2.0",
            "_view_name": "StyleView",
            "description_width": ""
          }
        },
        "f80548f7721a4565a47aae7ab5732ad8": {
          "model_module": "@jupyter-widgets/base",
          "model_name": "LayoutModel",
          "model_module_version": "1.2.0",
          "state": {
            "_model_module": "@jupyter-widgets/base",
            "_model_module_version": "1.2.0",
            "_model_name": "LayoutModel",
            "_view_count": null,
            "_view_module": "@jupyter-widgets/base",
            "_view_module_version": "1.2.0",
            "_view_name": "LayoutView",
            "align_content": null,
            "align_items": null,
            "align_self": null,
            "border": null,
            "bottom": null,
            "display": null,
            "flex": null,
            "flex_flow": null,
            "grid_area": null,
            "grid_auto_columns": null,
            "grid_auto_flow": null,
            "grid_auto_rows": null,
            "grid_column": null,
            "grid_gap": null,
            "grid_row": null,
            "grid_template_areas": null,
            "grid_template_columns": null,
            "grid_template_rows": null,
            "height": null,
            "justify_content": null,
            "justify_items": null,
            "left": null,
            "margin": null,
            "max_height": null,
            "max_width": null,
            "min_height": null,
            "min_width": null,
            "object_fit": null,
            "object_position": null,
            "order": null,
            "overflow": null,
            "overflow_x": null,
            "overflow_y": null,
            "padding": null,
            "right": null,
            "top": null,
            "visibility": null,
            "width": null
          }
        },
        "408bcb4a09264fd7999b77d18a2c0197": {
          "model_module": "@jupyter-widgets/controls",
          "model_name": "ProgressStyleModel",
          "model_module_version": "1.5.0",
          "state": {
            "_model_module": "@jupyter-widgets/controls",
            "_model_module_version": "1.5.0",
            "_model_name": "ProgressStyleModel",
            "_view_count": null,
            "_view_module": "@jupyter-widgets/base",
            "_view_module_version": "1.2.0",
            "_view_name": "StyleView",
            "bar_color": null,
            "description_width": ""
          }
        },
        "5b42f6a3b6d14dc49c038248221d2b9a": {
          "model_module": "@jupyter-widgets/base",
          "model_name": "LayoutModel",
          "model_module_version": "1.2.0",
          "state": {
            "_model_module": "@jupyter-widgets/base",
            "_model_module_version": "1.2.0",
            "_model_name": "LayoutModel",
            "_view_count": null,
            "_view_module": "@jupyter-widgets/base",
            "_view_module_version": "1.2.0",
            "_view_name": "LayoutView",
            "align_content": null,
            "align_items": null,
            "align_self": null,
            "border": null,
            "bottom": null,
            "display": null,
            "flex": null,
            "flex_flow": null,
            "grid_area": null,
            "grid_auto_columns": null,
            "grid_auto_flow": null,
            "grid_auto_rows": null,
            "grid_column": null,
            "grid_gap": null,
            "grid_row": null,
            "grid_template_areas": null,
            "grid_template_columns": null,
            "grid_template_rows": null,
            "height": null,
            "justify_content": null,
            "justify_items": null,
            "left": null,
            "margin": null,
            "max_height": null,
            "max_width": null,
            "min_height": null,
            "min_width": null,
            "object_fit": null,
            "object_position": null,
            "order": null,
            "overflow": null,
            "overflow_x": null,
            "overflow_y": null,
            "padding": null,
            "right": null,
            "top": null,
            "visibility": null,
            "width": null
          }
        },
        "f15296918b744660a4bcfa446864bad9": {
          "model_module": "@jupyter-widgets/controls",
          "model_name": "DescriptionStyleModel",
          "model_module_version": "1.5.0",
          "state": {
            "_model_module": "@jupyter-widgets/controls",
            "_model_module_version": "1.5.0",
            "_model_name": "DescriptionStyleModel",
            "_view_count": null,
            "_view_module": "@jupyter-widgets/base",
            "_view_module_version": "1.2.0",
            "_view_name": "StyleView",
            "description_width": ""
          }
        },
        "41069d4ccda14806b99d98eca8cdd564": {
          "model_module": "@jupyter-widgets/controls",
          "model_name": "HBoxModel",
          "model_module_version": "1.5.0",
          "state": {
            "_dom_classes": [],
            "_model_module": "@jupyter-widgets/controls",
            "_model_module_version": "1.5.0",
            "_model_name": "HBoxModel",
            "_view_count": null,
            "_view_module": "@jupyter-widgets/controls",
            "_view_module_version": "1.5.0",
            "_view_name": "HBoxView",
            "box_style": "",
            "children": [
              "IPY_MODEL_48ff3260e09548538bf0f8da3e1e6b9c",
              "IPY_MODEL_55ee4fe6efb34bf882947079e1d2762d",
              "IPY_MODEL_e762eba0922d4a8ea1e89d5e26600b56"
            ],
            "layout": "IPY_MODEL_d40642a0b3ba40c8a626ef17abf43ff9"
          }
        },
        "48ff3260e09548538bf0f8da3e1e6b9c": {
          "model_module": "@jupyter-widgets/controls",
          "model_name": "HTMLModel",
          "model_module_version": "1.5.0",
          "state": {
            "_dom_classes": [],
            "_model_module": "@jupyter-widgets/controls",
            "_model_module_version": "1.5.0",
            "_model_name": "HTMLModel",
            "_view_count": null,
            "_view_module": "@jupyter-widgets/controls",
            "_view_module_version": "1.5.0",
            "_view_name": "HTMLView",
            "description": "",
            "description_tooltip": null,
            "layout": "IPY_MODEL_ee1cbc929c384ee3b5d565ef5d1053ee",
            "placeholder": "​",
            "style": "IPY_MODEL_2f2c6a5e45e94c4cb6beb024e303f33e",
            "value": "tokenizer.json: 100%"
          }
        },
        "55ee4fe6efb34bf882947079e1d2762d": {
          "model_module": "@jupyter-widgets/controls",
          "model_name": "FloatProgressModel",
          "model_module_version": "1.5.0",
          "state": {
            "_dom_classes": [],
            "_model_module": "@jupyter-widgets/controls",
            "_model_module_version": "1.5.0",
            "_model_name": "FloatProgressModel",
            "_view_count": null,
            "_view_module": "@jupyter-widgets/controls",
            "_view_module_version": "1.5.0",
            "_view_name": "ProgressView",
            "bar_style": "success",
            "description": "",
            "description_tooltip": null,
            "layout": "IPY_MODEL_086dc71c2e964ab5b3ef3d663d95a291",
            "max": 495027,
            "min": 0,
            "orientation": "horizontal",
            "style": "IPY_MODEL_057fbc9a30c7426e876aae9a8ee2d4c3",
            "value": 495027
          }
        },
        "e762eba0922d4a8ea1e89d5e26600b56": {
          "model_module": "@jupyter-widgets/controls",
          "model_name": "HTMLModel",
          "model_module_version": "1.5.0",
          "state": {
            "_dom_classes": [],
            "_model_module": "@jupyter-widgets/controls",
            "_model_module_version": "1.5.0",
            "_model_name": "HTMLModel",
            "_view_count": null,
            "_view_module": "@jupyter-widgets/controls",
            "_view_module_version": "1.5.0",
            "_view_name": "HTMLView",
            "description": "",
            "description_tooltip": null,
            "layout": "IPY_MODEL_b5728840534b4f0088ab4846ab09e3eb",
            "placeholder": "​",
            "style": "IPY_MODEL_3c60d882994e47b4b59150caf2a86d14",
            "value": " 495k/495k [00:00&lt;00:00, 2.19MB/s]"
          }
        },
        "d40642a0b3ba40c8a626ef17abf43ff9": {
          "model_module": "@jupyter-widgets/base",
          "model_name": "LayoutModel",
          "model_module_version": "1.2.0",
          "state": {
            "_model_module": "@jupyter-widgets/base",
            "_model_module_version": "1.2.0",
            "_model_name": "LayoutModel",
            "_view_count": null,
            "_view_module": "@jupyter-widgets/base",
            "_view_module_version": "1.2.0",
            "_view_name": "LayoutView",
            "align_content": null,
            "align_items": null,
            "align_self": null,
            "border": null,
            "bottom": null,
            "display": null,
            "flex": null,
            "flex_flow": null,
            "grid_area": null,
            "grid_auto_columns": null,
            "grid_auto_flow": null,
            "grid_auto_rows": null,
            "grid_column": null,
            "grid_gap": null,
            "grid_row": null,
            "grid_template_areas": null,
            "grid_template_columns": null,
            "grid_template_rows": null,
            "height": null,
            "justify_content": null,
            "justify_items": null,
            "left": null,
            "margin": null,
            "max_height": null,
            "max_width": null,
            "min_height": null,
            "min_width": null,
            "object_fit": null,
            "object_position": null,
            "order": null,
            "overflow": null,
            "overflow_x": null,
            "overflow_y": null,
            "padding": null,
            "right": null,
            "top": null,
            "visibility": null,
            "width": null
          }
        },
        "ee1cbc929c384ee3b5d565ef5d1053ee": {
          "model_module": "@jupyter-widgets/base",
          "model_name": "LayoutModel",
          "model_module_version": "1.2.0",
          "state": {
            "_model_module": "@jupyter-widgets/base",
            "_model_module_version": "1.2.0",
            "_model_name": "LayoutModel",
            "_view_count": null,
            "_view_module": "@jupyter-widgets/base",
            "_view_module_version": "1.2.0",
            "_view_name": "LayoutView",
            "align_content": null,
            "align_items": null,
            "align_self": null,
            "border": null,
            "bottom": null,
            "display": null,
            "flex": null,
            "flex_flow": null,
            "grid_area": null,
            "grid_auto_columns": null,
            "grid_auto_flow": null,
            "grid_auto_rows": null,
            "grid_column": null,
            "grid_gap": null,
            "grid_row": null,
            "grid_template_areas": null,
            "grid_template_columns": null,
            "grid_template_rows": null,
            "height": null,
            "justify_content": null,
            "justify_items": null,
            "left": null,
            "margin": null,
            "max_height": null,
            "max_width": null,
            "min_height": null,
            "min_width": null,
            "object_fit": null,
            "object_position": null,
            "order": null,
            "overflow": null,
            "overflow_x": null,
            "overflow_y": null,
            "padding": null,
            "right": null,
            "top": null,
            "visibility": null,
            "width": null
          }
        },
        "2f2c6a5e45e94c4cb6beb024e303f33e": {
          "model_module": "@jupyter-widgets/controls",
          "model_name": "DescriptionStyleModel",
          "model_module_version": "1.5.0",
          "state": {
            "_model_module": "@jupyter-widgets/controls",
            "_model_module_version": "1.5.0",
            "_model_name": "DescriptionStyleModel",
            "_view_count": null,
            "_view_module": "@jupyter-widgets/base",
            "_view_module_version": "1.2.0",
            "_view_name": "StyleView",
            "description_width": ""
          }
        },
        "086dc71c2e964ab5b3ef3d663d95a291": {
          "model_module": "@jupyter-widgets/base",
          "model_name": "LayoutModel",
          "model_module_version": "1.2.0",
          "state": {
            "_model_module": "@jupyter-widgets/base",
            "_model_module_version": "1.2.0",
            "_model_name": "LayoutModel",
            "_view_count": null,
            "_view_module": "@jupyter-widgets/base",
            "_view_module_version": "1.2.0",
            "_view_name": "LayoutView",
            "align_content": null,
            "align_items": null,
            "align_self": null,
            "border": null,
            "bottom": null,
            "display": null,
            "flex": null,
            "flex_flow": null,
            "grid_area": null,
            "grid_auto_columns": null,
            "grid_auto_flow": null,
            "grid_auto_rows": null,
            "grid_column": null,
            "grid_gap": null,
            "grid_row": null,
            "grid_template_areas": null,
            "grid_template_columns": null,
            "grid_template_rows": null,
            "height": null,
            "justify_content": null,
            "justify_items": null,
            "left": null,
            "margin": null,
            "max_height": null,
            "max_width": null,
            "min_height": null,
            "min_width": null,
            "object_fit": null,
            "object_position": null,
            "order": null,
            "overflow": null,
            "overflow_x": null,
            "overflow_y": null,
            "padding": null,
            "right": null,
            "top": null,
            "visibility": null,
            "width": null
          }
        },
        "057fbc9a30c7426e876aae9a8ee2d4c3": {
          "model_module": "@jupyter-widgets/controls",
          "model_name": "ProgressStyleModel",
          "model_module_version": "1.5.0",
          "state": {
            "_model_module": "@jupyter-widgets/controls",
            "_model_module_version": "1.5.0",
            "_model_name": "ProgressStyleModel",
            "_view_count": null,
            "_view_module": "@jupyter-widgets/base",
            "_view_module_version": "1.2.0",
            "_view_name": "StyleView",
            "bar_color": null,
            "description_width": ""
          }
        },
        "b5728840534b4f0088ab4846ab09e3eb": {
          "model_module": "@jupyter-widgets/base",
          "model_name": "LayoutModel",
          "model_module_version": "1.2.0",
          "state": {
            "_model_module": "@jupyter-widgets/base",
            "_model_module_version": "1.2.0",
            "_model_name": "LayoutModel",
            "_view_count": null,
            "_view_module": "@jupyter-widgets/base",
            "_view_module_version": "1.2.0",
            "_view_name": "LayoutView",
            "align_content": null,
            "align_items": null,
            "align_self": null,
            "border": null,
            "bottom": null,
            "display": null,
            "flex": null,
            "flex_flow": null,
            "grid_area": null,
            "grid_auto_columns": null,
            "grid_auto_flow": null,
            "grid_auto_rows": null,
            "grid_column": null,
            "grid_gap": null,
            "grid_row": null,
            "grid_template_areas": null,
            "grid_template_columns": null,
            "grid_template_rows": null,
            "height": null,
            "justify_content": null,
            "justify_items": null,
            "left": null,
            "margin": null,
            "max_height": null,
            "max_width": null,
            "min_height": null,
            "min_width": null,
            "object_fit": null,
            "object_position": null,
            "order": null,
            "overflow": null,
            "overflow_x": null,
            "overflow_y": null,
            "padding": null,
            "right": null,
            "top": null,
            "visibility": null,
            "width": null
          }
        },
        "3c60d882994e47b4b59150caf2a86d14": {
          "model_module": "@jupyter-widgets/controls",
          "model_name": "DescriptionStyleModel",
          "model_module_version": "1.5.0",
          "state": {
            "_model_module": "@jupyter-widgets/controls",
            "_model_module_version": "1.5.0",
            "_model_name": "DescriptionStyleModel",
            "_view_count": null,
            "_view_module": "@jupyter-widgets/base",
            "_view_module_version": "1.2.0",
            "_view_name": "StyleView",
            "description_width": ""
          }
        },
        "53f48a29b6d54446a503fc216c6777ea": {
          "model_module": "@jupyter-widgets/controls",
          "model_name": "HBoxModel",
          "model_module_version": "1.5.0",
          "state": {
            "_dom_classes": [],
            "_model_module": "@jupyter-widgets/controls",
            "_model_module_version": "1.5.0",
            "_model_name": "HBoxModel",
            "_view_count": null,
            "_view_module": "@jupyter-widgets/controls",
            "_view_module_version": "1.5.0",
            "_view_name": "HBoxView",
            "box_style": "",
            "children": [
              "IPY_MODEL_09ecf96e22194109abe1bb2c8817f98d",
              "IPY_MODEL_7ccd1a2a28e946da9ac5c7cb3ea6dd38",
              "IPY_MODEL_40e7237ca1324254a03d447691a72088"
            ],
            "layout": "IPY_MODEL_d973bb1486ac4c6d986db0d531e4a1d8"
          }
        },
        "09ecf96e22194109abe1bb2c8817f98d": {
          "model_module": "@jupyter-widgets/controls",
          "model_name": "HTMLModel",
          "model_module_version": "1.5.0",
          "state": {
            "_dom_classes": [],
            "_model_module": "@jupyter-widgets/controls",
            "_model_module_version": "1.5.0",
            "_model_name": "HTMLModel",
            "_view_count": null,
            "_view_module": "@jupyter-widgets/controls",
            "_view_module_version": "1.5.0",
            "_view_name": "HTMLView",
            "description": "",
            "description_tooltip": null,
            "layout": "IPY_MODEL_a36a2bb086324249bda001836901dda1",
            "placeholder": "​",
            "style": "IPY_MODEL_4c8f8ff5ac394718a0607e66c8dfe19f",
            "value": "special_tokens_map.json: 100%"
          }
        },
        "7ccd1a2a28e946da9ac5c7cb3ea6dd38": {
          "model_module": "@jupyter-widgets/controls",
          "model_name": "FloatProgressModel",
          "model_module_version": "1.5.0",
          "state": {
            "_dom_classes": [],
            "_model_module": "@jupyter-widgets/controls",
            "_model_module_version": "1.5.0",
            "_model_name": "FloatProgressModel",
            "_view_count": null,
            "_view_module": "@jupyter-widgets/controls",
            "_view_module_version": "1.5.0",
            "_view_name": "ProgressView",
            "bar_style": "success",
            "description": "",
            "description_tooltip": null,
            "layout": "IPY_MODEL_bfd82c70680a45068061dd3aac05fa5f",
            "max": 112,
            "min": 0,
            "orientation": "horizontal",
            "style": "IPY_MODEL_a2a4716e18884519b10e88af23bd764d",
            "value": 112
          }
        },
        "40e7237ca1324254a03d447691a72088": {
          "model_module": "@jupyter-widgets/controls",
          "model_name": "HTMLModel",
          "model_module_version": "1.5.0",
          "state": {
            "_dom_classes": [],
            "_model_module": "@jupyter-widgets/controls",
            "_model_module_version": "1.5.0",
            "_model_name": "HTMLModel",
            "_view_count": null,
            "_view_module": "@jupyter-widgets/controls",
            "_view_module_version": "1.5.0",
            "_view_name": "HTMLView",
            "description": "",
            "description_tooltip": null,
            "layout": "IPY_MODEL_87211aa098d34be895d8fa2e809a9804",
            "placeholder": "​",
            "style": "IPY_MODEL_56ab1093daea41e5a92cb2764e942011",
            "value": " 112/112 [00:00&lt;00:00, 4.59kB/s]"
          }
        },
        "d973bb1486ac4c6d986db0d531e4a1d8": {
          "model_module": "@jupyter-widgets/base",
          "model_name": "LayoutModel",
          "model_module_version": "1.2.0",
          "state": {
            "_model_module": "@jupyter-widgets/base",
            "_model_module_version": "1.2.0",
            "_model_name": "LayoutModel",
            "_view_count": null,
            "_view_module": "@jupyter-widgets/base",
            "_view_module_version": "1.2.0",
            "_view_name": "LayoutView",
            "align_content": null,
            "align_items": null,
            "align_self": null,
            "border": null,
            "bottom": null,
            "display": null,
            "flex": null,
            "flex_flow": null,
            "grid_area": null,
            "grid_auto_columns": null,
            "grid_auto_flow": null,
            "grid_auto_rows": null,
            "grid_column": null,
            "grid_gap": null,
            "grid_row": null,
            "grid_template_areas": null,
            "grid_template_columns": null,
            "grid_template_rows": null,
            "height": null,
            "justify_content": null,
            "justify_items": null,
            "left": null,
            "margin": null,
            "max_height": null,
            "max_width": null,
            "min_height": null,
            "min_width": null,
            "object_fit": null,
            "object_position": null,
            "order": null,
            "overflow": null,
            "overflow_x": null,
            "overflow_y": null,
            "padding": null,
            "right": null,
            "top": null,
            "visibility": null,
            "width": null
          }
        },
        "a36a2bb086324249bda001836901dda1": {
          "model_module": "@jupyter-widgets/base",
          "model_name": "LayoutModel",
          "model_module_version": "1.2.0",
          "state": {
            "_model_module": "@jupyter-widgets/base",
            "_model_module_version": "1.2.0",
            "_model_name": "LayoutModel",
            "_view_count": null,
            "_view_module": "@jupyter-widgets/base",
            "_view_module_version": "1.2.0",
            "_view_name": "LayoutView",
            "align_content": null,
            "align_items": null,
            "align_self": null,
            "border": null,
            "bottom": null,
            "display": null,
            "flex": null,
            "flex_flow": null,
            "grid_area": null,
            "grid_auto_columns": null,
            "grid_auto_flow": null,
            "grid_auto_rows": null,
            "grid_column": null,
            "grid_gap": null,
            "grid_row": null,
            "grid_template_areas": null,
            "grid_template_columns": null,
            "grid_template_rows": null,
            "height": null,
            "justify_content": null,
            "justify_items": null,
            "left": null,
            "margin": null,
            "max_height": null,
            "max_width": null,
            "min_height": null,
            "min_width": null,
            "object_fit": null,
            "object_position": null,
            "order": null,
            "overflow": null,
            "overflow_x": null,
            "overflow_y": null,
            "padding": null,
            "right": null,
            "top": null,
            "visibility": null,
            "width": null
          }
        },
        "4c8f8ff5ac394718a0607e66c8dfe19f": {
          "model_module": "@jupyter-widgets/controls",
          "model_name": "DescriptionStyleModel",
          "model_module_version": "1.5.0",
          "state": {
            "_model_module": "@jupyter-widgets/controls",
            "_model_module_version": "1.5.0",
            "_model_name": "DescriptionStyleModel",
            "_view_count": null,
            "_view_module": "@jupyter-widgets/base",
            "_view_module_version": "1.2.0",
            "_view_name": "StyleView",
            "description_width": ""
          }
        },
        "bfd82c70680a45068061dd3aac05fa5f": {
          "model_module": "@jupyter-widgets/base",
          "model_name": "LayoutModel",
          "model_module_version": "1.2.0",
          "state": {
            "_model_module": "@jupyter-widgets/base",
            "_model_module_version": "1.2.0",
            "_model_name": "LayoutModel",
            "_view_count": null,
            "_view_module": "@jupyter-widgets/base",
            "_view_module_version": "1.2.0",
            "_view_name": "LayoutView",
            "align_content": null,
            "align_items": null,
            "align_self": null,
            "border": null,
            "bottom": null,
            "display": null,
            "flex": null,
            "flex_flow": null,
            "grid_area": null,
            "grid_auto_columns": null,
            "grid_auto_flow": null,
            "grid_auto_rows": null,
            "grid_column": null,
            "grid_gap": null,
            "grid_row": null,
            "grid_template_areas": null,
            "grid_template_columns": null,
            "grid_template_rows": null,
            "height": null,
            "justify_content": null,
            "justify_items": null,
            "left": null,
            "margin": null,
            "max_height": null,
            "max_width": null,
            "min_height": null,
            "min_width": null,
            "object_fit": null,
            "object_position": null,
            "order": null,
            "overflow": null,
            "overflow_x": null,
            "overflow_y": null,
            "padding": null,
            "right": null,
            "top": null,
            "visibility": null,
            "width": null
          }
        },
        "a2a4716e18884519b10e88af23bd764d": {
          "model_module": "@jupyter-widgets/controls",
          "model_name": "ProgressStyleModel",
          "model_module_version": "1.5.0",
          "state": {
            "_model_module": "@jupyter-widgets/controls",
            "_model_module_version": "1.5.0",
            "_model_name": "ProgressStyleModel",
            "_view_count": null,
            "_view_module": "@jupyter-widgets/base",
            "_view_module_version": "1.2.0",
            "_view_name": "StyleView",
            "bar_color": null,
            "description_width": ""
          }
        },
        "87211aa098d34be895d8fa2e809a9804": {
          "model_module": "@jupyter-widgets/base",
          "model_name": "LayoutModel",
          "model_module_version": "1.2.0",
          "state": {
            "_model_module": "@jupyter-widgets/base",
            "_model_module_version": "1.2.0",
            "_model_name": "LayoutModel",
            "_view_count": null,
            "_view_module": "@jupyter-widgets/base",
            "_view_module_version": "1.2.0",
            "_view_name": "LayoutView",
            "align_content": null,
            "align_items": null,
            "align_self": null,
            "border": null,
            "bottom": null,
            "display": null,
            "flex": null,
            "flex_flow": null,
            "grid_area": null,
            "grid_auto_columns": null,
            "grid_auto_flow": null,
            "grid_auto_rows": null,
            "grid_column": null,
            "grid_gap": null,
            "grid_row": null,
            "grid_template_areas": null,
            "grid_template_columns": null,
            "grid_template_rows": null,
            "height": null,
            "justify_content": null,
            "justify_items": null,
            "left": null,
            "margin": null,
            "max_height": null,
            "max_width": null,
            "min_height": null,
            "min_width": null,
            "object_fit": null,
            "object_position": null,
            "order": null,
            "overflow": null,
            "overflow_x": null,
            "overflow_y": null,
            "padding": null,
            "right": null,
            "top": null,
            "visibility": null,
            "width": null
          }
        },
        "56ab1093daea41e5a92cb2764e942011": {
          "model_module": "@jupyter-widgets/controls",
          "model_name": "DescriptionStyleModel",
          "model_module_version": "1.5.0",
          "state": {
            "_model_module": "@jupyter-widgets/controls",
            "_model_module_version": "1.5.0",
            "_model_name": "DescriptionStyleModel",
            "_view_count": null,
            "_view_module": "@jupyter-widgets/base",
            "_view_module_version": "1.2.0",
            "_view_name": "StyleView",
            "description_width": ""
          }
        },
        "053863e950a146e9a783b5c86db9905d": {
          "model_module": "@jupyter-widgets/controls",
          "model_name": "HBoxModel",
          "model_module_version": "1.5.0",
          "state": {
            "_dom_classes": [],
            "_model_module": "@jupyter-widgets/controls",
            "_model_module_version": "1.5.0",
            "_model_name": "HBoxModel",
            "_view_count": null,
            "_view_module": "@jupyter-widgets/controls",
            "_view_module_version": "1.5.0",
            "_view_name": "HBoxView",
            "box_style": "",
            "children": [
              "IPY_MODEL_01e9746e5c764e96b2b0630d12caa53d",
              "IPY_MODEL_670daf2d51f04069899f1adfebf7ad01",
              "IPY_MODEL_3367fea5c8d047f48d888a20abb8a450"
            ],
            "layout": "IPY_MODEL_33804697e71a41b2af8c3cd515ed3a4f"
          }
        },
        "01e9746e5c764e96b2b0630d12caa53d": {
          "model_module": "@jupyter-widgets/controls",
          "model_name": "HTMLModel",
          "model_module_version": "1.5.0",
          "state": {
            "_dom_classes": [],
            "_model_module": "@jupyter-widgets/controls",
            "_model_module_version": "1.5.0",
            "_model_name": "HTMLModel",
            "_view_count": null,
            "_view_module": "@jupyter-widgets/controls",
            "_view_module_version": "1.5.0",
            "_view_name": "HTMLView",
            "description": "",
            "description_tooltip": null,
            "layout": "IPY_MODEL_f33c6c1adf274b009550407808ca1cf9",
            "placeholder": "​",
            "style": "IPY_MODEL_17c37c31e4fa4c2ea399d3800aaf4c7f",
            "value": "1_Pooling/config.json: 100%"
          }
        },
        "670daf2d51f04069899f1adfebf7ad01": {
          "model_module": "@jupyter-widgets/controls",
          "model_name": "FloatProgressModel",
          "model_module_version": "1.5.0",
          "state": {
            "_dom_classes": [],
            "_model_module": "@jupyter-widgets/controls",
            "_model_module_version": "1.5.0",
            "_model_name": "FloatProgressModel",
            "_view_count": null,
            "_view_module": "@jupyter-widgets/controls",
            "_view_module_version": "1.5.0",
            "_view_name": "ProgressView",
            "bar_style": "success",
            "description": "",
            "description_tooltip": null,
            "layout": "IPY_MODEL_0c624dcc1df844318ccd1484c8ae0d27",
            "max": 190,
            "min": 0,
            "orientation": "horizontal",
            "style": "IPY_MODEL_036372f8fac044808e3197bd28ed3f33",
            "value": 190
          }
        },
        "3367fea5c8d047f48d888a20abb8a450": {
          "model_module": "@jupyter-widgets/controls",
          "model_name": "HTMLModel",
          "model_module_version": "1.5.0",
          "state": {
            "_dom_classes": [],
            "_model_module": "@jupyter-widgets/controls",
            "_model_module_version": "1.5.0",
            "_model_name": "HTMLModel",
            "_view_count": null,
            "_view_module": "@jupyter-widgets/controls",
            "_view_module_version": "1.5.0",
            "_view_name": "HTMLView",
            "description": "",
            "description_tooltip": null,
            "layout": "IPY_MODEL_5b90c146be2648a69afd5cb9c4b67591",
            "placeholder": "​",
            "style": "IPY_MODEL_00cff4adafc94fc7819369e0beea99d6",
            "value": " 190/190 [00:00&lt;00:00, 5.50kB/s]"
          }
        },
        "33804697e71a41b2af8c3cd515ed3a4f": {
          "model_module": "@jupyter-widgets/base",
          "model_name": "LayoutModel",
          "model_module_version": "1.2.0",
          "state": {
            "_model_module": "@jupyter-widgets/base",
            "_model_module_version": "1.2.0",
            "_model_name": "LayoutModel",
            "_view_count": null,
            "_view_module": "@jupyter-widgets/base",
            "_view_module_version": "1.2.0",
            "_view_name": "LayoutView",
            "align_content": null,
            "align_items": null,
            "align_self": null,
            "border": null,
            "bottom": null,
            "display": null,
            "flex": null,
            "flex_flow": null,
            "grid_area": null,
            "grid_auto_columns": null,
            "grid_auto_flow": null,
            "grid_auto_rows": null,
            "grid_column": null,
            "grid_gap": null,
            "grid_row": null,
            "grid_template_areas": null,
            "grid_template_columns": null,
            "grid_template_rows": null,
            "height": null,
            "justify_content": null,
            "justify_items": null,
            "left": null,
            "margin": null,
            "max_height": null,
            "max_width": null,
            "min_height": null,
            "min_width": null,
            "object_fit": null,
            "object_position": null,
            "order": null,
            "overflow": null,
            "overflow_x": null,
            "overflow_y": null,
            "padding": null,
            "right": null,
            "top": null,
            "visibility": null,
            "width": null
          }
        },
        "f33c6c1adf274b009550407808ca1cf9": {
          "model_module": "@jupyter-widgets/base",
          "model_name": "LayoutModel",
          "model_module_version": "1.2.0",
          "state": {
            "_model_module": "@jupyter-widgets/base",
            "_model_module_version": "1.2.0",
            "_model_name": "LayoutModel",
            "_view_count": null,
            "_view_module": "@jupyter-widgets/base",
            "_view_module_version": "1.2.0",
            "_view_name": "LayoutView",
            "align_content": null,
            "align_items": null,
            "align_self": null,
            "border": null,
            "bottom": null,
            "display": null,
            "flex": null,
            "flex_flow": null,
            "grid_area": null,
            "grid_auto_columns": null,
            "grid_auto_flow": null,
            "grid_auto_rows": null,
            "grid_column": null,
            "grid_gap": null,
            "grid_row": null,
            "grid_template_areas": null,
            "grid_template_columns": null,
            "grid_template_rows": null,
            "height": null,
            "justify_content": null,
            "justify_items": null,
            "left": null,
            "margin": null,
            "max_height": null,
            "max_width": null,
            "min_height": null,
            "min_width": null,
            "object_fit": null,
            "object_position": null,
            "order": null,
            "overflow": null,
            "overflow_x": null,
            "overflow_y": null,
            "padding": null,
            "right": null,
            "top": null,
            "visibility": null,
            "width": null
          }
        },
        "17c37c31e4fa4c2ea399d3800aaf4c7f": {
          "model_module": "@jupyter-widgets/controls",
          "model_name": "DescriptionStyleModel",
          "model_module_version": "1.5.0",
          "state": {
            "_model_module": "@jupyter-widgets/controls",
            "_model_module_version": "1.5.0",
            "_model_name": "DescriptionStyleModel",
            "_view_count": null,
            "_view_module": "@jupyter-widgets/base",
            "_view_module_version": "1.2.0",
            "_view_name": "StyleView",
            "description_width": ""
          }
        },
        "0c624dcc1df844318ccd1484c8ae0d27": {
          "model_module": "@jupyter-widgets/base",
          "model_name": "LayoutModel",
          "model_module_version": "1.2.0",
          "state": {
            "_model_module": "@jupyter-widgets/base",
            "_model_module_version": "1.2.0",
            "_model_name": "LayoutModel",
            "_view_count": null,
            "_view_module": "@jupyter-widgets/base",
            "_view_module_version": "1.2.0",
            "_view_name": "LayoutView",
            "align_content": null,
            "align_items": null,
            "align_self": null,
            "border": null,
            "bottom": null,
            "display": null,
            "flex": null,
            "flex_flow": null,
            "grid_area": null,
            "grid_auto_columns": null,
            "grid_auto_flow": null,
            "grid_auto_rows": null,
            "grid_column": null,
            "grid_gap": null,
            "grid_row": null,
            "grid_template_areas": null,
            "grid_template_columns": null,
            "grid_template_rows": null,
            "height": null,
            "justify_content": null,
            "justify_items": null,
            "left": null,
            "margin": null,
            "max_height": null,
            "max_width": null,
            "min_height": null,
            "min_width": null,
            "object_fit": null,
            "object_position": null,
            "order": null,
            "overflow": null,
            "overflow_x": null,
            "overflow_y": null,
            "padding": null,
            "right": null,
            "top": null,
            "visibility": null,
            "width": null
          }
        },
        "036372f8fac044808e3197bd28ed3f33": {
          "model_module": "@jupyter-widgets/controls",
          "model_name": "ProgressStyleModel",
          "model_module_version": "1.5.0",
          "state": {
            "_model_module": "@jupyter-widgets/controls",
            "_model_module_version": "1.5.0",
            "_model_name": "ProgressStyleModel",
            "_view_count": null,
            "_view_module": "@jupyter-widgets/base",
            "_view_module_version": "1.2.0",
            "_view_name": "StyleView",
            "bar_color": null,
            "description_width": ""
          }
        },
        "5b90c146be2648a69afd5cb9c4b67591": {
          "model_module": "@jupyter-widgets/base",
          "model_name": "LayoutModel",
          "model_module_version": "1.2.0",
          "state": {
            "_model_module": "@jupyter-widgets/base",
            "_model_module_version": "1.2.0",
            "_model_name": "LayoutModel",
            "_view_count": null,
            "_view_module": "@jupyter-widgets/base",
            "_view_module_version": "1.2.0",
            "_view_name": "LayoutView",
            "align_content": null,
            "align_items": null,
            "align_self": null,
            "border": null,
            "bottom": null,
            "display": null,
            "flex": null,
            "flex_flow": null,
            "grid_area": null,
            "grid_auto_columns": null,
            "grid_auto_flow": null,
            "grid_auto_rows": null,
            "grid_column": null,
            "grid_gap": null,
            "grid_row": null,
            "grid_template_areas": null,
            "grid_template_columns": null,
            "grid_template_rows": null,
            "height": null,
            "justify_content": null,
            "justify_items": null,
            "left": null,
            "margin": null,
            "max_height": null,
            "max_width": null,
            "min_height": null,
            "min_width": null,
            "object_fit": null,
            "object_position": null,
            "order": null,
            "overflow": null,
            "overflow_x": null,
            "overflow_y": null,
            "padding": null,
            "right": null,
            "top": null,
            "visibility": null,
            "width": null
          }
        },
        "00cff4adafc94fc7819369e0beea99d6": {
          "model_module": "@jupyter-widgets/controls",
          "model_name": "DescriptionStyleModel",
          "model_module_version": "1.5.0",
          "state": {
            "_model_module": "@jupyter-widgets/controls",
            "_model_module_version": "1.5.0",
            "_model_name": "DescriptionStyleModel",
            "_view_count": null,
            "_view_module": "@jupyter-widgets/base",
            "_view_module_version": "1.2.0",
            "_view_name": "StyleView",
            "description_width": ""
          }
        }
      }
    }
  },
  "cells": [
    {
      "cell_type": "code",
      "source": [
        "!pip install -qU langchain pypdf sentence-transformers chromadb openai"
      ],
      "metadata": {
        "id": "GiQs8-_Nn_Ml",
        "colab": {
          "base_uri": "https://localhost:8080/"
        },
        "outputId": "b635e445-dd22-432f-af24-7f0ff33cf5dc"
      },
      "execution_count": 1,
      "outputs": [
        {
          "output_type": "stream",
          "name": "stdout",
          "text": [
            "\u001b[2K     \u001b[90m━━━━━━━━━━━━━━━━━━━━━━━━━━━━━━━━━━━━━━━━\u001b[0m \u001b[32m810.5/810.5 kB\u001b[0m \u001b[31m4.7 MB/s\u001b[0m eta \u001b[36m0:00:00\u001b[0m\n",
            "\u001b[2K     \u001b[90m━━━━━━━━━━━━━━━━━━━━━━━━━━━━━━━━━━━━━━━━\u001b[0m \u001b[32m286.1/286.1 kB\u001b[0m \u001b[31m9.1 MB/s\u001b[0m eta \u001b[36m0:00:00\u001b[0m\n",
            "\u001b[2K     \u001b[90m━━━━━━━━━━━━━━━━━━━━━━━━━━━━━━━━━━━━━━━━\u001b[0m \u001b[32m156.5/156.5 kB\u001b[0m \u001b[31m9.1 MB/s\u001b[0m eta \u001b[36m0:00:00\u001b[0m\n",
            "\u001b[2K     \u001b[90m━━━━━━━━━━━━━━━━━━━━━━━━━━━━━━━━━━━━━━━━\u001b[0m \u001b[32m525.5/525.5 kB\u001b[0m \u001b[31m10.7 MB/s\u001b[0m eta \u001b[36m0:00:00\u001b[0m\n",
            "\u001b[2K     \u001b[90m━━━━━━━━━━━━━━━━━━━━━━━━━━━━━━━━━━━━━━━━\u001b[0m \u001b[32m262.4/262.4 kB\u001b[0m \u001b[31m10.5 MB/s\u001b[0m eta \u001b[36m0:00:00\u001b[0m\n",
            "\u001b[2K     \u001b[90m━━━━━━━━━━━━━━━━━━━━━━━━━━━━━━━━━━━━━━━━\u001b[0m \u001b[32m1.8/1.8 MB\u001b[0m \u001b[31m15.9 MB/s\u001b[0m eta \u001b[36m0:00:00\u001b[0m\n",
            "\u001b[2K     \u001b[90m━━━━━━━━━━━━━━━━━━━━━━━━━━━━━━━━━━━━━━━━\u001b[0m \u001b[32m269.1/269.1 kB\u001b[0m \u001b[31m13.5 MB/s\u001b[0m eta \u001b[36m0:00:00\u001b[0m\n",
            "\u001b[2K     \u001b[90m━━━━━━━━━━━━━━━━━━━━━━━━━━━━━━━━━━━━━━━━\u001b[0m \u001b[32m71.6/71.6 kB\u001b[0m \u001b[31m3.0 MB/s\u001b[0m eta \u001b[36m0:00:00\u001b[0m\n",
            "\u001b[2K     \u001b[90m━━━━━━━━━━━━━━━━━━━━━━━━━━━━━━━━━━━━━━━━\u001b[0m \u001b[32m2.4/2.4 MB\u001b[0m \u001b[31m16.5 MB/s\u001b[0m eta \u001b[36m0:00:00\u001b[0m\n",
            "\u001b[2K     \u001b[90m━━━━━━━━━━━━━━━━━━━━━━━━━━━━━━━━━━━━━━━━\u001b[0m \u001b[32m92.1/92.1 kB\u001b[0m \u001b[31m5.0 MB/s\u001b[0m eta \u001b[36m0:00:00\u001b[0m\n",
            "\u001b[2K     \u001b[90m━━━━━━━━━━━━━━━━━━━━━━━━━━━━━━━━━━━━━━━━\u001b[0m \u001b[32m60.8/60.8 kB\u001b[0m \u001b[31m2.6 MB/s\u001b[0m eta \u001b[36m0:00:00\u001b[0m\n",
            "\u001b[2K     \u001b[90m━━━━━━━━━━━━━━━━━━━━━━━━━━━━━━━━━━━━━━━━\u001b[0m \u001b[32m41.3/41.3 kB\u001b[0m \u001b[31m2.0 MB/s\u001b[0m eta \u001b[36m0:00:00\u001b[0m\n",
            "\u001b[2K     \u001b[90m━━━━━━━━━━━━━━━━━━━━━━━━━━━━━━━━━━━━━━━━\u001b[0m \u001b[32m5.4/5.4 MB\u001b[0m \u001b[31m30.0 MB/s\u001b[0m eta \u001b[36m0:00:00\u001b[0m\n",
            "\u001b[2K     \u001b[90m━━━━━━━━━━━━━━━━━━━━━━━━━━━━━━━━━━━━━━━━\u001b[0m \u001b[32m6.8/6.8 MB\u001b[0m \u001b[31m46.6 MB/s\u001b[0m eta \u001b[36m0:00:00\u001b[0m\n",
            "\u001b[2K     \u001b[90m━━━━━━━━━━━━━━━━━━━━━━━━━━━━━━━━━━━━━━━━\u001b[0m \u001b[32m58.4/58.4 kB\u001b[0m \u001b[31m2.6 MB/s\u001b[0m eta \u001b[36m0:00:00\u001b[0m\n",
            "\u001b[2K     \u001b[90m━━━━━━━━━━━━━━━━━━━━━━━━━━━━━━━━━━━━━━━━\u001b[0m \u001b[32m105.7/105.7 kB\u001b[0m \u001b[31m8.6 MB/s\u001b[0m eta \u001b[36m0:00:00\u001b[0m\n",
            "\u001b[2K     \u001b[90m━━━━━━━━━━━━━━━━━━━━━━━━━━━━━━━━━━━━━━━━\u001b[0m \u001b[32m67.3/67.3 kB\u001b[0m \u001b[31m4.3 MB/s\u001b[0m eta \u001b[36m0:00:00\u001b[0m\n",
            "\u001b[?25h  Installing build dependencies ... \u001b[?25l\u001b[?25hdone\n",
            "  Getting requirements to build wheel ... \u001b[?25l\u001b[?25hdone\n",
            "  Preparing metadata (pyproject.toml) ... \u001b[?25l\u001b[?25hdone\n",
            "\u001b[2K     \u001b[90m━━━━━━━━━━━━━━━━━━━━━━━━━━━━━━━━━━━━━━━━\u001b[0m \u001b[32m698.9/698.9 kB\u001b[0m \u001b[31m30.6 MB/s\u001b[0m eta \u001b[36m0:00:00\u001b[0m\n",
            "\u001b[2K     \u001b[90m━━━━━━━━━━━━━━━━━━━━━━━━━━━━━━━━━━━━━━━━\u001b[0m \u001b[32m1.6/1.6 MB\u001b[0m \u001b[31m52.5 MB/s\u001b[0m eta \u001b[36m0:00:00\u001b[0m\n",
            "\u001b[2K     \u001b[90m━━━━━━━━━━━━━━━━━━━━━━━━━━━━━━━━━━━━━━━━\u001b[0m \u001b[32m67.6/67.6 kB\u001b[0m \u001b[31m5.4 MB/s\u001b[0m eta \u001b[36m0:00:00\u001b[0m\n",
            "\u001b[2K     \u001b[90m━━━━━━━━━━━━━━━━━━━━━━━━━━━━━━━━━━━━━━━━\u001b[0m \u001b[32m138.5/138.5 kB\u001b[0m \u001b[31m3.5 MB/s\u001b[0m eta \u001b[36m0:00:00\u001b[0m\n",
            "\u001b[2K     \u001b[90m━━━━━━━━━━━━━━━━━━━━━━━━━━━━━━━━━━━━━━━━\u001b[0m \u001b[32m75.6/75.6 kB\u001b[0m \u001b[31m4.3 MB/s\u001b[0m eta \u001b[36m0:00:00\u001b[0m\n",
            "\u001b[2K     \u001b[90m━━━━━━━━━━━━━━━━━━━━━━━━━━━━━━━━━━━━━━━━\u001b[0m \u001b[32m49.4/49.4 kB\u001b[0m \u001b[31m3.0 MB/s\u001b[0m eta \u001b[36m0:00:00\u001b[0m\n",
            "\u001b[2K     \u001b[90m━━━━━━━━━━━━━━━━━━━━━━━━━━━━━━━━━━━━━━━━\u001b[0m \u001b[32m71.5/71.5 kB\u001b[0m \u001b[31m6.3 MB/s\u001b[0m eta \u001b[36m0:00:00\u001b[0m\n",
            "\u001b[2K     \u001b[90m━━━━━━━━━━━━━━━━━━━━━━━━━━━━━━━━━━━━━━━━\u001b[0m \u001b[32m77.8/77.8 kB\u001b[0m \u001b[31m4.9 MB/s\u001b[0m eta \u001b[36m0:00:00\u001b[0m\n",
            "\u001b[2K     \u001b[90m━━━━━━━━━━━━━━━━━━━━━━━━━━━━━━━━━━━━━━━━\u001b[0m \u001b[32m58.3/58.3 kB\u001b[0m \u001b[31m5.2 MB/s\u001b[0m eta \u001b[36m0:00:00\u001b[0m\n",
            "\u001b[2K     \u001b[90m━━━━━━━━━━━━━━━━━━━━━━━━━━━━━━━━━━━━━━━━\u001b[0m \u001b[32m53.0/53.0 kB\u001b[0m \u001b[31m4.9 MB/s\u001b[0m eta \u001b[36m0:00:00\u001b[0m\n",
            "\u001b[2K     \u001b[90m━━━━━━━━━━━━━━━━━━━━━━━━━━━━━━━━━━━━━━━━\u001b[0m \u001b[32m46.0/46.0 kB\u001b[0m \u001b[31m3.7 MB/s\u001b[0m eta \u001b[36m0:00:00\u001b[0m\n",
            "\u001b[2K     \u001b[90m━━━━━━━━━━━━━━━━━━━━━━━━━━━━━━━━━━━━━━━━\u001b[0m \u001b[32m50.8/50.8 kB\u001b[0m \u001b[31m3.6 MB/s\u001b[0m eta \u001b[36m0:00:00\u001b[0m\n",
            "\u001b[2K     \u001b[90m━━━━━━━━━━━━━━━━━━━━━━━━━━━━━━━━━━━━━━━━\u001b[0m \u001b[32m23.7/23.7 MB\u001b[0m \u001b[31m32.9 MB/s\u001b[0m eta \u001b[36m0:00:00\u001b[0m\n",
            "\u001b[2K     \u001b[90m━━━━━━━━━━━━━━━━━━━━━━━━━━━━━━━━━━━━━━━━\u001b[0m \u001b[32m823.6/823.6 kB\u001b[0m \u001b[31m33.1 MB/s\u001b[0m eta \u001b[36m0:00:00\u001b[0m\n",
            "\u001b[2K     \u001b[90m━━━━━━━━━━━━━━━━━━━━━━━━━━━━━━━━━━━━━━━━\u001b[0m \u001b[32m14.1/14.1 MB\u001b[0m \u001b[31m44.8 MB/s\u001b[0m eta \u001b[36m0:00:00\u001b[0m\n",
            "\u001b[2K     \u001b[90m━━━━━━━━━━━━━━━━━━━━━━━━━━━━━━━━━━━━━━━━\u001b[0m \u001b[32m731.7/731.7 MB\u001b[0m \u001b[31m1.5 MB/s\u001b[0m eta \u001b[36m0:00:00\u001b[0m\n",
            "\u001b[2K     \u001b[90m━━━━━━━━━━━━━━━━━━━━━━━━━━━━━━━━━━━━━━━━\u001b[0m \u001b[32m410.6/410.6 MB\u001b[0m \u001b[31m2.6 MB/s\u001b[0m eta \u001b[36m0:00:00\u001b[0m\n",
            "\u001b[2K     \u001b[90m━━━━━━━━━━━━━━━━━━━━━━━━━━━━━━━━━━━━━━━━\u001b[0m \u001b[32m121.6/121.6 MB\u001b[0m \u001b[31m8.5 MB/s\u001b[0m eta \u001b[36m0:00:00\u001b[0m\n",
            "\u001b[2K     \u001b[90m━━━━━━━━━━━━━━━━━━━━━━━━━━━━━━━━━━━━━━━━\u001b[0m \u001b[32m56.5/56.5 MB\u001b[0m \u001b[31m9.4 MB/s\u001b[0m eta \u001b[36m0:00:00\u001b[0m\n",
            "\u001b[2K     \u001b[90m━━━━━━━━━━━━━━━━━━━━━━━━━━━━━━━━━━━━━━━━\u001b[0m \u001b[32m124.2/124.2 MB\u001b[0m \u001b[31m7.0 MB/s\u001b[0m eta \u001b[36m0:00:00\u001b[0m\n",
            "\u001b[2K     \u001b[90m━━━━━━━━━━━━━━━━━━━━━━━━━━━━━━━━━━━━━━━━\u001b[0m \u001b[32m196.0/196.0 MB\u001b[0m \u001b[31m3.2 MB/s\u001b[0m eta \u001b[36m0:00:00\u001b[0m\n",
            "\u001b[2K     \u001b[90m━━━━━━━━━━━━━━━━━━━━━━━━━━━━━━━━━━━━━━━━\u001b[0m \u001b[32m166.0/166.0 MB\u001b[0m \u001b[31m7.7 MB/s\u001b[0m eta \u001b[36m0:00:00\u001b[0m\n",
            "\u001b[2K     \u001b[90m━━━━━━━━━━━━━━━━━━━━━━━━━━━━━━━━━━━━━━━━\u001b[0m \u001b[32m99.1/99.1 kB\u001b[0m \u001b[31m10.2 MB/s\u001b[0m eta \u001b[36m0:00:00\u001b[0m\n",
            "\u001b[2K     \u001b[90m━━━━━━━━━━━━━━━━━━━━━━━━━━━━━━━━━━━━━━━━\u001b[0m \u001b[32m21.1/21.1 MB\u001b[0m \u001b[31m67.5 MB/s\u001b[0m eta \u001b[36m0:00:00\u001b[0m\n",
            "\u001b[2K     \u001b[90m━━━━━━━━━━━━━━━━━━━━━━━━━━━━━━━━━━━━━━━━\u001b[0m \u001b[32m341.4/341.4 kB\u001b[0m \u001b[31m28.7 MB/s\u001b[0m eta \u001b[36m0:00:00\u001b[0m\n",
            "\u001b[2K     \u001b[90m━━━━━━━━━━━━━━━━━━━━━━━━━━━━━━━━━━━━━━━━\u001b[0m \u001b[32m3.4/3.4 MB\u001b[0m \u001b[31m56.6 MB/s\u001b[0m eta \u001b[36m0:00:00\u001b[0m\n",
            "\u001b[2K     \u001b[90m━━━━━━━━━━━━━━━━━━━━━━━━━━━━━━━━━━━━━━━━\u001b[0m \u001b[32m1.3/1.3 MB\u001b[0m \u001b[31m46.6 MB/s\u001b[0m eta \u001b[36m0:00:00\u001b[0m\n",
            "\u001b[2K     \u001b[90m━━━━━━━━━━━━━━━━━━━━━━━━━━━━━━━━━━━━━━━━\u001b[0m \u001b[32m130.2/130.2 kB\u001b[0m \u001b[31m12.9 MB/s\u001b[0m eta \u001b[36m0:00:00\u001b[0m\n",
            "\u001b[2K     \u001b[90m━━━━━━━━━━━━━━━━━━━━━━━━━━━━━━━━━━━━━━━━\u001b[0m \u001b[32m86.8/86.8 kB\u001b[0m \u001b[31m8.7 MB/s\u001b[0m eta \u001b[36m0:00:00\u001b[0m\n",
            "\u001b[?25h  Building wheel for pypika (pyproject.toml) ... \u001b[?25l\u001b[?25hdone\n"
          ]
        }
      ]
    },
    {
      "cell_type": "markdown",
      "source": [
        "## Multi-Query Retriever"
      ],
      "metadata": {
        "id": "_HBhuL23S_YR"
      }
    },
    {
      "cell_type": "code",
      "source": [
        "# Build a sample vectorDB\n",
        "from langchain.text_splitter import RecursiveCharacterTextSplitter\n",
        "from langchain_community.document_loaders import WebBaseLoader\n",
        "from langchain_community.vectorstores import Chroma\n",
        "from langchain.embeddings import HuggingFaceEmbeddings\n",
        "\n",
        "# Load blog post\n",
        "loader = WebBaseLoader(\"https://n.news.naver.com/mnews/article/003/0012317114?sid=105\")\n",
        "data = loader.load()\n",
        "\n",
        "# Split\n",
        "text_splitter = RecursiveCharacterTextSplitter(chunk_size=300, chunk_overlap=0)\n",
        "splits = text_splitter.split_documents(data)\n",
        "\n",
        "# VectorDB\n",
        "model_name = \"jhgan/ko-sbert-nli\"\n",
        "encode_kwargs = {'normalize_embeddings': True}\n",
        "ko_embedding = HuggingFaceEmbeddings(\n",
        "    model_name=model_name,\n",
        "    encode_kwargs=encode_kwargs\n",
        ")\n",
        "\n",
        "vectordb = Chroma.from_documents(documents=splits, embedding=ko_embedding)"
      ],
      "metadata": {
        "id": "Y3TWw12cSqRw",
        "colab": {
          "base_uri": "https://localhost:8080/",
          "height": 478,
          "referenced_widgets": [
            "da8fdba272bc4769b5434567551cf4f4",
            "49003ab2ca1a44b1be5fd2d8e7462487",
            "1f2f55423da54c95b9373269dc15f183",
            "349a6c2a9a1c484988179add8fff1be9",
            "f1362690a2614f1b81001c8253ddda27",
            "ee0fc52c250044ed93e89193fe729091",
            "f3818960189742c79b7a664c3f8ca7f0",
            "4fe81f8d5d8f4b099a2dfb5cef74e218",
            "0ea61517959744adb98e9fcb5f07ebab",
            "fc34f373bea84af781615926262ba421",
            "535a4e041ea94c12b5a6b735c3e57477",
            "163e7289a2a6474f9657669c035c8d0e",
            "0ca7f7f9b3fc486ba36ba334dea0b0ab",
            "e9c85251a61e4a1d84d755298be9032c",
            "5145a8d80594401f9984c7e1fe9e6d1f",
            "4aa89251ca024423a122ba621f7fa353",
            "0deec253663d47d7b4ba118303d79af3",
            "c2984090d7df44b6abd0adc17d932da1",
            "97330e3214c34fd5a19f3556aa0fa47e",
            "7a3bb533be3a4307b1f6ad3cb0d34452",
            "cda26f958db14cf6940be03fe83e9909",
            "ddfed887cc544499aef51f33f25799bc",
            "2b1a688804f248079a3c8cb2ff220b93",
            "9c1688b35c63401290d79c629e7c6d3d",
            "0efb039ce16c4b429d9073b3ee9ea7b4",
            "b3e828bb7a9849d5bce89bf3b5557df0",
            "4027f96fb1e04f63aa61e25734422f99",
            "bf8f95a0b17842ca8d0d95e695a46eb7",
            "2431cfaae5af427e9fa8a3f49d739d51",
            "d5bd1147eac14a43af157eba9cf69d91",
            "3f07feb4160847d7ae581de04da3c51b",
            "2e55e65f757140309f60923fd429992f",
            "4383b6f3015b45dba36db528e4a3e221",
            "427644b8c3c74c9987e3619fd70e4ac1",
            "295e35cf196f41aab63b251aaaaf2e0c",
            "697a5c1f812f4c138f313482d44afc1e",
            "b6f75e56a90649cfa8f48e865dfb8545",
            "2c21174484634c0a846064d160d93a76",
            "5d51fc500a6845729d7edfee62570c0c",
            "a09de69bcf0f4937b22d33f5c304ebd2",
            "3ad216e4e3ce410eaa89b30e263dcba3",
            "f1922cacfe954b399ccaf3abf44b71e5",
            "2616a1ef2663447ebb5065759d09c268",
            "58239cf2f98644d0b1ab3e81a2449731",
            "df094541177b496e962d06cf49a7b173",
            "4e110242eb1f4b5f9d4acd5443773221",
            "a0d737282de94e2a8080bdd7bf30eb1d",
            "747c1172a1e84f6a82905e931fdaf9dc",
            "a9e3f2fc3e5642b3ac69405e84328ea3",
            "9cbc9da570fd4e4596470ada9943f135",
            "ab48e97f498d4b1087be6129aa4a8423",
            "ad17665a27a14516961ef09559f4e4f8",
            "a50f691b9bf34d6b9f74414c8b3847e3",
            "c34f4f8145ba4d469c4266fdc3d67f0d",
            "605ea98a90bc4afc851dc2ed92d351f2",
            "32eef39673454492868bc7f9511d4cd5",
            "a304f757907e462cba958cec1a5d9c17",
            "acf8ab53d529426299f45bfe76ab7b1a",
            "e7524b34bec848fca251d23d2223ca33",
            "4a09752afd6840e3bec2586cbce7ec41",
            "9da2a622ff92481cac786e07bb0e8951",
            "32b99ac84b4b497f9e60de533b70d49d",
            "fe1395d03159478784cdea82deb2e4d6",
            "41230570caf74b49853565e099aef4b4",
            "6c80366ec7bc43ef8ceb730204f2d06f",
            "e82d730ff9084bce91cf62c3553b6f2e",
            "2aa4ec16f7314e11bb148c62b351e5e9",
            "00ba851ce24347ff8569f6903ab90d62",
            "e16a3cc618494591b1059860819d4f8b",
            "f5071596e365473bbba03e46d518e199",
            "3592cd6fe3c141fb93df84b600d8243b",
            "2e0adbefdacb469eaafa1cd74aca5029",
            "b7bb4007771c48278a893a351505025e",
            "96f0674486e24d068f6c08bc78079692",
            "69c46b6e45624e16acd9243c138df238",
            "5873fb9d6d2e48b08786ff6c1dbd1fc9",
            "c910082d05f9419eb618fbab1df18f15",
            "4e5e7bb12530486b914e4f881e7c11fa",
            "e88785e249e3415cbff478af7a8da070",
            "6aedebf0e7274c92b76440544ae589d6",
            "62d7fd9b755f4192a423aafce7799599",
            "f71ce2d8dd8946809df61cf5e4054508",
            "d7f0bb6a8db94c2789c26d33f18095da",
            "64d96981942d4990a0c1a338f1c84e05",
            "f80548f7721a4565a47aae7ab5732ad8",
            "408bcb4a09264fd7999b77d18a2c0197",
            "5b42f6a3b6d14dc49c038248221d2b9a",
            "f15296918b744660a4bcfa446864bad9",
            "41069d4ccda14806b99d98eca8cdd564",
            "48ff3260e09548538bf0f8da3e1e6b9c",
            "55ee4fe6efb34bf882947079e1d2762d",
            "e762eba0922d4a8ea1e89d5e26600b56",
            "d40642a0b3ba40c8a626ef17abf43ff9",
            "ee1cbc929c384ee3b5d565ef5d1053ee",
            "2f2c6a5e45e94c4cb6beb024e303f33e",
            "086dc71c2e964ab5b3ef3d663d95a291",
            "057fbc9a30c7426e876aae9a8ee2d4c3",
            "b5728840534b4f0088ab4846ab09e3eb",
            "3c60d882994e47b4b59150caf2a86d14",
            "53f48a29b6d54446a503fc216c6777ea",
            "09ecf96e22194109abe1bb2c8817f98d",
            "7ccd1a2a28e946da9ac5c7cb3ea6dd38",
            "40e7237ca1324254a03d447691a72088",
            "d973bb1486ac4c6d986db0d531e4a1d8",
            "a36a2bb086324249bda001836901dda1",
            "4c8f8ff5ac394718a0607e66c8dfe19f",
            "bfd82c70680a45068061dd3aac05fa5f",
            "a2a4716e18884519b10e88af23bd764d",
            "87211aa098d34be895d8fa2e809a9804",
            "56ab1093daea41e5a92cb2764e942011",
            "053863e950a146e9a783b5c86db9905d",
            "01e9746e5c764e96b2b0630d12caa53d",
            "670daf2d51f04069899f1adfebf7ad01",
            "3367fea5c8d047f48d888a20abb8a450",
            "33804697e71a41b2af8c3cd515ed3a4f",
            "f33c6c1adf274b009550407808ca1cf9",
            "17c37c31e4fa4c2ea399d3800aaf4c7f",
            "0c624dcc1df844318ccd1484c8ae0d27",
            "036372f8fac044808e3197bd28ed3f33",
            "5b90c146be2648a69afd5cb9c4b67591",
            "00cff4adafc94fc7819369e0beea99d6"
          ]
        },
        "outputId": "2540b702-37c6-427b-a62e-d105c64ea585"
      },
      "execution_count": null,
      "outputs": [
        {
          "output_type": "stream",
          "name": "stderr",
          "text": [
            "/usr/local/lib/python3.10/dist-packages/huggingface_hub/utils/_token.py:88: UserWarning: \n",
            "The secret `HF_TOKEN` does not exist in your Colab secrets.\n",
            "To authenticate with the Hugging Face Hub, create a token in your settings tab (https://huggingface.co/settings/tokens), set it as secret in your Google Colab and restart your session.\n",
            "You will be able to reuse this secret in all of your notebooks.\n",
            "Please note that authentication is recommended but still optional to access public models or datasets.\n",
            "  warnings.warn(\n"
          ]
        },
        {
          "output_type": "display_data",
          "data": {
            "text/plain": [
              "modules.json:   0%|          | 0.00/229 [00:00<?, ?B/s]"
            ],
            "application/vnd.jupyter.widget-view+json": {
              "version_major": 2,
              "version_minor": 0,
              "model_id": "da8fdba272bc4769b5434567551cf4f4"
            }
          },
          "metadata": {}
        },
        {
          "output_type": "display_data",
          "data": {
            "text/plain": [
              "config_sentence_transformers.json:   0%|          | 0.00/123 [00:00<?, ?B/s]"
            ],
            "application/vnd.jupyter.widget-view+json": {
              "version_major": 2,
              "version_minor": 0,
              "model_id": "163e7289a2a6474f9657669c035c8d0e"
            }
          },
          "metadata": {}
        },
        {
          "output_type": "display_data",
          "data": {
            "text/plain": [
              "README.md:   0%|          | 0.00/4.46k [00:00<?, ?B/s]"
            ],
            "application/vnd.jupyter.widget-view+json": {
              "version_major": 2,
              "version_minor": 0,
              "model_id": "2b1a688804f248079a3c8cb2ff220b93"
            }
          },
          "metadata": {}
        },
        {
          "output_type": "display_data",
          "data": {
            "text/plain": [
              "sentence_bert_config.json:   0%|          | 0.00/53.0 [00:00<?, ?B/s]"
            ],
            "application/vnd.jupyter.widget-view+json": {
              "version_major": 2,
              "version_minor": 0,
              "model_id": "427644b8c3c74c9987e3619fd70e4ac1"
            }
          },
          "metadata": {}
        },
        {
          "output_type": "display_data",
          "data": {
            "text/plain": [
              "config.json:   0%|          | 0.00/620 [00:00<?, ?B/s]"
            ],
            "application/vnd.jupyter.widget-view+json": {
              "version_major": 2,
              "version_minor": 0,
              "model_id": "df094541177b496e962d06cf49a7b173"
            }
          },
          "metadata": {}
        },
        {
          "output_type": "display_data",
          "data": {
            "text/plain": [
              "pytorch_model.bin:   0%|          | 0.00/443M [00:00<?, ?B/s]"
            ],
            "application/vnd.jupyter.widget-view+json": {
              "version_major": 2,
              "version_minor": 0,
              "model_id": "32eef39673454492868bc7f9511d4cd5"
            }
          },
          "metadata": {}
        },
        {
          "output_type": "display_data",
          "data": {
            "text/plain": [
              "tokenizer_config.json:   0%|          | 0.00/538 [00:00<?, ?B/s]"
            ],
            "application/vnd.jupyter.widget-view+json": {
              "version_major": 2,
              "version_minor": 0,
              "model_id": "2aa4ec16f7314e11bb148c62b351e5e9"
            }
          },
          "metadata": {}
        },
        {
          "output_type": "display_data",
          "data": {
            "text/plain": [
              "vocab.txt:   0%|          | 0.00/248k [00:00<?, ?B/s]"
            ],
            "application/vnd.jupyter.widget-view+json": {
              "version_major": 2,
              "version_minor": 0,
              "model_id": "4e5e7bb12530486b914e4f881e7c11fa"
            }
          },
          "metadata": {}
        },
        {
          "output_type": "display_data",
          "data": {
            "text/plain": [
              "tokenizer.json:   0%|          | 0.00/495k [00:00<?, ?B/s]"
            ],
            "application/vnd.jupyter.widget-view+json": {
              "version_major": 2,
              "version_minor": 0,
              "model_id": "41069d4ccda14806b99d98eca8cdd564"
            }
          },
          "metadata": {}
        },
        {
          "output_type": "display_data",
          "data": {
            "text/plain": [
              "special_tokens_map.json:   0%|          | 0.00/112 [00:00<?, ?B/s]"
            ],
            "application/vnd.jupyter.widget-view+json": {
              "version_major": 2,
              "version_minor": 0,
              "model_id": "53f48a29b6d54446a503fc216c6777ea"
            }
          },
          "metadata": {}
        },
        {
          "output_type": "display_data",
          "data": {
            "text/plain": [
              "1_Pooling/config.json:   0%|          | 0.00/190 [00:00<?, ?B/s]"
            ],
            "application/vnd.jupyter.widget-view+json": {
              "version_major": 2,
              "version_minor": 0,
              "model_id": "053863e950a146e9a783b5c86db9905d"
            }
          },
          "metadata": {}
        }
      ]
    },
    {
      "cell_type": "code",
      "source": [
        "from langchain.retrievers.multi_query import MultiQueryRetriever\n",
        "from langchain.chat_models import ChatOpenAI\n",
        "\n",
        "question = \"삼성전자 갤럭시 S24는 어떨 예정이야?\"\n",
        "llm = ChatOpenAI(temperature=0, openai_api_key = \"sk-*******************************************\")\n",
        "retriever_from_llm = MultiQueryRetriever.from_llm(\n",
        "    retriever=vectordb.as_retriever(), llm=llm\n",
        ")"
      ],
      "metadata": {
        "id": "epoTy2FNSuqz",
        "colab": {
          "base_uri": "https://localhost:8080/"
        },
        "outputId": "357aa248-b9eb-43c7-becd-91d09e42cba6"
      },
      "execution_count": null,
      "outputs": [
        {
          "output_type": "stream",
          "name": "stderr",
          "text": [
            "/usr/local/lib/python3.10/dist-packages/langchain_core/_api/deprecation.py:117: LangChainDeprecationWarning: The class `langchain_community.chat_models.openai.ChatOpenAI` was deprecated in langchain-community 0.0.10 and will be removed in 0.2.0. An updated version of the class exists in the langchain-openai package and should be used instead. To use it run `pip install -U langchain-openai` and import as `from langchain_openai import ChatOpenAI`.\n",
            "  warn_deprecated(\n"
          ]
        }
      ]
    },
    {
      "cell_type": "code",
      "source": [
        "# Set logging for the queries\n",
        "import logging\n",
        "\n",
        "logging.basicConfig()\n",
        "logging.getLogger(\"langchain.retrievers.multi_query\").setLevel(logging.INFO)"
      ],
      "metadata": {
        "id": "eU6X_HctSumR"
      },
      "execution_count": null,
      "outputs": []
    },
    {
      "cell_type": "code",
      "source": [
        "unique_docs = retriever_from_llm.get_relevant_documents(query=question)\n",
        "len(unique_docs)"
      ],
      "metadata": {
        "id": "pXYmox2MSuZ-",
        "colab": {
          "base_uri": "https://localhost:8080/"
        },
        "outputId": "e4118e9c-91fe-4216-9353-68aa1553594f"
      },
      "execution_count": null,
      "outputs": [
        {
          "output_type": "stream",
          "name": "stderr",
          "text": [
            "INFO:langchain.retrievers.multi_query:Generated queries: ['1. 삼성 갤럭시 S24 출시 일정은 언제인가요?', '2. 삼성 갤럭시 S24의 기능과 스펙은 무엇인가요?', '3. 삼성 갤럭시 S24의 가격 대략적으로 얼마일까요?']\n"
          ]
        },
        {
          "output_type": "execute_result",
          "data": {
            "text/plain": [
              "8"
            ]
          },
          "metadata": {},
          "execution_count": 6
        }
      ]
    },
    {
      "cell_type": "code",
      "source": [
        "unique_docs"
      ],
      "metadata": {
        "id": "MIz2l4OaS75w",
        "colab": {
          "base_uri": "https://localhost:8080/"
        },
        "outputId": "edb16439-f2d7-4686-ed03-b4f7077dafb4"
      },
      "execution_count": null,
      "outputs": [
        {
          "output_type": "execute_result",
          "data": {
            "text/plain": [
              "[Document(page_content=\"[서울=뉴시스] 삼성전자가 17일 오전 10시(현지시간, 한국 시간 18일 오전 3시) 미국 캘리포니아주 산호세(새너제이)에서 '삼성 갤럭시 언팩 2024'를 열고 갤럭시 S24를 공개한다. 사진은 포르투갈에서 유출된 갤럭시 S24 시리즈 포스터 추정 이미지 (사진=theonecid 엑스 캡처)  *재판매 및 DB 금지[서울=뉴시스]윤정민 기자 = 인공지능(AI) 서비스가 대거 탑재될 삼성전자 플래그십 스마트폰 '갤럭시 S24'가 18일 베일을 벗는다. 갤럭시 S23이 전작 대비 카메라, 디자인 등 대폭 개선됐다면, 이번 신작은\", metadata={'language': 'ko', 'source': 'https://n.news.naver.com/mnews/article/003/0012317114?sid=105', 'title': \"언팩 D-4, 세계 최초 AI폰 '갤S24' 이렇게 나온다\"}),\n",
              " Document(page_content=\"[서울=뉴시스] 삼성전자가 17일 오전 10시(현지시간, 한국 시간 18일 오전 3시) 미국 캘리포니아주 산호세(새너제이)에서 열 '삼성 갤럭시 언팩 2024'의 주제는 '모바일 AI의 새로운 시대 개막'이다. 앞서 삼성전자가 AI를 스마트폰 차기작 특징으로 예고했던 만큼 어떤 AI 기능이 실릴지 관심이 쏠린다.삼성전자가 공식적으로 밝힌 AI 서비스는 실시간 통화 통역이다. 이미 SK텔레콤 '에이닷' 등 통화 통역을 지원하는 앱이 있다. 하지만 자체 AI가 탑재될 갤럭시 S24는 별도 앱을 설치하지 않아도 통역 통화를 이용할 수\", metadata={'language': 'ko', 'source': 'https://n.news.naver.com/mnews/article/003/0012317114?sid=105', 'title': \"언팩 D-4, 세계 최초 AI폰 '갤S24' 이렇게 나온다\"}),\n",
              " Document(page_content=\"[서울=뉴시스] 8일 업계에 따르면 삼성전자는 미국 삼성닷컴 새 스마트폰 사전예약 알림 창구에 '갤럭시 AI와 함께하는 줌이 온다(Zoom with Galaxy AI is coming)'을 주제로 한 영상을 게재했다. (영상=미국 삼성닷컴 캡처) *재판매 및 DB 금지 *재판매 및 DB 금지AI를 통해 사진 속 일부 물체 크기를 더 키울 수 있는 기능도 나올 가능성이 있다. 삼성전자는 미국 삼성닷컴 새 스마트폰 사전 예약 알림 창구에 '갤럭시 AI와 함께하는 줌이 온다'를 주제로 한 영상을 게재했다. 나인투파이브구글 등 해외 IT\", metadata={'language': 'ko', 'source': 'https://n.news.naver.com/mnews/article/003/0012317114?sid=105', 'title': \"언팩 D-4, 세계 최초 AI폰 '갤S24' 이렇게 나온다\"}),\n",
              " Document(page_content='글자 크기 변경하기\\n\\n\\n\\n가1단계\\n작게\\n\\n\\n가2단계\\n보통\\n\\n\\n가3단계\\n크게\\n\\n\\n가4단계\\n아주크게\\n\\n\\n가5단계\\n최대크게\\n\\n\\n\\n\\n\\n\\nSNS 보내기\\n\\n\\n\\n인쇄하기\\n\\n\\n\\n\\n\\n\\n\\n\\n삼성전자, 17일(美 현지시간) 언팩서 갤럭시 S24 시리즈 공개국내 출고가 일반·플러스 동결, 울트라 약 10만원 인상 전망실시간 통화 통역, 이미지 자동 편집 등 AI 기능 탑재 예상', metadata={'language': 'ko', 'source': 'https://n.news.naver.com/mnews/article/003/0012317114?sid=105', 'title': \"언팩 D-4, 세계 최초 AI폰 '갤S24' 이렇게 나온다\"}),\n",
              " Document(page_content='[서울=뉴시스] 삼성전자 갤럭시 S24 시리즈 예상 색상 유출본 (사진=인터넷 커뮤니티 캡처) *재판매 및 DB 금지외관의 경우 갤럭시 S24 울트라 모델이 전작과 달리 티타늄 소재를 썼다는 데 눈에 띈다. 티타늄은 알루미늄보다 무게가 무겁지만 내구성이 강하다.스마트폰 두뇌 역할을 하는 모바일 애플리케이션 프로세서(AP)에는 퀄컴 스냅드래곤8 3세대와 삼성 엑시노스 2400이 적용될 것으로 보인다. 국내 시장에 출시될 제품의 경우 퀄컴 칩은 울트라 모델에만 탑재되고 일반과 플러스 모델에는 엑시노스 칩이 실릴 전망이다.작업 처리에', metadata={'language': 'ko', 'source': 'https://n.news.naver.com/mnews/article/003/0012317114?sid=105', 'title': \"언팩 D-4, 세계 최초 AI폰 '갤S24' 이렇게 나온다\"}),\n",
              " Document(page_content='한층 진화된 AI 서비스로 새로운 스마트폰 기준을 제시할 것으로 전망된다.업계 모두가 스마트폰 시장 선두 주자인 삼성전자의 신작을 궁금해하는 만큼 공신력 있는 IT 팁스터(정보유출자)들이 여러 정보를 유출했다. 14일 현재까지 삼성전자가 공개한 스마트폰 신작 정보와 업계에 유출된 내용을 종합해 갤럭시 S24 예상 사양을 정리해 봤다.\"손안에 만능 비서 담았다\"…인터넷 연결 없어도 AI 쓸 수 있는 \\'온디바이스 AI폰\\'', metadata={'language': 'ko', 'source': 'https://n.news.naver.com/mnews/article/003/0012317114?sid=105', 'title': \"언팩 D-4, 세계 최초 AI폰 '갤S24' 이렇게 나온다\"}),\n",
              " Document(page_content='기준 오닉스 블랙, 마블 그레이, 코발트 바이올렛, 앰버 옐로우 등 4가지이며 울트라는 티타늄 블랙, 티타늄 그레이, 티타늄 바이올렛, 티타늄 옐로우 등 4가지가 될 것으로 예상된다. 이 밖에 삼성닷컴 판매 한정으로 티타늄 그린, 티타늄 블루, 티타늄 오렌지도 추가될 전망이다.국내 출고가 일반·플러스 동결, 울트라 약 10만원 인상될 듯…19일 사전예약소비자 입장에서 제일 궁금한 건 가격과 사전 예약 혜택이다.일반형, 플러스 모델(256GB 기준) 가격은 전작과 같을 것으로 전망된다. 256GB 용량 기준 일반형과 플러스 모델', metadata={'language': 'ko', 'source': 'https://n.news.naver.com/mnews/article/003/0012317114?sid=105', 'title': \"언팩 D-4, 세계 최초 AI폰 '갤S24' 이렇게 나온다\"}),\n",
              " Document(page_content='예상 출고가는 각각 115만5000원, 135만3000원으로 잠정 책정된 것으로 알려졌다. 512GB의 경우 전작 대비 2만2000원 비싸진 129만8000원, 149만6000원이 될 전망이다.울트라 모델은 전작보다 비싸질 것으로 알려졌다. 256GB는 9만9000원 오른 169만8400원, 512GB는 12만1000원 오른 184만1400원으로 예상된다.사전 예약 기간은 19일부터 25일까지 7일간 진행될 것으로 예상되며 사전 예약 혜택은 더블 스토리지, 갤럭시 워치 할인, 갤럭시 버즈 FE 할인 등이 거론되고 있다.더블', metadata={'language': 'ko', 'source': 'https://n.news.naver.com/mnews/article/003/0012317114?sid=105', 'title': \"언팩 D-4, 세계 최초 AI폰 '갤S24' 이렇게 나온다\"})]"
            ]
          },
          "metadata": {},
          "execution_count": 7
        }
      ]
    },
    {
      "cell_type": "markdown",
      "source": [
        "## 기본 Parent-document Retriever"
      ],
      "metadata": {
        "id": "digNJMyRtM3k"
      }
    },
    {
      "cell_type": "code",
      "execution_count": 10,
      "metadata": {
        "id": "tZOk-3LOnb-0"
      },
      "outputs": [],
      "source": [
        "from langchain.retrievers import ParentDocumentRetriever"
      ]
    },
    {
      "cell_type": "code",
      "source": [
        "from langchain.storage import InMemoryStore\n",
        "from langchain.text_splitter import RecursiveCharacterTextSplitter\n",
        "from langchain.document_loaders import PyPDFLoader\n",
        "from langchain_community.vectorstores import Chroma\n",
        "from langchain.embeddings import HuggingFaceEmbeddings\n"
      ],
      "metadata": {
        "id": "f0ONC3wZn62e"
      },
      "execution_count": 11,
      "outputs": []
    },
    {
      "cell_type": "code",
      "source": [
        "\n",
        "\n",
        "loaders = [\n",
        "    PyPDFLoader(\"/content/drive/MyDrive/Langchain/example data/[복지이슈 FOCUS 15ȣ] 경기도 극저신용대출심사모형 개발을 위한 국내 신용정보 활용가능성 탐색.pdf\"),\n",
        "    PyPDFLoader(\"/content/drive/MyDrive/Langchain/example data/[이슈리포트 2022-2호] 혁신성장 정책금융 동향.pdf\"),\n",
        "]\n",
        "docs = []\n",
        "for loader in loaders:\n",
        "    docs.extend(loader.load_and_split())"
      ],
      "metadata": {
        "id": "VpJhZWThn7gG"
      },
      "execution_count": 12,
      "outputs": []
    },
    {
      "cell_type": "code",
      "source": [
        "model_name = \"jhgan/ko-sbert-nli\"\n",
        "encode_kwargs = {'normalize_embeddings': True}\n",
        "ko_embedding = HuggingFaceEmbeddings(\n",
        "    model_name=model_name,\n",
        "    encode_kwargs=encode_kwargs\n",
        ")"
      ],
      "metadata": {
        "id": "KBb-1ym5pKRG"
      },
      "execution_count": 13,
      "outputs": []
    },
    {
      "cell_type": "code",
      "source": [
        "# This text splitter is used to create the child documents\n",
        "child_splitter = RecursiveCharacterTextSplitter(chunk_size=500)\n",
        "# The vectorstore to use to index the child chunks\n",
        "vectorstore = Chroma(\n",
        "    collection_name=\"full_documents\", embedding_function=ko_embedding\n",
        ")\n",
        "# The storage layer for the parent documents\n",
        "store = InMemoryStore()\n",
        "retriever = ParentDocumentRetriever(\n",
        "    vectorstore=vectorstore,\n",
        "    docstore=store,\n",
        "    child_splitter=child_splitter,\n",
        ")"
      ],
      "metadata": {
        "id": "fyixQa5SpHOW"
      },
      "execution_count": 14,
      "outputs": []
    },
    {
      "cell_type": "code",
      "source": [
        "retriever.add_documents(docs, ids=None)"
      ],
      "metadata": {
        "id": "IyVXzfq0pHME"
      },
      "execution_count": 15,
      "outputs": []
    },
    {
      "cell_type": "code",
      "source": [
        "sub_docs = vectorstore.similarity_search(\"인공지능 예산\")"
      ],
      "metadata": {
        "id": "L8z2B2rKrAv3"
      },
      "execution_count": 16,
      "outputs": []
    },
    {
      "cell_type": "code",
      "source": [
        "print(\"글 길이: {}\\n\\n\".format(len(sub_docs[0].page_content)))\n",
        "print(sub_docs[0].page_content)"
      ],
      "metadata": {
        "id": "_axFoMvnrA-h",
        "colab": {
          "base_uri": "https://localhost:8080/"
        },
        "outputId": "2d31802e-9aab-47c7-cfe1-5d633fd33d94"
      },
      "execution_count": 17,
      "outputs": [
        {
          "output_type": "stream",
          "name": "stdout",
          "text": [
            "글 길이: 423\n",
            "\n",
            "\n",
            "(40.0) (40.2) (48.9) (32.8) (49.8)   \n",
            "하드웨어30.9 43.1 60.2 89.2 118.3 176.5 41.7%\n",
            "　 (39.5) (39.7) (48.2) (32.5) (49.2)   \n",
            "     자료: Global Artificial Intelligence(AI) Market, BCC Research (2022)\n",
            "￮인공지능 기술을 도입하는 산업이 늘어나고 있는 점, 인공지능 분야에 진출하는 스타트업의 증가에 \n",
            "따라 산업의 기술경쟁력이 높아지는 점 등은 시장성장에  촉진요인으로 작용할 전망임\n",
            "￮국내 인공지능 기술에 대한 완성도가 높지 않아 국내기술의 도입처가 제한적인 점, 인공지능이 \n",
            "인간의 고용 영역을 침범할 수 있고 기술의 불안정성으로 인한 사고 발생의 우려가 존재하는 점 등은 \n",
            "시장성장에 저해요인 으로 작용할 전망임\n"
          ]
        }
      ]
    },
    {
      "cell_type": "code",
      "source": [
        "retrieved_docs = retriever.get_relevant_documents(\"인공지능 예산\")"
      ],
      "metadata": {
        "id": "W68G7ITorThj"
      },
      "execution_count": 18,
      "outputs": []
    },
    {
      "cell_type": "code",
      "source": [
        "print(\"글 길이: {}\\n\\n\".format(len(retrieved_docs[0].page_content)))\n",
        "print(retrieved_docs[0].page_content)"
      ],
      "metadata": {
        "id": "Uzl334J8rXEQ",
        "colab": {
          "base_uri": "https://localhost:8080/"
        },
        "outputId": "6ccf25a1-74c7-450a-e58a-18fcc0139a8d"
      },
      "execution_count": 19,
      "outputs": [
        {
          "output_type": "stream",
          "name": "stdout",
          "text": [
            "글 길이: 1360\n",
            "\n",
            "\n",
            "| 10 | CIS이슈리포트 2022-2 호 ▶인공지능 산업의 value chain 은 ‘AI 플랫폼 공급업체 → AI 어플리케이션 개발 → AI 응용솔루션  \n",
            "개발 → 이용자 ’로 구성되며 , 동 산업은 ①성장기 산업, ②대체재로부터의 위협이 낮은 산업, ③기\n",
            "술집약적 산업 등의 특징을 가짐\n",
            "￮알고리즘 , 하드웨어 기술개발과 응용솔루션 서비스 상용화가 활발히 진행 중인 성장기 산업이며 , \n",
            "수요 기업의 요구사항에 따라 운영플랫폼을 선택할 수 있는 구매자의 교섭력이 높은 산업임\n",
            "￮직접적인 대체 기술이 없어 대체재로부터 위협이 낮은 편이며 , 알고리즘의 동작원리를 이해하고 맞\n",
            "춤형 서비스를 지원하기 위한 솔루션 개발 능력이 뒷받침 되어야 하는 기술집약적 산업임\n",
            "▶시장조사전문기관 BCC research 에 따르면 세계 인공지능 시장규모는 2020년 398.4 억 달러에서  \n",
            "연평균 41.0% 성장하여 2025 년에는 2,223.7 억 달러의 시장을 형성할 것으로 전망됨\n",
            "￮세부 솔루션 분문별로는 2020 년 기준 소프트웨어 부문의 점유율이 전체시장의 78.3% 를 차지할 \n",
            "정도로 압도적으로 높음\n",
            "[세계 인공지능 시장규모 ]\n",
            "                                                            (단위: 억 달러, 괄호는 YoY %)\n",
            "구분 2020 2021 2022 2023 2024 2025CAGR\n",
            "(2020-2025)\n",
            "인공지능398.4 553.3 769.7 1,134.3 1,498.9 2,223.7 41.0%\n",
            "　 (38.9) (39.1) (47.4) (32.1) (48.4)   \n",
            "소프트웨어311.8 432.3 600.3 882.4 1,164.6 1,723.5 40.8%\n",
            "　 (38.6) (38.8) (47.0) (32.0) (48.0)   \n",
            "서비스55.7 78.0 109.3 162.6 216.0 323.7 42.2%\n",
            "　 (40.0) (40.2) (48.9) (32.8) (49.8)   \n",
            "하드웨어30.9 43.1 60.2 89.2 118.3 176.5 41.7%\n",
            "　 (39.5) (39.7) (48.2) (32.5) (49.2)   \n",
            "     자료: Global Artificial Intelligence(AI) Market, BCC Research (2022)\n",
            "￮인공지능 기술을 도입하는 산업이 늘어나고 있는 점, 인공지능 분야에 진출하는 스타트업의 증가에 \n",
            "따라 산업의 기술경쟁력이 높아지는 점 등은 시장성장에  촉진요인으로 작용할 전망임\n",
            "￮국내 인공지능 기술에 대한 완성도가 높지 않아 국내기술의 도입처가 제한적인 점, 인공지능이 \n",
            "인간의 고용 영역을 침범할 수 있고 기술의 불안정성으로 인한 사고 발생의 우려가 존재하는 점 등은 \n",
            "시장성장에 저해요인 으로 작용할 전망임\n"
          ]
        }
      ]
    },
    {
      "cell_type": "markdown",
      "source": [
        "## 본문의 Full_chunk가 너무 길때"
      ],
      "metadata": {
        "id": "AK752NU_tHjb"
      }
    },
    {
      "cell_type": "code",
      "source": [
        "# This text splitter is used to create the parent documents\n",
        "parent_splitter = RecursiveCharacterTextSplitter(chunk_size=800)\n",
        "# This text splitter is used to create the child documents\n",
        "# It should create documents smaller than the parent\n",
        "child_splitter = RecursiveCharacterTextSplitter(chunk_size=200)\n",
        "# The vectorstore to use to index the child chunks\n",
        "vectorstore = Chroma(\n",
        "    collection_name=\"split_parents\", embedding_function=ko_embedding\n",
        ")\n",
        "# The storage layer for the parent documents\n",
        "store = InMemoryStore()"
      ],
      "metadata": {
        "id": "q64Iw5Wbrd94"
      },
      "execution_count": 20,
      "outputs": []
    },
    {
      "cell_type": "code",
      "source": [
        "retriever = ParentDocumentRetriever(\n",
        "    vectorstore=vectorstore,\n",
        "    docstore=store,\n",
        "    child_splitter=child_splitter,\n",
        "    parent_splitter=parent_splitter,\n",
        ")"
      ],
      "metadata": {
        "id": "1TVbBTmgr_CA"
      },
      "execution_count": 21,
      "outputs": []
    },
    {
      "cell_type": "code",
      "source": [
        "retriever.add_documents(docs)"
      ],
      "metadata": {
        "id": "K9bPu58hsAfP"
      },
      "execution_count": 22,
      "outputs": []
    },
    {
      "cell_type": "code",
      "source": [
        "len(list(store.yield_keys()))"
      ],
      "metadata": {
        "id": "KLvoTdeksUne",
        "colab": {
          "base_uri": "https://localhost:8080/"
        },
        "outputId": "bbff2c2f-b073-42c5-e60b-8e487bb7dcaa"
      },
      "execution_count": 23,
      "outputs": [
        {
          "output_type": "execute_result",
          "data": {
            "text/plain": [
              "69"
            ]
          },
          "metadata": {},
          "execution_count": 23
        }
      ]
    },
    {
      "cell_type": "code",
      "source": [
        "sub_docs = vectorstore.similarity_search(\"인공지능 예산\")"
      ],
      "metadata": {
        "id": "K0Te96C7sVxA"
      },
      "execution_count": 24,
      "outputs": []
    },
    {
      "cell_type": "code",
      "source": [
        "print(sub_docs[0].page_content)"
      ],
      "metadata": {
        "id": "qJ6Qb_E_sZCb",
        "colab": {
          "base_uri": "https://localhost:8080/"
        },
        "outputId": "11a469b3-ff93-48d3-94fa-75c0d20abcdd"
      },
      "execution_count": 25,
      "outputs": [
        {
          "output_type": "stream",
          "name": "stdout",
          "text": [
            "[세계 인공지능 시장규모 ]\n",
            "                                                            (단위: 억 달러, 괄호는 YoY %)\n",
            "구분 2020 2021 2022 2023 2024 2025CAGR\n",
            "(2020-2025)\n",
            "인공지능398.4 553.3 769.7 1,134.3 1,498.9 2,223.7 41.0%\n"
          ]
        }
      ]
    },
    {
      "cell_type": "code",
      "source": [
        "len(sub_docs[0].page_content)"
      ],
      "metadata": {
        "id": "GXioc_E3so_U",
        "colab": {
          "base_uri": "https://localhost:8080/"
        },
        "outputId": "5c595d4a-4d6e-44c1-92ad-249f634298f2"
      },
      "execution_count": 26,
      "outputs": [
        {
          "output_type": "execute_result",
          "data": {
            "text/plain": [
              "198"
            ]
          },
          "metadata": {},
          "execution_count": 26
        }
      ]
    },
    {
      "cell_type": "code",
      "source": [
        "retrieved_docs = retriever.get_relevant_documents(\"인공지능 예산\")"
      ],
      "metadata": {
        "id": "bL6F-aBJsZyv"
      },
      "execution_count": 27,
      "outputs": []
    },
    {
      "cell_type": "code",
      "source": [
        "print(retrieved_docs[0].page_content)"
      ],
      "metadata": {
        "id": "EnhD6dY_sfKq",
        "colab": {
          "base_uri": "https://localhost:8080/"
        },
        "outputId": "26653c35-6f5f-4204-a0db-7acd9c94bca6"
      },
      "execution_count": 28,
      "outputs": [
        {
          "output_type": "stream",
          "name": "stdout",
          "text": [
            "| 10 | CIS이슈리포트 2022-2 호 ▶인공지능 산업의 value chain 은 ‘AI 플랫폼 공급업체 → AI 어플리케이션 개발 → AI 응용솔루션  \n",
            "개발 → 이용자 ’로 구성되며 , 동 산업은 ①성장기 산업, ②대체재로부터의 위협이 낮은 산업, ③기\n",
            "술집약적 산업 등의 특징을 가짐\n",
            "￮알고리즘 , 하드웨어 기술개발과 응용솔루션 서비스 상용화가 활발히 진행 중인 성장기 산업이며 , \n",
            "수요 기업의 요구사항에 따라 운영플랫폼을 선택할 수 있는 구매자의 교섭력이 높은 산업임\n",
            "￮직접적인 대체 기술이 없어 대체재로부터 위협이 낮은 편이며 , 알고리즘의 동작원리를 이해하고 맞\n",
            "춤형 서비스를 지원하기 위한 솔루션 개발 능력이 뒷받침 되어야 하는 기술집약적 산업임\n",
            "▶시장조사전문기관 BCC research 에 따르면 세계 인공지능 시장규모는 2020년 398.4 억 달러에서  \n",
            "연평균 41.0% 성장하여 2025 년에는 2,223.7 억 달러의 시장을 형성할 것으로 전망됨\n",
            "￮세부 솔루션 분문별로는 2020 년 기준 소프트웨어 부문의 점유율이 전체시장의 78.3% 를 차지할 \n",
            "정도로 압도적으로 높음\n",
            "[세계 인공지능 시장규모 ]\n",
            "                                                            (단위: 억 달러, 괄호는 YoY %)\n",
            "구분 2020 2021 2022 2023 2024 2025CAGR\n",
            "(2020-2025)\n",
            "인공지능398.4 553.3 769.7 1,134.3 1,498.9 2,223.7 41.0%\n",
            "　 (38.9) (39.1) (47.4) (32.1) (48.4)\n"
          ]
        }
      ]
    },
    {
      "cell_type": "code",
      "source": [
        "len(retrieved_docs[0].page_content)"
      ],
      "metadata": {
        "id": "UhxrZ1zAscVP",
        "colab": {
          "base_uri": "https://localhost:8080/"
        },
        "outputId": "308918d9-1985-4c39-a780-9d0aee6bb69a"
      },
      "execution_count": 29,
      "outputs": [
        {
          "output_type": "execute_result",
          "data": {
            "text/plain": [
              "797"
            ]
          },
          "metadata": {},
          "execution_count": 29
        }
      ]
    },
    {
      "cell_type": "markdown",
      "source": [
        "## Self-querying"
      ],
      "metadata": {
        "id": "FoTL9eBctWva"
      }
    },
    {
      "cell_type": "code",
      "source": [
        "!pip install -qU lark"
      ],
      "metadata": {
        "id": "_DmHA3cgtZcJ"
      },
      "execution_count": 30,
      "outputs": []
    },
    {
      "cell_type": "code",
      "source": [
        "from langchain.schema import Document\n",
        "from langchain_community.vectorstores import Chroma\n",
        "\n",
        "docs = [\n",
        "    Document(\n",
        "        page_content=\"A bunch of scientists bring back dinosaurs and mayhem breaks loose\",\n",
        "        metadata={\"year\": 1993, \"rating\": 7.7, \"genre\": \"science fiction\"},\n",
        "    ),\n",
        "    Document(\n",
        "        page_content=\"Leo DiCaprio gets lost in a dream within a dream within a dream within a ...\",\n",
        "        metadata={\"year\": 2010, \"director\": \"Christopher Nolan\", \"rating\": 8.2},\n",
        "    ),\n",
        "    Document(\n",
        "        page_content=\"A psychologist / detective gets lost in a series of dreams within dreams within dreams and Inception reused the idea\",\n",
        "        metadata={\"year\": 2006, \"director\": \"Satoshi Kon\", \"rating\": 8.6},\n",
        "    ),\n",
        "    Document(\n",
        "        page_content=\"A bunch of normal-sized women are supremely wholesome and some men pine after them\",\n",
        "        metadata={\"year\": 2019, \"director\": \"Greta Gerwig\", \"rating\": 8.3},\n",
        "    ),\n",
        "    Document(\n",
        "        page_content=\"Toys come alive and have a blast doing so\",\n",
        "        metadata={\"year\": 1995, \"genre\": \"animated\"},\n",
        "    ),\n",
        "    Document(\n",
        "        page_content=\"Three men walk into the Zone, three men walk out of the Zone\",\n",
        "        metadata={\n",
        "            \"year\": 1979,\n",
        "            \"director\": \"Andrei Tarkovsky\",\n",
        "            \"genre\": \"thriller\",\n",
        "            \"rating\": 9.9,\n",
        "        },\n",
        "    ),\n",
        "]\n",
        "vectorstore = Chroma.from_documents(docs, ko_embedding)"
      ],
      "metadata": {
        "id": "7TJLhLfQthCt"
      },
      "execution_count": 31,
      "outputs": []
    },
    {
      "cell_type": "code",
      "source": [
        "from langchain.chains.query_constructor.base import AttributeInfo\n",
        "from langchain.retrievers.self_query.base import SelfQueryRetriever\n",
        "from langchain.chat_models import ChatOpenAI\n",
        "\n",
        "metadata_field_info = [\n",
        "    AttributeInfo(\n",
        "        name=\"genre\",\n",
        "        description=\"The genre of the movie. One of ['science fiction', 'comedy', 'drama', 'thriller', 'romance', 'action', 'animated']\",\n",
        "        type=\"string\",\n",
        "    ),\n",
        "    AttributeInfo(\n",
        "        name=\"year\",\n",
        "        description=\"The year the movie was released\",\n",
        "        type=\"integer\",\n",
        "    ),\n",
        "    AttributeInfo(\n",
        "        name=\"director\",\n",
        "        description=\"The name of the movie director\",\n",
        "        type=\"string\",\n",
        "    ),\n",
        "    AttributeInfo(\n",
        "        name=\"rating\", description=\"A 1-10 rating for the movie\", type=\"float\"\n",
        "    ),\n",
        "]\n",
        "document_content_description = \"Brief summary of a movie\"\n",
        "llm = ChatOpenAI(temperature=0, openai_api_key = \"sk-******************************\")\n",
        "retriever = SelfQueryRetriever.from_llm(\n",
        "    llm,\n",
        "    vectorstore,\n",
        "    document_content_description,\n",
        "    metadata_field_info,\n",
        "    verbose = True\n",
        ")"
      ],
      "metadata": {
        "id": "9x2PsJ9e7tuH",
        "colab": {
          "base_uri": "https://localhost:8080/"
        },
        "outputId": "87d89019-7782-4272-93f7-7e5100c23a2d"
      },
      "execution_count": 32,
      "outputs": [
        {
          "output_type": "stream",
          "name": "stderr",
          "text": [
            "/usr/local/lib/python3.10/dist-packages/langchain_core/_api/deprecation.py:117: LangChainDeprecationWarning: The class `langchain_community.chat_models.openai.ChatOpenAI` was deprecated in langchain-community 0.0.10 and will be removed in 0.2.0. An updated version of the class exists in the langchain-openai package and should be used instead. To use it run `pip install -U langchain-openai` and import as `from langchain_openai import ChatOpenAI`.\n",
            "  warn_deprecated(\n"
          ]
        }
      ]
    },
    {
      "cell_type": "code",
      "source": [
        "retriever.get_relevant_documents(\"what are some movies rated higher than 8.5\")"
      ],
      "metadata": {
        "id": "foYY4IEA74Dr",
        "colab": {
          "base_uri": "https://localhost:8080/"
        },
        "outputId": "422ad7f4-de84-4a57-9058-6143cc5b3a40"
      },
      "execution_count": 33,
      "outputs": [
        {
          "output_type": "execute_result",
          "data": {
            "text/plain": [
              "[Document(page_content='Three men walk into the Zone, three men walk out of the Zone', metadata={'director': 'Andrei Tarkovsky', 'genre': 'thriller', 'rating': 9.9, 'year': 1979}),\n",
              " Document(page_content='A psychologist / detective gets lost in a series of dreams within dreams within dreams and Inception reused the idea', metadata={'director': 'Satoshi Kon', 'rating': 8.6, 'year': 2006})]"
            ]
          },
          "metadata": {},
          "execution_count": 33
        }
      ]
    },
    {
      "cell_type": "markdown",
      "source": [
        "## Time-weighted vector store Retriever"
      ],
      "metadata": {
        "id": "zQP9iztA8ApB"
      }
    },
    {
      "cell_type": "markdown",
      "source": [
        "Scoring 방법 = *semantic_similarity + (1.0 - decay_rate) ^ hours_passed*"
      ],
      "metadata": {
        "id": "OKEps8vK8GIm"
      }
    },
    {
      "cell_type": "code",
      "source": [
        "!pip install -q faiss-gpu"
      ],
      "metadata": {
        "id": "zKL8WJ_P8UEG",
        "colab": {
          "base_uri": "https://localhost:8080/"
        },
        "outputId": "391d4004-7819-4730-96b5-b370f17dd6b8"
      },
      "execution_count": null,
      "outputs": [
        {
          "output_type": "stream",
          "name": "stdout",
          "text": [
            "\u001b[2K     \u001b[90m━━━━━━━━━━━━━━━━━━━━━━━━━━━━━━━━━━━━━━━━\u001b[0m \u001b[32m85.5/85.5 MB\u001b[0m \u001b[31m9.6 MB/s\u001b[0m eta \u001b[36m0:00:00\u001b[0m\n",
            "\u001b[?25h"
          ]
        }
      ]
    },
    {
      "cell_type": "code",
      "source": [
        "from datetime import datetime, timedelta\n",
        "\n",
        "import faiss\n",
        "from langchain.docstore import InMemoryDocstore\n",
        "from langchain.retrievers import TimeWeightedVectorStoreRetriever\n",
        "from langchain.schema import Document\n",
        "from langchain_community.vectorstores import FAISS\n"
      ],
      "metadata": {
        "id": "uLG48BJY8AEW"
      },
      "execution_count": null,
      "outputs": []
    },
    {
      "cell_type": "code",
      "source": [
        "# Initialize the vectorstore as empty\n",
        "embedding_size = 768\n",
        "index = faiss.IndexFlatL2(embedding_size)\n",
        "vectorstore = FAISS(ko_embedding, index, InMemoryDocstore({}), {})\n",
        "retriever = TimeWeightedVectorStoreRetriever(\n",
        "    vectorstore=vectorstore, decay_rate=0.99, k=1\n",
        ")"
      ],
      "metadata": {
        "id": "Lv5TtUnK8Mml"
      },
      "execution_count": null,
      "outputs": []
    },
    {
      "cell_type": "code",
      "source": [
        "yesterday = datetime.now() - timedelta(days=1)\n",
        "retriever.add_documents(\n",
        "    [Document(page_content=\"영어는 훌륭합니다.\", metadata={\"last_accessed_at\": yesterday})]\n",
        ")\n",
        "retriever.add_documents([Document(page_content=\"한국어는 훌륭합니다\")])"
      ],
      "metadata": {
        "id": "vL-HP-9L8OIq",
        "colab": {
          "base_uri": "https://localhost:8080/"
        },
        "outputId": "d196c6c4-cd0f-4da8-bda7-aeb95f3aa3eb"
      },
      "execution_count": null,
      "outputs": [
        {
          "output_type": "execute_result",
          "data": {
            "text/plain": [
              "['3c3d9977-1c7d-4a2d-be85-923a0162571a']"
            ]
          },
          "metadata": {},
          "execution_count": 38
        }
      ]
    },
    {
      "cell_type": "code",
      "source": [
        "# \"Hello World\" is returned first because it is most salient, and the decay rate is close to 0., meaning it's still recent enough\n",
        "retriever.get_relevant_documents(\"영어가 좋아요\")"
      ],
      "metadata": {
        "id": "Q6KCbXXV_d4F",
        "colab": {
          "base_uri": "https://localhost:8080/"
        },
        "outputId": "0bfda882-feac-40f2-de2c-2d8b00a8315f"
      },
      "execution_count": null,
      "outputs": [
        {
          "output_type": "execute_result",
          "data": {
            "text/plain": [
              "[Document(page_content='한국어는 훌륭합니다', metadata={'last_accessed_at': datetime.datetime(2024, 3, 20, 4, 13, 0, 154486), 'created_at': datetime.datetime(2024, 3, 20, 4, 13, 0, 32975), 'buffer_idx': 1})]"
            ]
          },
          "metadata": {},
          "execution_count": 39
        }
      ]
    },
    {
      "cell_type": "markdown",
      "source": [
        "## Ensemble Retriever"
      ],
      "metadata": {
        "id": "ltRw8HCmmECS"
      }
    },
    {
      "cell_type": "code",
      "source": [
        "!pip install -q langchain pypdf sentence-transformers chromadb langchain-openai faiss-gpu --upgrade --quiet  rank_bm25 > /dev/null"
      ],
      "metadata": {
        "id": "QN9Qk5_LkeQH"
      },
      "execution_count": null,
      "outputs": []
    },
    {
      "cell_type": "code",
      "source": [
        "from langchain.retrievers import BM25Retriever, EnsembleRetriever\n",
        "from langchain_community.vectorstores import FAISS\n",
        "from langchain.embeddings import HuggingFaceEmbeddings"
      ],
      "metadata": {
        "id": "h7HV_yPpmKdX"
      },
      "execution_count": null,
      "outputs": []
    },
    {
      "cell_type": "code",
      "source": [
        "model_name = \"jhgan/ko-sbert-nli\"\n",
        "encode_kwargs = {'normalize_embeddings': True}\n",
        "ko_embedding = HuggingFaceEmbeddings(\n",
        "    model_name=model_name,\n",
        "    encode_kwargs=encode_kwargs\n",
        ")"
      ],
      "metadata": {
        "id": "OYhREH6zmMJp"
      },
      "execution_count": null,
      "outputs": []
    },
    {
      "cell_type": "code",
      "source": [
        "from langchain.text_splitter import RecursiveCharacterTextSplitter\n",
        "from langchain.document_loaders import PyPDFLoader\n",
        "\n",
        "loaders = [\n",
        "    PyPDFLoader(\"/content/drive/MyDrive/Langchain/example data/[복지이슈 FOCUS 15ȣ] 경기도 극저신용대출심사모형 개발을 위한 국내 신용정보 활용가능성 탐색.pdf\"),\n",
        "    PyPDFLoader(\"/content/drive/MyDrive/Langchain/example data/[이슈리포트 2022-2호] 혁신성장 정책금융 동향.pdf\"),\n",
        "]\n",
        "docs = []\n",
        "for loader in loaders:\n",
        "    docs.extend(loader.load_and_split())\n",
        "\n",
        "text_splitter = RecursiveCharacterTextSplitter(chunk_size=500, chunk_overlap=50)\n",
        "texts = text_splitter.split_documents(docs)"
      ],
      "metadata": {
        "id": "15n17ed7meJI"
      },
      "execution_count": null,
      "outputs": []
    },
    {
      "cell_type": "code",
      "source": [
        "# initialize the bm25 retriever and faiss retriever\n",
        "bm25_retriever = BM25Retriever.from_documents(texts)\n",
        "bm25_retriever.k = 2\n",
        "\n",
        "\n",
        "\n",
        "embedding = ko_embedding\n",
        "faiss_vectorstore = FAISS.from_documents(texts, ko_embedding)\n",
        "faiss_retriever = faiss_vectorstore.as_retriever(search_kwargs={\"k\": 2})\n",
        "\n",
        "# initialize the ensemble retriever\n",
        "ensemble_retriever = EnsembleRetriever(\n",
        "    retrievers=[bm25_retriever, faiss_retriever], weights=[0.5, 0.5]\n",
        ")"
      ],
      "metadata": {
        "id": "ck2cUaLX4pa3"
      },
      "execution_count": null,
      "outputs": []
    },
    {
      "cell_type": "code",
      "source": [
        "docs = ensemble_retriever.invoke(\"혁신정책금융과 극저신용대출모형의 차이\")\n",
        "for i in docs:\n",
        "\n",
        "  print(i.metadata)\n",
        "  print(\":\")\n",
        "  print(i.page_content)\n",
        "  print(\"-\"*100)"
      ],
      "metadata": {
        "id": "JcBSDvy3mmlx",
        "colab": {
          "base_uri": "https://localhost:8080/"
        },
        "outputId": "e0ce5907-fba6-4aab-aab3-7f3747806c42"
      },
      "execution_count": null,
      "outputs": [
        {
          "output_type": "stream",
          "name": "stdout",
          "text": [
            "{'source': '/content/drive/MyDrive/Langchain/example data/[복지이슈 FOCUS 15ȣ] 경기도 극저신용대출심사모형 개발을 위한 국내 신용정보 활용가능성 탐색.pdf', 'page': 4}\n",
            ":\n",
            "현장공감 경기복지재단 05\n",
            "Ⅰ. 경기도 극저신용대출심사모형 개발의 필요성대출의 경우 신용점수 하위 30%( 기존 5등급이하 ) 차주 중 중신용층에게 유리한 공급 \n",
            "개선방안을 제시함 (금융위원회 , 2021)\n",
            "-상대적으로 불량률과 연체율이 높은 7등급 이하 저신용자들은 부실위험이 높다는 이유\n",
            "로 여전히 정부와 금융권의 금융거래 기피대상으로 분류되어 실질적인 대출 혜택이 불\n",
            "가능한 상황이며 저신용 금융취약도민이 거의 유일하게 이용할 수 있는 제도권 금융상\n",
            "품은 극저신용대출사업뿐임 (석희정 외, 2021)\n",
            "내용 1차(2020 년 4월∽) 2차(2020 년 7월∽) 3차(2020 년 10월∽)\n",
            "대출금액긴급(무심사 )(50만 원)\n",
            "일반(심사)(300 만 원)무심사 (50만 원)\n",
            "심사(300만 원)\n",
            "불법사금융 피해자 (최대 300만 원)고금리 이용자 (300만 원)\n",
            "2030 청년(300만 원)\n",
            "심사(300만 원 한도)\n",
            "이자율 연 1%\n",
            "----------------------------------------------------------------------------------------------------\n",
            "{'source': '/content/drive/MyDrive/Langchain/example data/[이슈리포트 2022-2호] 혁신성장 정책금융 동향.pdf', 'page': 17}\n",
            ":\n",
            "기관 뿐만 아니라 전 금융권으로 혁신기업에 대한 금융지원을 확대할 필요가 있음 \n",
            "※ 본 보고서의 내용은 작성자 개인의 의견으로서 한국신용정보원의 공식 견해와 다를 수 있습니다 .  \n",
            "   본 보고서를 사용 또는 인용할 경우에는 출처를 명시하시기 바랍니다 .\n",
            "----------------------------------------------------------------------------------------------------\n",
            "{'source': '/content/drive/MyDrive/Langchain/example data/[복지이슈 FOCUS 15ȣ] 경기도 극저신용대출심사모형 개발을 위한 국내 신용정보 활용가능성 탐색.pdf', 'page': 10}\n",
            ":\n",
            "현장공감 경기복지재단 11\n",
            "Ⅱ. 국내 신용정보 결합제도를 통한 신용평가모형 운영사례-1990 년대 중반부터 금융소비자에 대한 대출관행이 담보위주에서 무담보 신용기반 대출로 \n",
            "변화하고 , 대출자에 대한 신용평가의 필요성이 증대되면서 개인신용평가모형 도이 본격화\n",
            "-2003 년 카드사태 이후 금융권 정보공유 인프라 3를 구축, 신용조회회사 (CB)의 개인신용\n",
            "평가모형 개발 및 정교화를 통해 개인신용평가체계 구축\n",
            "-개인신용조회기관들은 고객의 금융거래 정보를 활용하여 신용평가점수를 산정하며 기관\n",
            "별 개인신용평점에 반영되는 주요평가요소는 상환이력정보 , 현재부채수준 , 신용거래기\n",
            "준, 신용형태정보로 상이한 비율을 반영하여 평점 산출\n",
            "평가요소반영비중\n",
            "나이스평가정보 (NICE) 코리아크레딧뷰로 (KCB) 서울신용평가정보 (SCI)\n",
            "상환이력정보 37% 24% 35%\n",
            "현재부채수준 23% 28% 30%\n",
            "신용거래기간 12% 15% 13%\n",
            "신용형태정보 28% 33% 22%\n",
            "----------------------------------------------------------------------------------------------------\n",
            "{'source': '/content/drive/MyDrive/Langchain/example data/[복지이슈 FOCUS 15ȣ] 경기도 극저신용대출심사모형 개발을 위한 국내 신용정보 활용가능성 탐색.pdf', 'page': 3}\n",
            ":\n",
            "포용금융의 성격\n",
            "-특히 중앙정부에서 실행하는 서민금융대출제도는 주로 신용등급기준 4~6등급에 해당되\n",
            "는 중신용층이 주요 정책대상으로 지원하는 반면, 7등급 이하 극저신용층을 위한 소액\n",
            "대출상품은 지자체 차원에서 경기도 극저신용대출 이외는 전무한 상태\n",
            "-최근 정부와 금융권에서 발표한 중･저신용층을 위한 중금리대출 개선방안도 중신용층의 \n",
            "대출공급 (사잇돌대출 , 민간중금리대출 ) 확대에 집중되어 신용점수 요건을 신설한 사잇돌\n",
            "----------------------------------------------------------------------------------------------------\n"
          ]
        }
      ]
    },
    {
      "cell_type": "code",
      "source": [
        "faiss_vectorstore = FAISS.from_documents(texts, ko_embedding)\n",
        "faiss_retriever = faiss_vectorstore.as_retriever(search_kwargs={\"k\": 4})\n",
        "\n",
        "docs = faiss_retriever.invoke(\"혁신정책금융과 극저신용대출모형의 차이\")\n",
        "for i in docs:\n",
        "\n",
        "  print(i.metadata)\n",
        "  print(\":\")\n",
        "  print(i.page_content)\n",
        "  print(\"-\"*100)"
      ],
      "metadata": {
        "id": "c0Jhox_l6qe2",
        "colab": {
          "base_uri": "https://localhost:8080/"
        },
        "outputId": "8d4713f5-5e2a-4eb8-8fe4-70cfbb736ffc"
      },
      "execution_count": null,
      "outputs": [
        {
          "output_type": "stream",
          "name": "stdout",
          "text": [
            "{'source': '/content/drive/MyDrive/Langchain/example data/[복지이슈 FOCUS 15ȣ] 경기도 극저신용대출심사모형 개발을 위한 국내 신용정보 활용가능성 탐색.pdf', 'page': 4}\n",
            ":\n",
            "현장공감 경기복지재단 05\n",
            "Ⅰ. 경기도 극저신용대출심사모형 개발의 필요성대출의 경우 신용점수 하위 30%( 기존 5등급이하 ) 차주 중 중신용층에게 유리한 공급 \n",
            "개선방안을 제시함 (금융위원회 , 2021)\n",
            "-상대적으로 불량률과 연체율이 높은 7등급 이하 저신용자들은 부실위험이 높다는 이유\n",
            "로 여전히 정부와 금융권의 금융거래 기피대상으로 분류되어 실질적인 대출 혜택이 불\n",
            "가능한 상황이며 저신용 금융취약도민이 거의 유일하게 이용할 수 있는 제도권 금융상\n",
            "품은 극저신용대출사업뿐임 (석희정 외, 2021)\n",
            "내용 1차(2020 년 4월∽) 2차(2020 년 7월∽) 3차(2020 년 10월∽)\n",
            "대출금액긴급(무심사 )(50만 원)\n",
            "일반(심사)(300 만 원)무심사 (50만 원)\n",
            "심사(300만 원)\n",
            "불법사금융 피해자 (최대 300만 원)고금리 이용자 (300만 원)\n",
            "2030 청년(300만 원)\n",
            "심사(300만 원 한도)\n",
            "이자율 연 1%\n",
            "----------------------------------------------------------------------------------------------------\n",
            "{'source': '/content/drive/MyDrive/Langchain/example data/[복지이슈 FOCUS 15ȣ] 경기도 극저신용대출심사모형 개발을 위한 국내 신용정보 활용가능성 탐색.pdf', 'page': 3}\n",
            ":\n",
            "포용금융의 성격\n",
            "-특히 중앙정부에서 실행하는 서민금융대출제도는 주로 신용등급기준 4~6등급에 해당되\n",
            "는 중신용층이 주요 정책대상으로 지원하는 반면, 7등급 이하 극저신용층을 위한 소액\n",
            "대출상품은 지자체 차원에서 경기도 극저신용대출 이외는 전무한 상태\n",
            "-최근 정부와 금융권에서 발표한 중･저신용층을 위한 중금리대출 개선방안도 중신용층의 \n",
            "대출공급 (사잇돌대출 , 민간중금리대출 ) 확대에 집중되어 신용점수 요건을 신설한 사잇돌\n",
            "----------------------------------------------------------------------------------------------------\n",
            "{'source': '/content/drive/MyDrive/Langchain/example data/[복지이슈 FOCUS 15ȣ] 경기도 극저신용대출심사모형 개발을 위한 국내 신용정보 활용가능성 탐색.pdf', 'page': 6}\n",
            ":\n",
            "현장공감 경기복지재단 07\n",
            "Ⅰ. 경기도 극저신용대출심사모형 개발의 필요성◯도내 저신용 ･저소득층의 극저신용대출 수요증대에 따라 대출신청 시 금융 및 비\n",
            "금융 정보수집에 기반한 변별력을 갖춘 심사체계 마련이 요구되는 상황\n",
            "-경기극저신용대출은 기존 신용평가체계 (10등급 기준)를 활용하여 신용정보회사 (NICE, \n",
            "KCB) 에서 제공하는 10등급 기준 7등급 이하의 극저신용자를 모집단으로 설정, 극저신\n",
            "용대출 수행기관 (사회연대은행 , 주빌리은행 , 지역자활협회 )을 통해 신청 및 심사절차를 \n",
            "거쳐 최종 대상자를 선정함\n",
            "-현행 극저신용대출 심사기준 (2020) 에 따르면 차주 관련 기초현황점수 (정량지표 , 55점)\n",
            "와 심사점수 (정성지표 , 45점)로 구분되어 있고, 심사기준별 세부심사항목은 인구학적 \n",
            "정보(성별, 연령, 거주지 , 직업, 가구원 , 주거형태 ), 경제상황 (정부지원 여부, 소득유무 ,\n",
            "----------------------------------------------------------------------------------------------------\n",
            "{'source': '/content/drive/MyDrive/Langchain/example data/[복지이슈 FOCUS 15ȣ] 경기도 극저신용대출심사모형 개발을 위한 국내 신용정보 활용가능성 탐색.pdf', 'page': 4}\n",
            ":\n",
            "2030 청년(300만 원)\n",
            "심사(300만 원 한도)\n",
            "이자율 연 1%\n",
            "자료: 경기복지재단 사업결과 보고서 내부자료 (2021)<표 1> 2020 년도 경기 극저신용대출 차수별 지원내용\n",
            "◯경기도 극저신용대출사업 참여자는 저신용 부실위험군인 동시에 정부와 금융권 \n",
            "등 제도권 지원으로부터 배제된 금융복지사각지대\n",
            "-1차년도 (’20년) 경기극저신용대출 참여자 특성을 살펴본 결과, 연령분포는 경제활동인\n",
            "구에 해당되는 40대와 50대(각 29.0%, 26.8%) 가 가장 많았고 , 직업유형은 직장인\n",
            "(34.2%) 과 무직(주부 포함, 28.9%) 순으로 나타남\n",
            "-<그림 1> 참여자의 연령분포 (n=58,914) <그림 2> 참여자의 직업구성 (n=30,926)\n",
            "자료: 경기도 극저신용대출사업 참여자 특성 분석(석희정 외, 2021)\n",
            "----------------------------------------------------------------------------------------------------\n"
          ]
        }
      ]
    },
    {
      "cell_type": "code",
      "source": [
        "import os\n",
        "os.environ[\"OPENAI_API_KEY\"] = 'sk-*******************************************'\n",
        "\n",
        "from langchain.chains import RetrievalQA\n",
        "from langchain_openai import ChatOpenAI\n",
        "\n",
        "openai = ChatOpenAI(model_name=\"gpt-3.5-turbo\", temperature = 0)\n",
        "\n",
        "qa = RetrievalQA.from_chain_type(llm = openai,\n",
        "                                 chain_type = \"stuff\",\n",
        "                                 retriever = ensemble_retriever,\n",
        "                                 return_source_documents = True)\n",
        "\n",
        "query = \"극저신용자 대출의 신용등급\"\n",
        "result = qa(query)\n",
        "print(result['result'])"
      ],
      "metadata": {
        "id": "28vloMiumuY_",
        "colab": {
          "base_uri": "https://localhost:8080/"
        },
        "outputId": "6817c984-9ff9-405b-de60-e903c27b0cd1"
      },
      "execution_count": null,
      "outputs": [
        {
          "output_type": "stream",
          "name": "stderr",
          "text": [
            "/usr/local/lib/python3.10/dist-packages/langchain_core/_api/deprecation.py:117: LangChainDeprecationWarning: The function `__call__` was deprecated in LangChain 0.1.0 and will be removed in 0.2.0. Use invoke instead.\n",
            "  warn_deprecated(\n"
          ]
        },
        {
          "output_type": "stream",
          "name": "stdout",
          "text": [
            "극저신용자 대출의 신용등급은 주로 7등급 이하로 분류됩니다. 이들은 대출을 받기 어려운 상황이거나 대출 조건이 불리한 경우가 많습니다.\n"
          ]
        }
      ]
    },
    {
      "cell_type": "code",
      "source": [
        "for i in result['source_documents']:\n",
        "  print(i.metadata)\n",
        "  print(\"-\"*100)\n",
        "  print(i.page_content)\n",
        "  print(\"-\"*100)"
      ],
      "metadata": {
        "id": "LxPfaF0L0c2I",
        "colab": {
          "base_uri": "https://localhost:8080/"
        },
        "outputId": "e28c00b4-9d32-4479-b741-7845fb56ee4c"
      },
      "execution_count": null,
      "outputs": [
        {
          "output_type": "stream",
          "name": "stdout",
          "text": [
            "{'source': '/content/drive/MyDrive/Langchain/example data/[복지이슈 FOCUS 15ȣ] 경기도 극저신용대출심사모형 개발을 위한 국내 신용정보 활용가능성 탐색.pdf', 'page': 11}\n",
            "----------------------------------------------------------------------------------------------------\n",
            "현장공감 경기복지재단 12\n",
            "경기도 극저신용대출심사모형 개발을 위한 국내 신용정보 활용가능성 탐색-2021년 6월말 기준 신용등급 대상자 (47,307,806 명) 가운데 27.1%(12,807.275 명)이 금\n",
            "융이력부족자로 나타났고 , 60대 이상(4,179,087 명), 20대(3,227,319 명), 30대(1,723,466\n",
            "명), 50대(1,450,496 명) 순으로 20대 청년과 60대 이상이 절반 이상을 차지함\n",
            "-더구나 대다수 금융이력부족자들은 700점대의 낮은 신용점수 (CB등급 기준 4~7등급)를 받는 \n",
            "것으로 나타나 금융이력부족군 중 상당수의 저신용 금융취약계층이 분포되어 있음을 확인\n",
            "-결과적으로 금융거래정보 위주의 개인신용평가모형은 금융소외계층에 대한 금융불평등 \n",
            "문제를 지속적으로 양산할 수밖에 없는 한계를 지니고 있어 이들을 위한 더욱 정교하\n",
            "고 공평한 신용평가모형 개발에 대한 요구 증대\n",
            " 평점 전국민대상자금융이력부족자 현황\n",
            "----------------------------------------------------------------------------------------------------\n",
            "{'source': '/content/drive/MyDrive/Langchain/example data/[복지이슈 FOCUS 15ȣ] 경기도 극저신용대출심사모형 개발을 위한 국내 신용정보 활용가능성 탐색.pdf', 'page': 6}\n",
            "----------------------------------------------------------------------------------------------------\n",
            "현장공감 경기복지재단 07\n",
            "Ⅰ. 경기도 극저신용대출심사모형 개발의 필요성◯도내 저신용 ･저소득층의 극저신용대출 수요증대에 따라 대출신청 시 금융 및 비\n",
            "금융 정보수집에 기반한 변별력을 갖춘 심사체계 마련이 요구되는 상황\n",
            "-경기극저신용대출은 기존 신용평가체계 (10등급 기준)를 활용하여 신용정보회사 (NICE, \n",
            "KCB) 에서 제공하는 10등급 기준 7등급 이하의 극저신용자를 모집단으로 설정, 극저신\n",
            "용대출 수행기관 (사회연대은행 , 주빌리은행 , 지역자활협회 )을 통해 신청 및 심사절차를 \n",
            "거쳐 최종 대상자를 선정함\n",
            "-현행 극저신용대출 심사기준 (2020) 에 따르면 차주 관련 기초현황점수 (정량지표 , 55점)\n",
            "와 심사점수 (정성지표 , 45점)로 구분되어 있고, 심사기준별 세부심사항목은 인구학적 \n",
            "정보(성별, 연령, 거주지 , 직업, 가구원 , 주거형태 ), 경제상황 (정부지원 여부, 소득유무 ,\n",
            "----------------------------------------------------------------------------------------------------\n",
            "{'source': '/content/drive/MyDrive/Langchain/example data/[복지이슈 FOCUS 15ȣ] 경기도 극저신용대출심사모형 개발을 위한 국내 신용정보 활용가능성 탐색.pdf', 'page': 4}\n",
            "----------------------------------------------------------------------------------------------------\n",
            "현장공감 경기복지재단 05\n",
            "Ⅰ. 경기도 극저신용대출심사모형 개발의 필요성대출의 경우 신용점수 하위 30%( 기존 5등급이하 ) 차주 중 중신용층에게 유리한 공급 \n",
            "개선방안을 제시함 (금융위원회 , 2021)\n",
            "-상대적으로 불량률과 연체율이 높은 7등급 이하 저신용자들은 부실위험이 높다는 이유\n",
            "로 여전히 정부와 금융권의 금융거래 기피대상으로 분류되어 실질적인 대출 혜택이 불\n",
            "가능한 상황이며 저신용 금융취약도민이 거의 유일하게 이용할 수 있는 제도권 금융상\n",
            "품은 극저신용대출사업뿐임 (석희정 외, 2021)\n",
            "내용 1차(2020 년 4월∽) 2차(2020 년 7월∽) 3차(2020 년 10월∽)\n",
            "대출금액긴급(무심사 )(50만 원)\n",
            "일반(심사)(300 만 원)무심사 (50만 원)\n",
            "심사(300만 원)\n",
            "불법사금융 피해자 (최대 300만 원)고금리 이용자 (300만 원)\n",
            "2030 청년(300만 원)\n",
            "심사(300만 원 한도)\n",
            "이자율 연 1%\n",
            "----------------------------------------------------------------------------------------------------\n",
            "{'source': '/content/drive/MyDrive/Langchain/example data/[복지이슈 FOCUS 15ȣ] 경기도 극저신용대출심사모형 개발을 위한 국내 신용정보 활용가능성 탐색.pdf', 'page': 3}\n",
            "----------------------------------------------------------------------------------------------------\n",
            "현장공감 경기복지재단 04\n",
            "경기도 극저신용대출심사모형 개발을 위한 국내 신용정보 활용가능성 탐색Ⅰ 경기도 극저신용대출심사모형 개발의 필요성\n",
            " 모형 개발의 필요성\n",
            "◯코로나 19 여파로 제도권 금융대출을 받을 수 없는 저신용자의 어려움이 가중되\n",
            "는 가운데 경기도는 2020 년부터 극저신용대출사업 추진\n",
            "-2020 년 9월 시점 경기도 7등급 이하 극저신용자 수는 961,323 명(8.0%) 으로 신용등\n",
            "급제에 따른 7등급(619점) 이하 불량건 183,917 명(77.3%), 연체건 82,384 건\n",
            "(33.6%) 을 차지, 신용등급이 낮아질수록 불량률과 연체율이 급격히 증가(KCB, 2021)\n",
            "-경기도는 코로나 19로 생계가 어려워진 취약계층과 현행 제도권 금융서비스를 이용하\n",
            "기 어려워 고금리 ･불법사금융 등의 이용이 불가피한 7등급 이하 극저신용층을 대상으\n",
            "로 소액금융지원을 위해 극저신용대출사업을 본격적으로 추진 중\n",
            "----------------------------------------------------------------------------------------------------\n"
          ]
        }
      ]
    },
    {
      "cell_type": "code",
      "source": [
        "faiss_vectorstore = FAISS.from_documents(docs, ko_embedding)\n",
        "faiss_retriever = faiss_vectorstore.as_retriever(search_kwargs={\"k\": 4})\n",
        "\n",
        "qa = RetrievalQA.from_chain_type(llm = openai,\n",
        "                                 chain_type = \"stuff\",\n",
        "                                 retriever = faiss_retriever,\n",
        "                                 return_source_documents = True)\n",
        "\n",
        "query = \"극저신용자 대출의 신용등급\"\n",
        "result = qa(query)\n",
        "print(result['result'])"
      ],
      "metadata": {
        "id": "bxftciR52lYW",
        "colab": {
          "base_uri": "https://localhost:8080/"
        },
        "outputId": "3b2d4591-f2bd-4b70-aac8-488aa959191b"
      },
      "execution_count": null,
      "outputs": [
        {
          "output_type": "stream",
          "name": "stdout",
          "text": [
            "극저신용자 대출의 경우, 기존의 신용평가체계에서는 7등급 이하의 극저신용자를 대상으로 하고 있습니다. 이는 일반적인 10등급 기준에서 하위에 속하는 고위험 대출 그룹을 말합니다.\n"
          ]
        }
      ]
    },
    {
      "cell_type": "code",
      "source": [
        "for i in result['source_documents']:\n",
        "  print(i.metadata)\n",
        "  print(\"-\"*100)\n",
        "  print(i.page_content)\n",
        "  print(\"-\"*100)"
      ],
      "metadata": {
        "id": "kId5kM9H3LxY",
        "colab": {
          "base_uri": "https://localhost:8080/"
        },
        "outputId": "49dbe19a-0eff-4790-a1b4-4e1a908c1956"
      },
      "execution_count": null,
      "outputs": [
        {
          "output_type": "stream",
          "name": "stdout",
          "text": [
            "{'source': '/content/drive/MyDrive/Langchain/example data/[복지이슈 FOCUS 15ȣ] 경기도 극저신용대출심사모형 개발을 위한 국내 신용정보 활용가능성 탐색.pdf', 'page': 6}\n",
            "----------------------------------------------------------------------------------------------------\n",
            "현장공감 경기복지재단 07\n",
            "Ⅰ. 경기도 극저신용대출심사모형 개발의 필요성◯도내 저신용 ･저소득층의 극저신용대출 수요증대에 따라 대출신청 시 금융 및 비\n",
            "금융 정보수집에 기반한 변별력을 갖춘 심사체계 마련이 요구되는 상황\n",
            "-경기극저신용대출은 기존 신용평가체계 (10등급 기준)를 활용하여 신용정보회사 (NICE, \n",
            "KCB) 에서 제공하는 10등급 기준 7등급 이하의 극저신용자를 모집단으로 설정, 극저신\n",
            "용대출 수행기관 (사회연대은행 , 주빌리은행 , 지역자활협회 )을 통해 신청 및 심사절차를 \n",
            "거쳐 최종 대상자를 선정함\n",
            "-현행 극저신용대출 심사기준 (2020) 에 따르면 차주 관련 기초현황점수 (정량지표 , 55점)\n",
            "와 심사점수 (정성지표 , 45점)로 구분되어 있고, 심사기준별 세부심사항목은 인구학적 \n",
            "정보(성별, 연령, 거주지 , 직업, 가구원 , 주거형태 ), 경제상황 (정부지원 여부, 소득유무 ,\n",
            "----------------------------------------------------------------------------------------------------\n",
            "{'source': '/content/drive/MyDrive/Langchain/example data/[복지이슈 FOCUS 15ȣ] 경기도 극저신용대출심사모형 개발을 위한 국내 신용정보 활용가능성 탐색.pdf', 'page': 4}\n",
            "----------------------------------------------------------------------------------------------------\n",
            "현장공감 경기복지재단 05\n",
            "Ⅰ. 경기도 극저신용대출심사모형 개발의 필요성대출의 경우 신용점수 하위 30%( 기존 5등급이하 ) 차주 중 중신용층에게 유리한 공급 \n",
            "개선방안을 제시함 (금융위원회 , 2021)\n",
            "-상대적으로 불량률과 연체율이 높은 7등급 이하 저신용자들은 부실위험이 높다는 이유\n",
            "로 여전히 정부와 금융권의 금융거래 기피대상으로 분류되어 실질적인 대출 혜택이 불\n",
            "가능한 상황이며 저신용 금융취약도민이 거의 유일하게 이용할 수 있는 제도권 금융상\n",
            "품은 극저신용대출사업뿐임 (석희정 외, 2021)\n",
            "내용 1차(2020 년 4월∽) 2차(2020 년 7월∽) 3차(2020 년 10월∽)\n",
            "대출금액긴급(무심사 )(50만 원)\n",
            "일반(심사)(300 만 원)무심사 (50만 원)\n",
            "심사(300만 원)\n",
            "불법사금융 피해자 (최대 300만 원)고금리 이용자 (300만 원)\n",
            "2030 청년(300만 원)\n",
            "심사(300만 원 한도)\n",
            "이자율 연 1%\n",
            "----------------------------------------------------------------------------------------------------\n",
            "{'source': '/content/drive/MyDrive/Langchain/example data/[복지이슈 FOCUS 15ȣ] 경기도 극저신용대출심사모형 개발을 위한 국내 신용정보 활용가능성 탐색.pdf', 'page': 3}\n",
            "----------------------------------------------------------------------------------------------------\n",
            "포용금융의 성격\n",
            "-특히 중앙정부에서 실행하는 서민금융대출제도는 주로 신용등급기준 4~6등급에 해당되\n",
            "는 중신용층이 주요 정책대상으로 지원하는 반면, 7등급 이하 극저신용층을 위한 소액\n",
            "대출상품은 지자체 차원에서 경기도 극저신용대출 이외는 전무한 상태\n",
            "-최근 정부와 금융권에서 발표한 중･저신용층을 위한 중금리대출 개선방안도 중신용층의 \n",
            "대출공급 (사잇돌대출 , 민간중금리대출 ) 확대에 집중되어 신용점수 요건을 신설한 사잇돌\n",
            "----------------------------------------------------------------------------------------------------\n",
            "{'source': '/content/drive/MyDrive/Langchain/example data/[복지이슈 FOCUS 15ȣ] 경기도 극저신용대출심사모형 개발을 위한 국내 신용정보 활용가능성 탐색.pdf', 'page': 4}\n",
            "----------------------------------------------------------------------------------------------------\n",
            "2030 청년(300만 원)\n",
            "심사(300만 원 한도)\n",
            "이자율 연 1%\n",
            "자료: 경기복지재단 사업결과 보고서 내부자료 (2021)<표 1> 2020 년도 경기 극저신용대출 차수별 지원내용\n",
            "◯경기도 극저신용대출사업 참여자는 저신용 부실위험군인 동시에 정부와 금융권 \n",
            "등 제도권 지원으로부터 배제된 금융복지사각지대\n",
            "-1차년도 (’20년) 경기극저신용대출 참여자 특성을 살펴본 결과, 연령분포는 경제활동인\n",
            "구에 해당되는 40대와 50대(각 29.0%, 26.8%) 가 가장 많았고 , 직업유형은 직장인\n",
            "(34.2%) 과 무직(주부 포함, 28.9%) 순으로 나타남\n",
            "-<그림 1> 참여자의 연령분포 (n=58,914) <그림 2> 참여자의 직업구성 (n=30,926)\n",
            "자료: 경기도 극저신용대출사업 참여자 특성 분석(석희정 외, 2021)\n",
            "----------------------------------------------------------------------------------------------------\n"
          ]
        }
      ]
    },
    {
      "cell_type": "markdown",
      "source": [
        "## Long Context Reorder"
      ],
      "metadata": {
        "id": "-YinIRx6_--y"
      }
    },
    {
      "cell_type": "code",
      "source": [
        "from langchain.chains import LLMChain, StuffDocumentsChain\n",
        "from langchain.prompts import PromptTemplate\n",
        "from langchain_community.document_transformers import (\n",
        "    LongContextReorder,\n",
        ")\n",
        "from langchain_community.embeddings import HuggingFaceEmbeddings\n",
        "from langchain_community.vectorstores import Chroma\n",
        "from langchain_openai import OpenAI\n",
        "\n",
        "texts = [\n",
        "    \"바스켓볼은 훌륭한 스포츠입니다.\",\n",
        "    \"플라이 미 투 더 문은 제가 가장 좋아하는 노래 중 하나입니다.\",\n",
        "    \"셀틱스는 제가 가장 좋아하는 팀입니다.\",\n",
        "    \"보스턴 셀틱스에 관한 문서입니다.\", \"보스턴 셀틱스는 제가 가장 좋아하는 팀입니다.\",\n",
        "    \"저는 영화 보러 가는 것을 좋아해요\",\n",
        "    \"보스턴 셀틱스가 20점차로 이겼어요\",\n",
        "    \"이것은 그냥 임의의 텍스트입니다.\",\n",
        "    \"엘든 링은 지난 15 년 동안 최고의 게임 중 하나입니다.\",\n",
        "    \"L. 코넷은 최고의 셀틱스 선수 중 한 명입니다.\",\n",
        "    \"래리 버드는 상징적 인 NBA 선수였습니다.\",\n",
        "]\n",
        "\n",
        "# Create a retriever\n",
        "retriever = Chroma.from_texts(texts, embedding=ko_embedding).as_retriever(\n",
        "    search_kwargs={\"k\": 10}\n",
        ")\n",
        "query = \"셀틱스에 대해 어떤 이야기를 들려주시겠어요?\"\n",
        "\n",
        "# Get relevant documents ordered by relevance score\n",
        "docs = retriever.get_relevant_documents(query)\n",
        "docs"
      ],
      "metadata": {
        "id": "53bnfKrCAPxj",
        "colab": {
          "base_uri": "https://localhost:8080/"
        },
        "outputId": "ae1f1fac-9f45-482e-d56d-3b4a773dd46f"
      },
      "execution_count": null,
      "outputs": [
        {
          "output_type": "execute_result",
          "data": {
            "text/plain": [
              "[Document(page_content='보스턴 셀틱스에 관한 문서입니다.'),\n",
              " Document(page_content='A psychologist / detective gets lost in a series of dreams within dreams within dreams and Inception reused the idea', metadata={'director': 'Satoshi Kon', 'rating': 8.6, 'year': 2006}),\n",
              " Document(page_content='A psychologist / detective gets lost in a series of dreams within dreams within dreams and Inception reused the idea', metadata={'director': 'Satoshi Kon', 'rating': 8.6, 'year': 2006}),\n",
              " Document(page_content='프리미엄콘텐츠는 네이버가 인터넷뉴스 서비스사업자로서 제공, 매개하는 기사가 아니고, 해당 콘텐츠 제공자가 프리미엄 회원을 대상으로 별도로 발행·제공하는 콘텐츠입니다.\\n닫기\\n\\n\\n\\n\\n\\n\\n\\n\\n\\n\\n\\n\\t\\t\\t\\t\\t\\t\\t\\t\\t\\t로보어드바이저가 굴려주는 자문 상품, 성적표 들춰볼까요\\n\\t\\t\\t\\t\\t\\t\\t\\t\\t\\n\\n\\n\\n\\nthebellstock\\n\\n\\n\\n\\n\\n\\n\\n\\n\\n\\n\\n\\n\\n\\t\\t\\t\\t\\t\\t\\t\\t\\t\\t하나님이 아브라함을 부르신 성경적 이유!\\n\\t\\t\\t\\t\\t\\t\\t\\t\\t\\n\\n\\n\\n\\n오늘의 구약공부', metadata={'language': 'ko', 'source': 'https://n.news.naver.com/mnews/article/003/0012317114?sid=105', 'title': \"언팩 D-4, 세계 최초 AI폰 '갤S24' 이렇게 나온다\"}),\n",
              " Document(page_content='[MBTI] ISTP의 육아에 효과적일 수 있는 양육 이론 접목해보기\\n\\t\\t\\t\\t\\t\\t\\t\\t\\t\\n\\n\\n\\n\\n성장하는 내일 지식\\n\\n\\n\\n\\n\\n\\n\\n\\n\\n\\n\\n\\n\\n\\t\\t\\t\\t\\t\\t\\t\\t\\t\\t🏗️ Steelboso(스틸보소), GSAT2024 참가\\n\\t\\t\\t\\t\\t\\t\\t\\t\\t\\n\\n\\n\\n\\nSteelboso\\n\\n\\n\\n\\n\\n\\n\\n\\n\\n\\n\\n\\n\\n\\n\\n\\n\\n\\t\\t\\t\\t\\t\\t\\t\\t\\t\\t부동산리츠에 세금폭탄이 터졌습니다\\n\\t\\t\\t\\t\\t\\t\\t\\t\\t\\n\\n\\n\\n\\n언더스탠딩 텍스트\\n\\n\\n\\n\\n\\n\\n\\n\\n\\n\\n\\n\\n\\n기간한정무료\\n\\t\\t\\t\\t\\t\\t\\t\\t\\t\\t의사 증원에 숨은 음모론적인 배경과 한반도 적화', metadata={'language': 'ko', 'source': 'https://n.news.naver.com/mnews/article/003/0012317114?sid=105', 'title': \"언팩 D-4, 세계 최초 AI폰 '갤S24' 이렇게 나온다\"}),\n",
              " Document(page_content='해달와 실전 음모론\\n\\n\\n\\n\\n\\n동영상 기사\\n\\n\\n\\n\\n\\n\\n\\n\\n\\t\\t\\t\\t\\t\\t\\t\\t\\t\\t우리나라 부동산 보유세는 OECD 중 어느 정도일까\\n\\t\\t\\t\\t\\t\\t\\t\\t\\t\\n\\n\\n\\n\\n택스워치\\n\\n\\n\\n\\n\\n\\n\\n\\n\\n\\n\\n\\n\\n\\t\\t\\t\\t\\t\\t\\t\\t\\t\\t실버코프 메탈스 [SVM]\\n\\t\\t\\t\\t\\t\\t\\t\\t\\t\\n\\n\\n\\n\\n마스터 투자전략\\n\\n\\n\\n\\n\\n\\n\\n\\n\\n\\n\\n\\n\\n\\n\\n\\n\\n\\t\\t\\t\\t\\t\\t\\t\\t\\t\\t24년 3월 11일~15일 청약 결과 ...\\n\\t\\t\\t\\t\\t\\t\\t\\t\\t\\n\\n\\n\\n\\n스마트튜브 부동산조사연구소', metadata={'language': 'ko', 'source': 'https://n.news.naver.com/mnews/article/003/0012317114?sid=105', 'title': \"언팩 D-4, 세계 최초 AI폰 '갤S24' 이렇게 나온다\"}),\n",
              " Document(page_content=\"언팩 D-4, 세계 최초 AI폰 '갤S24' 이렇게 나온다\\n\\n\\n\\n\\n\\n\\n\\n\\n\\n\\n\\n\\n\\n본문 바로가기\\n\\n\\n\\n\\n\\n\\nNAVER\\n\\n뉴스\\n\\n\\n연예\\n\\n\\n\\n\\n스포츠\\n\\n\\n\\n\\n날씨\\n\\n\\n\\n\\n프리미엄\\n\\n\\n\\n\\n총선\\n\\n\\n\\n\\n\\n\\n\\n\\n\\n\\n검색\\n\\n\\n\\n\\n\\n\\n\\n\\n\\n\\n언론사별\\n\\n\\n정치\\n\\n\\n경제\\n\\n\\n사회\\n\\n\\n생활/문화\\n\\n\\nIT/과학\\n\\n\\n세계\\n\\n\\n랭킹\\n\\n\\n신문보기\\n\\n\\n오피니언\\n\\n\\nTV\\n\\n\\n팩트체크\\n\\n\\n알고리즘 안내\\n\\n\\n정정보도 모음\\n\\n\\n\\n\\n\\n\\n\\n\\n\\n\\n\\n\\n\\n\\n\\n\\n\\n\\n\\n구독\", metadata={'language': 'ko', 'source': 'https://n.news.naver.com/mnews/article/003/0012317114?sid=105', 'title': \"언팩 D-4, 세계 최초 AI폰 '갤S24' 이렇게 나온다\"}),\n",
              " Document(page_content='L. 코넷은 최고의 셀틱스 선수 중 한 명입니다.'),\n",
              " Document(page_content='Leo DiCaprio gets lost in a dream within a dream within a dream within a ...', metadata={'director': 'Christopher Nolan', 'rating': 8.2, 'year': 2010}),\n",
              " Document(page_content='Leo DiCaprio gets lost in a dream within a dream within a dream within a ...', metadata={'director': 'Christopher Nolan', 'rating': 8.2, 'year': 2010})]"
            ]
          },
          "metadata": {},
          "execution_count": 52
        }
      ]
    },
    {
      "cell_type": "code",
      "source": [
        "reordering = LongContextReorder()\n",
        "reordered_docs = reordering.transform_documents(docs)\n",
        "\n",
        "# Confirm that the 4 relevant documents are at beginning and end.\n",
        "reordered_docs"
      ],
      "metadata": {
        "id": "x_9sEUx0AX9h",
        "colab": {
          "base_uri": "https://localhost:8080/"
        },
        "outputId": "b6949a8e-71e8-4264-d4ee-74558f3a53b6"
      },
      "execution_count": null,
      "outputs": [
        {
          "output_type": "execute_result",
          "data": {
            "text/plain": [
              "[Document(page_content='A psychologist / detective gets lost in a series of dreams within dreams within dreams and Inception reused the idea', metadata={'director': 'Satoshi Kon', 'rating': 8.6, 'year': 2006}),\n",
              " Document(page_content='프리미엄콘텐츠는 네이버가 인터넷뉴스 서비스사업자로서 제공, 매개하는 기사가 아니고, 해당 콘텐츠 제공자가 프리미엄 회원을 대상으로 별도로 발행·제공하는 콘텐츠입니다.\\n닫기\\n\\n\\n\\n\\n\\n\\n\\n\\n\\n\\n\\n\\t\\t\\t\\t\\t\\t\\t\\t\\t\\t로보어드바이저가 굴려주는 자문 상품, 성적표 들춰볼까요\\n\\t\\t\\t\\t\\t\\t\\t\\t\\t\\n\\n\\n\\n\\nthebellstock\\n\\n\\n\\n\\n\\n\\n\\n\\n\\n\\n\\n\\n\\n\\t\\t\\t\\t\\t\\t\\t\\t\\t\\t하나님이 아브라함을 부르신 성경적 이유!\\n\\t\\t\\t\\t\\t\\t\\t\\t\\t\\n\\n\\n\\n\\n오늘의 구약공부', metadata={'language': 'ko', 'source': 'https://n.news.naver.com/mnews/article/003/0012317114?sid=105', 'title': \"언팩 D-4, 세계 최초 AI폰 '갤S24' 이렇게 나온다\"}),\n",
              " Document(page_content='해달와 실전 음모론\\n\\n\\n\\n\\n\\n동영상 기사\\n\\n\\n\\n\\n\\n\\n\\n\\n\\t\\t\\t\\t\\t\\t\\t\\t\\t\\t우리나라 부동산 보유세는 OECD 중 어느 정도일까\\n\\t\\t\\t\\t\\t\\t\\t\\t\\t\\n\\n\\n\\n\\n택스워치\\n\\n\\n\\n\\n\\n\\n\\n\\n\\n\\n\\n\\n\\n\\t\\t\\t\\t\\t\\t\\t\\t\\t\\t실버코프 메탈스 [SVM]\\n\\t\\t\\t\\t\\t\\t\\t\\t\\t\\n\\n\\n\\n\\n마스터 투자전략\\n\\n\\n\\n\\n\\n\\n\\n\\n\\n\\n\\n\\n\\n\\n\\n\\n\\n\\t\\t\\t\\t\\t\\t\\t\\t\\t\\t24년 3월 11일~15일 청약 결과 ...\\n\\t\\t\\t\\t\\t\\t\\t\\t\\t\\n\\n\\n\\n\\n스마트튜브 부동산조사연구소', metadata={'language': 'ko', 'source': 'https://n.news.naver.com/mnews/article/003/0012317114?sid=105', 'title': \"언팩 D-4, 세계 최초 AI폰 '갤S24' 이렇게 나온다\"}),\n",
              " Document(page_content='L. 코넷은 최고의 셀틱스 선수 중 한 명입니다.'),\n",
              " Document(page_content='Leo DiCaprio gets lost in a dream within a dream within a dream within a ...', metadata={'director': 'Christopher Nolan', 'rating': 8.2, 'year': 2010}),\n",
              " Document(page_content='Leo DiCaprio gets lost in a dream within a dream within a dream within a ...', metadata={'director': 'Christopher Nolan', 'rating': 8.2, 'year': 2010}),\n",
              " Document(page_content=\"언팩 D-4, 세계 최초 AI폰 '갤S24' 이렇게 나온다\\n\\n\\n\\n\\n\\n\\n\\n\\n\\n\\n\\n\\n\\n본문 바로가기\\n\\n\\n\\n\\n\\n\\nNAVER\\n\\n뉴스\\n\\n\\n연예\\n\\n\\n\\n\\n스포츠\\n\\n\\n\\n\\n날씨\\n\\n\\n\\n\\n프리미엄\\n\\n\\n\\n\\n총선\\n\\n\\n\\n\\n\\n\\n\\n\\n\\n\\n검색\\n\\n\\n\\n\\n\\n\\n\\n\\n\\n\\n언론사별\\n\\n\\n정치\\n\\n\\n경제\\n\\n\\n사회\\n\\n\\n생활/문화\\n\\n\\nIT/과학\\n\\n\\n세계\\n\\n\\n랭킹\\n\\n\\n신문보기\\n\\n\\n오피니언\\n\\n\\nTV\\n\\n\\n팩트체크\\n\\n\\n알고리즘 안내\\n\\n\\n정정보도 모음\\n\\n\\n\\n\\n\\n\\n\\n\\n\\n\\n\\n\\n\\n\\n\\n\\n\\n\\n\\n구독\", metadata={'language': 'ko', 'source': 'https://n.news.naver.com/mnews/article/003/0012317114?sid=105', 'title': \"언팩 D-4, 세계 최초 AI폰 '갤S24' 이렇게 나온다\"}),\n",
              " Document(page_content='[MBTI] ISTP의 육아에 효과적일 수 있는 양육 이론 접목해보기\\n\\t\\t\\t\\t\\t\\t\\t\\t\\t\\n\\n\\n\\n\\n성장하는 내일 지식\\n\\n\\n\\n\\n\\n\\n\\n\\n\\n\\n\\n\\n\\n\\t\\t\\t\\t\\t\\t\\t\\t\\t\\t🏗️ Steelboso(스틸보소), GSAT2024 참가\\n\\t\\t\\t\\t\\t\\t\\t\\t\\t\\n\\n\\n\\n\\nSteelboso\\n\\n\\n\\n\\n\\n\\n\\n\\n\\n\\n\\n\\n\\n\\n\\n\\n\\n\\t\\t\\t\\t\\t\\t\\t\\t\\t\\t부동산리츠에 세금폭탄이 터졌습니다\\n\\t\\t\\t\\t\\t\\t\\t\\t\\t\\n\\n\\n\\n\\n언더스탠딩 텍스트\\n\\n\\n\\n\\n\\n\\n\\n\\n\\n\\n\\n\\n\\n기간한정무료\\n\\t\\t\\t\\t\\t\\t\\t\\t\\t\\t의사 증원에 숨은 음모론적인 배경과 한반도 적화', metadata={'language': 'ko', 'source': 'https://n.news.naver.com/mnews/article/003/0012317114?sid=105', 'title': \"언팩 D-4, 세계 최초 AI폰 '갤S24' 이렇게 나온다\"}),\n",
              " Document(page_content='A psychologist / detective gets lost in a series of dreams within dreams within dreams and Inception reused the idea', metadata={'director': 'Satoshi Kon', 'rating': 8.6, 'year': 2006}),\n",
              " Document(page_content='보스턴 셀틱스에 관한 문서입니다.')]"
            ]
          },
          "metadata": {},
          "execution_count": 53
        }
      ]
    },
    {
      "cell_type": "code",
      "source": [
        "from langchain.chains import LLMChain, StuffDocumentsChain\n",
        "from langchain.prompts import PromptTemplate\n",
        "import os\n",
        "os.environ[\"OPENAI_API_KEY\"] = 'sk-***********************************************'\n",
        "\n",
        "from langchain.chains import RetrievalQA\n",
        "from langchain_openai import ChatOpenAI\n",
        "\n",
        "document_prompt = PromptTemplate(\n",
        "    input_variables=[\"page_content\"], template=\"{page_content}\"\n",
        ")\n",
        "\n",
        "template = \"\"\"Given this text extracts:\n",
        "-----\n",
        "{context}\n",
        "-----\n",
        "Please answer the following question:\n",
        "{query}\"\"\"\n",
        "prompt = PromptTemplate(\n",
        "    template=template, input_variables=[\"context\", \"query\"]\n",
        ")\n",
        "openai = ChatOpenAI(model_name=\"gpt-3.5-turbo\", temperature = 0)\n",
        "\n",
        "llm_chain = LLMChain(llm=openai, prompt=prompt)\n",
        "chain = StuffDocumentsChain(\n",
        "    llm_chain=llm_chain,\n",
        "    document_prompt=document_prompt,\n",
        "    document_variable_name=\"context\"\n",
        ")\n"
      ],
      "metadata": {
        "id": "jxdYbGqgA4Sf"
      },
      "execution_count": null,
      "outputs": []
    },
    {
      "cell_type": "code",
      "source": [
        "reordered_result = chain.run(input_documents=reordered_docs, query=query)\n",
        "result = chain.run(input_documents=docs, query=query)\n",
        "\n",
        "print(reordered_result)\n",
        "print(\"-\"*100)\n",
        "print(result)"
      ],
      "metadata": {
        "id": "Cn0oLiy3D_WR",
        "colab": {
          "base_uri": "https://localhost:8080/"
        },
        "outputId": "55419b0f-942e-416e-f2dd-ecd9583e979b"
      },
      "execution_count": null,
      "outputs": [
        {
          "output_type": "stream",
          "name": "stdout",
          "text": [
            "셀틱스에 관한 이야기는 Leo DiCaprio가 꿈 속에서 꿈을 꾸는 것과 관련이 있습니다. Leo DiCaprio가 꿈 속에서 꿈을 꾸는 동안 심리학자/탐정이 되어 여러 꿈 속을 여행하게 되는 이야기가 언급되었습니다. 이 문서는 셀틱스에 관한 내용을 다루고 있습니다.\n",
            "----------------------------------------------------------------------------------------------------\n",
            "셀틱스에 관한 이야기는 \"L. 코넷은 최고의 셀틱스 선수 중 한 명입니다.\" 라는 문장이 있습니다.\n"
          ]
        }
      ]
    }
  ]
}