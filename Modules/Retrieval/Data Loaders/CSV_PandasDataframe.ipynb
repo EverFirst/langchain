{
  "cells": [
    {
      "cell_type": "markdown",
      "id": "9fa23b62",
      "metadata": {
        "id": "9fa23b62"
      },
      "source": [
        "# CSV + Pandas Dataframe"
      ]
    },
    {
      "cell_type": "code",
      "execution_count": 10,
      "id": "354b1e04",
      "metadata": {
        "colab": {
          "base_uri": "https://localhost:8080/"
        },
        "id": "354b1e04",
        "outputId": "6aa704a3-f019-46bd-bcb5-ec40bf71764c"
      },
      "outputs": [
        {
          "name": "stdout",
          "output_type": "stream",
          "text": [
            "\u001b[?25l     \u001b[90m━━━━━━━━━━━━━━━━━━━━━━━━━━━━━━━━━━━━━━━━\u001b[0m \u001b[32m0.0/177.6 kB\u001b[0m \u001b[31m?\u001b[0m eta \u001b[36m-:--:--\u001b[0m\r\u001b[2K     \u001b[91m━━━━━━━━━\u001b[0m\u001b[90m╺\u001b[0m\u001b[90m━━━━━━━━━━━━━━━━━━━━━━━━━━━━━━\u001b[0m \u001b[32m41.0/177.6 kB\u001b[0m \u001b[31m974.2 kB/s\u001b[0m eta \u001b[36m0:00:01\u001b[0m\r\u001b[2K     \u001b[91m━━━━━━━━━\u001b[0m\u001b[90m╺\u001b[0m\u001b[90m━━━━━━━━━━━━━━━━━━━━━━━━━━━━━━\u001b[0m \u001b[32m41.0/177.6 kB\u001b[0m \u001b[31m974.2 kB/s\u001b[0m eta \u001b[36m0:00:01\u001b[0m\r\u001b[2K     \u001b[91m━━━━━━━━━━━━━━━━━━━━━━━━━━━━━━━━━━━━━━━\u001b[0m\u001b[90m╺\u001b[0m \u001b[32m174.1/177.6 kB\u001b[0m \u001b[31m1.7 MB/s\u001b[0m eta \u001b[36m0:00:01\u001b[0m\r\u001b[2K     \u001b[90m━━━━━━━━━━━━━━━━━━━━━━━━━━━━━━━━━━━━━━━━\u001b[0m \u001b[32m177.6/177.6 kB\u001b[0m \u001b[31m1.6 MB/s\u001b[0m eta \u001b[36m0:00:00\u001b[0m\n",
            "\u001b[?25h"
          ]
        }
      ],
      "source": [
        "!pip install -qU langchain langchain-openai langchain_community langchain_experimental"
      ]
    },
    {
      "cell_type": "code",
      "execution_count": 7,
      "id": "8U_lhAypNH9G",
      "metadata": {
        "id": "8U_lhAypNH9G"
      },
      "outputs": [],
      "source": [
        "import os\n",
        "\n",
        "os.environ[\"OPENAI_API_KEY\"] = 'sk-***********************************************'"
      ]
    },
    {
      "cell_type": "markdown",
      "id": "910adc2d",
      "metadata": {},
      "source": [
        "`CSVLoader`를 사용하여 csv파일을 로드 합니다."
      ]
    },
    {
      "cell_type": "code",
      "execution_count": 2,
      "id": "f1b499e6",
      "metadata": {
        "id": "f1b499e6"
      },
      "outputs": [],
      "source": [
        "from langchain_community.document_loaders.csv_loader import CSVLoader\n",
        "\n",
        "loader = CSVLoader(file_path='/content/mlb_teams_2012.csv')\n",
        "data = loader.load()"
      ]
    },
    {
      "cell_type": "code",
      "execution_count": 5,
      "id": "769dfc1d",
      "metadata": {
        "colab": {
          "base_uri": "https://localhost:8080/",
          "height": 35
        },
        "id": "769dfc1d",
        "outputId": "6098c8bb-320f-4551-f304-3ab581f6cd14"
      },
      "outputs": [
        {
          "data": {
            "application/vnd.google.colaboratory.intrinsic+json": {
              "type": "string"
            },
            "text/plain": [
              "'Team: Nationals\\n\"Payroll (millions)\": 81.34\\n\"Wins\": 98'"
            ]
          },
          "execution_count": 5,
          "metadata": {},
          "output_type": "execute_result"
        }
      ],
      "source": [
        "data[0].page_content"
      ]
    },
    {
      "cell_type": "code",
      "execution_count": 6,
      "id": "NSzsh7iJMnku",
      "metadata": {
        "colab": {
          "base_uri": "https://localhost:8080/"
        },
        "id": "NSzsh7iJMnku",
        "outputId": "d343d8fa-9006-4589-b3ee-c7f1f9e48ea2"
      },
      "outputs": [
        {
          "data": {
            "text/plain": [
              "{'source': '/content/mlb_teams_2012.csv', 'row': 0}"
            ]
          },
          "execution_count": 6,
          "metadata": {},
          "output_type": "execute_result"
        }
      ],
      "source": [
        "data[0].metadata"
      ]
    },
    {
      "cell_type": "markdown",
      "id": "FYa_unEVNAbf",
      "metadata": {
        "id": "FYa_unEVNAbf"
      },
      "source": [
        "## Usecases"
      ]
    },
    {
      "cell_type": "markdown",
      "id": "JECkOAUKO2e2",
      "metadata": {
        "id": "JECkOAUKO2e2"
      },
      "source": [
        "### create_csv_agent"
      ]
    },
    {
      "cell_type": "markdown",
      "id": "9fcede6e",
      "metadata": {},
      "source": [
        "`create_csv_agent`를 사용하여 csv파일을 기반으로 한 `Agent`를 생성합니다"
      ]
    },
    {
      "cell_type": "code",
      "execution_count": 63,
      "id": "katZUQjMNDL6",
      "metadata": {
        "id": "katZUQjMNDL6"
      },
      "outputs": [],
      "source": [
        "from langchain.agents.agent_types import AgentType\n",
        "from langchain_experimental.agents.agent_toolkits import create_csv_agent\n",
        "from langchain_openai import ChatOpenAI, OpenAI\n",
        "\n",
        "agent = create_csv_agent(\n",
        "    ChatOpenAI(temperature=0, model=\"gpt-4\"),\n",
        "    \"/content/mlb_teams_2012.csv\",\n",
        "    verbose=True,\n",
        "    agent_type=AgentType.OPENAI_FUNCTIONS,\n",
        ")"
      ]
    },
    {
      "cell_type": "code",
      "execution_count": 61,
      "id": "DNIWnVDyOco9",
      "metadata": {
        "colab": {
          "base_uri": "https://localhost:8080/",
          "height": 219
        },
        "id": "DNIWnVDyOco9",
        "outputId": "a127d365-d4e9-40f1-dfc7-8ef032218322"
      },
      "outputs": [
        {
          "name": "stdout",
          "output_type": "stream",
          "text": [
            "\n",
            "\n",
            "\u001b[1m> Entering new AgentExecutor chain...\u001b[0m\n",
            "\u001b[32;1m\u001b[1;3m\n",
            "Invoking: `python_repl_ast` with `{'query': 'df.shape[0]'}`\n",
            "\n",
            "\n",
            "\u001b[0m\u001b[36;1m\u001b[1;3m30\u001b[0m\u001b[32;1m\u001b[1;3mThere are 30 rows in the dataframe.\u001b[0m\n",
            "\n",
            "\u001b[1m> Finished chain.\u001b[0m\n"
          ]
        },
        {
          "data": {
            "application/vnd.google.colaboratory.intrinsic+json": {
              "type": "string"
            },
            "text/plain": [
              "'There are 30 rows in the dataframe.'"
            ]
          },
          "execution_count": 61,
          "metadata": {},
          "output_type": "execute_result"
        }
      ],
      "source": [
        "agent.run(\"how many rows are there?\")"
      ]
    },
    {
      "cell_type": "code",
      "execution_count": 64,
      "id": "f7ZcLwysOfks",
      "metadata": {
        "colab": {
          "base_uri": "https://localhost:8080/",
          "height": 219
        },
        "id": "f7ZcLwysOfks",
        "outputId": "9eaff1ab-9b44-415c-bbd6-22c20c916af4"
      },
      "outputs": [
        {
          "name": "stdout",
          "output_type": "stream",
          "text": [
            "\n",
            "\n",
            "\u001b[1m> Entering new AgentExecutor chain...\u001b[0m\n",
            "\u001b[32;1m\u001b[1;3m\n",
            "Invoking: `python_repl_ast` with `{'query': \"df[df['Wins'] == df['Wins'].max()]['Team'].values[0]\"}`\n",
            "\n",
            "\n",
            "\u001b[0m\u001b[36;1m\u001b[1;3mNationals\u001b[0m\u001b[32;1m\u001b[1;3mThe team with the most wins is the Nationals.\u001b[0m\n",
            "\n",
            "\u001b[1m> Finished chain.\u001b[0m\n"
          ]
        },
        {
          "data": {
            "application/vnd.google.colaboratory.intrinsic+json": {
              "type": "string"
            },
            "text/plain": [
              "'The team with the most wins is the Nationals.'"
            ]
          },
          "execution_count": 64,
          "metadata": {},
          "output_type": "execute_result"
        }
      ],
      "source": [
        "agent.run(\"Which team has the most wins?\")"
      ]
    },
    {
      "cell_type": "markdown",
      "id": "692d879a",
      "metadata": {
        "id": "692d879a"
      },
      "source": [
        "## Customizing the CSV parsing and loading"
      ]
    },
    {
      "cell_type": "code",
      "execution_count": 65,
      "id": "715b6a38",
      "metadata": {
        "id": "715b6a38"
      },
      "outputs": [],
      "source": [
        "loader = CSVLoader(file_path='/content/mlb_teams_2012.csv', csv_args={\n",
        "    'delimiter': ',',\n",
        "    'quotechar': '\"',\n",
        "    'fieldnames': ['MLB Team', 'Payroll in millions', 'Wins']\n",
        "})\n",
        "\n",
        "data = loader.load()"
      ]
    },
    {
      "cell_type": "code",
      "execution_count": 66,
      "id": "55d7db9b",
      "metadata": {
        "colab": {
          "base_uri": "https://localhost:8080/",
          "height": 35
        },
        "id": "55d7db9b",
        "outputId": "02a9dcc0-81c4-4a20-b849-6ef740eac6c6"
      },
      "outputs": [
        {
          "data": {
            "application/vnd.google.colaboratory.intrinsic+json": {
              "type": "string"
            },
            "text/plain": [
              "'MLB Team: Team\\nPayroll in millions: Payroll\\nWins: Wins'"
            ]
          },
          "execution_count": 66,
          "metadata": {},
          "output_type": "execute_result"
        }
      ],
      "source": [
        "data[0].page_content"
      ]
    },
    {
      "cell_type": "code",
      "execution_count": 67,
      "id": "SaTn3BH8Qyci",
      "metadata": {
        "colab": {
          "base_uri": "https://localhost:8080/"
        },
        "id": "SaTn3BH8Qyci",
        "outputId": "8995c446-d4bd-423f-8db6-04e6a5da470d"
      },
      "outputs": [
        {
          "data": {
            "text/plain": [
              "{'source': '/content/mlb_teams_2012.csv', 'row': 0}"
            ]
          },
          "execution_count": 67,
          "metadata": {},
          "output_type": "execute_result"
        }
      ],
      "source": [
        "data[0].metadata"
      ]
    },
    {
      "cell_type": "markdown",
      "id": "ea2164c6",
      "metadata": {
        "id": "ea2164c6"
      },
      "source": [
        "## Specify a column to identify the document source"
      ]
    },
    {
      "cell_type": "code",
      "execution_count": 68,
      "id": "57c6a776",
      "metadata": {
        "id": "57c6a776"
      },
      "outputs": [],
      "source": [
        "loader = CSVLoader(file_path='/content/mlb_teams_2012.csv', source_column=\"Team\")\n",
        "\n",
        "data = loader.load()\n"
      ]
    },
    {
      "cell_type": "code",
      "execution_count": 69,
      "id": "87503630",
      "metadata": {
        "colab": {
          "base_uri": "https://localhost:8080/"
        },
        "id": "87503630",
        "outputId": "dd730a0c-3071-4f4a-ac17-17075d3765a4"
      },
      "outputs": [
        {
          "name": "stdout",
          "output_type": "stream",
          "text": [
            "[Document(page_content='Team: Nationals\\nPayroll: 81.34\\nWins: 98', metadata={'source': 'Nationals', 'row': 0}), Document(page_content='Team: Reds\\nPayroll: 82.2\\nWins: 97', metadata={'source': 'Reds', 'row': 1}), Document(page_content='Team: Yankees\\nPayroll: 197.96\\nWins: 95', metadata={'source': 'Yankees', 'row': 2}), Document(page_content='Team: Giants\\nPayroll: 117.62\\nWins: 94', metadata={'source': 'Giants', 'row': 3}), Document(page_content='Team: Braves\\nPayroll: 83.31\\nWins: 94', metadata={'source': 'Braves', 'row': 4}), Document(page_content='Team: Athletics\\nPayroll: 55.37\\nWins: 94', metadata={'source': 'Athletics', 'row': 5}), Document(page_content='Team: Rangers\\nPayroll: 120.51\\nWins: 93', metadata={'source': 'Rangers', 'row': 6}), Document(page_content='Team: Orioles\\nPayroll: 81.43\\nWins: 93', metadata={'source': 'Orioles', 'row': 7}), Document(page_content='Team: Rays\\nPayroll: 64.17\\nWins: 90', metadata={'source': 'Rays', 'row': 8}), Document(page_content='Team: Angels\\nPayroll: 154.49\\nWins: 89', metadata={'source': 'Angels', 'row': 9}), Document(page_content='Team: Tigers\\nPayroll: 132.3\\nWins: 88', metadata={'source': 'Tigers', 'row': 10}), Document(page_content='Team: Cardinals\\nPayroll: 110.3\\nWins: 88', metadata={'source': 'Cardinals', 'row': 11}), Document(page_content='Team: Dodgers\\nPayroll: 95.14\\nWins: 86', metadata={'source': 'Dodgers', 'row': 12}), Document(page_content='Team: White Sox\\nPayroll: 96.92\\nWins: 85', metadata={'source': 'White Sox', 'row': 13}), Document(page_content='Team: Brewers\\nPayroll: 97.65\\nWins: 83', metadata={'source': 'Brewers', 'row': 14}), Document(page_content='Team: Phillies\\nPayroll: 174.54\\nWins: 81', metadata={'source': 'Phillies', 'row': 15}), Document(page_content='Team: Diamondbacks\\nPayroll: 74.28\\nWins: 81', metadata={'source': 'Diamondbacks', 'row': 16}), Document(page_content='Team: Pirates\\nPayroll: 63.43\\nWins: 79', metadata={'source': 'Pirates', 'row': 17}), Document(page_content='Team: Padres\\nPayroll: 55.24\\nWins: 76', metadata={'source': 'Padres', 'row': 18}), Document(page_content='Team: Mariners\\nPayroll: 81.97\\nWins: 75', metadata={'source': 'Mariners', 'row': 19}), Document(page_content='Team: Mets\\nPayroll: 93.35\\nWins: 74', metadata={'source': 'Mets', 'row': 20}), Document(page_content='Team: Blue Jays\\nPayroll: 75.48\\nWins: 73', metadata={'source': 'Blue Jays', 'row': 21}), Document(page_content='Team: Royals\\nPayroll: 60.91\\nWins: 72', metadata={'source': 'Royals', 'row': 22}), Document(page_content='Team: Marlins\\nPayroll: 118.07\\nWins: 69', metadata={'source': 'Marlins', 'row': 23}), Document(page_content='Team: Red Sox\\nPayroll: 173.18\\nWins: 69', metadata={'source': 'Red Sox', 'row': 24}), Document(page_content='Team: Indians\\nPayroll: 78.43\\nWins: 68', metadata={'source': 'Indians', 'row': 25}), Document(page_content='Team: Twins\\nPayroll: 94.08\\nWins: 66', metadata={'source': 'Twins', 'row': 26}), Document(page_content='Team: Rockies\\nPayroll: 78.06\\nWins: 64', metadata={'source': 'Rockies', 'row': 27}), Document(page_content='Team: Cubs\\nPayroll: 88.19\\nWins: 61', metadata={'source': 'Cubs', 'row': 28}), Document(page_content='Team: Astros\\nPayroll: 60.65\\nWins: 55', metadata={'source': 'Astros', 'row': 29})]\n"
          ]
        }
      ],
      "source": [
        "print(data)"
      ]
    },
    {
      "cell_type": "markdown",
      "id": "c6f21bb6",
      "metadata": {},
      "source": [
        "`create_csv_agent`에 여러개의 파일을 기반으로 한 `Agent`를 생성할 수 있습니다."
      ]
    },
    {
      "cell_type": "code",
      "execution_count": 76,
      "id": "Ci8l1sJ7eGpZ",
      "metadata": {
        "id": "Ci8l1sJ7eGpZ"
      },
      "outputs": [],
      "source": [
        "from langchain.agents.agent_types import AgentType\n",
        "from langchain_experimental.agents.agent_toolkits import create_csv_agent\n",
        "from langchain_openai import ChatOpenAI, OpenAI\n",
        "\n",
        "agent = create_csv_agent(\n",
        "    ChatOpenAI(temperature=0, model=\"gpt-4\"),\n",
        "    [\"/content/mlb_teams_2012.csv\",\"/content/mlb_players.csv\"],\n",
        "    verbose=True,\n",
        "    agent_type=AgentType.OPENAI_FUNCTIONS,\n",
        ")"
      ]
    },
    {
      "cell_type": "code",
      "execution_count": 77,
      "id": "cROa8adIeY5k",
      "metadata": {
        "colab": {
          "base_uri": "https://localhost:8080/",
          "height": 441
        },
        "id": "cROa8adIeY5k",
        "outputId": "85c5311a-69c1-466a-ccf1-d070aaa99666"
      },
      "outputs": [
        {
          "name": "stdout",
          "output_type": "stream",
          "text": [
            "\n",
            "\n",
            "\u001b[1m> Entering new AgentExecutor chain...\u001b[0m\n",
            "\u001b[32;1m\u001b[1;3m\n",
            "Invoking: `python_repl_ast` with `{'query': \"df2[df2['Height(inches)'] == df2['Height(inches)'].max()]['Name']\"}`\n",
            "\n",
            "\n",
            "\u001b[0m\u001b[36;1m\u001b[1;3mKeyError: 'Height(inches)'\u001b[0m\u001b[32;1m\u001b[1;3m\n",
            "Invoking: `python_repl_ast` with `{'query': 'df2.columns'}`\n",
            "responded: 죄송합니다. 데이터 프레임에서 'Height(inches)' 열을 찾을 수 없습니다. 데이터 프레임의 열 이름을 확인하겠습니다.\n",
            "\n",
            "\u001b[0m\u001b[36;1m\u001b[1;3mIndex(['Name', ' Team', ' Position', ' Height(inches)', ' Weight(lbs)',\n",
            "       ' Age'],\n",
            "      dtype='object')\u001b[0m\u001b[32;1m\u001b[1;3m\n",
            "Invoking: `python_repl_ast` with `{'query': \"df2[df2[' Height(inches)'] == df2[' Height(inches)'].max()]['Name']\"}`\n",
            "responded: 데이터 프레임의 열 이름을 확인해 보니, 'Height(inches)' 앞에 공백이 있습니다. 이를 고려하여 다시 질문에 대한 답변을 찾아보겠습니다.\n",
            "\n",
            "\u001b[0m\u001b[36;1m\u001b[1;3m928    Jon Rauch\n",
            "Name: Name, dtype: object\u001b[0m\u001b[32;1m\u001b[1;3m가장 키가 큰 선수는 Jon Rauch입니다.\u001b[0m\n",
            "\n",
            "\u001b[1m> Finished chain.\u001b[0m\n"
          ]
        },
        {
          "data": {
            "application/vnd.google.colaboratory.intrinsic+json": {
              "type": "string"
            },
            "text/plain": [
              "'가장 키가 큰 선수는 Jon Rauch입니다.'"
            ]
          },
          "execution_count": 77,
          "metadata": {},
          "output_type": "execute_result"
        }
      ],
      "source": [
        "agent.run(\"플레이어 중 가장 키가 큰 선수는 누구에요?\")"
      ]
    },
    {
      "cell_type": "markdown",
      "id": "303e90ed",
      "metadata": {
        "id": "303e90ed"
      },
      "source": [
        "# Pandas Dataframe"
      ]
    },
    {
      "cell_type": "markdown",
      "id": "ca371c30",
      "metadata": {},
      "source": [
        "CSV파일을 Pandas 데이터프레임으로 변환한 후 `create_pandas_dataframe_agent`을 사용하여 데이터프레임을 활용한 `Agent`를 생성합니다."
      ]
    },
    {
      "cell_type": "code",
      "execution_count": 70,
      "id": "hJ0XhFypZvww",
      "metadata": {
        "id": "hJ0XhFypZvww"
      },
      "outputs": [],
      "source": [
        "from langchain.agents.agent_types import AgentType\n",
        "from langchain_experimental.agents.agent_toolkits import create_pandas_dataframe_agent\n",
        "from langchain_openai import ChatOpenAI\n",
        "\n",
        "import pandas as pd\n",
        "from langchain_openai import OpenAI\n",
        "\n",
        "df = pd.read_csv(\"/content/mlb_teams_2012.csv\")\n",
        "\n",
        "agent = create_pandas_dataframe_agent(\n",
        "    ChatOpenAI(temperature=0, model=\"gpt-4\"),\n",
        "    df,\n",
        "    verbose=True,\n",
        "    agent_type=AgentType.OPENAI_FUNCTIONS,\n",
        ")"
      ]
    },
    {
      "cell_type": "code",
      "execution_count": 58,
      "id": "uSF4-pg0Z_ya",
      "metadata": {
        "colab": {
          "base_uri": "https://localhost:8080/",
          "height": 219
        },
        "id": "uSF4-pg0Z_ya",
        "outputId": "f5396467-46ff-4530-cd62-e23502b24993"
      },
      "outputs": [
        {
          "name": "stdout",
          "output_type": "stream",
          "text": [
            "\n",
            "\n",
            "\u001b[1m> Entering new AgentExecutor chain...\u001b[0m\n",
            "\u001b[32;1m\u001b[1;3m\n",
            "Invoking: `python_repl_ast` with `{'query': 'df.shape[0]'}`\n",
            "\n",
            "\n",
            "\u001b[0m\u001b[36;1m\u001b[1;3m30\u001b[0m\u001b[32;1m\u001b[1;3mThere are 30 rows in the dataframe.\u001b[0m\n",
            "\n",
            "\u001b[1m> Finished chain.\u001b[0m\n"
          ]
        },
        {
          "data": {
            "application/vnd.google.colaboratory.intrinsic+json": {
              "type": "string"
            },
            "text/plain": [
              "'There are 30 rows in the dataframe.'"
            ]
          },
          "execution_count": 58,
          "metadata": {},
          "output_type": "execute_result"
        }
      ],
      "source": [
        "agent.run(\"how many rows are there?\")"
      ]
    },
    {
      "cell_type": "code",
      "execution_count": 71,
      "id": "fLDgRL43aD9I",
      "metadata": {
        "colab": {
          "base_uri": "https://localhost:8080/",
          "height": 219
        },
        "id": "fLDgRL43aD9I",
        "outputId": "f0bbf406-3d2b-4750-8cdc-3eeeacd1a511"
      },
      "outputs": [
        {
          "name": "stdout",
          "output_type": "stream",
          "text": [
            "\n",
            "\n",
            "\u001b[1m> Entering new AgentExecutor chain...\u001b[0m\n",
            "\u001b[32;1m\u001b[1;3m\n",
            "Invoking: `python_repl_ast` with `{'query': \"df[df['Wins'] == df['Wins'].max()]['Team'].values[0]\"}`\n",
            "\n",
            "\n",
            "\u001b[0m\u001b[36;1m\u001b[1;3mNationals\u001b[0m\u001b[32;1m\u001b[1;3mThe team with the most wins is the Nationals.\u001b[0m\n",
            "\n",
            "\u001b[1m> Finished chain.\u001b[0m\n"
          ]
        },
        {
          "data": {
            "application/vnd.google.colaboratory.intrinsic+json": {
              "type": "string"
            },
            "text/plain": [
              "'The team with the most wins is the Nationals.'"
            ]
          },
          "execution_count": 71,
          "metadata": {},
          "output_type": "execute_result"
        }
      ],
      "source": [
        "agent.run(\"Which team has the most wins?\")"
      ]
    },
    {
      "cell_type": "code",
      "execution_count": 72,
      "id": "FXvHym88cf8O",
      "metadata": {
        "colab": {
          "base_uri": "https://localhost:8080/",
          "height": 292
        },
        "id": "FXvHym88cf8O",
        "outputId": "3ab111cb-eed9-4aae-a34d-c56d4255f3d5"
      },
      "outputs": [
        {
          "name": "stdout",
          "output_type": "stream",
          "text": [
            "\n",
            "\n",
            "\u001b[1m> Entering new AgentExecutor chain...\u001b[0m\n",
            "\u001b[32;1m\u001b[1;3m\n",
            "Invoking: `python_repl_ast` with `{'query': \"df['Wins'].mean()\"}`\n",
            "\n",
            "\n",
            "\u001b[0m\u001b[36;1m\u001b[1;3m81.0\u001b[0m\u001b[32;1m\u001b[1;3m\n",
            "Invoking: `python_repl_ast` with `{'query': 'import math\\nmath.sqrt(81)'}`\n",
            "\n",
            "\n",
            "\u001b[0m\u001b[36;1m\u001b[1;3m9.0\u001b[0m\u001b[32;1m\u001b[1;3mThe square root of the average wins is 9.0.\u001b[0m\n",
            "\n",
            "\u001b[1m> Finished chain.\u001b[0m\n"
          ]
        },
        {
          "data": {
            "application/vnd.google.colaboratory.intrinsic+json": {
              "type": "string"
            },
            "text/plain": [
              "'The square root of the average wins is 9.0.'"
            ]
          },
          "execution_count": 72,
          "metadata": {},
          "output_type": "execute_result"
        }
      ],
      "source": [
        "agent.run(\"whats the square root of the average wins?\")"
      ]
    },
    {
      "cell_type": "markdown",
      "id": "rbCq8V61cnRl",
      "metadata": {
        "id": "rbCq8V61cnRl"
      },
      "source": [
        "## Multi DataFrame Example"
      ]
    },
    {
      "cell_type": "markdown",
      "id": "56fc9f29",
      "metadata": {},
      "source": [
        "여러개의 데이터프레임을 활용하여 `Agent`를 생성할 수 있습니다."
      ]
    },
    {
      "cell_type": "code",
      "execution_count": 73,
      "id": "SbvoJ6Hxcs6d",
      "metadata": {
        "id": "SbvoJ6Hxcs6d"
      },
      "outputs": [],
      "source": [
        "df1 = df.copy()\n",
        "df1[\"Wins\"] = df1[\"Wins\"].fillna(df1[\"Wins\"].mean())"
      ]
    },
    {
      "cell_type": "code",
      "execution_count": 75,
      "id": "kRRZmhCDczju",
      "metadata": {
        "colab": {
          "base_uri": "https://localhost:8080/",
          "height": 201
        },
        "id": "kRRZmhCDczju",
        "outputId": "1c24e49c-720e-4eb3-c36c-9a5d1627500b"
      },
      "outputs": [
        {
          "name": "stdout",
          "output_type": "stream",
          "text": [
            "\n",
            "\n",
            "\u001b[1m> Entering new AgentExecutor chain...\u001b[0m\n",
            "\u001b[32;1m\u001b[1;3mThought: I need to compare the wins column in both dataframes and count the number of rows that are different.\n",
            "Action: python_repl_ast\n",
            "Action Input: len(df1[df1['Wins'] != df2['Wins']])\u001b[0m\u001b[36;1m\u001b[1;3m0\u001b[0m\u001b[32;1m\u001b[1;3m0 rows are different in the wins column.\n",
            "Final Answer: 0\u001b[0m\n",
            "\n",
            "\u001b[1m> Finished chain.\u001b[0m\n"
          ]
        },
        {
          "data": {
            "application/vnd.google.colaboratory.intrinsic+json": {
              "type": "string"
            },
            "text/plain": [
              "'0'"
            ]
          },
          "execution_count": 75,
          "metadata": {},
          "output_type": "execute_result"
        }
      ],
      "source": [
        "agent = create_pandas_dataframe_agent(OpenAI(temperature=0), [df, df1], verbose=True)\n",
        "agent.run(\"how many rows in the wins column are different?\")"
      ]
    }
  ],
  "metadata": {
    "colab": {
      "provenance": []
    },
    "kernelspec": {
      "display_name": "Python 3",
      "name": "python3"
    },
    "language_info": {
      "name": "python"
    }
  },
  "nbformat": 4,
  "nbformat_minor": 5
}
