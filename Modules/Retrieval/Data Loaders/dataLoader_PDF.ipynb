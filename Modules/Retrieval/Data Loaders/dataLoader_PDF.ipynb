{
  "cells": [
    {
      "cell_type": "markdown",
      "metadata": {
        "id": "nfxdpmQDD1Du"
      },
      "source": [
        "# PDF"
      ]
    },
    {
      "cell_type": "markdown",
      "metadata": {
        "id": "OsMewQL5D4Ty"
      },
      "source": [
        "## Using PyPDF"
      ]
    },
    {
      "cell_type": "code",
      "execution_count": null,
      "metadata": {
        "colab": {
          "base_uri": "https://localhost:8080/"
        },
        "id": "pf8OFAIT_1wo",
        "outputId": "291de12d-c241-4ad0-f52f-a059cc3dfd3f"
      },
      "outputs": [
        {
          "name": "stdout",
          "output_type": "stream",
          "text": [
            "\u001b[2K     \u001b[90m━━━━━━━━━━━━━━━━━━━━━━━━━━━━━━━━━━━━━━━━\u001b[0m \u001b[32m809.1/809.1 kB\u001b[0m \u001b[31m6.1 MB/s\u001b[0m eta \u001b[36m0:00:00\u001b[0m\n",
            "\u001b[2K     \u001b[90m━━━━━━━━━━━━━━━━━━━━━━━━━━━━━━━━━━━━━━━━\u001b[0m \u001b[32m1.8/1.8 MB\u001b[0m \u001b[31m29.2 MB/s\u001b[0m eta \u001b[36m0:00:00\u001b[0m\n",
            "\u001b[2K     \u001b[90m━━━━━━━━━━━━━━━━━━━━━━━━━━━━━━━━━━━━━━━━\u001b[0m \u001b[32m286.1/286.1 kB\u001b[0m \u001b[31m14.5 MB/s\u001b[0m eta \u001b[36m0:00:00\u001b[0m\n",
            "\u001b[2K     \u001b[90m━━━━━━━━━━━━━━━━━━━━━━━━━━━━━━━━━━━━━━━━\u001b[0m \u001b[32m27.0/27.0 MB\u001b[0m \u001b[31m21.9 MB/s\u001b[0m eta \u001b[36m0:00:00\u001b[0m\n",
            "\u001b[2K     \u001b[90m━━━━━━━━━━━━━━━━━━━━━━━━━━━━━━━━━━━━━━━━\u001b[0m \u001b[32m260.9/260.9 kB\u001b[0m \u001b[31m16.7 MB/s\u001b[0m eta \u001b[36m0:00:00\u001b[0m\n",
            "\u001b[2K     \u001b[90m━━━━━━━━━━━━━━━━━━━━━━━━━━━━━━━━━━━━━━━━\u001b[0m \u001b[32m68.0/68.0 kB\u001b[0m \u001b[31m5.5 MB/s\u001b[0m eta \u001b[36m0:00:00\u001b[0m\n",
            "\u001b[2K     \u001b[90m━━━━━━━━━━━━━━━━━━━━━━━━━━━━━━━━━━━━━━━━\u001b[0m \u001b[32m257.5/257.5 kB\u001b[0m \u001b[31m11.1 MB/s\u001b[0m eta \u001b[36m0:00:00\u001b[0m\n",
            "\u001b[2K     \u001b[90m━━━━━━━━━━━━━━━━━━━━━━━━━━━━━━━━━━━━━━━━\u001b[0m \u001b[32m1.8/1.8 MB\u001b[0m \u001b[31m30.2 MB/s\u001b[0m eta \u001b[36m0:00:00\u001b[0m\n",
            "\u001b[2K     \u001b[90m━━━━━━━━━━━━━━━━━━━━━━━━━━━━━━━━━━━━━━━━\u001b[0m \u001b[32m49.4/49.4 kB\u001b[0m \u001b[31m3.3 MB/s\u001b[0m eta \u001b[36m0:00:00\u001b[0m\n",
            "\u001b[2K     \u001b[90m━━━━━━━━━━━━━━━━━━━━━━━━━━━━━━━━━━━━━━━━\u001b[0m \u001b[32m53.0/53.0 kB\u001b[0m \u001b[31m3.5 MB/s\u001b[0m eta \u001b[36m0:00:00\u001b[0m\n",
            "\u001b[2K     \u001b[90m━━━━━━━━━━━━━━━━━━━━━━━━━━━━━━━━━━━━━━━━\u001b[0m \u001b[32m138.5/138.5 kB\u001b[0m \u001b[31m3.5 MB/s\u001b[0m eta \u001b[36m0:00:00\u001b[0m\n",
            "\u001b[2K     \u001b[90m━━━━━━━━━━━━━━━━━━━━━━━━━━━━━━━━━━━━━━━━\u001b[0m \u001b[32m75.6/75.6 kB\u001b[0m \u001b[31m4.2 MB/s\u001b[0m eta \u001b[36m0:00:00\u001b[0m\n",
            "\u001b[2K     \u001b[90m━━━━━━━━━━━━━━━━━━━━━━━━━━━━━━━━━━━━━━━━\u001b[0m \u001b[32m77.8/77.8 kB\u001b[0m \u001b[31m3.3 MB/s\u001b[0m eta \u001b[36m0:00:00\u001b[0m\n",
            "\u001b[2K     \u001b[90m━━━━━━━━━━━━━━━━━━━━━━━━━━━━━━━━━━━━━━━━\u001b[0m \u001b[32m58.3/58.3 kB\u001b[0m \u001b[31m3.7 MB/s\u001b[0m eta \u001b[36m0:00:00\u001b[0m\n",
            "\u001b[?25h"
          ]
        }
      ],
      "source": [
        "!pip install --upgrade --quiet langchain langchain-openai langchain-community pypdf faiss-cpu"
      ]
    },
    {
      "cell_type": "code",
      "execution_count": null,
      "metadata": {
        "id": "ttB2x6DSD8C1"
      },
      "outputs": [],
      "source": [
        "import os\n",
        "\n",
        "os.environ[\"OPENAI_API_KEY\"] = 'sk-******************************************'"
      ]
    },
    {
      "cell_type": "markdown",
      "metadata": {},
      "source": [
        "`PyPDFLoader`를 사용하여 PDF파일을 로드합니다."
      ]
    },
    {
      "cell_type": "code",
      "execution_count": null,
      "metadata": {
        "id": "WfS4mF3EEQTW"
      },
      "outputs": [],
      "source": [
        "from langchain_community.document_loaders import PyPDFLoader\n",
        "\n",
        "loader = PyPDFLoader(\"/content/layout-parser-readthedocs-io-en-latest.pdf\")\n",
        "pages = loader.load_and_split()"
      ]
    },
    {
      "cell_type": "code",
      "execution_count": null,
      "metadata": {
        "colab": {
          "base_uri": "https://localhost:8080/",
          "height": 35
        },
        "id": "ElIEHa_Vndtb",
        "outputId": "554cf3fb-ea32-45f8-98e8-5bfe059ff9ec"
      },
      "outputs": [
        {
          "data": {
            "application/vnd.google.colaboratory.intrinsic+json": {
              "type": "string"
            },
            "text/plain": [
              "'Layout Parser\\nRelease 0.3.2\\nLayout Parser Contributors\\nApr 02, 2022'"
            ]
          },
          "execution_count": 15,
          "metadata": {},
          "output_type": "execute_result"
        }
      ],
      "source": [
        "pages[0].page_content"
      ]
    },
    {
      "cell_type": "code",
      "execution_count": null,
      "metadata": {
        "colab": {
          "base_uri": "https://localhost:8080/"
        },
        "id": "WNTiGeILE3yO",
        "outputId": "8a19bbcb-0c4d-44b4-cf6a-c90f6b056071"
      },
      "outputs": [
        {
          "data": {
            "text/plain": [
              "{'source': '/content/layout-parser-readthedocs-io-en-latest.pdf', 'page': 0}"
            ]
          },
          "execution_count": 10,
          "metadata": {},
          "output_type": "execute_result"
        }
      ],
      "source": [
        "pages[0].metadata"
      ]
    },
    {
      "cell_type": "markdown",
      "metadata": {},
      "source": [
        "`FAISS`에 문서를 임베딩 합니다."
      ]
    },
    {
      "cell_type": "code",
      "execution_count": null,
      "metadata": {
        "colab": {
          "base_uri": "https://localhost:8080/"
        },
        "id": "M7t9JcrgE8TR",
        "outputId": "38639cd5-0d2c-4411-a6c3-167458190a98"
      },
      "outputs": [
        {
          "name": "stdout",
          "output_type": "stream",
          "text": [
            "7: Layout Parser, Release 0.3.2\n",
            "4 Chapter 2. Model Zoo\n",
            "53: Layout Parser, Release 0.3.2\n",
            "50 Chapter 8. Text Recognition Tool\n"
          ]
        }
      ],
      "source": [
        "from langchain_community.vectorstores import FAISS\n",
        "from langchain_openai import OpenAIEmbeddings\n",
        "\n",
        "faiss_index = FAISS.from_documents(pages, OpenAIEmbeddings())\n",
        "docs = faiss_index.similarity_search(\"How will the community be engaged?\", k=2)\n",
        "for doc in docs:\n",
        "    print(str(doc.metadata[\"page\"]) + \":\", doc.page_content[:300])"
      ]
    },
    {
      "cell_type": "markdown",
      "metadata": {
        "id": "zsOzW9ZJqCRC"
      },
      "source": [
        "### PDF Usage"
      ]
    },
    {
      "cell_type": "markdown",
      "metadata": {},
      "source": [
        "`LLMChain`을 사용하여 문서를 요약하는 Chain을 생성합니다."
      ]
    },
    {
      "cell_type": "code",
      "execution_count": null,
      "metadata": {
        "colab": {
          "base_uri": "https://localhost:8080/",
          "height": 90
        },
        "id": "PGKDbmcSoABz",
        "outputId": "2de7bebf-b5fc-46aa-9d36-509664f8f1a0"
      },
      "outputs": [
        {
          "name": "stderr",
          "output_type": "stream",
          "text": [
            "/usr/local/lib/python3.10/dist-packages/langchain_core/_api/deprecation.py:117: LangChainDeprecationWarning: The function `run` was deprecated in LangChain 0.1.0 and will be removed in 0.2.0. Use invoke instead.\n",
            "  warn_deprecated(\n"
          ]
        },
        {
          "data": {
            "application/vnd.google.colaboratory.intrinsic+json": {
              "type": "string"
            },
            "text/plain": [
              "'주어진 문서 목록에는 \"Layout Parser\"라는 소프트웨어의 버전 0.3.2에 대한 내용이 포함되어 있습니다. 첫 번째 문서는 \"Chapter 2. Model Zoo\"에 대한 내용이며, 두 번째 문서는 \"Chapter 8. Text Recognition Tool\"에 대한 내용입니다.'"
            ]
          },
          "execution_count": 17,
          "metadata": {},
          "output_type": "execute_result"
        }
      ],
      "source": [
        "from langchain.prompts import PromptTemplate\n",
        "from langchain.chat_models import ChatOpenAI\n",
        "from langchain.chains import LLMChain\n",
        "\n",
        "map_template = \"\"\"다음은 문서 중 일부 내용입니다\n",
        "{pages}\n",
        "이 문서 목록을 기반으로 주요 내용을 요약해 주세요.\n",
        "답변:\"\"\"\n",
        "\n",
        "map_prompt = PromptTemplate.from_template(map_template)\n",
        "\n",
        "llm = ChatOpenAI(temperature=0, model_name='gpt-3.5-turbo-16k')\n",
        "map_chain = LLMChain(llm=llm, prompt=map_prompt)\n",
        "\n",
        "map_chain.run(docs)"
      ]
    },
    {
      "cell_type": "code",
      "execution_count": null,
      "metadata": {
        "colab": {
          "base_uri": "https://localhost:8080/",
          "height": 35
        },
        "id": "sHQnXRNaomfz",
        "outputId": "c9921194-ed1f-4989-ba79-f7bf4825b4ec"
      },
      "outputs": [
        {
          "data": {
            "application/vnd.google.colaboratory.intrinsic+json": {
              "type": "string"
            },
            "text/plain": [
              "'Layout Parser의 최신 버전은 0.3.2이며, Model Zoo와 Text Recognition Tool이 포함되어 있습니다. Model Zoo는 2장에서, Text Recognition Tool은 8장에서 소개되었습니다.'"
            ]
          },
          "execution_count": 18,
          "metadata": {},
          "output_type": "execute_result"
        }
      ],
      "source": [
        "reduce_template = \"\"\"다음은 요약의 집합입니다:\n",
        "{doc_summaries}\n",
        "이것들을 바탕으로 통합된 요약을 만들어 주세요.\n",
        "답변:\"\"\"\n",
        "\n",
        "reduce_prompt = PromptTemplate.from_template(reduce_template)\n",
        "\n",
        "reduce_chain = LLMChain(llm=llm, prompt=reduce_prompt)\n",
        "\n",
        "reduce_chain.run(docs)"
      ]
    },
    {
      "cell_type": "markdown",
      "metadata": {},
      "source": [
        "`StuffDocumentsChain`은 문서 목록을 가져와서 먼저 단일 문자열로 결합합니다.\n",
        "\n",
        "`document_variable_name`으로 설정된 변수 이름을 사용하여 입력에 해당 새 문자열을 추가합니다.\n",
        "\n",
        "해당 입력은 `llm_chain` 으로 전달됩니다."
      ]
    },
    {
      "cell_type": "code",
      "execution_count": null,
      "metadata": {
        "colab": {
          "base_uri": "https://localhost:8080/",
          "height": 35
        },
        "id": "Z9Fe8DkypHGQ",
        "outputId": "808a2ee5-0f4c-4fc6-9501-f7ac77fcea00"
      },
      "outputs": [
        {
          "data": {
            "application/vnd.google.colaboratory.intrinsic+json": {
              "type": "string"
            },
            "text/plain": [
              "'Layout Parser의 Release 0.3.2에는 Model Zoo와 Text Recognition Tool이 포함되어 있습니다.'"
            ]
          },
          "execution_count": 19,
          "metadata": {},
          "output_type": "execute_result"
        }
      ],
      "source": [
        "from langchain.chains.combine_documents.stuff import StuffDocumentsChain\n",
        "from langchain.chains import ReduceDocumentsChain, MapReduceDocumentsChain\n",
        "\n",
        "combine_documents_chain = StuffDocumentsChain(\n",
        "    llm_chain=reduce_chain,\n",
        "    document_variable_name=\"doc_summaries\"\n",
        ")\n",
        "\n",
        "combine_documents_chain.run(docs)"
      ]
    },
    {
      "cell_type": "markdown",
      "metadata": {},
      "source": [
        "`ReduceDocumentsChain문서`를 반복적으로 줄여 문서를 결합합니다.\n",
        "\n",
        "`combine_documents_chain`: 이전 결과를 모두 이 체인에 전달하고 이 체인의 출력이 최종 결과로 반환됩니다.\n",
        "\n",
        "`collapse_documents_chain`: 전달된 문서가 너무 많아서 한 번에 `Combine_documents_chain` 에 모두 전달할 수 없는 경우에 사용됩니다."
      ]
    },
    {
      "cell_type": "code",
      "execution_count": null,
      "metadata": {
        "colab": {
          "base_uri": "https://localhost:8080/",
          "height": 35
        },
        "id": "_jWOlF6Bpg96",
        "outputId": "1bbf08bb-5de1-4922-f09a-0ac5a265ccef"
      },
      "outputs": [
        {
          "data": {
            "application/vnd.google.colaboratory.intrinsic+json": {
              "type": "string"
            },
            "text/plain": [
              "'Layout Parser의 Release 0.3.2에는 Model Zoo와 Text Recognition Tool이 포함되어 있습니다.'"
            ]
          },
          "execution_count": 20,
          "metadata": {},
          "output_type": "execute_result"
        }
      ],
      "source": [
        "reduce_documents_chain = ReduceDocumentsChain(\n",
        "    combine_documents_chain=combine_documents_chain,\n",
        "    collapse_documents_chain=combine_documents_chain,\n",
        "    token_max=4000,\n",
        ")\n",
        "\n",
        "reduce_documents_chain.run(docs)"
      ]
    },
    {
      "cell_type": "markdown",
      "metadata": {},
      "source": [
        "`MapReduceDocumentsChain`은 먼저 LLM을 통해 각 문서를 전달한 다음 ReduceDocumentsChain을 사용하여 문서를 줄입니다.\n",
        "\n",
        "먼저 각 문서에서 개별적으로 `llm_chain을` 호출하여 `page_content` 및 기타 `kwargs`를 전달합니다."
      ]
    },
    {
      "cell_type": "code",
      "execution_count": null,
      "metadata": {
        "colab": {
          "base_uri": "https://localhost:8080/",
          "height": 54
        },
        "id": "boC2dlGGpqTZ",
        "outputId": "2571cf5f-f365-4b2a-e25c-99df34f9f4b7"
      },
      "outputs": [
        {
          "data": {
            "application/vnd.google.colaboratory.intrinsic+json": {
              "type": "string"
            },
            "text/plain": [
              "'이 문서는 \"Layout Parser\"의 0.3.2 버전에 대한 내용을 다루고 있습니다. 문서는 총 4장으로 구성되어 있으며, 그 중 2장은 \"Model Zoo\"에 대한 내용을 다루고 있습니다. \"Model Zoo\"에는 무엇인가에 대한 구체적인 설명이 포함되어 있을 것으로 예상됩니다. 또한, 문서의 50장은 \"Text Recognition Tool\"에 대한 내용을 다루고 있습니다.'"
            ]
          },
          "execution_count": 21,
          "metadata": {},
          "output_type": "execute_result"
        }
      ],
      "source": [
        "map_reduce_chain = MapReduceDocumentsChain(\n",
        "    llm_chain=map_chain,\n",
        "    reduce_documents_chain=reduce_documents_chain,\n",
        "    document_variable_name=\"pages\",\n",
        "    return_intermediate_steps=False,\n",
        ")\n",
        "\n",
        "map_reduce_chain.run(docs)"
      ]
    },
    {
      "cell_type": "markdown",
      "metadata": {
        "id": "Q7HlzJspGQ2p"
      },
      "source": [
        "## Using PyPDFium2"
      ]
    },
    {
      "cell_type": "markdown",
      "metadata": {},
      "source": [
        "`PyPDFium2Loader`는 pypdfium2 및 문자 수준의 청크를 사용하여 PDF를 로드합니다."
      ]
    },
    {
      "cell_type": "code",
      "execution_count": null,
      "metadata": {
        "id": "VceuvNOnF9DC"
      },
      "outputs": [],
      "source": [
        "from langchain_community.document_loaders import PyPDFium2Loader"
      ]
    },
    {
      "cell_type": "code",
      "execution_count": null,
      "metadata": {
        "id": "CZiOd6uTGg0D"
      },
      "outputs": [],
      "source": [
        "!pip install --quiet pypdfium2"
      ]
    },
    {
      "cell_type": "code",
      "execution_count": null,
      "metadata": {
        "id": "Q3Yc5rizGTZF"
      },
      "outputs": [],
      "source": [
        "loader = PyPDFium2Loader(\"/content/layout-parser-readthedocs-io-en-latest.pdf\")"
      ]
    },
    {
      "cell_type": "code",
      "execution_count": null,
      "metadata": {
        "colab": {
          "base_uri": "https://localhost:8080/"
        },
        "id": "mhDCUig5GYwZ",
        "outputId": "f31c32f5-3020-4332-cea8-d62bd9236d9e"
      },
      "outputs": [
        {
          "name": "stderr",
          "output_type": "stream",
          "text": [
            "/usr/local/lib/python3.10/dist-packages/pypdfium2/_helpers/textpage.py:81: UserWarning: get_text_range() call with default params will be implicitly redirected to get_text_bounded()\n",
            "  warnings.warn(\"get_text_range() call with default params will be implicitly redirected to get_text_bounded()\")\n"
          ]
        }
      ],
      "source": [
        "data = loader.load()"
      ]
    },
    {
      "cell_type": "code",
      "execution_count": null,
      "metadata": {
        "id": "WV3nThsrGvQf"
      },
      "outputs": [],
      "source": [
        "pages = loader.load_and_split()"
      ]
    },
    {
      "cell_type": "code",
      "execution_count": null,
      "metadata": {
        "colab": {
          "base_uri": "https://localhost:8080/",
          "height": 35
        },
        "id": "vcIkcxUGHYq7",
        "outputId": "629de263-b14f-4b20-ccf3-dc284e89aaf8"
      },
      "outputs": [
        {
          "data": {
            "application/vnd.google.colaboratory.intrinsic+json": {
              "type": "string"
            },
            "text/plain": [
              "'Layout Parser\\r\\nRelease 0.3.2\\r\\nLayout Parser Contributors\\r\\nApr 02, 2022'"
            ]
          },
          "execution_count": 27,
          "metadata": {},
          "output_type": "execute_result"
        }
      ],
      "source": [
        "pages[0].page_content"
      ]
    },
    {
      "cell_type": "code",
      "execution_count": null,
      "metadata": {
        "colab": {
          "base_uri": "https://localhost:8080/"
        },
        "id": "X293vnrQqRKJ",
        "outputId": "d11538e3-e4bc-4d5f-d275-ae8e621978e5"
      },
      "outputs": [
        {
          "data": {
            "text/plain": [
              "{'source': '/content/layout-parser-readthedocs-io-en-latest.pdf', 'page': 0}"
            ]
          },
          "execution_count": 28,
          "metadata": {},
          "output_type": "execute_result"
        }
      ],
      "source": [
        "pages[0].metadata"
      ]
    },
    {
      "cell_type": "code",
      "execution_count": null,
      "metadata": {
        "colab": {
          "base_uri": "https://localhost:8080/"
        },
        "id": "7LNY8ispGmi4",
        "outputId": "9c180a7e-4f62-4690-bdb8-2487b071dd13"
      },
      "outputs": [
        {
          "name": "stdout",
          "output_type": "stream",
          "text": [
            "7: Layout Parser, Release 0.3.2\r\n",
            "4 Chapter 2. Model Zoo\n",
            "53: Layout Parser, Release 0.3.2\r\n",
            "50 Chapter 8. Text Recognition Tool\n"
          ]
        }
      ],
      "source": [
        "from langchain_community.vectorstores import FAISS\n",
        "from langchain_openai import OpenAIEmbeddings\n",
        "\n",
        "faiss_index = FAISS.from_documents(pages, OpenAIEmbeddings())\n",
        "docs = faiss_index.similarity_search(\"How will the community be engaged?\", k=2)\n",
        "for doc in docs:\n",
        "    print(str(doc.metadata[\"page\"]) + \":\", doc.page_content[:300])"
      ]
    },
    {
      "cell_type": "markdown",
      "metadata": {
        "id": "O3uZdZTXG7Z_"
      },
      "source": [
        "## Using PyMuPDF"
      ]
    },
    {
      "cell_type": "markdown",
      "metadata": {},
      "source": [
        "`PyMuPDFLoader`는 PDF 구문 분석 옵션 중 가장 빠르며 PDF 및 해당 페이지에 대한 자세한 메타데이터를 포함할 뿐만 아니라 페이지당 하나의 문서를 반환합니다."
      ]
    },
    {
      "cell_type": "code",
      "execution_count": null,
      "metadata": {
        "id": "XmJAprAfGqGo"
      },
      "outputs": [],
      "source": [
        "from langchain_community.document_loaders import PyMuPDFLoader"
      ]
    },
    {
      "cell_type": "code",
      "execution_count": null,
      "metadata": {
        "colab": {
          "base_uri": "https://localhost:8080/"
        },
        "id": "vcBZALD3HFwL",
        "outputId": "b77df901-5bc4-47ab-d081-4ebe5811a7f4"
      },
      "outputs": [
        {
          "name": "stdout",
          "output_type": "stream",
          "text": [
            "\u001b[2K     \u001b[90m━━━━━━━━━━━━━━━━━━━━━━━━━━━━━━━━━━━━━━━━\u001b[0m \u001b[32m4.4/4.4 MB\u001b[0m \u001b[31m12.0 MB/s\u001b[0m eta \u001b[36m0:00:00\u001b[0m\n",
            "\u001b[2K     \u001b[90m━━━━━━━━━━━━━━━━━━━━━━━━━━━━━━━━━━━━━━━━\u001b[0m \u001b[32m30.6/30.6 MB\u001b[0m \u001b[31m22.6 MB/s\u001b[0m eta \u001b[36m0:00:00\u001b[0m\n",
            "\u001b[?25h"
          ]
        }
      ],
      "source": [
        "!pip install --upgrade --quiet pymupdf"
      ]
    },
    {
      "cell_type": "code",
      "execution_count": null,
      "metadata": {
        "id": "SlWq0AK2G9kV"
      },
      "outputs": [],
      "source": [
        "loader = PyMuPDFLoader(\"/content/layout-parser-readthedocs-io-en-latest.pdf\")"
      ]
    },
    {
      "cell_type": "code",
      "execution_count": null,
      "metadata": {
        "id": "r1cA77qOHBJr"
      },
      "outputs": [],
      "source": [
        "pages = loader.load_and_split()"
      ]
    },
    {
      "cell_type": "code",
      "execution_count": null,
      "metadata": {
        "colab": {
          "base_uri": "https://localhost:8080/",
          "height": 35
        },
        "id": "DbbswQsTqndg",
        "outputId": "a1606a87-4d7a-48d0-e3e5-e26be061b811"
      },
      "outputs": [
        {
          "data": {
            "application/vnd.google.colaboratory.intrinsic+json": {
              "type": "string"
            },
            "text/plain": [
              "'Layout Parser\\nRelease 0.3.2\\nLayout Parser Contributors\\nApr 02, 2022'"
            ]
          },
          "execution_count": 35,
          "metadata": {},
          "output_type": "execute_result"
        }
      ],
      "source": [
        "pages[0].page_content"
      ]
    },
    {
      "cell_type": "code",
      "execution_count": null,
      "metadata": {
        "colab": {
          "base_uri": "https://localhost:8080/"
        },
        "id": "pyAP_oyCquF4",
        "outputId": "1c09cdc6-0e1a-458f-dad1-43a33c462b0e"
      },
      "outputs": [
        {
          "data": {
            "text/plain": [
              "{'source': '/content/layout-parser-readthedocs-io-en-latest.pdf',\n",
              " 'file_path': '/content/layout-parser-readthedocs-io-en-latest.pdf',\n",
              " 'page': 0,\n",
              " 'total_pages': 69,\n",
              " 'format': 'PDF 1.5',\n",
              " 'title': 'Layout Parser',\n",
              " 'author': 'Layout Parser Contributors',\n",
              " 'subject': '',\n",
              " 'keywords': '',\n",
              " 'creator': 'LaTeX with hyperref package',\n",
              " 'producer': 'pdfTeX-1.40.18',\n",
              " 'creationDate': 'D:20220402174803Z',\n",
              " 'modDate': 'D:20220402174803Z',\n",
              " 'trapped': ''}"
            ]
          },
          "execution_count": 36,
          "metadata": {},
          "output_type": "execute_result"
        }
      ],
      "source": [
        "pages[0].metadata"
      ]
    },
    {
      "cell_type": "code",
      "execution_count": null,
      "metadata": {
        "colab": {
          "base_uri": "https://localhost:8080/"
        },
        "id": "GH0eJWQWHRrs",
        "outputId": "6e6e67da-af03-4e7f-ec94-9a6a1dc1f2ef"
      },
      "outputs": [
        {
          "name": "stdout",
          "output_type": "stream",
          "text": [
            "7: Layout Parser, Release 0.3.2\n",
            "4\n",
            "Chapter 2. Model Zoo\n",
            "53: Layout Parser, Release 0.3.2\n",
            "50\n",
            "Chapter 8. Text Recognition Tool\n"
          ]
        }
      ],
      "source": [
        "from langchain_community.vectorstores import FAISS\n",
        "from langchain_openai import OpenAIEmbeddings\n",
        "\n",
        "faiss_index = FAISS.from_documents(pages, OpenAIEmbeddings())\n",
        "docs = faiss_index.similarity_search(\"How will the community be engaged?\", k=2)\n",
        "for doc in docs:\n",
        "    print(str(doc.metadata[\"page\"]) + \":\", doc.page_content[:300])"
      ]
    },
    {
      "cell_type": "markdown",
      "metadata": {
        "id": "MtsI7pDpHoFm"
      },
      "source": [
        "## PyPDF Directory"
      ]
    },
    {
      "cell_type": "markdown",
      "metadata": {},
      "source": [
        "`PyPDFDirectoryLoader`는 디렉토리에서 PDF파일을 로드합니다."
      ]
    },
    {
      "cell_type": "code",
      "execution_count": null,
      "metadata": {
        "id": "VgXyU2GqHWVs"
      },
      "outputs": [],
      "source": [
        "from langchain_community.document_loaders import PyPDFDirectoryLoader"
      ]
    },
    {
      "cell_type": "code",
      "execution_count": null,
      "metadata": {
        "id": "U-Wxe3ISHrYl"
      },
      "outputs": [],
      "source": [
        "loader = PyPDFDirectoryLoader(\"/content/PyPdf\")"
      ]
    },
    {
      "cell_type": "code",
      "execution_count": null,
      "metadata": {
        "id": "IhsOwjbLIGAQ"
      },
      "outputs": [],
      "source": [
        "docs = loader.load()"
      ]
    },
    {
      "cell_type": "code",
      "execution_count": null,
      "metadata": {
        "colab": {
          "base_uri": "https://localhost:8080/"
        },
        "id": "H-ZgcfsXIHhe",
        "outputId": "293a9990-e7c3-44b7-dc92-1675650f040b"
      },
      "outputs": [
        {
          "data": {
            "text/plain": [
              "104"
            ]
          },
          "execution_count": 42,
          "metadata": {},
          "output_type": "execute_result"
        }
      ],
      "source": [
        "len(docs)"
      ]
    },
    {
      "cell_type": "code",
      "execution_count": null,
      "metadata": {
        "colab": {
          "base_uri": "https://localhost:8080/",
          "height": 35
        },
        "id": "lQP7xsOCrOjw",
        "outputId": "6fa367e1-0298-4325-8ce0-40ccd773c29f"
      },
      "outputs": [
        {
          "data": {
            "application/vnd.google.colaboratory.intrinsic+json": {
              "type": "string"
            },
            "text/plain": [
              "'Layout Parser\\nRelease 0.3.2\\nLayout Parser Contributors\\nApr 02, 2022'"
            ]
          },
          "execution_count": 44,
          "metadata": {},
          "output_type": "execute_result"
        }
      ],
      "source": [
        "docs[0].page_content"
      ]
    },
    {
      "cell_type": "code",
      "execution_count": null,
      "metadata": {
        "colab": {
          "base_uri": "https://localhost:8080/"
        },
        "id": "cm3I_EvjrTBH",
        "outputId": "76f5c0d0-f140-472e-f91f-a108c65222ae"
      },
      "outputs": [
        {
          "data": {
            "text/plain": [
              "{'source': '/content/PyPdf/layout-parser-readthedocs-io-en-latest.pdf',\n",
              " 'page': 0}"
            ]
          },
          "execution_count": 45,
          "metadata": {},
          "output_type": "execute_result"
        }
      ],
      "source": [
        "docs[0].metadata"
      ]
    },
    {
      "cell_type": "markdown",
      "metadata": {
        "id": "bppD9BG5ItMy"
      },
      "source": [
        "## **Using PDFPlumber**"
      ]
    },
    {
      "cell_type": "markdown",
      "metadata": {},
      "source": [
        "`PDFPlumberLoader`는 `PyMuPDF`와 마찬가지로 출력 문서에는 PDF와 해당 페이지에 대한 자세한 메타데이터가 포함되어 있으며 페이지당 하나의 문서를 반환합니다."
      ]
    },
    {
      "cell_type": "code",
      "execution_count": null,
      "metadata": {
        "colab": {
          "base_uri": "https://localhost:8080/"
        },
        "id": "bJB52zpAI0Pr",
        "outputId": "03433324-20ac-414d-b43d-d698f571d12e"
      },
      "outputs": [
        {
          "name": "stdout",
          "output_type": "stream",
          "text": [
            "\u001b[2K     \u001b[90m━━━━━━━━━━━━━━━━━━━━━━━━━━━━━━━━━━━━━━━━\u001b[0m \u001b[32m56.4/56.4 kB\u001b[0m \u001b[31m1.7 MB/s\u001b[0m eta \u001b[36m0:00:00\u001b[0m\n",
            "\u001b[2K     \u001b[90m━━━━━━━━━━━━━━━━━━━━━━━━━━━━━━━━━━━━━━━━\u001b[0m \u001b[32m5.6/5.6 MB\u001b[0m \u001b[31m34.0 MB/s\u001b[0m eta \u001b[36m0:00:00\u001b[0m\n",
            "\u001b[?25h"
          ]
        }
      ],
      "source": [
        "!pip install --upgrade --quiet pdfplumber"
      ]
    },
    {
      "cell_type": "code",
      "execution_count": null,
      "metadata": {
        "id": "BLwVCbR2IOsV"
      },
      "outputs": [],
      "source": [
        "from langchain_community.document_loaders import PDFPlumberLoader"
      ]
    },
    {
      "cell_type": "code",
      "execution_count": null,
      "metadata": {
        "id": "3U_5w2sfIvBZ"
      },
      "outputs": [],
      "source": [
        "loader = PDFPlumberLoader(\"/content/PyPdf/2403.09876.pdf\")"
      ]
    },
    {
      "cell_type": "code",
      "execution_count": null,
      "metadata": {
        "id": "HcwtHaH-IyM-"
      },
      "outputs": [],
      "source": [
        "data = loader.load()"
      ]
    },
    {
      "cell_type": "code",
      "execution_count": null,
      "metadata": {
        "colab": {
          "base_uri": "https://localhost:8080/",
          "height": 109
        },
        "id": "6SNnYYANI8Fz",
        "outputId": "677c13fe-43a2-49cc-df87-278557f41959"
      },
      "outputs": [
        {
          "data": {
            "application/vnd.google.colaboratory.intrinsic+json": {
              "type": "string"
            },
            "text/plain": [
              "'WHICH SHAPES CAN APPEAR IN A CURVE SHORTENING\\nFLOW SINGULARITY?\\nSIGURDB.ANGENENT,EVANPATRICKDAVIS,ELLIEDECLEENE,\\nPAIGEELLINGSON,ZIHENGFENG,EDGARGEVORGYAN,ARISLEMMENES,\\nALEXMOON,TYLERJOSEPHTOMMASI,ANDYAMINZHOU\\nAbstract. Westudypossibletanglesthatcanoccurinsingularitiesofsolu-\\ntions to plane Curve Shortening Flow. We exhibit solutions in which more\\ncomplicated tangles with more than one self-intersection disappear into a\\nsingular point. It seems that there are many examples of this kind and\\nthat a complete classification presents a problem similar to the problem of\\nclassifying all knots in R3. As a particular example, we introduce the so-\\ncalled n-loop curves, which generalize Matt Grayson’s Figure-Eight curve,\\nandweconjectureageneralizationoftheCoiculescu-Schwarzasymptoticbow-\\ntie result, namely, a vanishing n-loop, when rescaled anisotropically to fit\\na square bounding box, converges to a “squeezed bow-tie,” i.e. the curve\\n{(x,y) : |x| ≤ 1,y = ±xn−1}∪{(±1,y) : |y| ≤ 1}. As evidence in sup-\\nportoftheconjecture,weprovideaformalasymptoticanalysisononehand,\\nandanumericalsimulationforthecasesn=3andn=4ontheother.\\n1. Introduction\\n1.1. Definitions. Curve Shortening Flow deals with evolving families of closed\\ncurves. Such a family is given by a differentiable map γ : [0,T)×R → R2 where\\nu (cid:55)→ γ(t,u) parametrizes the curve at time t ∈ [0,T). We assume that the curves\\nare closed, i.e.\\nγ(t,u+1)=γ(t,u) for all t,u, (1.1.1)\\nand that the curves are immersed, i.e.\\n∂γ\\ndef\\nγ (t,u) = ̸=0 for all t,u.\\nu ∂u\\nBy definition, a family γ(t,·) of curves evolves by Curve Shortening Flow if it\\nsatisfies\\nγ (t,u)⊥ =k(t,u). (1.1.2)\\nt\\nHere γ⊥ is the component of γ that is perpendicular to γ , i.e.,\\nt t u\\nγ⊥ =γ −⟨γ ,γ ⟩γ /∥γ ∥2.\\nt t t u u u\\nDate:March18,2024.\\nTheworkpresentedherewasdoneinSpringandFallof2022aspartoftheMadisonExperi-\\nmentalMathematicslab(https://mxm.math.wisc.edu/). WewouldliketothankKaiyiHuang\\nandDevanshiMerchantfortheirroleinmentoringthetwostudentgroupsthatparticipated.\\n1\\n4202\\nraM\\n41\\n]GD.htam[\\n1v67890.3042:viXra\\n'"
            ]
          },
          "execution_count": 50,
          "metadata": {},
          "output_type": "execute_result"
        }
      ],
      "source": [
        "data[0].page_content"
      ]
    },
    {
      "cell_type": "code",
      "execution_count": null,
      "metadata": {
        "colab": {
          "base_uri": "https://localhost:8080/"
        },
        "id": "3FnyMfSWrjOf",
        "outputId": "899fd4f3-98c2-4b3c-8187-11f6b4193e57"
      },
      "outputs": [
        {
          "data": {
            "text/plain": [
              "{'source': '/content/PyPdf/2403.09876.pdf',\n",
              " 'file_path': '/content/PyPdf/2403.09876.pdf',\n",
              " 'page': 0,\n",
              " 'total_pages': 21,\n",
              " 'Author': '',\n",
              " 'CreationDate': 'D:20240318010436Z',\n",
              " 'Creator': 'LaTeX with hyperref',\n",
              " 'Keywords': '',\n",
              " 'ModDate': 'D:20240318010436Z',\n",
              " 'PTEX.Fullbanner': 'This is pdfTeX, Version 3.141592653-2.6-1.40.25 (TeX Live 2023) kpathsea version 6.3.5',\n",
              " 'Producer': 'pdfTeX-1.40.25',\n",
              " 'Subject': '',\n",
              " 'Title': '',\n",
              " 'Trapped': 'False'}"
            ]
          },
          "execution_count": 51,
          "metadata": {},
          "output_type": "execute_result"
        }
      ],
      "source": [
        "data[0].metadata"
      ]
    },
    {
      "cell_type": "markdown",
      "metadata": {
        "id": "prg3CTPrRKud"
      },
      "source": [
        "### **glob을 통해서 폴더 단위로 PDFPlumberLoader 사용하기**"
      ]
    },
    {
      "cell_type": "code",
      "execution_count": null,
      "metadata": {
        "id": "z7jP9yU7NJoR"
      },
      "outputs": [],
      "source": [
        "import glob\n",
        "from langchain.document_loaders import PDFPlumberLoader\n",
        "\n",
        "pdf_files = glob.glob(\"/content/PyPdf/*.pdf\")\n",
        "\n",
        "docs = []\n",
        "for pdf_file in pdf_files:\n",
        "    loader = PDFPlumberLoader(pdf_file)\n",
        "    docs.extend(loader.load())"
      ]
    },
    {
      "cell_type": "code",
      "execution_count": null,
      "metadata": {
        "colab": {
          "base_uri": "https://localhost:8080/"
        },
        "id": "kK631zLLQ7eQ",
        "outputId": "7fb249d9-1455-449d-f71e-c228d23263b3"
      },
      "outputs": [
        {
          "data": {
            "text/plain": [
              "104"
            ]
          },
          "execution_count": 53,
          "metadata": {},
          "output_type": "execute_result"
        }
      ],
      "source": [
        "len(docs)"
      ]
    },
    {
      "cell_type": "code",
      "execution_count": null,
      "metadata": {
        "colab": {
          "base_uri": "https://localhost:8080/",
          "height": 35
        },
        "id": "JkR85QIisAyR",
        "outputId": "b666be1c-89ba-4382-c924-fd6ced250b43"
      },
      "outputs": [
        {
          "data": {
            "application/vnd.google.colaboratory.intrinsic+json": {
              "type": "string"
            },
            "text/plain": [
              "'Layout Parser\\nRelease 0.3.2\\nLayout Parser Contributors\\nApr 02, 2022\\n'"
            ]
          },
          "execution_count": 54,
          "metadata": {},
          "output_type": "execute_result"
        }
      ],
      "source": [
        "docs[0].page_content"
      ]
    },
    {
      "cell_type": "code",
      "execution_count": null,
      "metadata": {
        "colab": {
          "base_uri": "https://localhost:8080/"
        },
        "id": "aP1j20tNsD4J",
        "outputId": "3ede8f93-1cf0-4840-e1ab-adcf2fe02034"
      },
      "outputs": [
        {
          "data": {
            "text/plain": [
              "{'source': '/content/PyPdf/layout-parser-readthedocs-io-en-latest.pdf',\n",
              " 'file_path': '/content/PyPdf/layout-parser-readthedocs-io-en-latest.pdf',\n",
              " 'page': 0,\n",
              " 'total_pages': 69,\n",
              " 'Author': 'Layout Parser Contributors',\n",
              " 'Title': 'Layout Parser',\n",
              " 'Subject': '',\n",
              " 'Creator': 'LaTeX with hyperref package',\n",
              " 'Producer': 'pdfTeX-1.40.18',\n",
              " 'Keywords': '',\n",
              " 'CreationDate': 'D:20220402174803Z',\n",
              " 'ModDate': 'D:20220402174803Z',\n",
              " 'Trapped': 'False',\n",
              " 'PTEX.Fullbanner': 'This is pdfTeX, Version 3.14159265-2.6-1.40.18 (TeX Live 2017/Debian) kpathsea version 6.2.3'}"
            ]
          },
          "execution_count": 55,
          "metadata": {},
          "output_type": "execute_result"
        }
      ],
      "source": [
        "docs[0].metadata"
      ]
    }
  ],
  "metadata": {
    "colab": {
      "provenance": []
    },
    "kernelspec": {
      "display_name": "Python 3",
      "name": "python3"
    },
    "language_info": {
      "name": "python"
    }
  },
  "nbformat": 4,
  "nbformat_minor": 0
}
