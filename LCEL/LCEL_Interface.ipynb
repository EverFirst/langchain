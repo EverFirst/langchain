{
  "cells": [
    {
      "cell_type": "markdown",
      "metadata": {
        "id": "259M-8OXmQD7"
      },
      "source": [
        "# LCEL Interface"
      ]
    },
    {
      "cell_type": "markdown",
      "metadata": {},
      "source": [
        "#### 필수 라이브러리 다운로드"
      ]
    },
    {
      "cell_type": "code",
      "execution_count": 79,
      "metadata": {
        "id": "4Vahr4cWmPN6"
      },
      "outputs": [],
      "source": [
        "!pip install --upgrade --quiet  langchain-core langchain-community langchain-openai"
      ]
    },
    {
      "cell_type": "markdown",
      "metadata": {},
      "source": [
        "#### OpenAI API Key 등록"
      ]
    },
    {
      "cell_type": "code",
      "execution_count": 80,
      "metadata": {
        "id": "86kvSCFwnI2s"
      },
      "outputs": [],
      "source": [
        "import os\n",
        "os.environ[\"OPENAI_API_KEY\"]      = \"sk-***********************************************\""
      ]
    },
    {
      "cell_type": "code",
      "execution_count": 81,
      "metadata": {
        "id": "UiIaFJpK-6-a"
      },
      "outputs": [],
      "source": [
        "from langchain_core.prompts import ChatPromptTemplate\n",
        "from langchain_openai import ChatOpenAI\n",
        "\n",
        "#모델 생성\n",
        "model = ChatOpenAI()\n",
        "\n",
        "#프롬프트 생성\n",
        "prompt = ChatPromptTemplate.from_template(\"tell me a joke about {topic}\")\n",
        "\n",
        "#LCEL 체인 생성\n",
        "chain = prompt | model"
      ]
    },
    {
      "cell_type": "markdown",
      "metadata": {
        "id": "opB3ho_4mVYC"
      },
      "source": [
        "## Input Schema"
      ]
    },
    {
      "cell_type": "code",
      "execution_count": 82,
      "metadata": {
        "colab": {
          "base_uri": "https://localhost:8080/"
        },
        "id": "EY5sCeARyF9w",
        "outputId": "e954f08a-8497-4b79-d6db-b34e7c5a9349"
      },
      "outputs": [
        {
          "data": {
            "text/plain": [
              "{'title': 'PromptInput',\n",
              " 'type': 'object',\n",
              " 'properties': {'topic': {'title': 'Topic', 'type': 'string'}}}"
            ]
          },
          "execution_count": 82,
          "metadata": {},
          "output_type": "execute_result"
        }
      ],
      "source": [
        "# The input schema of the chain is the input schema of its first part, the prompt.\n",
        "#체인 Schema 확인\n",
        "chain.input_schema.schema()"
      ]
    },
    {
      "cell_type": "code",
      "execution_count": 83,
      "metadata": {
        "colab": {
          "base_uri": "https://localhost:8080/"
        },
        "id": "bakMQBRA_Ibv",
        "outputId": "a4f53395-66ff-4897-dacd-063802f8749d"
      },
      "outputs": [
        {
          "data": {
            "text/plain": [
              "{'title': 'PromptInput',\n",
              " 'type': 'object',\n",
              " 'properties': {'topic': {'title': 'Topic', 'type': 'string'}}}"
            ]
          },
          "execution_count": 83,
          "metadata": {},
          "output_type": "execute_result"
        }
      ],
      "source": [
        "#프롬프트 Schema 확인\n",
        "prompt.input_schema.schema()"
      ]
    },
    {
      "cell_type": "code",
      "execution_count": 84,
      "metadata": {
        "colab": {
          "base_uri": "https://localhost:8080/"
        },
        "id": "QtIGQyHb_Nqd",
        "outputId": "ebb88865-3a1b-44aa-b3e9-76472351c7fa"
      },
      "outputs": [
        {
          "data": {
            "text/plain": [
              "{'title': 'ChatOpenAIInput',\n",
              " 'anyOf': [{'type': 'string'},\n",
              "  {'$ref': '#/definitions/StringPromptValue'},\n",
              "  {'$ref': '#/definitions/ChatPromptValueConcrete'},\n",
              "  {'type': 'array',\n",
              "   'items': {'anyOf': [{'$ref': '#/definitions/AIMessage'},\n",
              "     {'$ref': '#/definitions/HumanMessage'},\n",
              "     {'$ref': '#/definitions/ChatMessage'},\n",
              "     {'$ref': '#/definitions/SystemMessage'},\n",
              "     {'$ref': '#/definitions/FunctionMessage'},\n",
              "     {'$ref': '#/definitions/ToolMessage'}]}}],\n",
              " 'definitions': {'StringPromptValue': {'title': 'StringPromptValue',\n",
              "   'description': 'String prompt value.',\n",
              "   'type': 'object',\n",
              "   'properties': {'text': {'title': 'Text', 'type': 'string'},\n",
              "    'type': {'title': 'Type',\n",
              "     'default': 'StringPromptValue',\n",
              "     'enum': ['StringPromptValue'],\n",
              "     'type': 'string'}},\n",
              "   'required': ['text']},\n",
              "  'AIMessage': {'title': 'AIMessage',\n",
              "   'description': 'Message from an AI.',\n",
              "   'type': 'object',\n",
              "   'properties': {'content': {'title': 'Content',\n",
              "     'anyOf': [{'type': 'string'},\n",
              "      {'type': 'array',\n",
              "       'items': {'anyOf': [{'type': 'string'}, {'type': 'object'}]}}]},\n",
              "    'additional_kwargs': {'title': 'Additional Kwargs', 'type': 'object'},\n",
              "    'response_metadata': {'title': 'Response Metadata', 'type': 'object'},\n",
              "    'type': {'title': 'Type',\n",
              "     'default': 'ai',\n",
              "     'enum': ['ai'],\n",
              "     'type': 'string'},\n",
              "    'name': {'title': 'Name', 'type': 'string'},\n",
              "    'id': {'title': 'Id', 'type': 'string'},\n",
              "    'example': {'title': 'Example', 'default': False, 'type': 'boolean'}},\n",
              "   'required': ['content']},\n",
              "  'HumanMessage': {'title': 'HumanMessage',\n",
              "   'description': 'Message from a human.',\n",
              "   'type': 'object',\n",
              "   'properties': {'content': {'title': 'Content',\n",
              "     'anyOf': [{'type': 'string'},\n",
              "      {'type': 'array',\n",
              "       'items': {'anyOf': [{'type': 'string'}, {'type': 'object'}]}}]},\n",
              "    'additional_kwargs': {'title': 'Additional Kwargs', 'type': 'object'},\n",
              "    'response_metadata': {'title': 'Response Metadata', 'type': 'object'},\n",
              "    'type': {'title': 'Type',\n",
              "     'default': 'human',\n",
              "     'enum': ['human'],\n",
              "     'type': 'string'},\n",
              "    'name': {'title': 'Name', 'type': 'string'},\n",
              "    'id': {'title': 'Id', 'type': 'string'},\n",
              "    'example': {'title': 'Example', 'default': False, 'type': 'boolean'}},\n",
              "   'required': ['content']},\n",
              "  'ChatMessage': {'title': 'ChatMessage',\n",
              "   'description': 'Message that can be assigned an arbitrary speaker (i.e. role).',\n",
              "   'type': 'object',\n",
              "   'properties': {'content': {'title': 'Content',\n",
              "     'anyOf': [{'type': 'string'},\n",
              "      {'type': 'array',\n",
              "       'items': {'anyOf': [{'type': 'string'}, {'type': 'object'}]}}]},\n",
              "    'additional_kwargs': {'title': 'Additional Kwargs', 'type': 'object'},\n",
              "    'response_metadata': {'title': 'Response Metadata', 'type': 'object'},\n",
              "    'type': {'title': 'Type',\n",
              "     'default': 'chat',\n",
              "     'enum': ['chat'],\n",
              "     'type': 'string'},\n",
              "    'name': {'title': 'Name', 'type': 'string'},\n",
              "    'id': {'title': 'Id', 'type': 'string'},\n",
              "    'role': {'title': 'Role', 'type': 'string'}},\n",
              "   'required': ['content', 'role']},\n",
              "  'SystemMessage': {'title': 'SystemMessage',\n",
              "   'description': 'Message for priming AI behavior, usually passed in as the first of a sequence\\nof input messages.',\n",
              "   'type': 'object',\n",
              "   'properties': {'content': {'title': 'Content',\n",
              "     'anyOf': [{'type': 'string'},\n",
              "      {'type': 'array',\n",
              "       'items': {'anyOf': [{'type': 'string'}, {'type': 'object'}]}}]},\n",
              "    'additional_kwargs': {'title': 'Additional Kwargs', 'type': 'object'},\n",
              "    'response_metadata': {'title': 'Response Metadata', 'type': 'object'},\n",
              "    'type': {'title': 'Type',\n",
              "     'default': 'system',\n",
              "     'enum': ['system'],\n",
              "     'type': 'string'},\n",
              "    'name': {'title': 'Name', 'type': 'string'},\n",
              "    'id': {'title': 'Id', 'type': 'string'}},\n",
              "   'required': ['content']},\n",
              "  'FunctionMessage': {'title': 'FunctionMessage',\n",
              "   'description': 'Message for passing the result of executing a function back to a model.',\n",
              "   'type': 'object',\n",
              "   'properties': {'content': {'title': 'Content',\n",
              "     'anyOf': [{'type': 'string'},\n",
              "      {'type': 'array',\n",
              "       'items': {'anyOf': [{'type': 'string'}, {'type': 'object'}]}}]},\n",
              "    'additional_kwargs': {'title': 'Additional Kwargs', 'type': 'object'},\n",
              "    'response_metadata': {'title': 'Response Metadata', 'type': 'object'},\n",
              "    'type': {'title': 'Type',\n",
              "     'default': 'function',\n",
              "     'enum': ['function'],\n",
              "     'type': 'string'},\n",
              "    'name': {'title': 'Name', 'type': 'string'},\n",
              "    'id': {'title': 'Id', 'type': 'string'}},\n",
              "   'required': ['content', 'name']},\n",
              "  'ToolMessage': {'title': 'ToolMessage',\n",
              "   'description': 'Message for passing the result of executing a tool back to a model.',\n",
              "   'type': 'object',\n",
              "   'properties': {'content': {'title': 'Content',\n",
              "     'anyOf': [{'type': 'string'},\n",
              "      {'type': 'array',\n",
              "       'items': {'anyOf': [{'type': 'string'}, {'type': 'object'}]}}]},\n",
              "    'additional_kwargs': {'title': 'Additional Kwargs', 'type': 'object'},\n",
              "    'response_metadata': {'title': 'Response Metadata', 'type': 'object'},\n",
              "    'type': {'title': 'Type',\n",
              "     'default': 'tool',\n",
              "     'enum': ['tool'],\n",
              "     'type': 'string'},\n",
              "    'name': {'title': 'Name', 'type': 'string'},\n",
              "    'id': {'title': 'Id', 'type': 'string'},\n",
              "    'tool_call_id': {'title': 'Tool Call Id', 'type': 'string'}},\n",
              "   'required': ['content', 'tool_call_id']},\n",
              "  'ChatPromptValueConcrete': {'title': 'ChatPromptValueConcrete',\n",
              "   'description': 'Chat prompt value which explicitly lists out the message types it accepts.\\nFor use in external schemas.',\n",
              "   'type': 'object',\n",
              "   'properties': {'messages': {'title': 'Messages',\n",
              "     'type': 'array',\n",
              "     'items': {'anyOf': [{'$ref': '#/definitions/AIMessage'},\n",
              "       {'$ref': '#/definitions/HumanMessage'},\n",
              "       {'$ref': '#/definitions/ChatMessage'},\n",
              "       {'$ref': '#/definitions/SystemMessage'},\n",
              "       {'$ref': '#/definitions/FunctionMessage'},\n",
              "       {'$ref': '#/definitions/ToolMessage'}]}},\n",
              "    'type': {'title': 'Type',\n",
              "     'default': 'ChatPromptValueConcrete',\n",
              "     'enum': ['ChatPromptValueConcrete'],\n",
              "     'type': 'string'}},\n",
              "   'required': ['messages']}}}"
            ]
          },
          "execution_count": 84,
          "metadata": {},
          "output_type": "execute_result"
        }
      ],
      "source": [
        "#모델 스키마 확인\n",
        "model.input_schema.schema()"
      ]
    },
    {
      "cell_type": "markdown",
      "metadata": {
        "id": "DywRLOBIyu2A"
      },
      "source": [
        "## Output Schema"
      ]
    },
    {
      "cell_type": "code",
      "execution_count": 85,
      "metadata": {
        "colab": {
          "base_uri": "https://localhost:8080/"
        },
        "id": "l-reEsksywQG",
        "outputId": "c9a9eb09-740a-4d7b-a58c-a7ba04b5f177"
      },
      "outputs": [
        {
          "data": {
            "text/plain": [
              "{'title': 'ChatOpenAIOutput',\n",
              " 'anyOf': [{'$ref': '#/definitions/AIMessage'},\n",
              "  {'$ref': '#/definitions/HumanMessage'},\n",
              "  {'$ref': '#/definitions/ChatMessage'},\n",
              "  {'$ref': '#/definitions/SystemMessage'},\n",
              "  {'$ref': '#/definitions/FunctionMessage'},\n",
              "  {'$ref': '#/definitions/ToolMessage'}],\n",
              " 'definitions': {'AIMessage': {'title': 'AIMessage',\n",
              "   'description': 'Message from an AI.',\n",
              "   'type': 'object',\n",
              "   'properties': {'content': {'title': 'Content',\n",
              "     'anyOf': [{'type': 'string'},\n",
              "      {'type': 'array',\n",
              "       'items': {'anyOf': [{'type': 'string'}, {'type': 'object'}]}}]},\n",
              "    'additional_kwargs': {'title': 'Additional Kwargs', 'type': 'object'},\n",
              "    'response_metadata': {'title': 'Response Metadata', 'type': 'object'},\n",
              "    'type': {'title': 'Type',\n",
              "     'default': 'ai',\n",
              "     'enum': ['ai'],\n",
              "     'type': 'string'},\n",
              "    'name': {'title': 'Name', 'type': 'string'},\n",
              "    'id': {'title': 'Id', 'type': 'string'},\n",
              "    'example': {'title': 'Example', 'default': False, 'type': 'boolean'}},\n",
              "   'required': ['content']},\n",
              "  'HumanMessage': {'title': 'HumanMessage',\n",
              "   'description': 'Message from a human.',\n",
              "   'type': 'object',\n",
              "   'properties': {'content': {'title': 'Content',\n",
              "     'anyOf': [{'type': 'string'},\n",
              "      {'type': 'array',\n",
              "       'items': {'anyOf': [{'type': 'string'}, {'type': 'object'}]}}]},\n",
              "    'additional_kwargs': {'title': 'Additional Kwargs', 'type': 'object'},\n",
              "    'response_metadata': {'title': 'Response Metadata', 'type': 'object'},\n",
              "    'type': {'title': 'Type',\n",
              "     'default': 'human',\n",
              "     'enum': ['human'],\n",
              "     'type': 'string'},\n",
              "    'name': {'title': 'Name', 'type': 'string'},\n",
              "    'id': {'title': 'Id', 'type': 'string'},\n",
              "    'example': {'title': 'Example', 'default': False, 'type': 'boolean'}},\n",
              "   'required': ['content']},\n",
              "  'ChatMessage': {'title': 'ChatMessage',\n",
              "   'description': 'Message that can be assigned an arbitrary speaker (i.e. role).',\n",
              "   'type': 'object',\n",
              "   'properties': {'content': {'title': 'Content',\n",
              "     'anyOf': [{'type': 'string'},\n",
              "      {'type': 'array',\n",
              "       'items': {'anyOf': [{'type': 'string'}, {'type': 'object'}]}}]},\n",
              "    'additional_kwargs': {'title': 'Additional Kwargs', 'type': 'object'},\n",
              "    'response_metadata': {'title': 'Response Metadata', 'type': 'object'},\n",
              "    'type': {'title': 'Type',\n",
              "     'default': 'chat',\n",
              "     'enum': ['chat'],\n",
              "     'type': 'string'},\n",
              "    'name': {'title': 'Name', 'type': 'string'},\n",
              "    'id': {'title': 'Id', 'type': 'string'},\n",
              "    'role': {'title': 'Role', 'type': 'string'}},\n",
              "   'required': ['content', 'role']},\n",
              "  'SystemMessage': {'title': 'SystemMessage',\n",
              "   'description': 'Message for priming AI behavior, usually passed in as the first of a sequence\\nof input messages.',\n",
              "   'type': 'object',\n",
              "   'properties': {'content': {'title': 'Content',\n",
              "     'anyOf': [{'type': 'string'},\n",
              "      {'type': 'array',\n",
              "       'items': {'anyOf': [{'type': 'string'}, {'type': 'object'}]}}]},\n",
              "    'additional_kwargs': {'title': 'Additional Kwargs', 'type': 'object'},\n",
              "    'response_metadata': {'title': 'Response Metadata', 'type': 'object'},\n",
              "    'type': {'title': 'Type',\n",
              "     'default': 'system',\n",
              "     'enum': ['system'],\n",
              "     'type': 'string'},\n",
              "    'name': {'title': 'Name', 'type': 'string'},\n",
              "    'id': {'title': 'Id', 'type': 'string'}},\n",
              "   'required': ['content']},\n",
              "  'FunctionMessage': {'title': 'FunctionMessage',\n",
              "   'description': 'Message for passing the result of executing a function back to a model.',\n",
              "   'type': 'object',\n",
              "   'properties': {'content': {'title': 'Content',\n",
              "     'anyOf': [{'type': 'string'},\n",
              "      {'type': 'array',\n",
              "       'items': {'anyOf': [{'type': 'string'}, {'type': 'object'}]}}]},\n",
              "    'additional_kwargs': {'title': 'Additional Kwargs', 'type': 'object'},\n",
              "    'response_metadata': {'title': 'Response Metadata', 'type': 'object'},\n",
              "    'type': {'title': 'Type',\n",
              "     'default': 'function',\n",
              "     'enum': ['function'],\n",
              "     'type': 'string'},\n",
              "    'name': {'title': 'Name', 'type': 'string'},\n",
              "    'id': {'title': 'Id', 'type': 'string'}},\n",
              "   'required': ['content', 'name']},\n",
              "  'ToolMessage': {'title': 'ToolMessage',\n",
              "   'description': 'Message for passing the result of executing a tool back to a model.',\n",
              "   'type': 'object',\n",
              "   'properties': {'content': {'title': 'Content',\n",
              "     'anyOf': [{'type': 'string'},\n",
              "      {'type': 'array',\n",
              "       'items': {'anyOf': [{'type': 'string'}, {'type': 'object'}]}}]},\n",
              "    'additional_kwargs': {'title': 'Additional Kwargs', 'type': 'object'},\n",
              "    'response_metadata': {'title': 'Response Metadata', 'type': 'object'},\n",
              "    'type': {'title': 'Type',\n",
              "     'default': 'tool',\n",
              "     'enum': ['tool'],\n",
              "     'type': 'string'},\n",
              "    'name': {'title': 'Name', 'type': 'string'},\n",
              "    'id': {'title': 'Id', 'type': 'string'},\n",
              "    'tool_call_id': {'title': 'Tool Call Id', 'type': 'string'}},\n",
              "   'required': ['content', 'tool_call_id']}}}"
            ]
          },
          "execution_count": 85,
          "metadata": {},
          "output_type": "execute_result"
        }
      ],
      "source": [
        "# The output schema of the chain is the output schema of its last part, in this case a ChatModel, which outputs a ChatMessage\n",
        "# Output Schema 확인\n",
        "chain.output_schema.schema()"
      ]
    },
    {
      "cell_type": "markdown",
      "metadata": {
        "id": "qTm-viCX6s_K"
      },
      "source": [
        "## Parallelism"
      ]
    },
    {
      "cell_type": "code",
      "execution_count": 86,
      "metadata": {
        "id": "RcPHuOumzLvn"
      },
      "outputs": [],
      "source": [
        "from langchain_core.runnables import RunnableParallel\n",
        "\n",
        "#체인 생성\n",
        "chain1 = ChatPromptTemplate.from_template(\"tell me a joke about {topic}\") | model\n",
        "chain2 = (\n",
        "    ChatPromptTemplate.from_template(\"write a short (2 line) poem about {topic}\")\n",
        "    | model\n",
        ")\n",
        "\n",
        "#각 변수에 체인 할당\n",
        "combined = RunnableParallel(joke=chain1, poem=chain2)"
      ]
    },
    {
      "cell_type": "code",
      "execution_count": 87,
      "metadata": {
        "colab": {
          "base_uri": "https://localhost:8080/"
        },
        "id": "h7bfxqd387qp",
        "outputId": "924c465a-8af7-40b9-a063-ec97287edc70"
      },
      "outputs": [
        {
          "name": "stdout",
          "output_type": "stream",
          "text": [
            "CPU times: user 66.3 ms, sys: 737 µs, total: 67.1 ms\n",
            "Wall time: 795 ms\n"
          ]
        },
        {
          "data": {
            "text/plain": [
              "AIMessage(content='Why did the bear bring a flashlight to the party?\\nBecause he heard the party was going to be a \"beary\" good time!', response_metadata={'finish_reason': 'stop', 'logprobs': None})"
            ]
          },
          "execution_count": 87,
          "metadata": {},
          "output_type": "execute_result"
        }
      ],
      "source": [
        "%%time\n",
        "#Chain 1 결과 확인\n",
        "chain1.invoke({\"topic\": \"bears\"})"
      ]
    },
    {
      "cell_type": "code",
      "execution_count": 88,
      "metadata": {
        "colab": {
          "base_uri": "https://localhost:8080/"
        },
        "id": "iJouCM6CAbLQ",
        "outputId": "8beb6638-55b0-4608-c3d2-575db5924457"
      },
      "outputs": [
        {
          "name": "stdout",
          "output_type": "stream",
          "text": [
            "CPU times: user 47.4 ms, sys: 0 ns, total: 47.4 ms\n",
            "Wall time: 601 ms\n"
          ]
        },
        {
          "data": {
            "text/plain": [
              "AIMessage(content='In the forest they roam free,\\nMajestic creatures, wild and grand to see.', response_metadata={'finish_reason': 'stop', 'logprobs': None})"
            ]
          },
          "execution_count": 88,
          "metadata": {},
          "output_type": "execute_result"
        }
      ],
      "source": [
        "%%time\n",
        "#Chain 2 결과 확인\n",
        "chain2.invoke({\"topic\": \"bears\"})"
      ]
    },
    {
      "cell_type": "code",
      "execution_count": 89,
      "metadata": {
        "colab": {
          "base_uri": "https://localhost:8080/"
        },
        "id": "nC1jzRzVAiIs",
        "outputId": "13f38c26-24b2-45b2-bb3b-108716ca29c8"
      },
      "outputs": [
        {
          "name": "stdout",
          "output_type": "stream",
          "text": [
            "CPU times: user 118 ms, sys: 4.9 ms, total: 123 ms\n",
            "Wall time: 1.08 s\n"
          ]
        },
        {
          "data": {
            "text/plain": [
              "{'joke': AIMessage(content=\"Why did the bear break up with his girlfriend?\\nBecause he couldn't bear the relationship anymore!\", response_metadata={'finish_reason': 'stop', 'logprobs': None}),\n",
              " 'poem': AIMessage(content='In the forest they roam, majestic and wild\\nBears of strength, protectors of the child', response_metadata={'finish_reason': 'stop', 'logprobs': None})}"
            ]
          },
          "execution_count": 89,
          "metadata": {},
          "output_type": "execute_result"
        }
      ],
      "source": [
        "%%time\n",
        "#결합 체인 결과 확인 \n",
        "combined.invoke({\"topic\": \"bears\"})"
      ]
    },
    {
      "cell_type": "markdown",
      "metadata": {
        "id": "hGIOd1dlAnsN"
      },
      "source": [
        "### Parallelism on batches"
      ]
    },
    {
      "cell_type": "code",
      "execution_count": 90,
      "metadata": {
        "colab": {
          "base_uri": "https://localhost:8080/"
        },
        "id": "CzZ_lHblApDT",
        "outputId": "2933d507-b723-4214-bf46-92171a0d4e3d"
      },
      "outputs": [
        {
          "name": "stdout",
          "output_type": "stream",
          "text": [
            "CPU times: user 93.6 ms, sys: 3.96 ms, total: 97.5 ms\n",
            "Wall time: 804 ms\n"
          ]
        },
        {
          "data": {
            "text/plain": [
              "[AIMessage(content='Why do bears have fur coats?\\n\\nBecause they look grizzly without them!', response_metadata={'finish_reason': 'stop', 'logprobs': None}),\n",
              " AIMessage(content='Why was the cat sitting on the computer? \\nBecause it wanted to keep an eye on the mouse!', response_metadata={'finish_reason': 'stop', 'logprobs': None})]"
            ]
          },
          "execution_count": 90,
          "metadata": {},
          "output_type": "execute_result"
        }
      ],
      "source": [
        "%%time\n",
        "#Chain 1 배치 결과 확인\n",
        "chain1.batch([{\"topic\": \"bears\"}, {\"topic\": \"cats\"}])"
      ]
    },
    {
      "cell_type": "code",
      "execution_count": 91,
      "metadata": {
        "colab": {
          "base_uri": "https://localhost:8080/"
        },
        "id": "-rVWIXExAu4h",
        "outputId": "844c9d02-cc99-4bd9-92b1-ea6668a471eb"
      },
      "outputs": [
        {
          "name": "stdout",
          "output_type": "stream",
          "text": [
            "CPU times: user 86.9 ms, sys: 3.62 ms, total: 90.5 ms\n",
            "Wall time: 682 ms\n"
          ]
        },
        {
          "data": {
            "text/plain": [
              "[AIMessage(content='In the forest, bears roam free\\nMajestic creatures, wild and fierce', response_metadata={'finish_reason': 'stop', 'logprobs': None}),\n",
              " AIMessage(content='Whiskers soft, eyes so bright,\\nFeline grace in the moonlight.', response_metadata={'finish_reason': 'stop', 'logprobs': None})]"
            ]
          },
          "execution_count": 91,
          "metadata": {},
          "output_type": "execute_result"
        }
      ],
      "source": [
        "%%time\n",
        "#Chain 2 배치 결과 확인\n",
        "chain2.batch([{\"topic\": \"bears\"}, {\"topic\": \"cats\"}])"
      ]
    },
    {
      "cell_type": "code",
      "execution_count": 92,
      "metadata": {
        "colab": {
          "base_uri": "https://localhost:8080/"
        },
        "id": "BhWYuasSA0WN",
        "outputId": "308534fe-0ab9-4e80-cf4a-9415fe8a4d6e"
      },
      "outputs": [
        {
          "name": "stdout",
          "output_type": "stream",
          "text": [
            "CPU times: user 210 ms, sys: 12.4 ms, total: 222 ms\n",
            "Wall time: 1.17 s\n"
          ]
        },
        {
          "data": {
            "text/plain": [
              "[{'joke': AIMessage(content='Why did the bear bring a flashlight to the party?\\nBecause he heard it was going to be a \"beary\" bright night!', response_metadata={'finish_reason': 'stop', 'logprobs': None}),\n",
              "  'poem': AIMessage(content='Majestic creatures of the wild,\\nIn forests deep, they roam and smile.', response_metadata={'finish_reason': 'stop', 'logprobs': None})},\n",
              " {'joke': AIMessage(content='Why was the cat sitting on the computer?\\n\\nBecause it wanted to keep an eye on the mouse!', response_metadata={'finish_reason': 'stop', 'logprobs': None}),\n",
              "  'poem': AIMessage(content='Whiskers soft, eyes bright,\\nPurring through the quiet night.', response_metadata={'finish_reason': 'stop', 'logprobs': None})}]"
            ]
          },
          "execution_count": 92,
          "metadata": {},
          "output_type": "execute_result"
        }
      ],
      "source": [
        "%%time\n",
        "# 결합 체인 배치 결과 확인 \n",
        "combined.batch([{\"topic\": \"bears\"}, {\"topic\": \"cats\"}])"
      ]
    }
  ],
  "metadata": {
    "colab": {
      "provenance": []
    },
    "kernelspec": {
      "display_name": "Python 3",
      "name": "python3"
    },
    "language_info": {
      "name": "python"
    }
  },
  "nbformat": 4,
  "nbformat_minor": 0
}
