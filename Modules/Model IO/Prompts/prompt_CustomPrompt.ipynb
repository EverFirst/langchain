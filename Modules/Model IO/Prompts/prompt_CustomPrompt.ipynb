{
  "cells": [
    {
      "cell_type": "markdown",
      "metadata": {
        "id": "259M-8OXmQD7"
      },
      "source": [
        "# Few-shot prompt templates"
      ]
    },
    {
      "cell_type": "markdown",
      "metadata": {},
      "source": [
        "#### 필수 라이브러리 설치 및 openai api key 등록"
      ]
    },
    {
      "cell_type": "code",
      "execution_count": 82,
      "metadata": {
        "id": "4Vahr4cWmPN6"
      },
      "outputs": [],
      "source": [
        "!pip install --upgrade --quiet langchain langchain-openai"
      ]
    },
    {
      "cell_type": "code",
      "execution_count": 28,
      "metadata": {
        "id": "86kvSCFwnI2s"
      },
      "outputs": [],
      "source": [
        "import os\n",
        "os.environ[\"OPENAI_API_KEY\"]      = \"sk-*****************************************************\""
      ]
    },
    {
      "cell_type": "code",
      "execution_count": 71,
      "metadata": {
        "id": "FQg1TcIfc4M5"
      },
      "outputs": [],
      "source": [
        "llm = ChatOpenAI(\n",
        "    temperature=0,\n",
        "    max_tokens=2048,\n",
        "    model_name=\"gpt-3.5-turbo\",\n",
        ")"
      ]
    },
    {
      "cell_type": "markdown",
      "metadata": {
        "id": "9uQysbgx8G1t"
      },
      "source": [
        "## Stuff Documents"
      ]
    },
    {
      "cell_type": "code",
      "execution_count": 73,
      "metadata": {
        "colab": {
          "base_uri": "https://localhost:8080/"
        },
        "id": "23_kKvxAcqY6",
        "outputId": "7eb25b25-e710-4bce-d3c8-383990e16164"
      },
      "outputs": [
        {
          "data": {
            "text/plain": [
              "PromptTemplate(input_variables=['context'], template='Please summarize the sentence according to the following REQUEST.\\nREQUEST:\\n1. Summarize the main points in bullet points.\\n2. Each summarized sentence must start with an emoji that fits the meaning of the each sentence.\\n3. Use various emojis to make the summary more interesting.\\n4. DO NOT include any unnecessary information.\\n\\nCONTEXT:\\n{context}\\n\\nSUMMARY:\"\\n')"
            ]
          },
          "execution_count": 73,
          "metadata": {},
          "output_type": "execute_result"
        }
      ],
      "source": [
        "from langchain.prompts import PromptTemplate\n",
        "\n",
        "#프롬프트 생성\n",
        "prompt_template = \"\"\"Please summarize the sentence according to the following REQUEST.\n",
        "REQUEST:\n",
        "1. Summarize the main points in bullet points.\n",
        "2. Each summarized sentence must start with an emoji that fits the meaning of the each sentence.\n",
        "3. Use various emojis to make the summary more interesting.\n",
        "4. DO NOT include any unnecessary information.\n",
        "\n",
        "CONTEXT:\n",
        "{context}\n",
        "\n",
        "SUMMARY:\"\n",
        "\"\"\"\n",
        "prompt = PromptTemplate.from_template(prompt_template)\n",
        "prompt"
      ]
    },
    {
      "cell_type": "code",
      "execution_count": 74,
      "metadata": {
        "colab": {
          "base_uri": "https://localhost:8080/"
        },
        "id": "AKfxs1Soc1s6",
        "outputId": "53e0534b-ba3c-4fa2-f7d1-83fb06679339"
      },
      "outputs": [
        {
          "name": "stdout",
          "output_type": "stream",
          "text": [
            "📅 2024년 3월 13일: Langchain 프로젝트 주간 진행 상황 회의\n",
            "👥 참석자: 김환덕, 신지원, 박수열\n",
            "📈 목적: 현재 진행 상황 검토 및 다음 주 목표 설정\n"
          ]
        }
      ],
      "source": [
        "chain = prompt | llm\n",
        "\n",
        "response = chain.invoke(\n",
        "    {\n",
        "        \"context\": \"2024년 3월 13일, xxx 기술 회사의 제품 개발 팀은 새로운 Langchain 프로젝트에 대한 주간 진행 상황 회의를 가졌다. 이 회의에는 프로젝트 매니저인 김환덕, 주요 개발자인 신지원, UI/UX 디자이너인 박수열이 참석했다. 회의의 주요 목적은 프로젝트의 현재 진행 상황을 검토하고, 다가오는 마일스톤에 대한 계획을 수립하는 것이었다. 각 팀원은 자신의 작업 영역에 대한 업데이트를 제공했고, 팀은 다음 주까지의 목표를 설정했다.\",\n",
        "    }\n",
        ")\n",
        "\n",
        "#테스트\n",
        "print(response.content)"
      ]
    },
    {
      "cell_type": "markdown",
      "metadata": {
        "id": "oXqrrG-1dZoR"
      },
      "source": [
        "## Map Prompt"
      ]
    },
    {
      "cell_type": "code",
      "execution_count": 75,
      "metadata": {
        "colab": {
          "base_uri": "https://localhost:8080/"
        },
        "id": "qIMtXw2idap7",
        "outputId": "4f8e7614-c7f1-43ab-f166-8e66bc68bb91"
      },
      "outputs": [
        {
          "data": {
            "text/plain": [
              "PromptTemplate(input_variables=['docs'], template='You are a helpful expert journalist in extracting the main themes from a GIVEN DOCUMENTS below.\\nPlease provide a comprehensive summary of the GIVEN DOCUMENTS in numbered list format. \\nThe summary should cover all the key points and main ideas presented in the original text, while also condensing the information into a concise and easy-to-understand format. \\nPlease ensure that the summary includes relevant details and examples that support the main ideas, while avoiding any unnecessary information or repetition. \\nThe length of the summary should be appropriate for the length and complexity of the original text, providing a clear and accurate overview without omitting any important information.\\n\\nGIVEN DOCUMENTS:\\n{docs}\\n\\nFORMAT:\\n1. main theme 1\\n2. main theme 2\\n3. main theme 3\\n...\\n\\nCAUTION:\\n- DO NOT list more than 5 main themes.\\n\\nHelpful Answer:\\n')"
            ]
          },
          "execution_count": 75,
          "metadata": {},
          "output_type": "execute_result"
        }
      ],
      "source": [
        "from langchain.prompts import PromptTemplate\n",
        "\n",
        "#프롬프트 생성\n",
        "prompt_template = \"\"\"You are a helpful expert journalist in extracting the main themes from a GIVEN DOCUMENTS below.\n",
        "Please provide a comprehensive summary of the GIVEN DOCUMENTS in numbered list format.\n",
        "The summary should cover all the key points and main ideas presented in the original text, while also condensing the information into a concise and easy-to-understand format.\n",
        "Please ensure that the summary includes relevant details and examples that support the main ideas, while avoiding any unnecessary information or repetition.\n",
        "The length of the summary should be appropriate for the length and complexity of the original text, providing a clear and accurate overview without omitting any important information.\n",
        "\n",
        "GIVEN DOCUMENTS:\n",
        "{docs}\n",
        "\n",
        "FORMAT:\n",
        "1. main theme 1\n",
        "2. main theme 2\n",
        "3. main theme 3\n",
        "...\n",
        "\n",
        "CAUTION:\n",
        "- DO NOT list more than 5 main themes.\n",
        "\n",
        "Helpful Answer:\n",
        "\"\"\"\n",
        "prompt = PromptTemplate.from_template(prompt_template)\n",
        "prompt"
      ]
    },
    {
      "cell_type": "code",
      "execution_count": 77,
      "metadata": {
        "colab": {
          "base_uri": "https://localhost:8080/"
        },
        "id": "9OnVKSREdp-Z",
        "outputId": "f15b5f84-c659-441b-c91d-60b602765619"
      },
      "outputs": [
        {
          "name": "stdout",
          "output_type": "stream",
          "text": [
            "1. The product development team at xxx technology company held a weekly progress meeting for the new Langchain project on March 13, 2024.\n",
            "2. The meeting included project manager Kim Hwan-deok, lead developer Shin Ji-won, and UI/UX designer Park Soo-yeol, with the main purpose of reviewing the current progress of the project and planning for upcoming milestones.\n",
            "3. Each team member provided updates on their respective work areas, and the team set goals for the following week.\n"
          ]
        }
      ],
      "source": [
        "chain = prompt | llm\n",
        "\n",
        "#테스트\n",
        "response = chain.invoke(\n",
        "    {\n",
        "        \"docs\": \"2024년 3월 13일, xxx 기술 회사의 제품 개발 팀은 새로운 Langchain 프로젝트에 대한 주간 진행 상황 회의를 가졌다. 이 회의에는 프로젝트 매니저인 김환덕, 주요 개발자인 신지원, UI/UX 디자이너인 박수열이 참석했다. 회의의 주요 목적은 프로젝트의 현재 진행 상황을 검토하고, 다가오는 마일스톤에 대한 계획을 수립하는 것이었다. 각 팀원은 자신의 작업 영역에 대한 업데이트를 제공했고, 팀은 다음 주까지의 목표를 설정했다.\",\n",
        "    }\n",
        ")\n",
        "\n",
        "print(response.content)"
      ]
    },
    {
      "cell_type": "markdown",
      "metadata": {
        "id": "rPmedUrwd0A5"
      },
      "source": [
        "## Reduce Prompt"
      ]
    },
    {
      "cell_type": "code",
      "execution_count": 78,
      "metadata": {
        "colab": {
          "base_uri": "https://localhost:8080/"
        },
        "id": "ZGEUIUwEd3EQ",
        "outputId": "63b253b7-76e8-4cc9-efb5-3f1550beefcf"
      },
      "outputs": [
        {
          "data": {
            "text/plain": [
              "PromptTemplate(input_variables=['doc_summaries'], template='You are a helpful expert in summary writing.\\nYou are given numbered lists of summaries.\\nExtract top 10 most important insights from the summaries.\\nThen, write a summary of the insights in KOREAN.\\n\\nLIST OF SUMMARIES:\\n{doc_summaries}\\n\\nHelpful Answer:\\n')"
            ]
          },
          "execution_count": 78,
          "metadata": {},
          "output_type": "execute_result"
        }
      ],
      "source": [
        "from langchain.prompts import PromptTemplate\n",
        "\n",
        "prompt_template = \"\"\"You are a helpful expert in summary writing.\n",
        "You are given numbered lists of summaries.\n",
        "Extract top 10 most important insights from the summaries.\n",
        "Then, write a summary of the insights in KOREAN.\n",
        "\n",
        "LIST OF SUMMARIES:\n",
        "{doc_summaries}\n",
        "\n",
        "Helpful Answer:\n",
        "\"\"\"\n",
        "prompt = PromptTemplate.from_template(prompt_template)\n",
        "prompt"
      ]
    },
    {
      "cell_type": "code",
      "execution_count": 79,
      "metadata": {
        "colab": {
          "base_uri": "https://localhost:8080/"
        },
        "id": "3OPhX_mod7jp",
        "outputId": "980afba6-10da-4afe-bfd3-d422e2178d4d"
      },
      "outputs": [
        {
          "name": "stdout",
          "output_type": "stream",
          "text": [
            "1. 2024년 3월 13일, xxx 기술 회사의 Langchain 프로젝트 주간 진행 상황 회의\n",
            "2. 참석자: 김환덕(프로젝트 매니저), 신지원(주요 개발자), 박수열(UI/UX 디자이너)\n",
            "3. 회의 목적: 현재 진행 상황 검토, 다가오는 마일스톤 계획 수립\n",
            "4. 각 팀원 업데이트 제공 및 다음 주까지의 목표 설정\n",
            "\n",
            "요약:\n",
            "2024년 3월 13일, xxx 기술 회사의 Langchain 프로젝트 팀은 주간 회의를 통해 현재 진행 상황을 검토하고 다가오는 마일스톤에 대한 계획을 수립했다. 김환덕, 신지원, 박수열 등 주요 팀원들이 참석하여 각자의 업데이트를 제공하고 다음 주까지의 목표를 설정했다.\n"
          ]
        }
      ],
      "source": [
        "chain = prompt | llm\n",
        "\n",
        "response = chain.invoke(\n",
        "    {\n",
        "        \"doc_summaries\": \"2024년 3월 13일, xxx 기술 회사의 제품 개발 팀은 새로운 Langchain 프로젝트에 대한 주간 진행 상황 회의를 가졌다. 이 회의에는 프로젝트 매니저인 김환덕, 주요 개발자인 신지원, UI/UX 디자이너인 박수열이 참석했다. 회의의 주요 목적은 프로젝트의 현재 진행 상황을 검토하고, 다가오는 마일스톤에 대한 계획을 수립하는 것이었다. 각 팀원은 자신의 작업 영역에 대한 업데이트를 제공했고, 팀은 다음 주까지의 목표를 설정했다.\",\n",
        "    }\n",
        ")\n",
        "\n",
        "print(response.content)"
      ]
    },
    {
      "cell_type": "code",
      "execution_count": 80,
      "metadata": {
        "colab": {
          "base_uri": "https://localhost:8080/"
        },
        "id": "XDV3qXxieGqZ",
        "outputId": "b021b9b0-7c58-4ff0-98fc-7694a441d49a"
      },
      "outputs": [
        {
          "data": {
            "text/plain": [
              "PromptTemplate(input_variables=['doc_summaries'], template='You are a helpful expert in summary writing. You are given lists of summaries.\\nPlease sum up previously summarized sentences according to the following REQUEST.\\nREQUEST:\\n1. Summarize the main points in bullet points in KOREAN.\\n2. Each summarized sentence must start with an emoji that fits the meaning of the each sentence.\\n3. Use various emojis to make the summary more interesting.\\n4. MOST IMPORTANT points should be organized at the top of the list.\\n5. DO NOT include any unnecessary information.\\n\\nLIST OF SUMMARIES:\\n{doc_summaries}\\n\\nHelpful Answer: ')"
            ]
          },
          "execution_count": 80,
          "metadata": {},
          "output_type": "execute_result"
        }
      ],
      "source": [
        "from langchain.prompts import PromptTemplate\n",
        "\n",
        "prompt_template = \"\"\"You are a helpful expert in summary writing. You are given lists of summaries.\n",
        "Please sum up previously summarized sentences according to the following REQUEST.\n",
        "REQUEST:\n",
        "1. Summarize the main points in bullet points in KOREAN.\n",
        "2. Each summarized sentence must start with an emoji that fits the meaning of the each sentence.\n",
        "3. Use various emojis to make the summary more interesting.\n",
        "4. MOST IMPORTANT points should be organized at the top of the list.\n",
        "5. DO NOT include any unnecessary information.\n",
        "\n",
        "LIST OF SUMMARIES:\n",
        "{doc_summaries}\n",
        "\n",
        "Helpful Answer: \"\"\"\n",
        "prompt = PromptTemplate.from_template(prompt_template)\n",
        "prompt"
      ]
    },
    {
      "cell_type": "code",
      "execution_count": 81,
      "metadata": {
        "colab": {
          "base_uri": "https://localhost:8080/"
        },
        "id": "L0EI5MWleLax",
        "outputId": "32b6a22f-5868-435c-80b6-b5e594e12dc8"
      },
      "outputs": [
        {
          "name": "stdout",
          "output_type": "stream",
          "text": [
            "🚀 현재 Langchain 프로젝트 주간 진행 상황 회의\n",
            "🔍 김환덕, 신지원, 박수열 참석\n",
            "📊 프로젝트 진행 상황 검토 및 마일스톤 계획 수립\n",
            "💻 각 팀원 업데이트 제공\n",
            "⏰ 다음 주 목표 설정\n"
          ]
        }
      ],
      "source": [
        "chain = prompt | llm\n",
        "\n",
        "response = chain.invoke(\n",
        "    {\n",
        "        \"doc_summaries\": \"2024년 3월 13일, xxx 기술 회사의 제품 개발 팀은 새로운 Langchain 프로젝트에 대한 주간 진행 상황 회의를 가졌다. 이 회의에는 프로젝트 매니저인 김환덕, 주요 개발자인 신지원, UI/UX 디자이너인 박수열이 참석했다. 회의의 주요 목적은 프로젝트의 현재 진행 상황을 검토하고, 다가오는 마일스톤에 대한 계획을 수립하는 것이었다. 각 팀원은 자신의 작업 영역에 대한 업데이트를 제공했고, 팀은 다음 주까지의 목표를 설정했다.\",\n",
        "    }\n",
        ")\n",
        "\n",
        "print(response.content)"
      ]
    },
    {
      "cell_type": "markdown",
      "metadata": {
        "id": "C0Z-lc3hskbJ"
      },
      "source": [
        "## Metadata Tagger"
      ]
    },
    {
      "cell_type": "code",
      "execution_count": 83,
      "metadata": {
        "colab": {
          "base_uri": "https://localhost:8080/"
        },
        "id": "0rsJw1BwsoTf",
        "outputId": "ebd0d37e-8771-4d27-ce86-576400968fda"
      },
      "outputs": [
        {
          "data": {
            "text/plain": [
              "ChatPromptTemplate(input_variables=['input'], messages=[HumanMessagePromptTemplate(prompt=PromptTemplate(input_variables=['input'], template=\"Given the following product review, conduct a comprehensive analysis to extract key aspects mentioned by the customer, with a focus on evaluating the product's design and distinguishing between positive aspects and areas for improvement. \\nIdentify primary features or attributes of the product that the customer appreciated or highlighted, specifically looking for mentions related to the feel of the keys, sound produced by the keys, overall user experience, charging aspect, and the design of the product, etc. \\nAssess the overall tone of the review (positive, neutral, or negative) based on the sentiment expressed about these attributes. \\nAdditionally, provide a detailed evaluation of the design, outline the positive aspects that the customer enjoyed, and note any areas of improvement or disappointment mentioned. \\nExtract the customer's rating of the product on a scale of 1 to 5, as indicated at the beginning of the review. \\nSummarize your findings in a structured JSON format, including an array of keywords, evaluations for design, satisfaction points, improvement areas, the assessed tone, and the numerical rating. \\n\\nINPUT:\\n{input}\\n\\n\"))])"
            ]
          },
          "execution_count": 83,
          "metadata": {},
          "output_type": "execute_result"
        }
      ],
      "source": [
        "from langchain.prompts import ChatPromptTemplate\n",
        "\n",
        "prompt_template = \"\"\"Given the following product review, conduct a comprehensive analysis to extract key aspects mentioned by the customer, with a focus on evaluating the product's design and distinguishing between positive aspects and areas for improvement.\n",
        "Identify primary features or attributes of the product that the customer appreciated or highlighted, specifically looking for mentions related to the feel of the keys, sound produced by the keys, overall user experience, charging aspect, and the design of the product, etc.\n",
        "Assess the overall tone of the review (positive, neutral, or negative) based on the sentiment expressed about these attributes.\n",
        "Additionally, provide a detailed evaluation of the design, outline the positive aspects that the customer enjoyed, and note any areas of improvement or disappointment mentioned.\n",
        "Extract the customer's rating of the product on a scale of 1 to 5, as indicated at the beginning of the review.\n",
        "Summarize your findings in a structured JSON format, including an array of keywords, evaluations for design, satisfaction points, improvement areas, the assessed tone, and the numerical rating.\n",
        "\n",
        "INPUT:\n",
        "{input}\n",
        "\n",
        "\"\"\"\n",
        "prompt = ChatPromptTemplate.from_template(prompt_template)\n",
        "prompt"
      ]
    },
    {
      "cell_type": "code",
      "execution_count": 84,
      "metadata": {
        "colab": {
          "base_uri": "https://localhost:8080/"
        },
        "id": "FZqdsUNsssw_",
        "outputId": "58b7bfca-65d0-4d8f-e43c-75f966e40972"
      },
      "outputs": [
        {
          "name": "stdout",
          "output_type": "stream",
          "text": [
            "{\n",
            "  \"keywords\": [\"Langchain 프로젝트\", \"주간 진행 상황 회의\", \"김환덕\", \"신지원\", \"박수열\", \"프로젝트 진행 상황\", \"마일스톤\", \"업데이트\", \"다음 주 목표\"],\n",
            "  \"design_evaluation\": {\n",
            "    \"positive_aspects\": [\"sleek design\", \"compact size\", \"ergonomic layout\"],\n",
            "    \"improvement_areas\": [\"better key feedback\", \"enhanced sound quality\"],\n",
            "    \"disappointments\": []\n",
            "  },\n",
            "  \"satisfaction_points\": {\n",
            "    \"feel_of_keys\": \"comfortable and responsive\",\n",
            "    \"sound_produced\": \"satisfactory\",\n",
            "    \"user_experience\": \"smooth and efficient\",\n",
            "    \"charging_aspect\": \"convenient\"\n",
            "  },\n",
            "  \"tone\": \"positive\",\n",
            "  \"numerical_rating\": 4\n",
            "}\n"
          ]
        }
      ],
      "source": [
        "chain = prompt | llm\n",
        "\n",
        "response = chain.invoke(\n",
        "    {\n",
        "        \"input\": \"2024년 3월 13일, xxx 기술 회사의 제품 개발 팀은 새로운 Langchain 프로젝트에 대한 주간 진행 상황 회의를 가졌다. 이 회의에는 프로젝트 매니저인 김환덕, 주요 개발자인 신지원, UI/UX 디자이너인 박수열이 참석했다. 회의의 주요 목적은 프로젝트의 현재 진행 상황을 검토하고, 다가오는 마일스톤에 대한 계획을 수립하는 것이었다. 각 팀원은 자신의 작업 영역에 대한 업데이트를 제공했고, 팀은 다음 주까지의 목표를 설정했다.\",\n",
        "    }\n",
        ")\n",
        "\n",
        "print(response.content)"
      ]
    },
    {
      "cell_type": "markdown",
      "metadata": {
        "id": "CXaDrNdss7sK"
      },
      "source": [
        "## Chain of Density"
      ]
    },
    {
      "cell_type": "code",
      "execution_count": 90,
      "metadata": {
        "id": "DfLS4Ez0s-CS"
      },
      "outputs": [],
      "source": [
        "from langchain.prompts import ChatPromptTemplate\n",
        "\n",
        "prompt = ChatPromptTemplate.from_template(\n",
        "    \"\"\"Article: {ARTICLE}\n",
        "You will generate increasingly concise, entity-dense summaries of the above article.\n",
        "\n",
        "Repeat the following 2 steps 5 times.\n",
        "\n",
        "Step 1. Identify 1-3 informative entities (\";\" delimited) from the article which are missing from the previously generated summary.\n",
        "Step 2. Write a new, denser summary of identical length which covers every entity and detail from the previous summary plus the missing entities.\n",
        "\n",
        "A missing entity is:\n",
        "- relevant to the main story,\n",
        "- specific yet concise (100 words or fewer),\n",
        "- novel (not in the previous summary),\n",
        "- faithful (present in the article),\n",
        "- anywhere (can be located anywhere in the article).\n",
        "\n",
        "Guidelines:\n",
        "\n",
        "- The first summary should be long (8-10 sentences, ~200 words) yet highly non-specific, containing little information beyond the entities marked as missing. Use overly verbose language and fillers (e.g., \"this article discusses\") to reach ~200 words.\n",
        "- Make every word count: rewrite the previous summary to improve flow and make space for additional entities.\n",
        "- Make space with fusion, compression, and removal of uninformative phrases like \"the article discusses\".\n",
        "- The summaries should become highly dense and concise yet self-contained, i.e., easily understood without the article.\n",
        "- Missing entities can appear anywhere in the new summary.\n",
        "- Never drop entities from the previous summary. If space cannot be made, add fewer new entities.\n",
        "\n",
        "Remember, use the exact same number of words for each summary.\n",
        "Answer in JSON. The JSON should be a list (length 5) of dictionaries whose keys are \"Missing_Entities\" and \"Denser_Summary\".\n",
        "Use only KOREAN language to reply.\"\"\"\n",
        ")"
      ]
    },
    {
      "cell_type": "code",
      "execution_count": 91,
      "metadata": {
        "colab": {
          "base_uri": "https://localhost:8080/"
        },
        "id": "31TfuXovtO7B",
        "outputId": "f83f7d83-36ac-4e45-923d-f4ea3f2b21ad"
      },
      "outputs": [
        {
          "name": "stdout",
          "output_type": "stream",
          "text": [
            "[\n",
            "    {\n",
            "        \"Missing_Entities\": \"Langchain 프로젝트; 김환덕; 신지원; 박수열\",\n",
            "        \"Denser_Summary\": \"2024년 3월 13일, xxx 기술 회사의 제품 개발 팀은 Langchain 프로젝트에 대한 주간 진행 상황 회의를 가졌다. 김환덕, 신지원, 박수열이 참석한 회의에서는 프로젝트의 현재 진행 상황을 검토하고, 다가오는 마일스톤에 대한 계획을 수립했다. 각 팀원은 자신의 작업 영역에 대한 업데이트를 제공했고, 팀은 다음 주까지의 목표를 설정했다.\"\n",
            "    },\n",
            "    {\n",
            "        \"Missing_Entities\": \"프로젝트 매니저; UI/UX 디자이너\",\n",
            "        \"Denser_Summary\": \"2024년 3월 13일, xxx 기술 회사의 제품 개발 팀은 Langchain 프로젝트에 대한 주간 진행 상황 회의를 가졌다. 프로젝트 매니저인 김환덕, 주요 개발자인 신지원, UI/UX 디자이너인 박수열이 참석한 회의에서는 현재 진행 상황을 검토하고, 다가오는 마일스톤에 대한 계획을 수립했다.\"\n",
            "    },\n",
            "    {\n",
            "        \"Missing_Entities\": \"프로젝트 매니저; UI/UX 디자이너; Langchain 프로젝트\",\n",
            "        \"Denser_Summary\": \"2024년 3월 13일, xxx 기술 회사의 제품 개발 팀은 Langchain 프로젝트에 대한 주간 진행 상황 회의를 가졌다. 프로젝트 매니저인 김환덕, 주요 개발자인 신지원, UI/UX 디자이너인 박수열이 참석한 회의에서는 현재 진행 상황을 검토하고, 다가오는 마일스톤에 대한 계획을 수립했다.\"\n",
            "    },\n",
            "    {\n",
            "        \"Missing_Entities\": \"프로젝트 매니저; UI/UX 디자이너; Langchain 프로젝트\",\n",
            "        \"Denser_Summary\": \"2024년 3월 13일, xxx 기술 회사의 제품 개발 팀은 Langchain 프로젝트에 대한 주간 진행 상황 회의를 가졌다. 프로젝트 매니저인 김환덕, 주요 개발자인 신지원, UI/UX 디자이너인 박수열이 참석한 회의에서는 현재 진행 상황을 검토하고, 다가오는 마일스톤에 대한 계획을 수립했다.\"\n",
            "    },\n",
            "    {\n",
            "        \"Missing_Entities\": \"프로젝트 매니저; UI/UX 디자이너; Langchain 프로젝트\",\n",
            "        \"Denser_Summary\": \"2024년 3월 13일, xxx 기술 회사의 제품 개발 팀은 Langchain 프로젝트에 대한 주간 진행 상황 회의를 가졌다. 프로젝트 매니저인 김환덕, 주요 개발자인 신지원, UI/UX 디자이너인 박수열이 참석한 회의에서는 현재 진행 상황을 검토하고, 다가오는 마일스톤에 대한 계획을 수립했다.\"\n",
            "    }\n",
            "]\n"
          ]
        }
      ],
      "source": [
        "chain = prompt | llm\n",
        "\n",
        "response = chain.invoke(\n",
        "    {\n",
        "        \"ARTICLE\": \"2024년 3월 13일, xxx 기술 회사의 제품 개발 팀은 새로운 Langchain 프로젝트에 대한 주간 진행 상황 회의를 가졌다. 이 회의에는 프로젝트 매니저인 김환덕, 주요 개발자인 신지원, UI/UX 디자이너인 박수열이 참석했다. 회의의 주요 목적은 프로젝트의 현재 진행 상황을 검토하고, 다가오는 마일스톤에 대한 계획을 수립하는 것이었다. 각 팀원은 자신의 작업 영역에 대한 업데이트를 제공했고, 팀은 다음 주까지의 목표를 설정했다.\",\n",
        "    }\n",
        ")\n",
        "\n",
        "print(response.content)"
      ]
    }
  ],
  "metadata": {
    "colab": {
      "provenance": []
    },
    "kernelspec": {
      "display_name": "Python 3",
      "name": "python3"
    },
    "language_info": {
      "name": "python"
    }
  },
  "nbformat": 4,
  "nbformat_minor": 0
}
