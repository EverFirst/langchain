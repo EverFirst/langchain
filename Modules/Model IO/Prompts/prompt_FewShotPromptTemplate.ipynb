{
  "cells": [
    {
      "cell_type": "markdown",
      "metadata": {
        "id": "259M-8OXmQD7"
      },
      "source": [
        "# Few-shot prompt templates"
      ]
    },
    {
      "cell_type": "markdown",
      "metadata": {},
      "source": [
        "#### 필수 라이브러리 설치 및 openai api key 등록"
      ]
    },
    {
      "cell_type": "code",
      "execution_count": 27,
      "metadata": {
        "id": "4Vahr4cWmPN6"
      },
      "outputs": [],
      "source": [
        "!pip install --upgrade --quiet langchain langchain-openai"
      ]
    },
    {
      "cell_type": "code",
      "execution_count": 28,
      "metadata": {
        "id": "86kvSCFwnI2s"
      },
      "outputs": [],
      "source": [
        "import os\n",
        "os.environ[\"OPENAI_API_KEY\"]      = \"sk-*****************************************************\""
      ]
    },
    {
      "cell_type": "markdown",
      "metadata": {
        "id": "9uQysbgx8G1t"
      },
      "source": [
        "## Using an example set"
      ]
    },
    {
      "cell_type": "markdown",
      "metadata": {
        "id": "BCvj3b6nXIhZ"
      },
      "source": [
        "### Create the example set"
      ]
    },
    {
      "cell_type": "code",
      "execution_count": 50,
      "metadata": {
        "id": "G0qTpQ-JB3GQ"
      },
      "outputs": [],
      "source": [
        "from langchain.prompts.few_shot import FewShotPromptTemplate\n",
        "from langchain.prompts.prompt import PromptTemplate\n",
        "\n",
        "examples = [\n",
        "    {\n",
        "        \"question\": \"Who lived longer, Muhammad Ali or Alan Turing?\",\n",
        "        \"answer\": \"\"\"\n",
        "Are follow up questions needed here: Yes.\n",
        "Follow up: How old was Muhammad Ali when he died?\n",
        "Intermediate answer: Muhammad Ali was 74 years old when he died.\n",
        "Follow up: How old was Alan Turing when he died?\n",
        "Intermediate answer: Alan Turing was 41 years old when he died.\n",
        "So the final answer is: Muhammad Ali\n",
        "\"\"\",\n",
        "    },\n",
        "    {\n",
        "        \"question\": \"When was the founder of craigslist born?\",\n",
        "        \"answer\": \"\"\"\n",
        "Are follow up questions needed here: Yes.\n",
        "Follow up: Who was the founder of craigslist?\n",
        "Intermediate answer: Craigslist was founded by Craig Newmark.\n",
        "Follow up: When was Craig Newmark born?\n",
        "Intermediate answer: Craig Newmark was born on December 6, 1952.\n",
        "So the final answer is: December 6, 1952\n",
        "\"\"\",\n",
        "    },\n",
        "    {\n",
        "        \"question\": \"Who was the maternal grandfather of George Washington?\",\n",
        "        \"answer\": \"\"\"\n",
        "Are follow up questions needed here: Yes.\n",
        "Follow up: Who was the mother of George Washington?\n",
        "Intermediate answer: The mother of George Washington was Mary Ball Washington.\n",
        "Follow up: Who was the father of Mary Ball Washington?\n",
        "Intermediate answer: The father of Mary Ball Washington was Joseph Ball.\n",
        "So the final answer is: Joseph Ball\n",
        "\"\"\",\n",
        "    },\n",
        "    {\n",
        "        \"question\": \"Are both the directors of Jaws and Casino Royale from the same country?\",\n",
        "        \"answer\": \"\"\"\n",
        "Are follow up questions needed here: Yes.\n",
        "Follow up: Who is the director of Jaws?\n",
        "Intermediate Answer: The director of Jaws is Steven Spielberg.\n",
        "Follow up: Where is Steven Spielberg from?\n",
        "Intermediate Answer: The United States.\n",
        "Follow up: Who is the director of Casino Royale?\n",
        "Intermediate Answer: The director of Casino Royale is Martin Campbell.\n",
        "Follow up: Where is Martin Campbell from?\n",
        "Intermediate Answer: New Zealand.\n",
        "So the final answer is: No\n",
        "\"\"\",\n",
        "    },\n",
        "]"
      ]
    },
    {
      "cell_type": "markdown",
      "metadata": {
        "id": "almMLewgXZCR"
      },
      "source": [
        "### Create a formatter for the few-shot examples"
      ]
    },
    {
      "cell_type": "code",
      "execution_count": 51,
      "metadata": {
        "id": "s9fWmFaU8WUE"
      },
      "outputs": [],
      "source": [
        "#template 생성\n",
        "example_prompt = PromptTemplate(\n",
        "    input_variables=[\"question\", \"answer\"], template=\"Question: {question}\\n{answer}\"\n",
        ")"
      ]
    },
    {
      "cell_type": "code",
      "execution_count": 52,
      "metadata": {
        "colab": {
          "base_uri": "https://localhost:8080/"
        },
        "id": "qovONa4yXo4A",
        "outputId": "c7bf31a9-1896-4c04-ca05-661968a87f3d"
      },
      "outputs": [
        {
          "name": "stdout",
          "output_type": "stream",
          "text": [
            "Question: Who lived longer, Muhammad Ali or Alan Turing?\n",
            "\n",
            "Are follow up questions needed here: Yes.\n",
            "Follow up: How old was Muhammad Ali when he died?\n",
            "Intermediate answer: Muhammad Ali was 74 years old when he died.\n",
            "Follow up: How old was Alan Turing when he died?\n",
            "Intermediate answer: Alan Turing was 41 years old when he died.\n",
            "So the final answer is: Muhammad Ali\n",
            "\n"
          ]
        }
      ],
      "source": [
        "#example 데이터 확인\n",
        "print(example_prompt.format(**examples[0]))"
      ]
    },
    {
      "cell_type": "markdown",
      "metadata": {
        "id": "yzn_xk6zXyse"
      },
      "source": [
        "### Feed examples and formatter to FewShotPromptTemplate"
      ]
    },
    {
      "cell_type": "code",
      "execution_count": 53,
      "metadata": {
        "id": "gOZHowwaX2wG"
      },
      "outputs": [],
      "source": [
        "#example 적용\n",
        "prompt = FewShotPromptTemplate(\n",
        "    examples=examples,\n",
        "    example_prompt=example_prompt,\n",
        "    suffix=\"Question: {input}\",\n",
        "    input_variables=[\"input\"],\n",
        ")"
      ]
    },
    {
      "cell_type": "code",
      "execution_count": 54,
      "metadata": {
        "colab": {
          "base_uri": "https://localhost:8080/"
        },
        "id": "LfRAiTPmX6Jt",
        "outputId": "4ce6d15d-00b9-4682-e7f8-72e0dd48f6f1"
      },
      "outputs": [
        {
          "name": "stdout",
          "output_type": "stream",
          "text": [
            "Question: Who lived longer, Muhammad Ali or Alan Turing?\n",
            "\n",
            "Are follow up questions needed here: Yes.\n",
            "Follow up: How old was Muhammad Ali when he died?\n",
            "Intermediate answer: Muhammad Ali was 74 years old when he died.\n",
            "Follow up: How old was Alan Turing when he died?\n",
            "Intermediate answer: Alan Turing was 41 years old when he died.\n",
            "So the final answer is: Muhammad Ali\n",
            "\n",
            "\n",
            "Question: When was the founder of craigslist born?\n",
            "\n",
            "Are follow up questions needed here: Yes.\n",
            "Follow up: Who was the founder of craigslist?\n",
            "Intermediate answer: Craigslist was founded by Craig Newmark.\n",
            "Follow up: When was Craig Newmark born?\n",
            "Intermediate answer: Craig Newmark was born on December 6, 1952.\n",
            "So the final answer is: December 6, 1952\n",
            "\n",
            "\n",
            "Question: Who was the maternal grandfather of George Washington?\n",
            "\n",
            "Are follow up questions needed here: Yes.\n",
            "Follow up: Who was the mother of George Washington?\n",
            "Intermediate answer: The mother of George Washington was Mary Ball Washington.\n",
            "Follow up: Who was the father of Mary Ball Washington?\n",
            "Intermediate answer: The father of Mary Ball Washington was Joseph Ball.\n",
            "So the final answer is: Joseph Ball\n",
            "\n",
            "\n",
            "Question: Are both the directors of Jaws and Casino Royale from the same country?\n",
            "\n",
            "Are follow up questions needed here: Yes.\n",
            "Follow up: Who is the director of Jaws?\n",
            "Intermediate Answer: The director of Jaws is Steven Spielberg.\n",
            "Follow up: Where is Steven Spielberg from?\n",
            "Intermediate Answer: The United States.\n",
            "Follow up: Who is the director of Casino Royale?\n",
            "Intermediate Answer: The director of Casino Royale is Martin Campbell.\n",
            "Follow up: Where is Martin Campbell from?\n",
            "Intermediate Answer: New Zealand.\n",
            "So the final answer is: No\n",
            "\n",
            "\n",
            "Question: Who was the father of Mary Ball Washington?\n"
          ]
        }
      ],
      "source": [
        "#프롬프트 확인\n",
        "print(prompt.format(input=\"Who was the father of Mary Ball Washington?\"))"
      ]
    },
    {
      "cell_type": "markdown",
      "metadata": {
        "id": "eBUswpY-YFJv"
      },
      "source": [
        "## Using an example selector"
      ]
    },
    {
      "cell_type": "markdown",
      "metadata": {
        "id": "9H_TQqOBYM5u"
      },
      "source": [
        "### Feed examples into ExampleSelector"
      ]
    },
    {
      "cell_type": "code",
      "execution_count": 59,
      "metadata": {
        "id": "elpCNnf2Ybc_"
      },
      "outputs": [],
      "source": [
        "!pip install --upgrade --quiet chromadb"
      ]
    },
    {
      "cell_type": "code",
      "execution_count": 60,
      "metadata": {
        "colab": {
          "base_uri": "https://localhost:8080/"
        },
        "id": "QKHotj30YGUX",
        "outputId": "3efa6bd3-edfc-4c67-b6f5-84989ebc6fc7"
      },
      "outputs": [
        {
          "name": "stdout",
          "output_type": "stream",
          "text": [
            "Examples most similar to the input: Who was the father of Mary Ball Washington?\n",
            "\n",
            "\n",
            "answer: \n",
            "Are follow up questions needed here: Yes.\n",
            "Follow up: Who was the mother of George Washington?\n",
            "Intermediate answer: The mother of George Washington was Mary Ball Washington.\n",
            "Follow up: Who was the father of Mary Ball Washington?\n",
            "Intermediate answer: The father of Mary Ball Washington was Joseph Ball.\n",
            "So the final answer is: Joseph Ball\n",
            "\n",
            "question: Who was the maternal grandfather of George Washington?\n"
          ]
        }
      ],
      "source": [
        "from langchain.prompts.example_selector import SemanticSimilarityExampleSelector\n",
        "from langchain_community.vectorstores import Chroma\n",
        "from langchain_openai import OpenAIEmbeddings\n",
        "\n",
        "example_selector = SemanticSimilarityExampleSelector.from_examples(\n",
        "    # This is the list of examples available to select from.\n",
        "    examples,\n",
        "    # This is the embedding class used to produce embeddings which are used to measure semantic similarity.\n",
        "    OpenAIEmbeddings(),\n",
        "    # This is the VectorStore class that is used to store the embeddings and do a similarity search over.\n",
        "    Chroma,\n",
        "    # This is the number of examples to produce.\n",
        "    k=1,\n",
        ")\n",
        "\n",
        "# Select the most similar example to the input.\n",
        "question = \"Who was the father of Mary Ball Washington?\"\n",
        "selected_examples = example_selector.select_examples({\"question\": question})\n",
        "print(f\"Examples most similar to the input: {question}\")\n",
        "for example in selected_examples:\n",
        "    print(\"\\n\")\n",
        "    for k, v in example.items():\n",
        "        print(f\"{k}: {v}\")"
      ]
    },
    {
      "cell_type": "markdown",
      "metadata": {
        "id": "UaixhBA-ZMge"
      },
      "source": [
        "### Feed example selector into FewShotPromptTemplate"
      ]
    },
    {
      "cell_type": "code",
      "execution_count": 61,
      "metadata": {
        "colab": {
          "base_uri": "https://localhost:8080/"
        },
        "id": "INi4VVAoZSQW",
        "outputId": "38dd534e-fcbe-4c52-bc62-360c6f3e7732"
      },
      "outputs": [
        {
          "name": "stdout",
          "output_type": "stream",
          "text": [
            "Question: Who was the maternal grandfather of George Washington?\n",
            "\n",
            "Are follow up questions needed here: Yes.\n",
            "Follow up: Who was the mother of George Washington?\n",
            "Intermediate answer: The mother of George Washington was Mary Ball Washington.\n",
            "Follow up: Who was the father of Mary Ball Washington?\n",
            "Intermediate answer: The father of Mary Ball Washington was Joseph Ball.\n",
            "So the final answer is: Joseph Ball\n",
            "\n",
            "\n",
            "Question: Who was the father of Mary Ball Washington?\n"
          ]
        }
      ],
      "source": [
        "prompt = FewShotPromptTemplate(\n",
        "    example_selector=example_selector,\n",
        "    example_prompt=example_prompt,\n",
        "    suffix=\"Question: {input}\",\n",
        "    input_variables=[\"input\"],\n",
        ")\n",
        "\n",
        "print(prompt.format(input=\"Who was the father of Mary Ball Washington?\"))"
      ]
    },
    {
      "cell_type": "markdown",
      "metadata": {
        "id": "QOa9ZEQbZ-TP"
      },
      "source": [
        "## FewShotChatMessagePromptTemplate"
      ]
    },
    {
      "cell_type": "code",
      "execution_count": 62,
      "metadata": {
        "id": "b9Ia5rtoZ_fV"
      },
      "outputs": [],
      "source": [
        "examples = [\n",
        "    {\n",
        "        \"instruction\": \"Please write the meeting minutes\",\n",
        "         \"input\": \"On December 25, 2023, the marketing strategy meeting of Company The main objective was to establish a marketing strategy and discuss ideas for new social media campaigns for the first half of 2024. Team leader Jiwon Shin provided a brief overview of recent market trends, followed by each team member discussing strategic ideas in their field. announced.\",\n",
        "         \"answer\": \"\"\"\n",
        "Meeting minutes: XYZ company marketing strategy meeting\n",
        "Date: December 25, 2023\n",
        "Location: XYZ company conference room\n",
        "Attendees: Jiwon Shin (Marketing Team Leader), Hasu Lee (Digital Marketer), Duck Kim (Social Media Manager)\n",
        "\n",
        "1. Opening\n",
        "    - The meeting began with an opening speech by Team Leader Jiwon Shin.\n",
        "    - The purpose of the meeting is to establish a marketing strategy for the first half of 2024 and discuss new social media campaign ideas.\n",
        "\n",
        "2. Market trend overview (Kim Su-jin)\n",
        "    - Team leader Jiwon Shin presented analysis of recent market trends.\n",
        "    - Share insights on consumer behavior changes and competitor strategies.\n",
        "\n",
        "3. Digital Marketing Strategy (Hasu Lee)\n",
        "    - Hasu Lee gave a presentation on digital marketing strategy.\n",
        "    - Focuses on online advertising and SEO optimization measures.\n",
        "\n",
        "4. Social media campaign (Duck Kim)\n",
        "    - Duck Kim proposed an idea for a new social media campaign.\n",
        "    - Describes plans for influencer marketing and content strategy.\n",
        "\n",
        "5. Comprehensive discussion\n",
        "    - Sharing and discussing ideas among team members.\n",
        "    - Discuss budget and resource allocation for each strategy.\n",
        "\n",
        "6. Finishing\n",
        "    - Confirm the date and time of the next meeting.\n",
        "    - Hasu Lee is in charge of organizing and distributing meeting minutes.\n",
        "\"\"\",\n",
        "     },\n",
        "     {\n",
        "         \"instruction\": \"Please summarize the document\",\n",
        "         \"input\": \"This is a 20-page report on the 'Strategy for Sustainable Urban Development'. The report addresses the importance of sustainable urban development, the challenges of current urbanization, and various approaches to make urban development sustainable. It provides a comprehensive coverage of the strategy. The report also highlights examples of successful sustainable urban development in a number of countries and summarizes the lessons learned from these examples.\",\n",
        "         \"answer\": \"\"\"\n",
        "Document Summary: Strategy Report for Sustainable Urban Development\n",
        "\n",
        "- Importance: Highlights why sustainable urban development is essential and its social, economic and environmental benefits.\n",
        "- Current problems: Analyze major problems arising from the current urbanization process, such as environmental pollution, resource depletion, and increased inequality.\n",
        "- Strategy: Presenting various strategies to achieve sustainable urban development. This includes green building, improved public transportation, increased energy efficiency, and increased community involvement.\n",
        "- Case studies: Presenting examples of successful sustainable development in cities around the world. For example, feasible strategies are explained through examples such as Copenhagen in Denmark and Yokohama in Japan.\n",
        "- Lessons learned: Summarizing the key lessons learned from these cases. Lessons highlighted include the importance of a multi-faceted approach, collaboration with the community, and the need for long-term planning.\n",
        "\n",
        "This report provides an in-depth analysis of how sustainable urban development can be achieved in realistic and effective forms.\n",
        "\"\"\",\n",
        "     },\n",
        "     {\n",
        "         \"instruction\": \"Please correct my sentence\",\n",
        "         \"input\": \"Our company is planning to introduce a new marketing strategy. Through this, communication with customers will be more effective.\",\n",
        "         \"answer\": \"By introducing a new marketing strategy, the company is expected to be able to improve communication with customers more effectively.\",\n",
        "     },\n",
        "]"
      ]
    },
    {
      "cell_type": "code",
      "execution_count": 63,
      "metadata": {
        "id": "2iI2MXYvapWN"
      },
      "outputs": [],
      "source": [
        "from langchain.prompts import ChatPromptTemplate, FewShotChatMessagePromptTemplate\n",
        "\n",
        "#채팅 프롬프트\n",
        "example_prompt = ChatPromptTemplate.from_messages(\n",
        "    [\n",
        "        (\"human\", \"{instruction}:\\n{input}\"),\n",
        "        (\"ai\", \"{answer}\"),\n",
        "    ]\n",
        ")\n",
        "\n",
        "#프롬프트에 예제와 포맷 적용\n",
        "few_shot_prompt = FewShotChatMessagePromptTemplate(\n",
        "    example_prompt=example_prompt,\n",
        "    examples=examples,\n",
        ")"
      ]
    },
    {
      "cell_type": "code",
      "execution_count": 64,
      "metadata": {
        "id": "aGey2f8mash2"
      },
      "outputs": [],
      "source": [
        "#마지막 프롬프트\n",
        "#프롬프트에 프롬프트 적용\n",
        "final_prompt = ChatPromptTemplate.from_messages(\n",
        "    [\n",
        "        (\n",
        "            \"system\",\n",
        "            \"You are a helpful assistant.\",\n",
        "        ),\n",
        "        few_shot_prompt,\n",
        "        (\"human\", \"{instruction}\\n{input}\"),\n",
        "    ]\n",
        ")"
      ]
    },
    {
      "cell_type": "code",
      "execution_count": 66,
      "metadata": {
        "id": "chqhKj2ybLLD"
      },
      "outputs": [],
      "source": [
        "llm = ChatOpenAI(\n",
        "    temperature=0,\n",
        "    max_tokens=2048,\n",
        "    model_name=\"gpt-3.5-turbo\",\n",
        ")"
      ]
    },
    {
      "cell_type": "code",
      "execution_count": 67,
      "metadata": {
        "colab": {
          "base_uri": "https://localhost:8080/"
        },
        "id": "zw-bET_AawVs",
        "outputId": "37779abf-72b3-48c6-f994-88a5493171d2"
      },
      "outputs": [
        {
          "name": "stdout",
          "output_type": "stream",
          "text": [
            "회의록\n",
            "\n",
            "일시: 2024년 3월 13일\n",
            "장소: xxx 기술 회사 회의실\n",
            "참석자: 김환덕 (프로젝트 매니저), 신지원 (주요 개발자), 박수열 (UI/UX 디자이너)\n",
            "\n",
            "1. 회의 개최\n",
            "- 김환덕 프로젝트 매니저가 회의를 주관하였다.\n",
            "- 새로운 Langchain 프로젝트에 대한 주간 진행 상황을 검토하기 위한 회의임을 안내하였다.\n",
            "\n",
            "2. 현재 진행 상황 검토\n",
            "- 각 참석자는 자신의 작업 영역에 대한 업데이트를 제공하였다.\n",
            "- 프로젝트의 현재 진행 상황을 종합적으로 검토하였다.\n",
            "\n",
            "3. 다가오는 마일스톤 계획 수립\n",
            "- 팀은 다가오는 마일스톤에 대한 계획을 수립하기 위해 토론하였다.\n",
            "- 다음 주까지의 목표를 설정하고 업무 일정을 조정하였다.\n",
            "\n",
            "4. 향후 일정\n",
            "- 다음 회의 일정 및 안건을 확인하고 마무리하였다.\n",
            "- 박수열 UI/UX 디자이너가 회의록을 작성하여 배포할 예정임을 안내하였다.\n",
            "\n",
            "이상으로 회의록을 마칩니다.\n"
          ]
        }
      ],
      "source": [
        "chain = final_prompt | llm\n",
        "\n",
        "response = chain.invoke(\n",
        "    {\n",
        "        \"instruction\": \"회의록을 작성해 주세요\",\n",
        "        \"input\": \"2024년 3월 13일, xxx 기술 회사의 제품 개발 팀은 새로운 Langchain 프로젝트에 대한 주간 진행 상황 회의를 가졌다. 이 회의에는 프로젝트 매니저인 김환덕, 주요 개발자인 신지원, UI/UX 디자이너인 박수열이 참석했다. 회의의 주요 목적은 프로젝트의 현재 진행 상황을 검토하고, 다가오는 마일스톤에 대한 계획을 수립하는 것이었다. 각 팀원은 자신의 작업 영역에 대한 업데이트를 제공했고, 팀은 다음 주까지의 목표를 설정했다.\",\n",
        "    }\n",
        ")\n",
        "\n",
        "print(response.content)"
      ]
    },
    {
      "cell_type": "code",
      "execution_count": 68,
      "metadata": {
        "colab": {
          "base_uri": "https://localhost:8080/"
        },
        "id": "H42YVEasbTHE",
        "outputId": "00f4ff66-605e-4f53-83b0-97a783d4f123"
      },
      "outputs": [
        {
          "name": "stdout",
          "output_type": "stream",
          "text": [
            "이 보고서는 '2023년 글로벌 경제 전망'에 대한 상세한 30페이지의 보고서로, 세계 경제의 현재 상황, 주요 국가의 경제 성장률, 글로벌 무역 동향, 그리고 다가오는 해의 경제 예측을 다룹니다. 또한, 다양한 경제적, 정치적, 환경적 요인이 세계 경제에 미치는 영향을 분석하고 있습니다.\n"
          ]
        }
      ],
      "source": [
        "#단계적 프롬프트\n",
        "response = chain.invoke(\n",
        "    {\n",
        "        \"instruction\": \"문서를 요약해 주세요\",\n",
        "        \"input\": \"이 문서는 '2023년 글로벌 경제 전망'에 관한 30페이지에 달하는 상세한 보고서입니다. 보고서는 세계 경제의 현재 상태, 주요 국가들의 경제 성장률, 글로벌 무역 동향, 그리고 다가오는 해에 대한 경제 예측을 다룹니다. 이 보고서는 또한 다양한 경제적, 정치적, 환경적 요인들이 세계 경제에 미칠 영향을 분석하고 있습니다.\",\n",
        "    }\n",
        ")\n",
        "\n",
        "print(response.content)"
      ]
    },
    {
      "cell_type": "code",
      "execution_count": 69,
      "metadata": {
        "colab": {
          "base_uri": "https://localhost:8080/"
        },
        "id": "u8DMnudJbafk",
        "outputId": "58563dae-2043-4605-f09a-6af245fd13ec"
      },
      "outputs": [
        {
          "name": "stdout",
          "output_type": "stream",
          "text": [
            "회사는 올해 매출이 증가할 것으로 예상하며, 새로운 전략이 잘 작동하고 있는 것으로 판단된다.\n"
          ]
        }
      ],
      "source": [
        "response = chain.invoke(\n",
        "    {\n",
        "        \"instruction\": \"문장을 교정해 주세요\",\n",
        "        \"input\": \"회사는 올해 매출이 증가할 것으로 예상한다. 새로운 전략이 잘 작동하고 있다.\",\n",
        "    }\n",
        ")\n",
        "\n",
        "print(response.content)"
      ]
    }
  ],
  "metadata": {
    "colab": {
      "provenance": []
    },
    "kernelspec": {
      "display_name": "Python 3",
      "name": "python3"
    },
    "language_info": {
      "name": "python"
    }
  },
  "nbformat": 4,
  "nbformat_minor": 0
}
