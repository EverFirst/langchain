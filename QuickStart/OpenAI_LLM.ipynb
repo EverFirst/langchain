{
  "cells": [
    {
      "cell_type": "code",
      "execution_count": null,
      "id": "3bf28f9e",
      "metadata": {
        "id": "3bf28f9e",
        "outputId": "2a29d7db-0519-4f29-f018-79acc4dbb74e"
      },
      "outputs": [
        {
          "data": {
            "text/plain": [
              "True"
            ]
          },
          "execution_count": 1,
          "metadata": {},
          "output_type": "execute_result"
        }
      ],
      "source": [
        "from dotenv import load_dotenv\n",
        "\n",
        "load_dotenv()"
      ]
    },
    {
      "cell_type": "code",
      "execution_count": null,
      "id": "9d9c3088",
      "metadata": {
        "id": "9d9c3088",
        "outputId": "a9052a44-52bf-45a3-b303-effe7d389438"
      },
      "outputs": [
        {
          "data": {
            "text/plain": [
              "'1.13.3'"
            ]
          },
          "execution_count": 2,
          "metadata": {},
          "output_type": "execute_result"
        }
      ],
      "source": [
        "import openai\n",
        "\n",
        "openai.__version__"
      ]
    },
    {
      "cell_type": "markdown",
      "id": "2550920c-09d8-48b3-be2f-b36362c37989",
      "metadata": {
        "id": "2550920c-09d8-48b3-be2f-b36362c37989"
      },
      "source": [
        "## ChatOpenAI"
      ]
    },
    {
      "cell_type": "code",
      "execution_count": null,
      "id": "5fc161c2",
      "metadata": {
        "id": "5fc161c2",
        "outputId": "c733c031-869a-487a-c4ae-a11f4034b523"
      },
      "outputs": [
        {
          "name": "stdout",
          "output_type": "stream",
          "text": [
            "[답변]: content='대한민국의 수도는 서울입니다.'\n"
          ]
        }
      ],
      "source": [
        "from langchain_openai import ChatOpenAI\n",
        "\n",
        "# 객체 생성\n",
        "llm = ChatOpenAI(\n",
        "    temperature=0.1,  # 창의성 (0.0 ~ 2.0)\n",
        "    max_tokens=2048,  # 최대 토큰수\n",
        "    model_name=\"gpt-3.5-turbo\",  # 모델명\n",
        ")\n",
        "\n",
        "# 질의내용\n",
        "question = \"대한민국의 수도는 어디인가요?\"\n",
        "\n",
        "# 질의\n",
        "print(f\"[답변]: {llm.invoke(question)}\")"
      ]
    },
    {
      "cell_type": "markdown",
      "id": "124d74d9",
      "metadata": {
        "id": "124d74d9"
      },
      "source": [
        "## PromptTemplate\n"
      ]
    },
    {
      "cell_type": "code",
      "execution_count": null,
      "id": "5b3f01e7",
      "metadata": {
        "id": "5b3f01e7",
        "outputId": "d5396033-bb66-4ee2-dcfd-43e06eed6716"
      },
      "outputs": [
        {
          "data": {
            "text/plain": [
              "PromptTemplate(input_variables=['country'], template='{country}의 수도는 뭐야?')"
            ]
          },
          "execution_count": 4,
          "metadata": {},
          "output_type": "execute_result"
        }
      ],
      "source": [
        "from langchain.prompts import PromptTemplate\n",
        "\n",
        "# 질문 템플릿 형식 정의\n",
        "template = \"{country}의 수도는 뭐야?\"\n",
        "\n",
        "# 템플릿 완성\n",
        "prompt = PromptTemplate.from_template(template=template)\n",
        "prompt"
      ]
    },
    {
      "cell_type": "markdown",
      "id": "9d700a6e",
      "metadata": {
        "id": "9d700a6e"
      },
      "source": [
        "### LLMChain\n"
      ]
    },
    {
      "cell_type": "code",
      "execution_count": null,
      "id": "572eb96d",
      "metadata": {
        "id": "572eb96d"
      },
      "outputs": [],
      "source": [
        "from langchain.chains import LLMChain\n",
        "\n",
        "llm_chain = LLMChain(prompt=prompt, llm=llm)"
      ]
    },
    {
      "cell_type": "code",
      "execution_count": null,
      "id": "d6369fbe",
      "metadata": {
        "id": "d6369fbe",
        "outputId": "a891feeb-8ae2-4d71-d7db-f748e85250ac"
      },
      "outputs": [
        {
          "data": {
            "text/plain": [
              "{'country': '대한민국', 'text': '대한민국의 수도는 서울이야.'}"
            ]
          },
          "execution_count": 6,
          "metadata": {},
          "output_type": "execute_result"
        }
      ],
      "source": [
        "llm_chain.invoke({\"country\": \"대한민국\"})"
      ]
    },
    {
      "cell_type": "code",
      "execution_count": null,
      "id": "1cd692f1",
      "metadata": {
        "id": "1cd692f1",
        "outputId": "a338789b-6074-44cd-8f18-b1abb089dfb1"
      },
      "outputs": [
        {
          "data": {
            "text/plain": [
              "{'country': '캐나다', 'text': '캐나다의 수도는 오타와(Ottawa)입니다.'}"
            ]
          },
          "execution_count": 7,
          "metadata": {},
          "output_type": "execute_result"
        }
      ],
      "source": [
        "llm_chain.invoke({\"country\": \"캐나다\"})"
      ]
    },
    {
      "cell_type": "markdown",
      "id": "2ac9a157",
      "metadata": {
        "id": "2ac9a157"
      },
      "source": [
        "### apply()\n",
        "\n",
        "`apply()` 함수로 여러개의 입력에 대한 처리를 한 번에 수행할 수 있습니다.\n"
      ]
    },
    {
      "cell_type": "code",
      "execution_count": null,
      "id": "b656d241",
      "metadata": {
        "id": "b656d241"
      },
      "outputs": [],
      "source": [
        "input_list = [{\"country\": \"호주\"}, {\"country\": \"중국\"}, {\"country\": \"네덜란드\"}]\n",
        "\n",
        "response = llm_chain.apply(input_list)"
      ]
    },
    {
      "cell_type": "code",
      "execution_count": null,
      "id": "aaec81d6",
      "metadata": {
        "id": "aaec81d6",
        "outputId": "4f46887b-ed8a-4026-8a6c-aa5944ca3974"
      },
      "outputs": [
        {
          "data": {
            "text/plain": [
              "'호주의 수도는 캔버라입니다.'"
            ]
          },
          "execution_count": 9,
          "metadata": {},
          "output_type": "execute_result"
        }
      ],
      "source": [
        "response[0][\"text\"]"
      ]
    },
    {
      "cell_type": "code",
      "execution_count": null,
      "id": "01abd39c",
      "metadata": {
        "id": "01abd39c",
        "outputId": "9b4142e2-6ab8-4040-afe7-adc5358069a3"
      },
      "outputs": [
        {
          "name": "stdout",
          "output_type": "stream",
          "text": [
            "호주의 수도는 캔버라(Canberra)입니다.\n",
            "중국의 수도는 베이징(北京)입니다.\n",
            "네덜란드의 수도는 암스테르담입니다.\n"
          ]
        }
      ],
      "source": [
        "# input_list 에 대한 결과 반환\n",
        "result = llm_chain.apply(input_list)\n",
        "\n",
        "# 반복문으로 결과 출력\n",
        "for res in result:\n",
        "    print(res[\"text\"].strip())"
      ]
    },
    {
      "cell_type": "markdown",
      "id": "be38852a",
      "metadata": {
        "id": "be38852a"
      },
      "source": [
        "### `generate()`\n"
      ]
    },
    {
      "cell_type": "code",
      "execution_count": null,
      "id": "2457653b",
      "metadata": {
        "id": "2457653b",
        "outputId": "f71eee44-a818-4b6a-d6c1-23472046b787"
      },
      "outputs": [
        {
          "name": "stdout",
          "output_type": "stream",
          "text": [
            "generations=[[ChatGeneration(text='호주의 수도는 캔버라입니다.', generation_info={'finish_reason': 'stop', 'logprobs': None}, message=AIMessage(content='호주의 수도는 캔버라입니다.'))], [ChatGeneration(text='중국의 수도는 베이징(北京)입니다.', generation_info={'finish_reason': 'stop', 'logprobs': None}, message=AIMessage(content='중국의 수도는 베이징(北京)입니다.'))], [ChatGeneration(text='네덜란드의 수도는 암스테르담입니다.', generation_info={'finish_reason': 'stop', 'logprobs': None}, message=AIMessage(content='네덜란드의 수도는 암스테르담입니다.'))]] llm_output={'token_usage': {'completion_tokens': 53, 'prompt_tokens': 58, 'total_tokens': 111}, 'model_name': 'gpt-3.5-turbo', 'system_fingerprint': 'fp_4f0b692a78'} run=[RunInfo(run_id=UUID('804b0b7e-16c3-4dd1-b1c4-c9574cb5f0f1')), RunInfo(run_id=UUID('3e1ba16a-65c5-46b9-8b3e-44ceb10e7cb6')), RunInfo(run_id=UUID('34fc2b22-227d-41f3-a8de-3e6a3ffd5eca'))]\n"
          ]
        }
      ],
      "source": [
        "# 입력값\n",
        "input_list = [{\"country\": \"호주\"}, {\"country\": \"중국\"}, {\"country\": \"네덜란드\"}]\n",
        "\n",
        "# input_list 에 대한 결과 반환\n",
        "generated_result = llm_chain.generate(input_list)\n",
        "print(generated_result)"
      ]
    },
    {
      "cell_type": "code",
      "execution_count": null,
      "id": "59487318",
      "metadata": {
        "id": "59487318",
        "outputId": "9bb59b3f-b0ef-4273-abfa-09027b4234a7"
      },
      "outputs": [
        {
          "data": {
            "text/plain": [
              "{'token_usage': {'completion_tokens': 53,\n",
              "  'prompt_tokens': 58,\n",
              "  'total_tokens': 111},\n",
              " 'model_name': 'gpt-3.5-turbo',\n",
              " 'system_fingerprint': 'fp_4f0b692a78'}"
            ]
          },
          "execution_count": 12,
          "metadata": {},
          "output_type": "execute_result"
        }
      ],
      "source": [
        "# 토큰 사용량 출력\n",
        "generated_result.llm_output"
      ]
    },
    {
      "cell_type": "markdown",
      "id": "28a99eed",
      "metadata": {
        "id": "28a99eed"
      },
      "source": [
        "### Define two or more variables in a template\n"
      ]
    },
    {
      "cell_type": "code",
      "execution_count": null,
      "id": "0a9e9a36",
      "metadata": {
        "id": "0a9e9a36",
        "outputId": "6b4b2ad8-1ce7-4923-ce89-aff4fce207c0"
      },
      "outputs": [
        {
          "data": {
            "text/plain": [
              "PromptTemplate(input_variables=['area1', 'area2'], template='{area1} 와 {area2} 의 시차는 몇시간이야?')"
            ]
          },
          "execution_count": 13,
          "metadata": {},
          "output_type": "execute_result"
        }
      ],
      "source": [
        "template = \"{area1} 와 {area2} 의 시차는 몇시간이야?\"\n",
        "\n",
        "prompt = PromptTemplate.from_template(template)\n",
        "prompt"
      ]
    },
    {
      "cell_type": "code",
      "execution_count": null,
      "id": "cc451ac1",
      "metadata": {
        "id": "cc451ac1"
      },
      "outputs": [],
      "source": [
        "llm_chain = LLMChain(prompt=prompt, llm=llm)"
      ]
    },
    {
      "cell_type": "code",
      "execution_count": null,
      "id": "d3533451",
      "metadata": {
        "id": "d3533451",
        "outputId": "9dcbc381-26d5-421e-a55d-47f3b73a4907"
      },
      "outputs": [
        {
          "name": "stdout",
          "output_type": "stream",
          "text": [
            "{'area1': '서울', 'area2': '파리', 'text': '서울과 파리의 시차는 8시간입니다. 서울은 GMT+9 시간대에 속하고, 파리는 GMT+1 시간대에 속하기 때문에 시차가 8시간이 발생합니다.'}\n"
          ]
        }
      ],
      "source": [
        "print(llm_chain.invoke({\"area1\": \"서울\", \"area2\": \"파리\"}))"
      ]
    },
    {
      "cell_type": "code",
      "execution_count": null,
      "id": "78aaa1eb",
      "metadata": {
        "id": "78aaa1eb",
        "outputId": "528b8976-832b-4616-c160-05efde5ca0e1"
      },
      "outputs": [
        {
          "name": "stdout",
          "output_type": "stream",
          "text": [
            "파리와 뉴욕의 시차는 6시간입니다. 파리는 그리니치 평균시(GMT+1)를 따르고, 뉴욕은 동부 표준시(EST)를 따르기 때문에 시차가 발생합니다.\n",
            "서울과 하와이의 시차는 서울이 하와이보다 19시간 빠릅니다. 서울은 GMT+9 시간대에 있고, 하와이는 GMT-10 시간대에 있기 때문입니다.\n",
            "켄버라와 베이징의 시차는 2시간입니다. 켄버라는 UTC+10 시간대에 속하고, 베이징은 UTC+8 시간대에 속하기 때문입니다.\n"
          ]
        }
      ],
      "source": [
        "input_list = [\n",
        "    {\"area1\": \"파리\", \"area2\": \"뉴욕\"},\n",
        "    {\"area1\": \"서울\", \"area2\": \"하와이\"},\n",
        "    {\"area1\": \"켄버라\", \"area2\": \"베이징\"},\n",
        "]\n",
        "\n",
        "# 반복문으로 결과 출력\n",
        "result = llm_chain.apply(input_list)\n",
        "for res in result:\n",
        "    print(res[\"text\"].strip())"
      ]
    },
    {
      "cell_type": "markdown",
      "id": "d1ef6054",
      "metadata": {
        "id": "d1ef6054"
      },
      "source": [
        "## stream\n"
      ]
    },
    {
      "cell_type": "code",
      "execution_count": null,
      "id": "14dfb526",
      "metadata": {
        "id": "14dfb526"
      },
      "outputs": [],
      "source": [
        "from langchain.callbacks.streaming_stdout import StreamingStdOutCallbackHandler\n",
        "\n",
        "# 객체 생성\n",
        "llm = ChatOpenAI(\n",
        "    temperature=0,  # 창의성 (0.0 ~ 2.0)\n",
        "    max_tokens=2048,  # 최대 토큰수\n",
        "    model_name=\"gpt-3.5-turbo\",  # 모델명\n",
        "    streaming=True,\n",
        "    callbacks=[StreamingStdOutCallbackHandler()],\n",
        ")"
      ]
    },
    {
      "cell_type": "code",
      "execution_count": null,
      "id": "62d721f2",
      "metadata": {
        "id": "62d721f2",
        "outputId": "40349813-b677-4fc6-d00c-e5d235c11439"
      },
      "outputs": [
        {
          "name": "stdout",
          "output_type": "stream",
          "text": [
            "대한민국은 동아시아에 위치한 나라로, 수도는 서울이며 인구는 약 5천만 명이 넘는 대국가이다. 대한민국은 민주공화국으로 정부는 대통령 중심의 체제를 가지고 있으며, 국회는 한국 국회로 불린다. 대한민국은 한반도의 남쪽에 위치하고 있으며 북쪽으로는 북한과 접하고 있다.\n",
            "\n",
            "대한민국은 세계에서 11번째로 경제 규모가 큰 나라로, 선진국가로 분류되며 고도의 경제력을 보유하고 있다. 주요 산업은 반도체, 자동차, 조선, 철강, 화학 등이 있으며, 세계적으로 유명한 기업들이 많이 발달해 있다.\n",
            "\n",
            "문화적으로는 한국의 전통문화와 현대문화가 조화롭게 공존하고 있으며, 한류 열풍으로 한국의 음악, 드라마, 영화 등이 전 세계적으로 인기를 끌고 있다. 또한 한국의 전통 요리인 김치, 불고기, 비빔밥 등도 많은 사람들에게 사랑받고 있다.\n",
            "\n",
            "대한민국은 안전하고 발전된 나라로, 교육 수준이 높고 의료 시스템도 잘 발달해 있어 건강하고 안정적인 삶을 누릴 수 있는 나라이다. 또한 자연환경도 아름다워 해변, 산, 계곡 등 다양한 관광지가 있어 많은 관광객들이 방문하고 있다."
          ]
        }
      ],
      "source": [
        "# 질의내용\n",
        "question = \"대한민국에 대해서 300자 내외로 최대한 상세히 알려줘\"\n",
        "\n",
        "# 스트리밍으로 답변 출력\n",
        "response = llm.invoke(question)"
      ]
    }
  ],
  "metadata": {
    "kernelspec": {
      "display_name": "Python 3 (ipykernel)",
      "language": "python",
      "name": "python3"
    },
    "language_info": {
      "codemirror_mode": {
        "name": "ipython",
        "version": 3
      },
      "file_extension": ".py",
      "mimetype": "text/x-python",
      "name": "python",
      "nbconvert_exporter": "python",
      "pygments_lexer": "ipython3",
      "version": "3.10.13"
    },
    "colab": {
      "provenance": []
    }
  },
  "nbformat": 4,
  "nbformat_minor": 5
}