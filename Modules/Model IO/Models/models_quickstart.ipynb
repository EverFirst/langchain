{
  "nbformat": 4,
  "nbformat_minor": 0,
  "metadata": {
    "colab": {
      "provenance": []
    },
    "kernelspec": {
      "name": "python3",
      "display_name": "Python 3"
    },
    "language_info": {
      "name": "python"
    }
  },
  "cells": [
    {
      "cell_type": "markdown",
      "source": [
        "# Few-shot prompt templates"
      ],
      "metadata": {
        "id": "259M-8OXmQD7"
      }
    },
    {
      "cell_type": "code",
      "execution_count": 92,
      "metadata": {
        "id": "4Vahr4cWmPN6"
      },
      "outputs": [],
      "source": [
        "!pip install --upgrade --quiet langchain langchain-openai"
      ]
    },
    {
      "cell_type": "code",
      "source": [
        "import os\n",
        "os.environ[\"OPENAI_API_KEY\"]      = \"sk-*****************************************************\""
      ],
      "metadata": {
        "id": "86kvSCFwnI2s"
      },
      "execution_count": 28,
      "outputs": []
    },
    {
      "cell_type": "markdown",
      "source": [
        "## ChatOpenAI"
      ],
      "metadata": {
        "id": "9uQysbgx8G1t"
      }
    },
    {
      "cell_type": "code",
      "source": [
        "from langchain.chat_models import ChatOpenAI\n",
        "\n",
        "llm = ChatOpenAI(\n",
        "    temperature=0,\n",
        "    max_tokens=2048,\n",
        "    model_name=\"gpt-3.5-turbo\",\n",
        ")\n",
        "\n",
        "question = \"대한민국의 수도는 뭐야?\"\n",
        "\n",
        "print(f\"[답변]: {llm.predict(question)}\")"
      ],
      "metadata": {
        "colab": {
          "base_uri": "https://localhost:8080/"
        },
        "id": "23_kKvxAcqY6",
        "outputId": "0375d0b9-8365-4e72-a23a-70d1f3f372a6"
      },
      "execution_count": 93,
      "outputs": [
        {
          "output_type": "stream",
          "name": "stderr",
          "text": [
            "/usr/local/lib/python3.10/dist-packages/langchain_core/_api/deprecation.py:117: LangChainDeprecationWarning: The class `langchain_community.chat_models.openai.ChatOpenAI` was deprecated in langchain-community 0.0.10 and will be removed in 0.2.0. An updated version of the class exists in the langchain-openai package and should be used instead. To use it run `pip install -U langchain-openai` and import as `from langchain_openai import ChatOpenAI`.\n",
            "  warn_deprecated(\n",
            "/usr/local/lib/python3.10/dist-packages/langchain_core/_api/deprecation.py:117: LangChainDeprecationWarning: The function `predict` was deprecated in LangChain 0.1.7 and will be removed in 0.2.0. Use invoke instead.\n",
            "  warn_deprecated(\n"
          ]
        },
        {
          "output_type": "stream",
          "name": "stdout",
          "text": [
            "[답변]: 대한민국의 수도는 서울이야.\n"
          ]
        }
      ]
    },
    {
      "cell_type": "markdown",
      "source": [
        "## PromptTemplate"
      ],
      "metadata": {
        "id": "pKVa0lYcyouN"
      }
    },
    {
      "cell_type": "code",
      "source": [
        "from langchain.prompts import PromptTemplate\n",
        "\n",
        "template = \"{country}의 수도는 뭐야?\"\n",
        "\n",
        "prompt = PromptTemplate.from_template(template=template)"
      ],
      "metadata": {
        "id": "eNvtmniEyrWE"
      },
      "execution_count": 95,
      "outputs": []
    },
    {
      "cell_type": "code",
      "source": [
        "chain = prompt | llm\n",
        "\n",
        "response = chain.invoke({\"country\": \"korea\"})\n",
        "\n",
        "print(response.content)"
      ],
      "metadata": {
        "colab": {
          "base_uri": "https://localhost:8080/"
        },
        "id": "V2eMATb7zBM0",
        "outputId": "564d7095-b69f-46c7-db6c-f3863ae5d02c"
      },
      "execution_count": 96,
      "outputs": [
        {
          "output_type": "stream",
          "name": "stdout",
          "text": [
            "대한민국의 수도는 서울이다.\n"
          ]
        }
      ]
    },
    {
      "cell_type": "markdown",
      "source": [
        "## LLM Chain(Legacy)"
      ],
      "metadata": {
        "id": "-F0C5hILzTcc"
      }
    },
    {
      "cell_type": "code",
      "source": [
        "from langchain.chains import LLMChain\n",
        "\n",
        "llm_chain = LLMChain(prompt=prompt, llm=llm)"
      ],
      "metadata": {
        "id": "MTVxt_3azVgz"
      },
      "execution_count": 97,
      "outputs": []
    },
    {
      "cell_type": "markdown",
      "source": [
        "### run()"
      ],
      "metadata": {
        "id": "5d38NXITziLg"
      }
    },
    {
      "cell_type": "code",
      "source": [
        "llm_chain.run(country=\"대만\")"
      ],
      "metadata": {
        "colab": {
          "base_uri": "https://localhost:8080/",
          "height": 35
        },
        "id": "30ZkRgZxzcRu",
        "outputId": "a26e0d3b-9997-43b6-e1a4-a2ac85243cd2"
      },
      "execution_count": 98,
      "outputs": [
        {
          "output_type": "execute_result",
          "data": {
            "text/plain": [
              "'대만의 수도는 타이베이(Taipei)입니다.'"
            ],
            "application/vnd.google.colaboratory.intrinsic+json": {
              "type": "string"
            }
          },
          "metadata": {},
          "execution_count": 98
        }
      ]
    },
    {
      "cell_type": "code",
      "source": [
        "llm_chain.predict(country=\"대한민국\")"
      ],
      "metadata": {
        "colab": {
          "base_uri": "https://localhost:8080/",
          "height": 35
        },
        "id": "DRBo71LozrL6",
        "outputId": "02dbc981-0213-4483-d0bf-9c392f620378"
      },
      "execution_count": 99,
      "outputs": [
        {
          "output_type": "execute_result",
          "data": {
            "text/plain": [
              "'대한민국의 수도는 서울이야.'"
            ],
            "application/vnd.google.colaboratory.intrinsic+json": {
              "type": "string"
            }
          },
          "metadata": {},
          "execution_count": 99
        }
      ]
    },
    {
      "cell_type": "markdown",
      "source": [
        "### apply()"
      ],
      "metadata": {
        "id": "1Q7l4NeNzvzS"
      }
    },
    {
      "cell_type": "code",
      "source": [
        "input_list = [{\"country\": \"대만\"}, {\"country\": \"중국\"}, {\"country\": \"몽골\"}]\n",
        "llm_chain.apply(input_list)"
      ],
      "metadata": {
        "colab": {
          "base_uri": "https://localhost:8080/"
        },
        "id": "nskdu2BlzxZT",
        "outputId": "b55439a8-9b2c-43c1-eb7d-df8558f9fa09"
      },
      "execution_count": 101,
      "outputs": [
        {
          "output_type": "execute_result",
          "data": {
            "text/plain": [
              "[{'text': '대만의 수도는 타이베이입니다.'},\n",
              " {'text': '중국의 수도는 베이징(北京)입니다.'},\n",
              " {'text': '몽골의 수도는 울란바토르입니다.'}]"
            ]
          },
          "metadata": {},
          "execution_count": 101
        }
      ]
    },
    {
      "cell_type": "code",
      "source": [
        "result = llm_chain.apply(input_list)\n",
        "\n",
        "for res in result:\n",
        "    print(res[\"text\"].strip())\n"
      ],
      "metadata": {
        "colab": {
          "base_uri": "https://localhost:8080/"
        },
        "id": "c3Pm1gTJz-tq",
        "outputId": "76a28176-1600-4516-8857-20f923e145e2"
      },
      "execution_count": 102,
      "outputs": [
        {
          "output_type": "stream",
          "name": "stdout",
          "text": [
            "대만의 수도는 타이베이(Taipei)입니다.\n",
            "중국의 수도는 베이징(北京)입니다.\n",
            "몽골의 수도는 울란바토르입니다.\n"
          ]
        }
      ]
    },
    {
      "cell_type": "markdown",
      "source": [
        "### generate()"
      ],
      "metadata": {
        "id": "DjctWXXi0ElS"
      }
    },
    {
      "cell_type": "code",
      "source": [
        "input_list = [{\"country\": \"대만\"}, {\"country\": \"중국\"}, {\"country\": \"몽골\"}]\n",
        "\n",
        "generated_result = llm_chain.generate(input_list)\n",
        "print(generated_result)"
      ],
      "metadata": {
        "colab": {
          "base_uri": "https://localhost:8080/"
        },
        "id": "JUfFAJDo0Fvj",
        "outputId": "06b548be-80a9-42eb-8c0c-1db9d1c6244a"
      },
      "execution_count": 103,
      "outputs": [
        {
          "output_type": "stream",
          "name": "stdout",
          "text": [
            "generations=[[ChatGeneration(text='대만의 수도는 타이베이(Taipei)입니다.', generation_info={'finish_reason': 'stop', 'logprobs': None}, message=AIMessage(content='대만의 수도는 타이베이(Taipei)입니다.', response_metadata={'finish_reason': 'stop', 'logprobs': None}))], [ChatGeneration(text='중국의 수도는 베이징(北京)입니다.', generation_info={'finish_reason': 'stop', 'logprobs': None}, message=AIMessage(content='중국의 수도는 베이징(北京)입니다.', response_metadata={'finish_reason': 'stop', 'logprobs': None}))], [ChatGeneration(text='몽골의 수도는 울란바토르입니다.', generation_info={'finish_reason': 'stop', 'logprobs': None}, message=AIMessage(content='몽골의 수도는 울란바토르입니다.', response_metadata={'finish_reason': 'stop', 'logprobs': None}))]] llm_output={'token_usage': {'completion_tokens': 57, 'prompt_tokens': 55, 'total_tokens': 112}, 'model_name': 'gpt-3.5-turbo', 'system_fingerprint': 'fp_4f2ebda25a'} run=[RunInfo(run_id=UUID('2fa0d357-8896-44a3-a515-7c78968a51f7')), RunInfo(run_id=UUID('21521b26-3dba-4511-b814-1a2b05ddf040')), RunInfo(run_id=UUID('597abd39-25f2-4607-b923-2dbda3850db4'))]\n"
          ]
        }
      ]
    },
    {
      "cell_type": "code",
      "source": [
        "generated_result.generations"
      ],
      "metadata": {
        "colab": {
          "base_uri": "https://localhost:8080/"
        },
        "id": "i8i_KTq50QNS",
        "outputId": "eafeaa1a-d391-46e6-d5b9-ab0e23c0ac6d"
      },
      "execution_count": 104,
      "outputs": [
        {
          "output_type": "execute_result",
          "data": {
            "text/plain": [
              "[[ChatGeneration(text='대만의 수도는 타이베이(Taipei)입니다.', generation_info={'finish_reason': 'stop', 'logprobs': None}, message=AIMessage(content='대만의 수도는 타이베이(Taipei)입니다.', response_metadata={'finish_reason': 'stop', 'logprobs': None}))],\n",
              " [ChatGeneration(text='중국의 수도는 베이징(北京)입니다.', generation_info={'finish_reason': 'stop', 'logprobs': None}, message=AIMessage(content='중국의 수도는 베이징(北京)입니다.', response_metadata={'finish_reason': 'stop', 'logprobs': None}))],\n",
              " [ChatGeneration(text='몽골의 수도는 울란바토르입니다.', generation_info={'finish_reason': 'stop', 'logprobs': None}, message=AIMessage(content='몽골의 수도는 울란바토르입니다.', response_metadata={'finish_reason': 'stop', 'logprobs': None}))]]"
            ]
          },
          "metadata": {},
          "execution_count": 104
        }
      ]
    },
    {
      "cell_type": "code",
      "source": [
        "generated_result.llm_output"
      ],
      "metadata": {
        "colab": {
          "base_uri": "https://localhost:8080/"
        },
        "id": "rAuzR3L50Vkq",
        "outputId": "180365dc-5c7f-49c3-e2e4-5690dda59598"
      },
      "execution_count": 105,
      "outputs": [
        {
          "output_type": "execute_result",
          "data": {
            "text/plain": [
              "{'token_usage': {'completion_tokens': 57,\n",
              "  'prompt_tokens': 55,\n",
              "  'total_tokens': 112},\n",
              " 'model_name': 'gpt-3.5-turbo',\n",
              " 'system_fingerprint': 'fp_4f2ebda25a'}"
            ]
          },
          "metadata": {},
          "execution_count": 105
        }
      ]
    },
    {
      "cell_type": "code",
      "source": [
        "generated_result.run"
      ],
      "metadata": {
        "colab": {
          "base_uri": "https://localhost:8080/"
        },
        "id": "-EjiTNmd0auq",
        "outputId": "71c4bc54-292b-434b-9259-cd5cd2f4ed5a"
      },
      "execution_count": 106,
      "outputs": [
        {
          "output_type": "execute_result",
          "data": {
            "text/plain": [
              "[RunInfo(run_id=UUID('2fa0d357-8896-44a3-a515-7c78968a51f7')),\n",
              " RunInfo(run_id=UUID('21521b26-3dba-4511-b814-1a2b05ddf040')),\n",
              " RunInfo(run_id=UUID('597abd39-25f2-4607-b923-2dbda3850db4'))]"
            ]
          },
          "metadata": {},
          "execution_count": 106
        }
      ]
    },
    {
      "cell_type": "code",
      "source": [
        "for gen in generated_result.generations:\n",
        "    print(gen[0].text.strip())"
      ],
      "metadata": {
        "colab": {
          "base_uri": "https://localhost:8080/"
        },
        "id": "4VPzNU9F0eCa",
        "outputId": "3125e25c-3f0c-405c-c541-d17418f71d97"
      },
      "execution_count": 107,
      "outputs": [
        {
          "output_type": "stream",
          "name": "stdout",
          "text": [
            "대만의 수도는 타이베이(Taipei)입니다.\n",
            "중국의 수도는 베이징(北京)입니다.\n",
            "몽골의 수도는 울란바토르입니다.\n"
          ]
        }
      ]
    },
    {
      "cell_type": "markdown",
      "source": [
        "## Define two or more variables in a template"
      ],
      "metadata": {
        "id": "FT9SMavV0lAS"
      }
    },
    {
      "cell_type": "code",
      "source": [
        "template = \"What is the time difference between {area1} and {area2}?\"\n",
        "\n",
        "prompt = PromptTemplate.from_template(template)\n",
        "prompt"
      ],
      "metadata": {
        "colab": {
          "base_uri": "https://localhost:8080/"
        },
        "id": "E6En1RRH0mVa",
        "outputId": "ac81ce9b-c4e5-4986-b679-989410b75896"
      },
      "execution_count": 108,
      "outputs": [
        {
          "output_type": "execute_result",
          "data": {
            "text/plain": [
              "PromptTemplate(input_variables=['area1', 'area2'], template='What is the time difference between {area1} and {area2}?')"
            ]
          },
          "metadata": {},
          "execution_count": 108
        }
      ]
    },
    {
      "cell_type": "code",
      "source": [
        "llm_chain = LLMChain(prompt=prompt, llm=llm)"
      ],
      "metadata": {
        "id": "aMMvRB3b09RM"
      },
      "execution_count": 109,
      "outputs": []
    },
    {
      "cell_type": "code",
      "source": [
        "print(llm_chain.run(area1=\"서울\", area2=\"베이징\"))"
      ],
      "metadata": {
        "colab": {
          "base_uri": "https://localhost:8080/"
        },
        "id": "WZpAMMuM0_-5",
        "outputId": "f95e0766-abda-4e89-e33b-99fc882e7306"
      },
      "execution_count": 110,
      "outputs": [
        {
          "output_type": "stream",
          "name": "stdout",
          "text": [
            "The time difference between Seoul, South Korea and Beijing, China is one hour. Seoul is one hour ahead of Beijing.\n"
          ]
        }
      ]
    },
    {
      "cell_type": "code",
      "source": [
        "input_list = [\n",
        "    {\"area1\": \"서울\", \"area2\": \"뉴욕\"},\n",
        "    {\"area1\": \"뉴욕\", \"area2\": \"울란바토르\"},\n",
        "    {\"area1\": \"서울\", \"area2\": \"울란바토르\"},\n",
        "]\n",
        "\n",
        "# 반복문으로 결과 출력\n",
        "result = llm_chain.apply(input_list)\n",
        "for res in result:\n",
        "    print(res[\"text\"].strip())"
      ],
      "metadata": {
        "colab": {
          "base_uri": "https://localhost:8080/"
        },
        "id": "tBCO08sF1F5k",
        "outputId": "f4a64963-8562-43e4-907f-a97d4738fa81"
      },
      "execution_count": 111,
      "outputs": [
        {
          "output_type": "stream",
          "name": "stdout",
          "text": [
            "The time difference between 서울 (Seoul) and 뉴욕 (New York) is 14 hours. 서울 is 14 hours ahead of 뉴욕.\n",
            "The time difference between New York and Ulaanbaatar is 12 hours. Ulaanbaatar is 12 hours ahead of New York.\n",
            "The time difference between Seoul, South Korea and Ulaanbaatar, Mongolia is 1 hour. Seoul is 1 hour ahead of Ulaanbaatar.\n"
          ]
        }
      ]
    }
  ]
}