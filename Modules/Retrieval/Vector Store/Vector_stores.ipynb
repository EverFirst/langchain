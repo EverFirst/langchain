{
  "nbformat": 4,
  "nbformat_minor": 0,
  "metadata": {
    "colab": {
      "provenance": [],
      "toc_visible": true
    },
    "kernelspec": {
      "name": "python3",
      "display_name": "Python 3"
    },
    "language_info": {
      "name": "python"
    }
  },
  "cells": [
    {
      "cell_type": "markdown",
      "source": [
        "# Setting"
      ],
      "metadata": {
        "id": "GyNYoQGHbrD6"
      }
    },
    {
      "cell_type": "code",
      "execution_count": 1,
      "metadata": {
        "colab": {
          "base_uri": "https://localhost:8080/"
        },
        "id": "Q8rhRzs0Yzhc",
        "outputId": "212c34fd-50bd-4357-d4fc-4fbface051b8"
      },
      "outputs": [
        {
          "output_type": "stream",
          "name": "stdout",
          "text": [
            "\u001b[2K     \u001b[90m━━━━━━━━━━━━━━━━━━━━━━━━━━━━━━━━━━━━━━━━\u001b[0m \u001b[32m810.5/810.5 kB\u001b[0m \u001b[31m5.5 MB/s\u001b[0m eta \u001b[36m0:00:00\u001b[0m\n",
            "\u001b[2K     \u001b[90m━━━━━━━━━━━━━━━━━━━━━━━━━━━━━━━━━━━━━━━━\u001b[0m \u001b[32m1.8/1.8 MB\u001b[0m \u001b[31m11.4 MB/s\u001b[0m eta \u001b[36m0:00:00\u001b[0m\n",
            "\u001b[2K     \u001b[90m━━━━━━━━━━━━━━━━━━━━━━━━━━━━━━━━━━━━━━━━\u001b[0m \u001b[32m269.1/269.1 kB\u001b[0m \u001b[31m10.6 MB/s\u001b[0m eta \u001b[36m0:00:00\u001b[0m\n",
            "\u001b[2K     \u001b[90m━━━━━━━━━━━━━━━━━━━━━━━━━━━━━━━━━━━━━━━━\u001b[0m \u001b[32m71.6/71.6 kB\u001b[0m \u001b[31m4.8 MB/s\u001b[0m eta \u001b[36m0:00:00\u001b[0m\n",
            "\u001b[2K     \u001b[90m━━━━━━━━━━━━━━━━━━━━━━━━━━━━━━━━━━━━━━━━\u001b[0m \u001b[32m262.4/262.4 kB\u001b[0m \u001b[31m5.0 MB/s\u001b[0m eta \u001b[36m0:00:00\u001b[0m\n",
            "\u001b[2K     \u001b[90m━━━━━━━━━━━━━━━━━━━━━━━━━━━━━━━━━━━━━━━━\u001b[0m \u001b[32m1.8/1.8 MB\u001b[0m \u001b[31m15.3 MB/s\u001b[0m eta \u001b[36m0:00:00\u001b[0m\n",
            "\u001b[2K     \u001b[90m━━━━━━━━━━━━━━━━━━━━━━━━━━━━━━━━━━━━━━━━\u001b[0m \u001b[32m49.4/49.4 kB\u001b[0m \u001b[31m1.3 MB/s\u001b[0m eta \u001b[36m0:00:00\u001b[0m\n",
            "\u001b[2K     \u001b[90m━━━━━━━━━━━━━━━━━━━━━━━━━━━━━━━━━━━━━━━━\u001b[0m \u001b[32m53.0/53.0 kB\u001b[0m \u001b[31m3.4 MB/s\u001b[0m eta \u001b[36m0:00:00\u001b[0m\n",
            "\u001b[2K     \u001b[90m━━━━━━━━━━━━━━━━━━━━━━━━━━━━━━━━━━━━━━━━\u001b[0m \u001b[32m138.5/138.5 kB\u001b[0m \u001b[31m2.7 MB/s\u001b[0m eta \u001b[36m0:00:00\u001b[0m\n",
            "\u001b[2K     \u001b[90m━━━━━━━━━━━━━━━━━━━━━━━━━━━━━━━━━━━━━━━━\u001b[0m \u001b[32m75.6/75.6 kB\u001b[0m \u001b[31m4.1 MB/s\u001b[0m eta \u001b[36m0:00:00\u001b[0m\n",
            "\u001b[2K     \u001b[90m━━━━━━━━━━━━━━━━━━━━━━━━━━━━━━━━━━━━━━━━\u001b[0m \u001b[32m77.8/77.8 kB\u001b[0m \u001b[31m4.7 MB/s\u001b[0m eta \u001b[36m0:00:00\u001b[0m\n",
            "\u001b[2K     \u001b[90m━━━━━━━━━━━━━━━━━━━━━━━━━━━━━━━━━━━━━━━━\u001b[0m \u001b[32m58.3/58.3 kB\u001b[0m \u001b[31m5.2 MB/s\u001b[0m eta \u001b[36m0:00:00\u001b[0m\n",
            "\u001b[?25h"
          ]
        }
      ],
      "source": [
        "!pip install -qU langchain langchain-openai langchain_community"
      ]
    },
    {
      "cell_type": "code",
      "source": [
        "import os\n",
        "\n",
        "os.environ[\"OPENAI_API_KEY\"] = 'sk-***********************************************'"
      ],
      "metadata": {
        "id": "Omiwxc9oZAm0"
      },
      "execution_count": 2,
      "outputs": []
    },
    {
      "cell_type": "markdown",
      "source": [
        "# Vector Store\n",
        "비정형 데이터를 저장하고 검색하는 가장 일반적인 방법 중 하나는\n",
        "\n",
        "임베딩하여 결과 임베딩 벡터를 저장한 다음 쿼리 시 비정형 쿼리를 임베딩하고 임베딩 쿼리와 '가장 유사한' 임베딩 벡터를 검색하는 것입니다.\n",
        "\n",
        "`Vector Store`는 임베딩 데이터를 저장하고 벡터 검색을 수행합니다."
      ],
      "metadata": {
        "id": "zlawUdUizT-X"
      }
    },
    {
      "cell_type": "markdown",
      "source": [
        "# Chroma"
      ],
      "metadata": {
        "id": "pDGmlPh1agJV"
      }
    },
    {
      "cell_type": "markdown",
      "source": [
        "`Chroma`는 개발자의 생산성과 행복에 초점을 맞춘 AI 네이티브 오픈 소스 벡터 데이터베이스입니다."
      ],
      "metadata": {
        "id": "ly1gcmGr0AyQ"
      }
    },
    {
      "cell_type": "code",
      "source": [
        "!pip install -qU chromadb"
      ],
      "metadata": {
        "colab": {
          "base_uri": "https://localhost:8080/"
        },
        "id": "dPDg01ByavjR",
        "outputId": "e7a30bd5-a644-4e6e-c33a-eb31d046436c"
      },
      "execution_count": 3,
      "outputs": [
        {
          "output_type": "stream",
          "name": "stdout",
          "text": [
            "\u001b[2K     \u001b[90m━━━━━━━━━━━━━━━━━━━━━━━━━━━━━━━━━━━━━━━━\u001b[0m \u001b[32m525.5/525.5 kB\u001b[0m \u001b[31m5.0 MB/s\u001b[0m eta \u001b[36m0:00:00\u001b[0m\n",
            "\u001b[2K     \u001b[90m━━━━━━━━━━━━━━━━━━━━━━━━━━━━━━━━━━━━━━━━\u001b[0m \u001b[32m2.4/2.4 MB\u001b[0m \u001b[31m10.1 MB/s\u001b[0m eta \u001b[36m0:00:00\u001b[0m\n",
            "\u001b[2K     \u001b[90m━━━━━━━━━━━━━━━━━━━━━━━━━━━━━━━━━━━━━━━━\u001b[0m \u001b[32m92.1/92.1 kB\u001b[0m \u001b[31m9.7 MB/s\u001b[0m eta \u001b[36m0:00:00\u001b[0m\n",
            "\u001b[2K     \u001b[90m━━━━━━━━━━━━━━━━━━━━━━━━━━━━━━━━━━━━━━━━\u001b[0m \u001b[32m60.8/60.8 kB\u001b[0m \u001b[31m5.5 MB/s\u001b[0m eta \u001b[36m0:00:00\u001b[0m\n",
            "\u001b[2K     \u001b[90m━━━━━━━━━━━━━━━━━━━━━━━━━━━━━━━━━━━━━━━━\u001b[0m \u001b[32m41.3/41.3 kB\u001b[0m \u001b[31m3.5 MB/s\u001b[0m eta \u001b[36m0:00:00\u001b[0m\n",
            "\u001b[2K     \u001b[90m━━━━━━━━━━━━━━━━━━━━━━━━━━━━━━━━━━━━━━━━\u001b[0m \u001b[32m5.4/5.4 MB\u001b[0m \u001b[31m23.0 MB/s\u001b[0m eta \u001b[36m0:00:00\u001b[0m\n",
            "\u001b[2K     \u001b[90m━━━━━━━━━━━━━━━━━━━━━━━━━━━━━━━━━━━━━━━━\u001b[0m \u001b[32m6.8/6.8 MB\u001b[0m \u001b[31m30.2 MB/s\u001b[0m eta \u001b[36m0:00:00\u001b[0m\n",
            "\u001b[2K     \u001b[90m━━━━━━━━━━━━━━━━━━━━━━━━━━━━━━━━━━━━━━━━\u001b[0m \u001b[32m58.4/58.4 kB\u001b[0m \u001b[31m5.0 MB/s\u001b[0m eta \u001b[36m0:00:00\u001b[0m\n",
            "\u001b[2K     \u001b[90m━━━━━━━━━━━━━━━━━━━━━━━━━━━━━━━━━━━━━━━━\u001b[0m \u001b[32m105.7/105.7 kB\u001b[0m \u001b[31m10.7 MB/s\u001b[0m eta \u001b[36m0:00:00\u001b[0m\n",
            "\u001b[2K     \u001b[90m━━━━━━━━━━━━━━━━━━━━━━━━━━━━━━━━━━━━━━━━\u001b[0m \u001b[32m67.3/67.3 kB\u001b[0m \u001b[31m6.1 MB/s\u001b[0m eta \u001b[36m0:00:00\u001b[0m\n",
            "\u001b[?25h  Installing build dependencies ... \u001b[?25l\u001b[?25hdone\n",
            "  Getting requirements to build wheel ... \u001b[?25l\u001b[?25hdone\n",
            "  Preparing metadata (pyproject.toml) ... \u001b[?25l\u001b[?25hdone\n",
            "\u001b[2K     \u001b[90m━━━━━━━━━━━━━━━━━━━━━━━━━━━━━━━━━━━━━━━━\u001b[0m \u001b[32m698.9/698.9 kB\u001b[0m \u001b[31m43.4 MB/s\u001b[0m eta \u001b[36m0:00:00\u001b[0m\n",
            "\u001b[2K     \u001b[90m━━━━━━━━━━━━━━━━━━━━━━━━━━━━━━━━━━━━━━━━\u001b[0m \u001b[32m1.6/1.6 MB\u001b[0m \u001b[31m37.3 MB/s\u001b[0m eta \u001b[36m0:00:00\u001b[0m\n",
            "\u001b[2K     \u001b[90m━━━━━━━━━━━━━━━━━━━━━━━━━━━━━━━━━━━━━━━━\u001b[0m \u001b[32m67.6/67.6 kB\u001b[0m \u001b[31m6.8 MB/s\u001b[0m eta \u001b[36m0:00:00\u001b[0m\n",
            "\u001b[2K     \u001b[90m━━━━━━━━━━━━━━━━━━━━━━━━━━━━━━━━━━━━━━━━\u001b[0m \u001b[32m71.5/71.5 kB\u001b[0m \u001b[31m7.2 MB/s\u001b[0m eta \u001b[36m0:00:00\u001b[0m\n",
            "\u001b[2K     \u001b[90m━━━━━━━━━━━━━━━━━━━━━━━━━━━━━━━━━━━━━━━━\u001b[0m \u001b[32m46.0/46.0 kB\u001b[0m \u001b[31m4.3 MB/s\u001b[0m eta \u001b[36m0:00:00\u001b[0m\n",
            "\u001b[2K     \u001b[90m━━━━━━━━━━━━━━━━━━━━━━━━━━━━━━━━━━━━━━━━\u001b[0m \u001b[32m50.8/50.8 kB\u001b[0m \u001b[31m4.3 MB/s\u001b[0m eta \u001b[36m0:00:00\u001b[0m\n",
            "\u001b[2K     \u001b[90m━━━━━━━━━━━━━━━━━━━━━━━━━━━━━━━━━━━━━━━━\u001b[0m \u001b[32m341.4/341.4 kB\u001b[0m \u001b[31m29.5 MB/s\u001b[0m eta \u001b[36m0:00:00\u001b[0m\n",
            "\u001b[2K     \u001b[90m━━━━━━━━━━━━━━━━━━━━━━━━━━━━━━━━━━━━━━━━\u001b[0m \u001b[32m3.4/3.4 MB\u001b[0m \u001b[31m49.2 MB/s\u001b[0m eta \u001b[36m0:00:00\u001b[0m\n",
            "\u001b[2K     \u001b[90m━━━━━━━━━━━━━━━━━━━━━━━━━━━━━━━━━━━━━━━━\u001b[0m \u001b[32m1.3/1.3 MB\u001b[0m \u001b[31m33.5 MB/s\u001b[0m eta \u001b[36m0:00:00\u001b[0m\n",
            "\u001b[2K     \u001b[90m━━━━━━━━━━━━━━━━━━━━━━━━━━━━━━━━━━━━━━━━\u001b[0m \u001b[32m130.2/130.2 kB\u001b[0m \u001b[31m12.6 MB/s\u001b[0m eta \u001b[36m0:00:00\u001b[0m\n",
            "\u001b[2K     \u001b[90m━━━━━━━━━━━━━━━━━━━━━━━━━━━━━━━━━━━━━━━━\u001b[0m \u001b[32m86.8/86.8 kB\u001b[0m \u001b[31m7.9 MB/s\u001b[0m eta \u001b[36m0:00:00\u001b[0m\n",
            "\u001b[?25h  Building wheel for pypika (pyproject.toml) ... \u001b[?25l\u001b[?25hdone\n"
          ]
        }
      ]
    },
    {
      "cell_type": "markdown",
      "source": [
        "`TextLoader`를 사용하여 문서를 로드 합니다.\n",
        "\n",
        "`CharacterTextSplitter`를 사용하여 텍스트를 분할합니다.\n",
        "\n",
        "분할된 문서를 `Chroma`에 임베딩합니다."
      ],
      "metadata": {
        "id": "A4nAIXsx0QIR"
      }
    },
    {
      "cell_type": "code",
      "source": [
        "from langchain_community.document_loaders import TextLoader\n",
        "from langchain_openai import OpenAIEmbeddings\n",
        "from langchain_text_splitters import CharacterTextSplitter\n",
        "from langchain_community.vectorstores import Chroma\n",
        "\n",
        "# Load the document, split it into chunks, embed each chunk and load it into the vector store.\n",
        "raw_documents = TextLoader('/content/state_of_the_union.txt').load()\n",
        "text_splitter = CharacterTextSplitter(chunk_size=1000, chunk_overlap=0)\n",
        "documents = text_splitter.split_documents(raw_documents)\n",
        "db = Chroma.from_documents(documents, OpenAIEmbeddings())"
      ],
      "metadata": {
        "id": "ng1cF0-rZNxy"
      },
      "execution_count": null,
      "outputs": []
    },
    {
      "cell_type": "markdown",
      "source": [
        "# FAISS"
      ],
      "metadata": {
        "id": "e60r7RwMai0P"
      }
    },
    {
      "cell_type": "markdown",
      "source": [
        "Facebook AI 유사성 검색(`Faiss`)은 밀도가 높은 벡터의 효율적인 유사성 검색 및 클러스터링을 위한 라이브러리입니다."
      ],
      "metadata": {
        "id": "2tR4oVfv1CJ5"
      }
    },
    {
      "cell_type": "code",
      "source": [
        "!pip install -qU faiss-cpu"
      ],
      "metadata": {
        "colab": {
          "base_uri": "https://localhost:8080/"
        },
        "id": "V7p6FTw7ao-8",
        "outputId": "dd0e1a9d-0d05-43cf-ea21-9366f98f1965"
      },
      "execution_count": null,
      "outputs": [
        {
          "output_type": "stream",
          "name": "stdout",
          "text": [
            "\u001b[2K     \u001b[90m━━━━━━━━━━━━━━━━━━━━━━━━━━━━━━━━━━━━━━━━\u001b[0m \u001b[32m27.0/27.0 MB\u001b[0m \u001b[31m28.7 MB/s\u001b[0m eta \u001b[36m0:00:00\u001b[0m\n",
            "\u001b[?25h"
          ]
        }
      ]
    },
    {
      "cell_type": "markdown",
      "source": [
        "`TextLoader`를 사용하여 문서를 로드 합니다.\n",
        "\n",
        "`CharacterTextSplitter`를 사용하여 텍스트를 분할합니다.\n",
        "\n",
        "분할된 문서를 `FAISS`에 임베딩합니다."
      ],
      "metadata": {
        "id": "8Dnfk0ms1I3p"
      }
    },
    {
      "cell_type": "code",
      "source": [
        "from langchain_community.document_loaders import TextLoader\n",
        "from langchain_openai import OpenAIEmbeddings\n",
        "from langchain_text_splitters import CharacterTextSplitter\n",
        "from langchain_community.vectorstores import FAISS\n",
        "\n",
        "# Load the document, split it into chunks, embed each chunk and load it into the vector store.\n",
        "raw_documents = TextLoader('/content/state_of_the_union.txt').load()\n",
        "text_splitter = CharacterTextSplitter(chunk_size=1000, chunk_overlap=0)\n",
        "documents = text_splitter.split_documents(raw_documents)\n",
        "db = FAISS.from_documents(documents, OpenAIEmbeddings())"
      ],
      "metadata": {
        "id": "0UnuM0UoZgy-"
      },
      "execution_count": null,
      "outputs": []
    },
    {
      "cell_type": "markdown",
      "source": [
        "# Similarity search"
      ],
      "metadata": {
        "id": "hcNJydVvZeRK"
      }
    },
    {
      "cell_type": "markdown",
      "source": [
        "비정형 쿼리를 임베딩하고 임베딩 쿼리와 '가장 유사한' 임베딩 벡터를 검색합니다."
      ],
      "metadata": {
        "id": "l3wC1DY32fKh"
      }
    },
    {
      "cell_type": "code",
      "source": [
        "query = \"What did the president say about Ketanji Brown Jackson\"\n",
        "docs = db.similarity_search(query)\n",
        "print(docs[0].page_content)"
      ],
      "metadata": {
        "colab": {
          "base_uri": "https://localhost:8080/"
        },
        "id": "o1DFrDcUbWqw",
        "outputId": "74881118-da68-4760-cb1d-99e26439a2cf"
      },
      "execution_count": null,
      "outputs": [
        {
          "output_type": "stream",
          "name": "stdout",
          "text": [
            "Tonight. I call on the Senate to: Pass the Freedom to Vote Act. Pass the John Lewis Voting Rights Act. And while you’re at it, pass the Disclose Act so Americans can know who is funding our elections. \n",
            "\n",
            "Tonight, I’d like to honor someone who has dedicated his life to serve this country: Justice Stephen Breyer—an Army veteran, Constitutional scholar, and retiring Justice of the United States Supreme Court. Justice Breyer, thank you for your service. \n",
            "\n",
            "One of the most serious constitutional responsibilities a President has is nominating someone to serve on the United States Supreme Court. \n",
            "\n",
            "And I did that 4 days ago, when I nominated Circuit Court of Appeals Judge Ketanji Brown Jackson. One of our nation’s top legal minds, who will continue Justice Breyer’s legacy of excellence.\n"
          ]
        }
      ]
    },
    {
      "cell_type": "markdown",
      "source": [
        "# Similarity search by vector"
      ],
      "metadata": {
        "id": "154JZck6bm7B"
      }
    },
    {
      "cell_type": "markdown",
      "source": [
        "문자열 대신 임베딩 벡터를 파라미터로 받아들이는 `similarity_search_by_vector`를 사용하여\n",
        "\n",
        "주어진 임베딩 벡터와 유사한 문서를 검색할 수 있습니다."
      ],
      "metadata": {
        "id": "xtsRdoW81xBF"
      }
    },
    {
      "cell_type": "code",
      "source": [
        "embedding_vector = OpenAIEmbeddings().embed_query(query)\n",
        "docs = db.similarity_search_by_vector(embedding_vector)\n",
        "print(docs[0].page_content)"
      ],
      "metadata": {
        "colab": {
          "base_uri": "https://localhost:8080/"
        },
        "id": "MShCkENHbYxz",
        "outputId": "1632f556-b589-4bb1-c6c4-9837823aca1f"
      },
      "execution_count": null,
      "outputs": [
        {
          "output_type": "stream",
          "name": "stdout",
          "text": [
            "Tonight. I call on the Senate to: Pass the Freedom to Vote Act. Pass the John Lewis Voting Rights Act. And while you’re at it, pass the Disclose Act so Americans can know who is funding our elections. \n",
            "\n",
            "Tonight, I’d like to honor someone who has dedicated his life to serve this country: Justice Stephen Breyer—an Army veteran, Constitutional scholar, and retiring Justice of the United States Supreme Court. Justice Breyer, thank you for your service. \n",
            "\n",
            "One of the most serious constitutional responsibilities a President has is nominating someone to serve on the United States Supreme Court. \n",
            "\n",
            "And I did that 4 days ago, when I nominated Circuit Court of Appeals Judge Ketanji Brown Jackson. One of our nation’s top legal minds, who will continue Justice Breyer’s legacy of excellence.\n"
          ]
        }
      ]
    },
    {
      "cell_type": "markdown",
      "source": [
        "# Vectara"
      ],
      "metadata": {
        "id": "sild_G3jcqU0"
      }
    },
    {
      "cell_type": "markdown",
      "source": [
        "`Vectara`는 신뢰할 수 있는 GenAI 플랫폼으로 문서 인덱싱 및 쿼리를 위한 사용하기 쉬운 API를 제공합니다."
      ],
      "metadata": {
        "id": "aW3kZAR13Ube"
      }
    },
    {
      "cell_type": "markdown",
      "source": [
        "## Vectara Setup"
      ],
      "metadata": {
        "id": "ZFge2IA63fXg"
      }
    },
    {
      "cell_type": "markdown",
      "source": [
        "환경에 `VECTARA_Customer_ID`, `VECTARA_CORPUS_ID` 및 `VECTARA_API_KEY` 세 가지 변수를 포함합니다."
      ],
      "metadata": {
        "id": "8lQTr6eA33aD"
      }
    },
    {
      "cell_type": "code",
      "source": [
        "os.environ[\"VECTARA_CUSTOMER_ID\"] = \"YOUR_VECTARA_CUSTOMER_ID\"\n",
        "os.environ[\"VECTARA_CORPUS_ID\"] = \"YOUR_VECTARA_CORPUS_ID\"\n",
        "os.environ[\"VECTARA_API_KEY\"] = \"YOUR_VECTARA_API_KEY\""
      ],
      "metadata": {
        "id": "H7ANUh6Wcp-3"
      },
      "execution_count": null,
      "outputs": []
    },
    {
      "cell_type": "markdown",
      "source": [
        "Vectara 벡터 저장소 생성자에 추가합니다."
      ],
      "metadata": {
        "id": "4AWtUTy94Ahe"
      }
    },
    {
      "cell_type": "code",
      "source": [
        "from langchain.vectorstores import Vectara\n",
        "\n",
        "vectara = Vectara(\n",
        "      vectara_customer_id = os.getenv(\"VECTARA_CUSTOMER_ID\")\n",
        "    , vectara_corpus_id   = os.getenv(\"VECTARA_CORPUS_ID\")\n",
        "    , vectara_api_key     = os.getenv(\"VECTARA_API_KEY\")\n",
        ")"
      ],
      "metadata": {
        "id": "ehmfAsPFdvt8"
      },
      "execution_count": null,
      "outputs": []
    },
    {
      "cell_type": "markdown",
      "source": [
        "## Connecting to Vectara from LangChain"
      ],
      "metadata": {
        "id": "BwwE3kLJ3kAV"
      }
    },
    {
      "cell_type": "code",
      "source": [
        "from langchain_community.document_loaders import TextLoader\n",
        "from langchain_community.embeddings.fake import FakeEmbeddings\n",
        "from langchain_community.vectorstores import Vectara\n",
        "from langchain_text_splitters import CharacterTextSplitter"
      ],
      "metadata": {
        "id": "EO0EejoAeIvb"
      },
      "execution_count": 5,
      "outputs": []
    },
    {
      "cell_type": "code",
      "source": [
        "loader = TextLoader(\"/content/drive/MyDrive/Langchain/example data/state_of_the_union.txt\")\n",
        "documents = loader.load()\n",
        "text_splitter = CharacterTextSplitter(chunk_size=1000, chunk_overlap=0)\n",
        "docs = text_splitter.split_documents(documents)"
      ],
      "metadata": {
        "id": "lFP5hf8SeMpD"
      },
      "execution_count": 7,
      "outputs": []
    },
    {
      "cell_type": "code",
      "source": [
        "docs[0]"
      ],
      "metadata": {
        "colab": {
          "base_uri": "https://localhost:8080/"
        },
        "id": "QwTABeETjCdE",
        "outputId": "2b6a5afd-aad7-4458-dad6-97743720907e"
      },
      "execution_count": 8,
      "outputs": [
        {
          "output_type": "execute_result",
          "data": {
            "text/plain": [
              "Document(page_content='Madam Speaker, Madam Vice President, our First Lady and Second Gentleman. Members of Congress and the Cabinet. Justices of the Supreme Court. My fellow Americans.  \\n\\nLast year COVID-19 kept us apart. This year we are finally together again. \\n\\nTonight, we meet as Democrats Republicans and Independents. But most importantly as Americans. \\n\\nWith a duty to one another to the American people to the Constitution. \\n\\nAnd with an unwavering resolve that freedom will always triumph over tyranny. \\n\\nSix days ago, Russia’s Vladimir Putin sought to shake the foundations of the free world thinking he could make it bend to his menacing ways. But he badly miscalculated. \\n\\nHe thought he could roll into Ukraine and the world would roll over. Instead he met a wall of strength he never imagined. \\n\\nHe met the Ukrainian people. \\n\\nFrom President Zelenskyy to every Ukrainian, their fearlessness, their courage, their determination, inspires the world.', metadata={'source': '/content/drive/MyDrive/Langchain/example data/state_of_the_union.txt'})"
            ]
          },
          "metadata": {},
          "execution_count": 8
        }
      ]
    },
    {
      "cell_type": "code",
      "source": [
        "vectara = Vectara.from_documents(\n",
        "    docs,\n",
        "    embedding=FakeEmbeddings(size=768),\n",
        "    doc_metadata={\"speech\": \"state-of-the-union\"},\n",
        ")"
      ],
      "metadata": {
        "id": "mZeGwzdxeXMC"
      },
      "execution_count": null,
      "outputs": []
    },
    {
      "cell_type": "markdown",
      "source": [
        "## Similarity search(Vectara)"
      ],
      "metadata": {
        "id": "sZeldyKtetq2"
      }
    },
    {
      "cell_type": "markdown",
      "source": [
        "`Vectara`를 사용하는 가장 간단한 시나리오는 유사성 검색을 수행하는 것입니다."
      ],
      "metadata": {
        "id": "JbHsZwy04QEG"
      }
    },
    {
      "cell_type": "code",
      "source": [
        "query = \"What did the president say about Ketanji Brown Jackson\"\n",
        "found_docs = vectara.similarity_search(\n",
        "    query, n_sentence_context=0, filter=\"doc.speech = 'state-of-the-union'\"\n",
        ")"
      ],
      "metadata": {
        "id": "8Nyy8AIJewyb"
      },
      "execution_count": null,
      "outputs": []
    },
    {
      "cell_type": "code",
      "source": [
        "found_docs"
      ],
      "metadata": {
        "colab": {
          "base_uri": "https://localhost:8080/"
        },
        "id": "POOoCrbwe3G6",
        "outputId": "bab1e64b-fa9d-4dd8-9169-177d1d132542"
      },
      "execution_count": null,
      "outputs": [
        {
          "output_type": "execute_result",
          "data": {
            "text/plain": [
              "[Document(page_content='And I did that 4 days ago, when I nominated Circuit Court of Appeals Judge Ketanji Brown Jackson.', metadata={'source': 'langchain', 'lang': 'eng', 'offset': '596', 'len': '97', 'speech': 'state-of-the-union'}),\n",
              " Document(page_content='In this struggle as President Zelenskyy said in his speech to the European Parliament “Light will win over darkness.”', metadata={'source': 'langchain', 'lang': 'eng', 'offset': '141', 'len': '117', 'speech': 'state-of-the-union'}),\n",
              " Document(page_content='As Ohio Senator Sherrod Brown says, “It’s time to bury the label “Rust Belt.”', metadata={'source': 'langchain', 'lang': 'eng', 'offset': '0', 'len': '77', 'speech': 'state-of-the-union'}),\n",
              " Document(page_content='Last month, I announced our plan to supercharge  \\nthe Cancer Moonshot that President Obama asked me to lead six years ago.', metadata={'source': 'langchain', 'lang': 'eng', 'offset': '0', 'len': '122', 'speech': 'state-of-the-union'}),\n",
              " Document(page_content='He thought he could roll into Ukraine and the world would roll over.', metadata={'source': 'langchain', 'lang': 'eng', 'offset': '664', 'len': '68', 'speech': 'state-of-the-union'}),\n",
              " Document(page_content='That’s why one of the first things I did as President was fight to pass the American Rescue Plan.', metadata={'source': 'langchain', 'lang': 'eng', 'offset': '314', 'len': '97', 'speech': 'state-of-the-union'}),\n",
              " Document(page_content='And he thought he could divide us at home.', metadata={'source': 'langchain', 'lang': 'eng', 'offset': '160', 'len': '42', 'speech': 'state-of-the-union'}),\n",
              " Document(page_content='He met the Ukrainian people.', metadata={'source': 'langchain', 'lang': 'eng', 'offset': '788', 'len': '28', 'speech': 'state-of-the-union'}),\n",
              " Document(page_content='He thought the West and NATO wouldn’t respond.', metadata={'source': 'langchain', 'lang': 'eng', 'offset': '113', 'len': '46', 'speech': 'state-of-the-union'}),\n",
              " Document(page_content='In this Capitol, generation after generation, Americans have debated great questions amid great strife, and have done great things.', metadata={'source': 'langchain', 'lang': 'eng', 'offset': '772', 'len': '131', 'speech': 'state-of-the-union'})]"
            ]
          },
          "metadata": {},
          "execution_count": 16
        }
      ]
    },
    {
      "cell_type": "code",
      "source": [
        "print(found_docs[0].page_content)"
      ],
      "metadata": {
        "colab": {
          "base_uri": "https://localhost:8080/"
        },
        "id": "HuJWZteYfRfZ",
        "outputId": "6d3cec33-f267-4d3c-a169-f3f0d2a2bb72"
      },
      "execution_count": null,
      "outputs": [
        {
          "output_type": "stream",
          "name": "stdout",
          "text": [
            "And I did that 4 days ago, when I nominated Circuit Court of Appeals Judge Ketanji Brown Jackson.\n"
          ]
        }
      ]
    },
    {
      "cell_type": "markdown",
      "source": [
        "## Similarity search with score"
      ],
      "metadata": {
        "id": "aPJIQ6Zmp28y"
      }
    },
    {
      "cell_type": "markdown",
      "source": [
        "검색을 수행하고 특정 결과가 얼마나 좋은지 알아보기 위해 관련성 점수를 얻을 수 있습니다."
      ],
      "metadata": {
        "id": "EFhdHK924WtK"
      }
    },
    {
      "cell_type": "code",
      "source": [
        "query = \"What did the president say about Ketanji Brown Jackson\"\n",
        "found_docs = vectara.similarity_search_with_score(\n",
        "    query,\n",
        "    filter=\"doc.speech = 'state-of-the-union'\",\n",
        "    score_threshold=0.2,\n",
        ")"
      ],
      "metadata": {
        "id": "p2tpKz5KpziT"
      },
      "execution_count": null,
      "outputs": []
    },
    {
      "cell_type": "code",
      "source": [
        "document, score = found_docs[0]\n",
        "print(document.page_content)\n",
        "print(f\"\\nScore: {score}\")"
      ],
      "metadata": {
        "colab": {
          "base_uri": "https://localhost:8080/"
        },
        "id": "71zT3CXTp_qy",
        "outputId": "ded7c9eb-dec3-466d-b6c4-ef9f49de4b27"
      },
      "execution_count": null,
      "outputs": [
        {
          "output_type": "stream",
          "name": "stdout",
          "text": [
            "Justice Breyer, thank you for your service. One of the most serious constitutional responsibilities a President has is nominating someone to serve on the United States Supreme Court. And I did that 4 days ago, when I nominated Circuit Court of Appeals Judge Ketanji Brown Jackson. One of our nation’s top legal minds, who will continue Justice Breyer’s legacy of excellence. A former top litigator in private practice.\n",
            "\n",
            "Score: 0.74179757\n"
          ]
        }
      ]
    },
    {
      "cell_type": "code",
      "source": [
        "query = \"We must forever conduct our struggle\"\n",
        "min_score = 1.2\n",
        "found_docs = vectara.similarity_search_with_score(\n",
        "    query,\n",
        "    filter=\"doc.speech = 'I-have-a-dream'\",\n",
        "    score_threshold=min_score,\n",
        ")\n",
        "print(f\"With this threshold of {min_score} we have {len(found_docs)} documents\")"
      ],
      "metadata": {
        "colab": {
          "base_uri": "https://localhost:8080/"
        },
        "id": "OW8w5QUmqCgn",
        "outputId": "997f3cbc-3331-4fc7-d5b2-678a42b7eaf0"
      },
      "execution_count": null,
      "outputs": [
        {
          "output_type": "stream",
          "name": "stdout",
          "text": [
            "With this threshold of 1.2 we have 0 documents\n"
          ]
        }
      ]
    },
    {
      "cell_type": "code",
      "source": [
        "query = \"We must forever conduct our struggle\"\n",
        "min_score = 0.2\n",
        "found_docs = vectara.similarity_search_with_score(\n",
        "    query,\n",
        "    filter=\"doc.speech = 'I-have-a-dream'\",\n",
        "    score_threshold=min_score,\n",
        ")\n",
        "print(f\"With this threshold of {min_score} we have {len(found_docs)} documents\")"
      ],
      "metadata": {
        "colab": {
          "base_uri": "https://localhost:8080/"
        },
        "id": "nOiHzjCQqIQP",
        "outputId": "7514ffeb-f40c-4862-d739-6656387fc0ab"
      },
      "execution_count": null,
      "outputs": [
        {
          "output_type": "stream",
          "name": "stdout",
          "text": [
            "With this threshold of 0.2 we have 0 documents\n"
          ]
        }
      ]
    },
    {
      "cell_type": "code",
      "source": [
        "# MMR\n",
        "# 결과의 다양성을 향상시키기 위해 GenAI 애플리케이션에 공급되는 검색 결과의 순위가 다시 매겨짐\n",
        "# diversity_bias : 0.0\n",
        "\n",
        "query = \"state of the economy\"\n",
        "found_docs = vectara.similarity_search(\n",
        "    query,\n",
        "    n_sentence_context=0,\n",
        "    filter=\"doc.speech = 'state-of-the-union'\",\n",
        "    k=5,\n",
        "    mmr_config={\"is_enabled\": True, \"mmr_k\": 50, \"diversity_bias\": 0.0},\n",
        ")\n",
        "print(\"\\n\\n\".join([x.page_content for x in found_docs]))"
      ],
      "metadata": {
        "colab": {
          "base_uri": "https://localhost:8080/"
        },
        "id": "08ArEFaGqLDX",
        "outputId": "0bf414ae-dd42-4711-dabf-bdeb9e2a8c93"
      },
      "execution_count": null,
      "outputs": [
        {
          "output_type": "stream",
          "name": "stdout",
          "text": [
            "Economic assistance.\n",
            "\n",
            "Grow the workforce. Build the economy from the bottom up  \n",
            "and the middle out, not from the top down.\n",
            "\n",
            "When we invest in our workers, when we build the economy from the bottom up and the middle out together, we can do something we haven’t done in a long time: build a better America.\n",
            "\n",
            "Our economy grew at a rate of 5.7% last year, the strongest growth in nearly 40 years, the first step in bringing fundamental change to an economy that hasn’t worked for the working people of this nation for too long.\n",
            "\n",
            "Economists call it “increasing the productive capacity of our economy.”\n"
          ]
        }
      ]
    },
    {
      "cell_type": "code",
      "source": [
        "# diversity_bias : 1.0\n",
        "\n",
        "query = \"state of the economy\"\n",
        "found_docs = vectara.similarity_search(\n",
        "    query,\n",
        "    n_sentence_context=0,\n",
        "    filter=\"doc.speech = 'state-of-the-union'\",\n",
        "    k=5,\n",
        "    mmr_config={\"is_enabled\": True, \"mmr_k\": 50, \"diversity_bias\": 1.0},\n",
        ")\n",
        "print(\"\\n\\n\".join([x.page_content for x in found_docs]))"
      ],
      "metadata": {
        "colab": {
          "base_uri": "https://localhost:8080/"
        },
        "id": "E95JDmi-qnBM",
        "outputId": "79d4ae81-90a2-462f-ff5d-738d8bf72dc1"
      },
      "execution_count": null,
      "outputs": [
        {
          "output_type": "stream",
          "name": "stdout",
          "text": [
            "Economic assistance.\n",
            "\n",
            "The Russian stock market has lost 40% of its value and trading remains suspended.\n",
            "\n",
            "But that trickle-down theory led to weaker economic growth, lower wages, bigger deficits, and the widest gap between those at the top and everyone else in nearly a century.\n",
            "\n",
            "In state after state, new laws have been passed, not only to suppress the vote, but to subvert entire elections.\n",
            "\n",
            "The federal government spends about $600 Billion a year to keep the country safe and secure.\n"
          ]
        }
      ]
    },
    {
      "cell_type": "markdown",
      "source": [
        "## Vectara as a Retriever"
      ],
      "metadata": {
        "id": "RqHc7LBnr13p"
      }
    },
    {
      "cell_type": "markdown",
      "source": [
        "`as_retriever()` 함수를 통해 Retriever로 반환할 수 있습니다."
      ],
      "metadata": {
        "id": "aiEO_m0c4jVO"
      }
    },
    {
      "cell_type": "code",
      "source": [
        "retriever = vectara.as_retriever()"
      ],
      "metadata": {
        "id": "7SbJCI7ZrvYd"
      },
      "execution_count": null,
      "outputs": []
    },
    {
      "cell_type": "code",
      "source": [
        "retriever"
      ],
      "metadata": {
        "colab": {
          "base_uri": "https://localhost:8080/"
        },
        "id": "Turtpd1gr7_M",
        "outputId": "50614e12-94a2-4817-d2ab-8974d00b6ead"
      },
      "execution_count": null,
      "outputs": [
        {
          "output_type": "execute_result",
          "data": {
            "text/plain": [
              "VectorStoreRetriever(tags=['Vectara'], vectorstore=<langchain_community.vectorstores.vectara.Vectara object at 0x7a90c11a2b30>)"
            ]
          },
          "metadata": {},
          "execution_count": 25
        }
      ]
    },
    {
      "cell_type": "code",
      "source": [
        "query = \"What did the president say about Ketanji Brown Jackson\"\n",
        "retriever.get_relevant_documents(query)[0]"
      ],
      "metadata": {
        "colab": {
          "base_uri": "https://localhost:8080/"
        },
        "id": "CLU-sY0Cr8ff",
        "outputId": "78553087-5498-4806-9f9e-60c13ca8f295"
      },
      "execution_count": null,
      "outputs": [
        {
          "output_type": "execute_result",
          "data": {
            "text/plain": [
              "Document(page_content='Justice Breyer, thank you for your service. One of the most serious constitutional responsibilities a President has is nominating someone to serve on the United States Supreme Court. And I did that 4 days ago, when I nominated Circuit Court of Appeals Judge Ketanji Brown Jackson. One of our nation’s top legal minds, who will continue Justice Breyer’s legacy of excellence. A former top litigator in private practice.', metadata={'source': 'langchain', 'lang': 'eng', 'offset': '596', 'len': '97', 'speech': 'state-of-the-union'})"
            ]
          },
          "metadata": {},
          "execution_count": 26
        }
      ]
    }
  ]
}
