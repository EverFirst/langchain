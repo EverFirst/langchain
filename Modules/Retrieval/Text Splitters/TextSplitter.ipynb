{
  "cells": [
    {
      "cell_type": "markdown",
      "id": "9fa23b62",
      "metadata": {
        "id": "9fa23b62"
      },
      "source": [
        "# Splitter"
      ]
    },
    {
      "cell_type": "code",
      "execution_count": 150,
      "id": "354b1e04",
      "metadata": {
        "id": "354b1e04"
      },
      "outputs": [],
      "source": [
        "!pip install -qU langchain langchain-openai langchain_community langchain_experimental langchain-text-splitters tiktoken"
      ]
    },
    {
      "cell_type": "code",
      "source": [
        "import os\n",
        "\n",
        "os.environ[\"OPENAI_API_KEY\"] = 'sk-***********************************************'"
      ],
      "metadata": {
        "id": "8U_lhAypNH9G"
      },
      "id": "8U_lhAypNH9G",
      "execution_count": 7,
      "outputs": []
    },
    {
      "cell_type": "markdown",
      "source": [
        "## CharacterTextSplitter"
      ],
      "metadata": {
        "id": "qGP4LnO6kSHN"
      },
      "id": "qGP4LnO6kSHN"
    },
    {
      "cell_type": "code",
      "source": [
        "with open(\"/content/appendix-keywords.txt\") as f:\n",
        "    file = f.read()"
      ],
      "metadata": {
        "id": "X4rH1amcQCEw"
      },
      "id": "X4rH1amcQCEw",
      "execution_count": 136,
      "outputs": []
    },
    {
      "cell_type": "code",
      "source": [
        "print(file[:300])"
      ],
      "metadata": {
        "colab": {
          "base_uri": "https://localhost:8080/"
        },
        "id": "T40PysHVQfaH",
        "outputId": "1b3c65a6-a528-489c-dd33-6a66803144c7"
      },
      "id": "T40PysHVQfaH",
      "execution_count": 139,
      "outputs": [
        {
          "output_type": "stream",
          "name": "stdout",
          "text": [
            "Semantic Search\n",
            "\n",
            "정의: 의미론적 검색은 사용자의 질의를 단순한 키워드 매칭을 넘어서 그 의미를 파악하여 관련된 결과를 반환하는 검색 방식입니다.\n",
            "예시: 사용자가 \"태양계 행성\"이라고 검색하면, \"목성\", \"화성\" 등과 같이 관련된 행성에 대한 정보를 반환합니다.\n",
            "연관키워드: 자연어 처리, 검색 알고리즘, 데이터 마이닝\n",
            "\n",
            "Embedding\n",
            "\n",
            "정의: 임베딩은 단어나 문장 같은 텍스트 데이터를 저차원의 연속적인 벡터로 변환하는 과정입니다. 이를 통해 컴퓨터가 텍스트를 이해하고 처리할 수 있게 합니다.\n",
            "예시: \"사과\"라는 단\n"
          ]
        }
      ]
    },
    {
      "cell_type": "code",
      "source": [
        "from langchain_text_splitters import CharacterTextSplitter\n",
        "\n",
        "text_splitter = CharacterTextSplitter(\n",
        "     # Specify the delimiter to use when splitting text. The default is \"\\n\\n\".\n",
        "     # separator=\" \",\n",
        "     # Specifies the maximum size of split text chunks.\n",
        "     chunk_size=250,\n",
        "     # Specifies the number of overlapping characters between split text chunks.\n",
        "     chunk_overlap=50,\n",
        "     # Specify a function to calculate the length of text.\n",
        "     length_function=len,\n",
        "     # Specifies whether the separator is a regular expression.\n",
        "     is_separator_regex=False,\n",
        ")"
      ],
      "metadata": {
        "id": "0F6YtNxXQmOf"
      },
      "id": "0F6YtNxXQmOf",
      "execution_count": 141,
      "outputs": []
    },
    {
      "cell_type": "code",
      "source": [
        "texts = text_splitter.create_documents([file])"
      ],
      "metadata": {
        "id": "t_ya0XeEQ6Fv"
      },
      "id": "t_ya0XeEQ6Fv",
      "execution_count": 142,
      "outputs": []
    },
    {
      "cell_type": "code",
      "source": [
        "len(texts)"
      ],
      "metadata": {
        "colab": {
          "base_uri": "https://localhost:8080/"
        },
        "id": "YGXxTX_uQ8s3",
        "outputId": "1e82a690-0513-412e-d3b8-a915600fbcfb"
      },
      "id": "YGXxTX_uQ8s3",
      "execution_count": 143,
      "outputs": [
        {
          "output_type": "execute_result",
          "data": {
            "text/plain": [
              "30"
            ]
          },
          "metadata": {},
          "execution_count": 143
        }
      ]
    },
    {
      "cell_type": "code",
      "source": [
        "texts[0]"
      ],
      "metadata": {
        "colab": {
          "base_uri": "https://localhost:8080/"
        },
        "id": "qjdVmx_5Q_BG",
        "outputId": "58fd666e-2733-4cd9-c34b-5679d3fcac41"
      },
      "id": "qjdVmx_5Q_BG",
      "execution_count": 144,
      "outputs": [
        {
          "output_type": "execute_result",
          "data": {
            "text/plain": [
              "Document(page_content='Semantic Search\\n\\n정의: 의미론적 검색은 사용자의 질의를 단순한 키워드 매칭을 넘어서 그 의미를 파악하여 관련된 결과를 반환하는 검색 방식입니다.\\n예시: 사용자가 \"태양계 행성\"이라고 검색하면, \"목성\", \"화성\" 등과 같이 관련된 행성에 대한 정보를 반환합니다.\\n연관키워드: 자연어 처리, 검색 알고리즘, 데이터 마이닝\\n\\nEmbedding')"
            ]
          },
          "metadata": {},
          "execution_count": 144
        }
      ]
    },
    {
      "cell_type": "markdown",
      "source": [
        "## RecursiveCharacterTextSplitter"
      ],
      "metadata": {
        "id": "tXY97yRnRMdH"
      },
      "id": "tXY97yRnRMdH"
    },
    {
      "cell_type": "code",
      "source": [
        "from langchain_text_splitters import RecursiveCharacterTextSplitter"
      ],
      "metadata": {
        "id": "MaSjdJ9TRQpW"
      },
      "id": "MaSjdJ9TRQpW",
      "execution_count": 145,
      "outputs": []
    },
    {
      "cell_type": "code",
      "source": [
        "text_splitter = RecursiveCharacterTextSplitter(\n",
        "     # Set the chunk size to be very small. This setting is for example purposes only.\n",
        "     chunk_size=250,\n",
        "     # Set the number of overlapping characters between chunks.\n",
        "     chunk_overlap=50,\n",
        "     # Specify a function to calculate the string length.\n",
        "     length_function=len,\n",
        "     # Set whether to use regular expressions as delimiters.\n",
        "     is_separator_regex=False,\n",
        ")"
      ],
      "metadata": {
        "id": "WT4EWlxGRUzX"
      },
      "id": "WT4EWlxGRUzX",
      "execution_count": 146,
      "outputs": []
    },
    {
      "cell_type": "code",
      "source": [
        "texts = text_splitter.create_documents([file])"
      ],
      "metadata": {
        "id": "xmVucFhdRdQQ"
      },
      "id": "xmVucFhdRdQQ",
      "execution_count": 147,
      "outputs": []
    },
    {
      "cell_type": "code",
      "source": [
        "len(texts)"
      ],
      "metadata": {
        "colab": {
          "base_uri": "https://localhost:8080/"
        },
        "id": "maC1tL2QReof",
        "outputId": "c818b5a6-67f3-468c-dc01-6a533946fbed"
      },
      "id": "maC1tL2QReof",
      "execution_count": 148,
      "outputs": [
        {
          "output_type": "execute_result",
          "data": {
            "text/plain": [
              "30"
            ]
          },
          "metadata": {},
          "execution_count": 148
        }
      ]
    },
    {
      "cell_type": "code",
      "source": [
        "texts[0]"
      ],
      "metadata": {
        "colab": {
          "base_uri": "https://localhost:8080/"
        },
        "id": "RWwHXxyvRi1n",
        "outputId": "4aae5851-d707-4bdf-fbf8-36a7cca5a703"
      },
      "id": "RWwHXxyvRi1n",
      "execution_count": 149,
      "outputs": [
        {
          "output_type": "execute_result",
          "data": {
            "text/plain": [
              "Document(page_content='Semantic Search\\n\\n정의: 의미론적 검색은 사용자의 질의를 단순한 키워드 매칭을 넘어서 그 의미를 파악하여 관련된 결과를 반환하는 검색 방식입니다.\\n예시: 사용자가 \"태양계 행성\"이라고 검색하면, \"목성\", \"화성\" 등과 같이 관련된 행성에 대한 정보를 반환합니다.\\n연관키워드: 자연어 처리, 검색 알고리즘, 데이터 마이닝\\n\\nEmbedding')"
            ]
          },
          "metadata": {},
          "execution_count": 149
        }
      ]
    },
    {
      "cell_type": "markdown",
      "source": [
        "## TokenTextSplitter"
      ],
      "metadata": {
        "id": "om4Ia_HXSGTu"
      },
      "id": "om4Ia_HXSGTu"
    },
    {
      "cell_type": "markdown",
      "source": [
        "### Tiktoken"
      ],
      "metadata": {
        "id": "Re98qjVWShv2"
      },
      "id": "Re98qjVWShv2"
    },
    {
      "cell_type": "code",
      "source": [
        "from langchain_text_splitters import CharacterTextSplitter\n",
        "\n",
        "text_splitter = CharacterTextSplitter.from_tiktoken_encoder(\n",
        "     # Set chunk size to 300.\n",
        "     chunk_size=500,\n",
        "     # Set so that there is no overlap between chunks.\n",
        "     chunk_overlap=0,\n",
        ")\n",
        "# split the file text into chunks.\n",
        "texts = text_splitter.split_text(file)"
      ],
      "metadata": {
        "id": "ddnf3m3ySj52"
      },
      "id": "ddnf3m3ySj52",
      "execution_count": 152,
      "outputs": []
    },
    {
      "cell_type": "code",
      "source": [
        "len(texts)"
      ],
      "metadata": {
        "colab": {
          "base_uri": "https://localhost:8080/"
        },
        "id": "6OKJC5a9S6au",
        "outputId": "45b8a1ce-37c0-4fb3-c3ff-bd418b478d47"
      },
      "id": "6OKJC5a9S6au",
      "execution_count": 155,
      "outputs": [
        {
          "output_type": "execute_result",
          "data": {
            "text/plain": [
              "30"
            ]
          },
          "metadata": {},
          "execution_count": 155
        }
      ]
    },
    {
      "cell_type": "code",
      "source": [
        "texts[0]"
      ],
      "metadata": {
        "colab": {
          "base_uri": "https://localhost:8080/",
          "height": 54
        },
        "id": "xAXCF--nSuwm",
        "outputId": "da2992b7-2fab-4f30-9db5-223c9489c0c4"
      },
      "id": "xAXCF--nSuwm",
      "execution_count": 154,
      "outputs": [
        {
          "output_type": "execute_result",
          "data": {
            "text/plain": [
              "'Semantic Search\\n\\n정의: 의미론적 검색은 사용자의 질의를 단순한 키워드 매칭을 넘어서 그 의미를 파악하여 관련된 결과를 반환하는 검색 방식입니다.\\n예시: 사용자가 \"태양계 행성\"이라고 검색하면, \"목성\", \"화성\" 등과 같이 관련된 행성에 대한 정보를 반환합니다.\\n연관키워드: 자연어 처리, 검색 알고리즘, 데이터 마이닝\\n\\nEmbedding'"
            ],
            "application/vnd.google.colaboratory.intrinsic+json": {
              "type": "string"
            }
          },
          "metadata": {},
          "execution_count": 154
        }
      ]
    },
    {
      "cell_type": "markdown",
      "source": [
        "### TokenTextSplitter"
      ],
      "metadata": {
        "id": "vLhbIX51TEQ1"
      },
      "id": "vLhbIX51TEQ1"
    },
    {
      "cell_type": "code",
      "source": [
        "from langchain_text_splitters import TokenTextSplitter\n",
        "\n",
        "text_splitter = TokenTextSplitter(\n",
        "     chunk_size=500, # Set chunk size to 10.\n",
        "     chunk_overlap=0, # Set overlap between chunks to 0.\n",
        ")\n",
        "\n",
        "# state_of_the_union Split the text into chunks.\n",
        "texts = text_splitter.split_text(file)\n",
        "print(texts[0]) # Print the first chunk of segmented text"
      ],
      "metadata": {
        "colab": {
          "base_uri": "https://localhost:8080/"
        },
        "id": "OL_XGS67TFbW",
        "outputId": "ce20ad0d-e46b-4ba0-ceb7-61ae9696476a"
      },
      "id": "OL_XGS67TFbW",
      "execution_count": 157,
      "outputs": [
        {
          "output_type": "stream",
          "name": "stdout",
          "text": [
            "Semantic Search\n",
            "\n",
            "정의: 의미론적 검색은 사용자의 질의를 단순한 키워드 매칭을 넘어서 그 의미를 파악하여 관련된 결과를 반환하는 검색 방식입니다.\n",
            "예시: 사용자가 \"태양계 행성\"이라고 검색하면, \"목성\", \"화성\" 등과 같이 관련된 행성에 대한 정보를 반환합니다.\n",
            "연관키워드: 자연어 처리, 검색 알고리즘, 데이터 마이닝\n",
            "\n",
            "Embedding\n",
            "\n",
            "정의: 임베딩은 단어나 문장 같은 텍스트 데이터를 저차원의 연속적인 벡터로 변환하는 과정입니다. 이를 통해 �\n"
          ]
        }
      ]
    },
    {
      "cell_type": "markdown",
      "source": [
        "### spaCy"
      ],
      "metadata": {
        "id": "UPHBoKEkUDQ0"
      },
      "id": "UPHBoKEkUDQ0"
    },
    {
      "cell_type": "markdown",
      "source": [
        "### SentenceTransformers"
      ],
      "metadata": {
        "id": "2YmDfatCUHY8"
      },
      "id": "2YmDfatCUHY8"
    },
    {
      "cell_type": "markdown",
      "source": [
        "### NLTK"
      ],
      "metadata": {
        "id": "pwONAn71UHdl"
      },
      "id": "pwONAn71UHdl"
    },
    {
      "cell_type": "markdown",
      "source": [
        "### KoNLPy"
      ],
      "metadata": {
        "id": "GHWVa6YgUHmE"
      },
      "id": "GHWVa6YgUHmE"
    },
    {
      "cell_type": "markdown",
      "source": [
        "### Hugging Face tokenizer"
      ],
      "metadata": {
        "id": "Af9_OZ5xUH0U"
      },
      "id": "Af9_OZ5xUH0U"
    }
  ],
  "metadata": {
    "colab": {
      "provenance": []
    },
    "language_info": {
      "name": "python"
    },
    "kernelspec": {
      "name": "python3",
      "display_name": "Python 3"
    }
  },
  "nbformat": 4,
  "nbformat_minor": 5
}