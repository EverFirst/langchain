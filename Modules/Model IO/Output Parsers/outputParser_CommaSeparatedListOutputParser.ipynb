{
  "cells": [
    {
      "cell_type": "markdown",
      "metadata": {
        "id": "259M-8OXmQD7"
      },
      "source": [
        "# CSV parser"
      ]
    },
    {
      "cell_type": "markdown",
      "metadata": {},
      "source": [
        "#### 필수 라이브러리 다운로드"
      ]
    },
    {
      "cell_type": "code",
      "execution_count": 92,
      "metadata": {
        "id": "4Vahr4cWmPN6"
      },
      "outputs": [],
      "source": [
        "!pip install --upgrade --quiet langchain langchain-openai"
      ]
    },
    {
      "cell_type": "markdown",
      "metadata": {},
      "source": [
        "#### openai api key 등록"
      ]
    },
    {
      "cell_type": "code",
      "execution_count": 28,
      "metadata": {
        "id": "86kvSCFwnI2s"
      },
      "outputs": [],
      "source": [
        "import os\n",
        "os.environ[\"OPENAI_API_KEY\"]      = \"sk-*****************************************************\""
      ]
    },
    {
      "cell_type": "code",
      "execution_count": 113,
      "metadata": {
        "id": "g36Xe7W83Zo2"
      },
      "outputs": [],
      "source": [
        "#모델 생성\n",
        "model = ChatOpenAI(temperature=0)"
      ]
    },
    {
      "cell_type": "markdown",
      "metadata": {
        "id": "zSIDFiAD35eO"
      },
      "source": [
        "### example 1"
      ]
    },
    {
      "cell_type": "code",
      "execution_count": 126,
      "metadata": {
        "colab": {
          "base_uri": "https://localhost:8080/"
        },
        "id": "aSy11wjO3dBW",
        "outputId": "eb6ad05d-6c35-4332-dc53-bb5343e6e21b"
      },
      "outputs": [
        {
          "data": {
            "text/plain": [
              "['Vanilla',\n",
              " 'Chocolate',\n",
              " 'Strawberry',\n",
              " 'Mint Chocolate Chip',\n",
              " 'Cookies and Cream']"
            ]
          },
          "execution_count": 126,
          "metadata": {},
          "output_type": "execute_result"
        }
      ],
      "source": [
        "from langchain.output_parsers import CommaSeparatedListOutputParser\n",
        "from langchain.prompts import PromptTemplate\n",
        "from langchain_openai import ChatOpenAI\n",
        "\n",
        "#csv output parser 생성\n",
        "output_parser = CommaSeparatedListOutputParser()\n",
        "\n",
        "#output 포멧 설명 가져오기\n",
        "format_instructions = output_parser.get_format_instructions()\n",
        "\n",
        "#프롬프트에 output 포맷 지정 \n",
        "prompt = PromptTemplate(\n",
        "    template=\"List five {subject}.\\n{format_instructions}\",\n",
        "    input_variables=[\"subject\"],\n",
        "    partial_variables={\"format_instructions\": format_instructions},\n",
        ")\n",
        "\n",
        "model = ChatOpenAI(temperature=0)\n",
        "\n",
        "chain = prompt | model | output_parser"
      ]
    },
    {
      "cell_type": "code",
      "execution_count": 128,
      "metadata": {
        "colab": {
          "base_uri": "https://localhost:8080/"
        },
        "id": "ZS9bb7e4BStE",
        "outputId": "dc71ac8f-9149-4088-ee4b-4586fd74a467"
      },
      "outputs": [
        {
          "data": {
            "text/plain": [
              "['Vanilla',\n",
              " 'Chocolate',\n",
              " 'Strawberry',\n",
              " 'Mint Chocolate Chip',\n",
              " 'Cookies and Cream']"
            ]
          },
          "execution_count": 128,
          "metadata": {},
          "output_type": "execute_result"
        }
      ],
      "source": [
        "#테스트\n",
        "chain.invoke({\"subject\": \"ice cream flavors\"})"
      ]
    },
    {
      "cell_type": "code",
      "execution_count": 127,
      "metadata": {
        "colab": {
          "base_uri": "https://localhost:8080/"
        },
        "id": "GTAA3WeIBQeM",
        "outputId": "ca225b85-0726-4b39-9399-2f41be928744"
      },
      "outputs": [
        {
          "name": "stdout",
          "output_type": "stream",
          "text": [
            "['Vanilla']\n",
            "['Chocolate']\n",
            "['Strawberry']\n",
            "['Mint Chocolate Chip']\n",
            "['Cookies and Cream']\n"
          ]
        }
      ],
      "source": [
        "#stream으로 결과값 출력\n",
        "for s in chain.stream({\"subject\": \"ice cream flavors\"}):\n",
        "    print(s)"
      ]
    }
  ],
  "metadata": {
    "colab": {
      "provenance": []
    },
    "kernelspec": {
      "display_name": "Python 3",
      "name": "python3"
    },
    "language_info": {
      "name": "python"
    }
  },
  "nbformat": 4,
  "nbformat_minor": 0
}
